{
 "cells": [
  {
   "cell_type": "code",
   "execution_count": 1,
   "metadata": {
    "colab": {
     "base_uri": "https://localhost:8080/",
     "height": 740
    },
    "colab_type": "code",
    "id": "5YQ7bYMnwJRa",
    "outputId": "65617db9-e466-4ec7-d8e9-d829a89dc2a1"
   },
   "outputs": [],
   "source": [
    "%%capture\n",
    "!pip3 install tensorflow==2.0.0-beta1\n",
    "\n",
    "# Load the TensorBoard notebook extension\n",
    "# Restart the jupyter notebook if you just installed TF 2.0 Beta\n",
    "%reload_ext tensorboard"
   ]
  },
  {
   "cell_type": "code",
   "execution_count": 2,
   "metadata": {
    "colab": {},
    "colab_type": "code",
    "id": "88zLHqvDwJRj"
   },
   "outputs": [],
   "source": [
    "import tensorflow as tf\n",
    "import matplotlib.pyplot as plt\n",
    "import numpy as np\n",
    "import gym\n",
    "import datetime\n",
    "from tqdm import tqdm\n",
    "import logging\n",
    "import random"
   ]
  },
  {
   "cell_type": "code",
   "execution_count": 3,
   "metadata": {
    "colab": {},
    "colab_type": "code",
    "id": "fc1lqGjPwJRm"
   },
   "outputs": [],
   "source": [
    "!rm -rf ./logs/"
   ]
  },
  {
   "cell_type": "markdown",
   "metadata": {
    "colab_type": "text",
    "id": "szyALIMpwJRo"
   },
   "source": [
    "# Go Environment\n",
    "Train on a small board with heuristic reward for fast training and efficient debugging"
   ]
  },
  {
   "cell_type": "code",
   "execution_count": 4,
   "metadata": {},
   "outputs": [],
   "source": [
    "%%capture\n",
    "!pip3 install -e gym-go"
   ]
  },
  {
   "cell_type": "code",
   "execution_count": 5,
   "metadata": {
    "colab": {},
    "colab_type": "code",
    "id": "E4w7gMrfwJRp"
   },
   "outputs": [],
   "source": [
    "go_env = gym.make('gym_go:go-v0', size='S', reward_method='real')"
   ]
  },
  {
   "cell_type": "code",
   "execution_count": 6,
   "metadata": {
    "colab": {},
    "colab_type": "code",
    "id": "-Ju4HYnKwJRq"
   },
   "outputs": [],
   "source": [
    "BOARD_SIZE = 7"
   ]
  },
  {
   "cell_type": "markdown",
   "metadata": {
    "colab_type": "text",
    "id": "TfY-_1_5wJR5"
   },
   "source": [
    "### Hyperparameters"
   ]
  },
  {
   "cell_type": "code",
   "execution_count": 7,
   "metadata": {
    "colab": {},
    "colab_type": "code",
    "id": "DX04C6TbwJR5"
   },
   "outputs": [],
   "source": [
    "NUM_EPISODES = 2000\n",
    "BATCH_SIZE = 256\n",
    "MAX_STEPS = 2 * BOARD_SIZE**2\n",
    "REPLAY_MEM_SIZE = 4e4\n",
    "\n",
    "LEARNING_RATE = 1e-3\n",
    "OPPONENT_UPDATE = 200\n",
    "\n",
    "EPSILON = 1\n",
    "EPSILON_DECAY = 0.99\n",
    "EPSILON_MIN = 0.1\n",
    "\n",
    "GAMMA = 0.80\n",
    "TARGET_UPDATE = 1 # number of episodes to update the target critic model"
   ]
  },
  {
   "cell_type": "code",
   "execution_count": 8,
   "metadata": {
    "colab": {},
    "colab_type": "code",
    "id": "sumB3IsFwJR6"
   },
   "outputs": [],
   "source": [
    "from collections import deque"
   ]
  },
  {
   "cell_type": "code",
   "execution_count": 9,
   "metadata": {
    "colab": {},
    "colab_type": "code",
    "id": "MeB26mZvwJR7"
   },
   "outputs": [],
   "source": [
    "replay_mem = deque(maxlen=int(REPLAY_MEM_SIZE))"
   ]
  },
  {
   "cell_type": "code",
   "execution_count": 10,
   "metadata": {},
   "outputs": [],
   "source": [
    "def get_batch_obs(size=BATCH_SIZE):\n",
    "    '''\n",
    "    Get a batch of orig_states, actions, states, rewards, terminals as np array out of replay memory\n",
    "    '''\n",
    "    \n",
    "    # States were (BATCH_SIZE, 4, BOARD_SIZE, BOARD_SIZE)\n",
    "    # Convert them to (BATCH_SIZE, BOARD_SIZE, BOARD_SIZE, 4)\n",
    "    batch = random.sample(replay_mem, size)\n",
    "    batch = list(zip(*batch))\n",
    "    orig_states = np.array(list(batch[0]), dtype=np.float32).transpose(0,2,3,1)\n",
    "    actions = list(batch[1])\n",
    "    states = np.array(list(batch[2]), dtype=np.float32).transpose(0,2,3,1)\n",
    "    rewards = np.array(list(batch[3]), dtype=np.float32)\n",
    "    terminals = np.array(list(batch[4]), dtype=np.uint8)\n",
    "    \n",
    "    return orig_states, actions, states, rewards, terminals\n",
    "    "
   ]
  },
  {
   "cell_type": "markdown",
   "metadata": {
    "colab_type": "text",
    "id": "g7ZoRfzIwJRr"
   },
   "source": [
    "# Machine Learning Models\n",
    "Deep Q Learning method"
   ]
  },
  {
   "cell_type": "code",
   "execution_count": 11,
   "metadata": {
    "colab": {},
    "colab_type": "code",
    "id": "W9wWb0HvwJRs"
   },
   "outputs": [],
   "source": [
    "from tensorflow.keras import layers"
   ]
  },
  {
   "cell_type": "code",
   "execution_count": 12,
   "metadata": {},
   "outputs": [],
   "source": [
    "def make_dqn():\n",
    "    inputs = layers.Input(shape=(BOARD_SIZE, BOARD_SIZE, 4), name=\"board\")\n",
    "    valid_inputs = layers.Input(shape=(BOARD_SIZE**2 + 1,), name=\"valid_moves\")\n",
    "    \n",
    "    x = inputs\n",
    "    \n",
    "    x = layers.Conv2D(filters=128, kernel_size=3, padding=\"same\")(x)\n",
    "    x = layers.BatchNormalization()(x)\n",
    "    x = layers.ReLU()(x)\n",
    "    \n",
    "    x = layers.Conv2D(filters=128, kernel_size=3, padding=\"same\")(x)\n",
    "    x = layers.BatchNormalization()(x)\n",
    "    x = layers.ReLU()(x)\n",
    "    \n",
    "    x = layers.Conv2D(filters=128, kernel_size=3, padding=\"same\")(x)\n",
    "    x = layers.BatchNormalization()(x)\n",
    "    x = layers.ReLU()(x)\n",
    "    \n",
    "    x = layers.Conv2D(filters=128, kernel_size=3, padding=\"same\")(x)\n",
    "    x = layers.BatchNormalization()(x)\n",
    "    x = layers.ReLU()(x)\n",
    "    \n",
    "    x = layers.Conv2D(filters=1, kernel_size=1)(x)\n",
    "    x = layers.BatchNormalization()(x)\n",
    "    x = layers.ReLU()(x)\n",
    "    \n",
    "    x = layers.Flatten()(x)\n",
    "    \n",
    "    moves = layers.Dense(50, activation=\"tanh\")(x)\n",
    "    \n",
    "#     # Dense block\n",
    "#     num_layers = 8\n",
    "#     growth_rate = 4\n",
    "#     x = inputs\n",
    "#     for i in range(num_layers):\n",
    "#         y = tf.keras.Sequential([\n",
    "#             layers.Conv2D(filters=growth_rate, kernel_size=3, padding=\"same\", bias_initializer='ones'),\n",
    "#             layers.BatchNormalization(),\n",
    "#             layers.ReLU(),\n",
    "#         ], name='dense_layer_{}'.format(i))(x)\n",
    "#         x = layers.Concatenate()([x,y])\n",
    "    \n",
    "#     moves = layers.Conv2D(filters=50, kernel_size=BOARD_SIZE, padding=\"valid\", name=\"all_moves\")(x)\n",
    "    \n",
    "#     moves = layers.Flatten()(moves)\n",
    "    \n",
    "    valid_moves = layers.Multiply(name='moves')([moves, valid_inputs])\n",
    "    \n",
    "    model = tf.keras.Model(inputs=[inputs, valid_inputs], outputs=valid_moves, name='DQN')\n",
    "    return model"
   ]
  },
  {
   "cell_type": "code",
   "execution_count": 13,
   "metadata": {
    "scrolled": false
   },
   "outputs": [],
   "source": [
    "dqn = make_dqn()"
   ]
  },
  {
   "cell_type": "code",
   "execution_count": 14,
   "metadata": {
    "scrolled": false
   },
   "outputs": [
    {
     "name": "stdout",
     "output_type": "stream",
     "text": [
      "Model: \"DQN\"\n",
      "__________________________________________________________________________________________________\n",
      "Layer (type)                    Output Shape         Param #     Connected to                     \n",
      "==================================================================================================\n",
      "board (InputLayer)              [(None, 7, 7, 4)]    0                                            \n",
      "__________________________________________________________________________________________________\n",
      "conv2d (Conv2D)                 (None, 7, 7, 128)    4736        board[0][0]                      \n",
      "__________________________________________________________________________________________________\n",
      "batch_normalization (BatchNorma (None, 7, 7, 128)    512         conv2d[0][0]                     \n",
      "__________________________________________________________________________________________________\n",
      "re_lu (ReLU)                    (None, 7, 7, 128)    0           batch_normalization[0][0]        \n",
      "__________________________________________________________________________________________________\n",
      "conv2d_1 (Conv2D)               (None, 7, 7, 128)    147584      re_lu[0][0]                      \n",
      "__________________________________________________________________________________________________\n",
      "batch_normalization_1 (BatchNor (None, 7, 7, 128)    512         conv2d_1[0][0]                   \n",
      "__________________________________________________________________________________________________\n",
      "re_lu_1 (ReLU)                  (None, 7, 7, 128)    0           batch_normalization_1[0][0]      \n",
      "__________________________________________________________________________________________________\n",
      "conv2d_2 (Conv2D)               (None, 7, 7, 128)    147584      re_lu_1[0][0]                    \n",
      "__________________________________________________________________________________________________\n",
      "batch_normalization_2 (BatchNor (None, 7, 7, 128)    512         conv2d_2[0][0]                   \n",
      "__________________________________________________________________________________________________\n",
      "re_lu_2 (ReLU)                  (None, 7, 7, 128)    0           batch_normalization_2[0][0]      \n",
      "__________________________________________________________________________________________________\n",
      "conv2d_3 (Conv2D)               (None, 7, 7, 128)    147584      re_lu_2[0][0]                    \n",
      "__________________________________________________________________________________________________\n",
      "batch_normalization_3 (BatchNor (None, 7, 7, 128)    512         conv2d_3[0][0]                   \n",
      "__________________________________________________________________________________________________\n",
      "re_lu_3 (ReLU)                  (None, 7, 7, 128)    0           batch_normalization_3[0][0]      \n",
      "__________________________________________________________________________________________________\n",
      "conv2d_4 (Conv2D)               (None, 7, 7, 1)      129         re_lu_3[0][0]                    \n",
      "__________________________________________________________________________________________________\n",
      "batch_normalization_4 (BatchNor (None, 7, 7, 1)      4           conv2d_4[0][0]                   \n",
      "__________________________________________________________________________________________________\n",
      "re_lu_4 (ReLU)                  (None, 7, 7, 1)      0           batch_normalization_4[0][0]      \n",
      "__________________________________________________________________________________________________\n",
      "flatten (Flatten)               (None, 49)           0           re_lu_4[0][0]                    \n",
      "__________________________________________________________________________________________________\n",
      "dense (Dense)                   (None, 50)           2500        flatten[0][0]                    \n",
      "__________________________________________________________________________________________________\n",
      "valid_moves (InputLayer)        [(None, 50)]         0                                            \n",
      "__________________________________________________________________________________________________\n",
      "moves (Multiply)                (None, 50)           0           dense[0][0]                      \n",
      "                                                                 valid_moves[0][0]                \n",
      "==================================================================================================\n",
      "Total params: 452,169\n",
      "Trainable params: 451,143\n",
      "Non-trainable params: 1,026\n",
      "__________________________________________________________________________________________________\n"
     ]
    }
   ],
   "source": [
    "dqn.summary()"
   ]
  },
  {
   "cell_type": "raw",
   "metadata": {},
   "source": [
    "dqn.load_weights('tmp/dqn.h5')"
   ]
  },
  {
   "cell_type": "code",
   "execution_count": 15,
   "metadata": {},
   "outputs": [],
   "source": [
    "opponent = tf.keras.models.clone_model(dqn)\n",
    "target_policy = tf.keras.models.clone_model(dqn)"
   ]
  },
  {
   "cell_type": "markdown",
   "metadata": {
    "colab_type": "text",
    "id": "L9djBWO1wJR1"
   },
   "source": [
    "### Initialization of models \n",
    "should be random if the models are fresh"
   ]
  },
  {
   "cell_type": "code",
   "execution_count": 16,
   "metadata": {},
   "outputs": [],
   "source": [
    "def feed_forward(states, model):\n",
    "    invalid_moves = states[:,:,:,2].reshape((-1,49))\n",
    "    invalid_moves = np.insert(invalid_moves, BOARD_SIZE**2, 0, axis=1)\n",
    "    valid_moves = 1 - invalid_moves\n",
    "    moves = model([states.astype(np.float32), valid_moves.astype(np.float32)])\n",
    "    return moves"
   ]
  },
  {
   "cell_type": "code",
   "execution_count": 17,
   "metadata": {},
   "outputs": [],
   "source": [
    "def get_invalid_values(states):\n",
    "    \"\"\"\n",
    "    Returns the action values of the states where invalid moves have -infinity value (minimum value of float32)\n",
    "    and valid moves have 0 value\n",
    "    \"\"\"\n",
    "    invalid_moves = states[:,:,:,2].reshape((-1,49))\n",
    "    invalid_moves = np.insert(invalid_moves, BOARD_SIZE**2, 0, axis=1)\n",
    "    invalid_values = np.finfo(np.float32).min * invalid_moves\n",
    "    return invalid_values"
   ]
  },
  {
   "cell_type": "code",
   "execution_count": 18,
   "metadata": {},
   "outputs": [],
   "source": [
    "def max_action_vals(states, q_network):\n",
    "    '''\n",
    "    The maximum action value (including passing) given the states\n",
    "    '''\n",
    "    invalid_values = get_invalid_values(states)\n",
    "    \n",
    "    move_vals = feed_forward(states, q_network)\n",
    "    max_vals = tf.reduce_max(move_vals + invalid_values, axis=1)\n",
    "    return max_vals"
   ]
  },
  {
   "cell_type": "code",
   "execution_count": 19,
   "metadata": {},
   "outputs": [],
   "source": [
    "def argmax_action_vals(states, q_network):\n",
    "    \"\"\"\n",
    "    Returns the moves that have the maximum values (including passing) given the states\n",
    "    \"\"\"\n",
    "    invalid_values = get_invalid_values(states)\n",
    "    \n",
    "    move_vals = feed_forward(states, q_network)\n",
    "    argmax_vals = tf.math.argmax(move_vals + invalid_values, axis=1)\n",
    "    \n",
    "    return argmax_vals"
   ]
  },
  {
   "cell_type": "code",
   "execution_count": 20,
   "metadata": {},
   "outputs": [],
   "source": [
    "def add_to_replay_mem(state, action, next_state, reward, done):\n",
    "    \"\"\"\n",
    "    Adds original event, plus augmented versions of those events, \n",
    "    which are horizontal and vertical flipping\n",
    "    \"\"\"\n",
    "    \n",
    "    state_copy = np.copy(state)\n",
    "    next_state_copy = np.copy(next_state)\n",
    "    \n",
    "    # Original\n",
    "    replay_mem.append((state_copy, action, next_state_copy, reward, done))\n",
    "    # Vertical flip\n",
    "    replay_mem.append((np.flip(state_copy, 1), (6 - action[0], action[1]) if action is not None else None, \n",
    "                       np.flip(next_state_copy, 1), reward, done))\n",
    "    # Horizontal flip\n",
    "    replay_mem.append((np.flip(state_copy, 2), (action[0], 6 - action[1]) if action is not None else None, \n",
    "                       np.flip(next_state_copy, 2), reward, done))\n",
    "    # Flip both\n",
    "    replay_mem.append((np.flip(np.flip(state_copy,1),2), (6 - action[0], 6 - action[1]) if action is not None else None, \n",
    "                       np.flip(np.flip(next_state_copy,1),2), reward, done))\n",
    "    # TODO: add rotations"
   ]
  },
  {
   "cell_type": "code",
   "execution_count": 21,
   "metadata": {
    "colab": {},
    "colab_type": "code",
    "id": "qH4rDyuowJR3",
    "outputId": "6376f7a8-99ff-4352-e6fc-0eccd05dfa25",
    "scrolled": false
   },
   "outputs": [],
   "source": [
    "from sklearn import preprocessing\n",
    "def state_responses(states, taken_actions=None, next_states=None, rewards=None, terminals=None):\n",
    "    \"\"\"\n",
    "    Returns a figure of plots on the states and the models responses on those states\n",
    "    \"\"\"\n",
    "    state_values = max_action_vals(states, dqn)\n",
    "    move_values = feed_forward(states, dqn)\n",
    "    \n",
    "    if next_states is not None:\n",
    "        next_move_values = feed_forward(next_states, dqn)\n",
    "        next_state_values = max_action_vals(next_states, dqn)\n",
    "    else:\n",
    "        next_move_values = None\n",
    "        next_state_values = None\n",
    "        \n",
    "    num_states = states.shape[0]\n",
    "    num_cols = 2 if next_states is None else 4\n",
    "    \n",
    "    fig = plt.figure(figsize=(num_cols * 3, num_states * 3))\n",
    "    for i in range(num_states):\n",
    "        plt.subplot(num_states,num_cols,1 + num_cols*i)\n",
    "        plt.axis('off')\n",
    "        plt.title('Board')\n",
    "        plt.imshow(states[i][:,:,[0,1,3]].astype(np.float))\n",
    "\n",
    "        plt.subplot(num_states,num_cols,2 + num_cols*i)\n",
    "        plt.axis('off')\n",
    "        plt.title('DQN {:.2f}S\\n{:.2f}L {:.2f}H {:.2f}P'\n",
    "                  .format(state_values[i], np.min(move_values[i][:-1]), \n",
    "                          np.max(move_values[i][:-1]), move_values[i][-1]))\n",
    "        plt.imshow(tf.reshape(move_values[i][:-1], (BOARD_SIZE, BOARD_SIZE)))\n",
    "        \n",
    "        if next_states is not None:\n",
    "            assert taken_actions is not None and len(taken_actions) == len(next_states)\n",
    "            if i < next_states.shape[0]:\n",
    "                plt.subplot(num_states,num_cols, 3 + num_cols*i)\n",
    "                plt.axis('off')\n",
    "                plt.title('Taken Action: {}\\n{:.0f}R {}T'.format(taken_actions[i], rewards[i], terminals[i]))\n",
    "                plt.imshow(next_states[i][:,:,[0,1,3]].astype(np.float))\n",
    "                \n",
    "                plt.subplot(num_states,num_cols,4 + num_cols*i)\n",
    "                plt.axis('off')\n",
    "                plt.title('DQN {:.2f}S\\n{:.2f}L {:.2f}H {:.2f}P'\n",
    "                          .format(next_state_values[i], np.min(next_move_values[i][:-1]), \n",
    "                                  np.max(next_move_values[i][:-1]), next_move_values[i][-1]))\n",
    "                plt.imshow(tf.reshape(next_move_values[i][:-1], (BOARD_SIZE, BOARD_SIZE)))\n",
    "\n",
    "    plt.tight_layout()\n",
    "    return fig"
   ]
  },
  {
   "cell_type": "code",
   "execution_count": 22,
   "metadata": {},
   "outputs": [],
   "source": [
    "def sample_heatmaps(num_samples=2):\n",
    "    states, actions, next_states, rewards, terminals = get_batch_obs(num_samples)\n",
    "    \n",
    "    # Add latest terminal state\n",
    "    for (state, action, next_state, reward, terminal) in reversed(replay_mem):\n",
    "        if terminal:\n",
    "            states = np.concatenate([states, state.transpose(1,2,0)\n",
    "                             .reshape((-1,BOARD_SIZE, BOARD_SIZE, 4))], axis=0)\n",
    "            actions.append(action)\n",
    "            next_states = np.concatenate([next_states, next_state.transpose(1,2,0)\n",
    "                             .reshape((-1,BOARD_SIZE, BOARD_SIZE, 4))], axis=0)\n",
    "            rewards = np.append(rewards, reward)\n",
    "            terminals = np.append(terminals, terminal)\n",
    "            break\n",
    "    # Add latest start state\n",
    "    for (state, action, next_state, reward, terminal) in reversed(replay_mem):\n",
    "        if np.sum(state[:2]) == 0:\n",
    "            states = np.concatenate([states, state.transpose(1,2,0)\n",
    "                             .reshape((-1,BOARD_SIZE, BOARD_SIZE, 4))], axis=0)\n",
    "            actions.append(action)\n",
    "            next_states = np.concatenate([next_states, next_state.transpose(1,2,0)\n",
    "                             .reshape((-1,BOARD_SIZE, BOARD_SIZE, 4))], axis=0)\n",
    "            rewards = np.append(rewards, reward)\n",
    "            terminals = np.append(terminals, terminal)\n",
    "            break\n",
    "\n",
    "    fig = state_responses(states, actions, next_states, rewards, terminals)\n",
    "    return fig"
   ]
  },
  {
   "cell_type": "code",
   "execution_count": 23,
   "metadata": {
    "colab": {},
    "colab_type": "code",
    "id": "98jmZoKvwJRv"
   },
   "outputs": [],
   "source": [
    "state = go_env.reset()\n",
    "first_action = (2,5)\n",
    "second_action = (5,2)\n",
    "first_state, reward, done, info = go_env.step(first_action)\n",
    "second_state, reward, done, info = go_env.step(second_action)\n",
    "add_to_replay_mem(state, first_action, second_state, reward, done)"
   ]
  },
  {
   "cell_type": "code",
   "execution_count": 24,
   "metadata": {
    "scrolled": true
   },
   "outputs": [
    {
     "data": {
      "image/png": "[encoded data removed]",
      "text/plain": [
       "<Figure size 864x1080 with 20 Axes>"
      ]
     },
     "metadata": {
      "needs_background": "light"
     },
     "output_type": "display_data"
    }
   ],
   "source": [
    "plt.show(sample_heatmaps(num_samples=4))"
   ]
  },
  {
   "cell_type": "code",
   "execution_count": 25,
   "metadata": {},
   "outputs": [],
   "source": [
    "replay_mem.clear()"
   ]
  },
  {
   "cell_type": "markdown",
   "metadata": {
    "colab_type": "text",
    "id": "ViUxxPnUwJR5"
   },
   "source": [
    "# Training Setup"
   ]
  },
  {
   "cell_type": "code",
   "execution_count": 26,
   "metadata": {},
   "outputs": [
    {
     "data": {
      "image/png": "[encoded data removed]",
      "text/plain": [
       "<Figure size 432x288 with 1 Axes>"
      ]
     },
     "metadata": {
      "needs_background": "light"
     },
     "output_type": "display_data"
    }
   ],
   "source": [
    "plt.plot([GAMMA**x for x in range(80)])\n",
    "plt.title(\"Gamma Powers\")\n",
    "plt.tight_layout()"
   ]
  },
  {
   "cell_type": "markdown",
   "metadata": {},
   "source": [
    "### Metrics and Tensorboard"
   ]
  },
  {
   "cell_type": "markdown",
   "metadata": {},
   "source": [
    "Metrics"
   ]
  },
  {
   "cell_type": "code",
   "execution_count": 27,
   "metadata": {},
   "outputs": [],
   "source": [
    "metrics = {}\n",
    "for metric_key in ['loss', 'win_percentage']:\n",
    "    metrics[metric_key] = tf.keras.metrics.Mean('dqn_{}'.format(metric_key), dtype=tf.float32)"
   ]
  },
  {
   "cell_type": "markdown",
   "metadata": {},
   "source": [
    "Tensorboard"
   ]
  },
  {
   "cell_type": "code",
   "execution_count": 28,
   "metadata": {},
   "outputs": [],
   "source": [
    "summary_writers = {}\n",
    "current_time = datetime.datetime.now().strftime(\"%Y%m%d-%H%M%S\")\n",
    "for summary_key in ['train', 'test']:\n",
    "    log_dir = 'logs/dqn/{}/{}'.format(current_time, summary_key)\n",
    "    summary_writers[summary_key] = tf.summary.create_file_writer(log_dir)"
   ]
  },
  {
   "cell_type": "code",
   "execution_count": 29,
   "metadata": {},
   "outputs": [],
   "source": [
    "import io\n",
    "def plot_to_image(figure):\n",
    "    \"\"\"Converts the matplotlib plot specified by 'figure' to a PNG image and\n",
    "    returns it. The supplied figure is closed and inaccessible after this call.\"\"\"\n",
    "    # Save the plot to a PNG in memory.\n",
    "    buf = io.BytesIO()\n",
    "    plt.savefig(buf, format='png')\n",
    "    # Closing the figure prevents it from being displayed directly inside\n",
    "    # the notebook.\n",
    "    plt.close(figure)\n",
    "    buf.seek(0)\n",
    "    # Convert PNG buffer to TF image\n",
    "    image = tf.image.decode_png(buf.getvalue(), channels=4)\n",
    "    # Add the batch dimension\n",
    "    image = tf.expand_dims(image, 0)\n",
    "    return image"
   ]
  },
  {
   "cell_type": "markdown",
   "metadata": {
    "colab_type": "text",
    "id": "zXOIVFjmwJR7"
   },
   "source": [
    "### Functions"
   ]
  },
  {
   "cell_type": "code",
   "execution_count": 30,
   "metadata": {},
   "outputs": [],
   "source": [
    "def convert_1d_to_2d(action_1d):\n",
    "    if action_1d == BOARD_SIZE**2:\n",
    "        action = None\n",
    "    else:\n",
    "        action = (action_1d // BOARD_SIZE, action_1d % BOARD_SIZE)\n",
    "    return action"
   ]
  },
  {
   "cell_type": "code",
   "execution_count": 31,
   "metadata": {},
   "outputs": [],
   "source": [
    "def random_weighted_action(move_weights):\n",
    "    \"\"\"\n",
    "    Assumes all invalid moves have weight 0\n",
    "    \"\"\"\n",
    "    move_weights = preprocessing.normalize(move_weights, norm='l1')\n",
    "\n",
    "    if np.sum(move_weights) <= 0:\n",
    "        # Pass\n",
    "        return None\n",
    "    \n",
    "    action_1d = np.random.choice(np.arange(BOARD_SIZE**2 + 1), p=move_weights[0])\n",
    "    return convert_1d_to_2d(action_1d)"
   ]
  },
  {
   "cell_type": "code",
   "execution_count": 32,
   "metadata": {},
   "outputs": [],
   "source": [
    "def random_action(state):\n",
    "    \"\"\"\n",
    "    Assumed to be (BOARD_SIZE, BOARD_SIZE, 4)\n",
    "    \"\"\"\n",
    "    invalid_moves = state[:,:,2].reshape((1,-1))\n",
    "    invalid_moves = np.insert(invalid_moves, BOARD_SIZE**2, 0, axis=1)\n",
    "    move_weights = 1 - invalid_moves\n",
    "\n",
    "    action = random_weighted_action(move_weights)\n",
    "    \n",
    "    return action"
   ]
  },
  {
   "cell_type": "code",
   "execution_count": 33,
   "metadata": {},
   "outputs": [],
   "source": [
    "def get_action(policy, state, epsilon):\n",
    "    \"\"\"\n",
    "    Gets an action based on exploration/exploitation\n",
    "    \"\"\"\n",
    "    if state.shape[0] == 4:\n",
    "        # State shape will be (BOARD_SIZE, BOARD_SIZE, 4)\n",
    "        state = state.transpose(1,2,0)\n",
    "            \n",
    "    epsilon_choice = np.random.uniform()\n",
    "    if epsilon_choice < epsilon:\n",
    "        # Random move\n",
    "        logging.debug(\"Exploring a random move\")\n",
    "        action = random_action(state)\n",
    "        \n",
    "    else:\n",
    "        # policy makes a move\n",
    "        logging.debug(\"Exploiting policy's move\")\n",
    "        reshaped_state = state.reshape(1, BOARD_SIZE, BOARD_SIZE, 4).astype(np.float32)\n",
    "        \n",
    "        flattened_actions = argmax_action_vals(reshaped_state, policy)\n",
    "        action_1d = flattened_actions[0].numpy()\n",
    "        action = convert_1d_to_2d(action_1d)\n",
    "        \n",
    "    return action"
   ]
  },
  {
   "cell_type": "code",
   "execution_count": 34,
   "metadata": {},
   "outputs": [],
   "source": [
    "def get_value_for_action(move_values, actions):\n",
    "    '''\n",
    "    Get value from board_values based on action, or take the passing_values if the action is None\n",
    "    '''\n",
    "    action_values = tf.gather_nd(move_values, [(i, a[0] * BOARD_SIZE + a[1]) if a is not None \n",
    "                                                    else (i, BOARD_SIZE**2) \n",
    "                                                    for i, a in enumerate(actions)])\n",
    "    return action_values"
   ]
  },
  {
   "cell_type": "code",
   "execution_count": 35,
   "metadata": {},
   "outputs": [],
   "source": [
    "mean_squared_error = tf.keras.losses.MeanSquaredError()"
   ]
  },
  {
   "cell_type": "code",
   "execution_count": 36,
   "metadata": {
    "colab": {},
    "colab_type": "code",
    "id": "t8QseVrawJR8"
   },
   "outputs": [],
   "source": [
    "optimizer = tf.keras.optimizers.Adam(LEARNING_RATE)\n",
    "def update_dqn():\n",
    "    \"\"\"\n",
    "    Optimizes the critic in one step and updates the critic loss metric\n",
    "    \"\"\"\n",
    "    states, actions, next_states, rewards, terminals = get_batch_obs()\n",
    "    \n",
    "    # get values for next state\n",
    "    next_state_vals = max_action_vals(next_states, target_policy)\n",
    "    \n",
    "    batch_size = states.shape[0]\n",
    "    \n",
    "    with tf.GradientTape() as tape:\n",
    "        move_vals = feed_forward(states, dqn)\n",
    "        action_vals = get_value_for_action(move_vals, actions)\n",
    "        val_loss = mean_squared_error(rewards + GAMMA * next_state_vals * (1-terminals), action_vals)\n",
    "    \n",
    "    metrics['loss'](val_loss)\n",
    "    \n",
    "    # compute and apply gradients\n",
    "    gradients = tape.gradient(val_loss, dqn.trainable_variables)\n",
    "    optimizer.apply_gradients(zip(gradients, dqn.trainable_variables))"
   ]
  },
  {
   "cell_type": "code",
   "execution_count": 37,
   "metadata": {
    "colab": {},
    "colab_type": "code",
    "id": "K0E04emPwJR-"
   },
   "outputs": [],
   "source": [
    "def play_a_game(episode, train, black_epsilon, white_epsilon):\n",
    "    \"\"\"\n",
    "    Plays out a game, and iteratively updates the models at each step\n",
    "    Returns the number of moves by the end of the game and the list \n",
    "    of rewards after every turn by the black player\n",
    "    \"\"\"\n",
    "    \n",
    "    # Basic setup\n",
    "    done = False\n",
    "    num_steps = 0\n",
    "    state = go_env.reset()\n",
    "    win = None\n",
    "    \n",
    "    while True:\n",
    "        black_action = get_action(dqn, state, epsilon=black_epsilon)\n",
    "        if black_action is None:\n",
    "            logging.debug(\"Black (actor) passed\")\n",
    "            \n",
    "        next_state, reward, done, info = go_env.step(black_action)\n",
    "        num_steps += 1\n",
    "        \n",
    "        # Update the critic and then actor if we are training and have enough events\n",
    "        if train and len(replay_mem) >= BATCH_SIZE:\n",
    "            update_dqn()        \n",
    "            \n",
    "        if num_steps > MAX_STEPS:\n",
    "            # Max number of steps. End game\n",
    "            reward = 1 if info['area']['b'] > info['area']['w'] else -1\n",
    "            done = True\n",
    "        if done:\n",
    "            # Set the winner if we're done\n",
    "            win = reward\n",
    "            if train:\n",
    "                # Add to memory if training \n",
    "                # (black ended the game by making the last pass OR we hit the max number of steps)\n",
    "                add_to_replay_mem(state, black_action, next_state, reward, done)\n",
    "            break\n",
    "            \n",
    "        # opponent makes a move\n",
    "        # get action from opponent\n",
    "        white_action = get_action(None, next_state, epsilon=white_epsilon)\n",
    "        if white_action is None:\n",
    "            logging.debug(\"White (opponent) passed\")\n",
    "\n",
    "        next_state, reward, done, info = go_env.step(white_action)\n",
    "        num_steps += 1\n",
    "        \n",
    "        \n",
    "        if num_steps > MAX_STEPS:\n",
    "            # Max number of steps. End game\n",
    "            reward = 1 if info['area']['b'] > info['area']['w'] else -1\n",
    "            done = True\n",
    "        if train:\n",
    "            # Add to memory if training\n",
    "            add_to_replay_mem(state, black_action, next_state, reward, done)\n",
    "        if done:\n",
    "            # Set the winner if we're done\n",
    "            win = reward\n",
    "            break\n",
    "            \n",
    "        state = next_state\n",
    "    \n",
    "    # Game ended\n",
    "    return num_steps, win"
   ]
  },
  {
   "cell_type": "markdown",
   "metadata": {
    "colab_type": "text",
    "id": "qNBj_gKPwJR_"
   },
   "source": [
    "# Train"
   ]
  },
  {
   "cell_type": "code",
   "execution_count": 38,
   "metadata": {},
   "outputs": [],
   "source": [
    "logger = logging.getLogger()\n",
    "logger.setLevel(logging.INFO)"
   ]
  },
  {
   "cell_type": "markdown",
   "metadata": {},
   "source": [
    "Train loop"
   ]
  },
  {
   "cell_type": "code",
   "execution_count": null,
   "metadata": {
    "colab": {},
    "colab_type": "code",
    "id": "LT1PUXyXwJR_",
    "scrolled": false
   },
   "outputs": [
    {
     "name": "stderr",
     "output_type": "stream",
     "text": [
      "  0%|          | 3/2000 [00:15<2:39:50,  4.80s/it]"
     ]
    }
   ],
   "source": [
    "for episode in tqdm(range(NUM_EPISODES)):\n",
    "    # Reset all metrics\n",
    "    for metric in metrics.values():\n",
    "        metric.reset_states()\n",
    "        \n",
    "    # Update other models if appropriate\n",
    "    dqn.save_weights('tmp/dqn.h5')\n",
    "    if episode % OPPONENT_UPDATE == 0:\n",
    "        opponent.load_weights('tmp/dqn.h5')\n",
    "        logging.debug(\"Updated opponent\")\n",
    "        \n",
    "    if episode % TARGET_UPDATE == 0:\n",
    "        target_policy.load_weights('tmp/dqn.h5')\n",
    "        logging.debug(\"Updated policy\")\n",
    "        \n",
    "    # Train\n",
    "    num_steps, won = play_a_game(episode, train=True, \n",
    "                      black_epsilon=EPSILON, \n",
    "                      white_epsilon=1)\n",
    "    \n",
    "    # Update exploration/exploitation\n",
    "    if EPSILON > EPSILON_MIN:\n",
    "        EPSILON *= EPSILON_DECAY\n",
    "        logging.debug(\"Epsilon decayed to {}\".format(EPSILON))\n",
    "    \n",
    "    # Plot samples of states and response heatmaps\n",
    "    fig = sample_heatmaps()\n",
    "    \n",
    "    # log results\n",
    "    with summary_writers['train'].as_default():\n",
    "        tf.summary.image(\"model heat maps\", plot_to_image(fig), step=episode)\n",
    "        \n",
    "        tf.summary.scalar('won', won, step=episode)\n",
    "        tf.summary.scalar('number of moves', num_steps, step=episode)\n",
    "        tf.summary.scalar('loss', metrics['loss'].result(), step=episode)\n",
    "        tf.summary.scalar('epsilon', EPSILON, step=episode)\n",
    "        "
   ]
  },
  {
   "cell_type": "code",
   "execution_count": null,
   "metadata": {},
   "outputs": [],
   "source": [
    "dqn.save_weights('tmp/dqn.h5')"
   ]
  },
  {
   "cell_type": "markdown",
   "metadata": {
    "colab_type": "text",
    "id": "NyMNxMAWwJR_"
   },
   "source": [
    "# Evaluate"
   ]
  },
  {
   "cell_type": "markdown",
   "metadata": {},
   "source": [
    "Get win percentage from 100 games"
   ]
  },
  {
   "cell_type": "code",
   "execution_count": null,
   "metadata": {},
   "outputs": [],
   "source": [
    "def test_against_random_opponent():\n",
    "    wins = []\n",
    "    for _ in tqdm(range(100)):\n",
    "        num_moves, win = play_a_game(episode=None, \n",
    "                                         train=False, \n",
    "                                         black_epsilon=0, \n",
    "                                         white_epsilon=1)\n",
    "        wins.append(win)\n",
    "    return np.average(wins)"
   ]
  },
  {
   "cell_type": "code",
   "execution_count": null,
   "metadata": {
    "scrolled": false
   },
   "outputs": [],
   "source": [
    "test_against_random_opponent()"
   ]
  },
  {
   "cell_type": "markdown",
   "metadata": {},
   "source": [
    "Test against a pretrained AI"
   ]
  },
  {
   "cell_type": "code",
   "execution_count": null,
   "metadata": {},
   "outputs": [],
   "source": [
    "# TODO"
   ]
  },
  {
   "cell_type": "markdown",
   "metadata": {},
   "source": [
    "Play against our AI"
   ]
  },
  {
   "cell_type": "code",
   "execution_count": null,
   "metadata": {
    "colab": {},
    "colab_type": "code",
    "id": "97j_uYY9wJSA",
    "outputId": "4d6aa1e6-8b63-4a39-b600-e331284ad6ff",
    "scrolled": true
   },
   "outputs": [],
   "source": [
    "go_env = gym.make('gym_go:go-v0', size='S')\n",
    "\n",
    "state = go_env.reset()\n",
    "\n",
    "done = False\n",
    "while not done:\n",
    "    go_env.render()\n",
    "    \n",
    "    # Actor's move\n",
    "    action = get_action(dqn, state, epsilon=0)\n",
    "    \n",
    "    state, reward, done, info = go_env.step(action)\n",
    "    \n",
    "    go_env.render()\n",
    "    \n",
    "    # Player's move\n",
    "    player_moved = False\n",
    "    while not player_moved:\n",
    "        coords = input(\"Enter coordinates separated by space (`q` to quit)\\n\")\n",
    "        if coords == 'q':\n",
    "            done = True\n",
    "            break\n",
    "        coords = coords.split()\n",
    "        try:\n",
    "            row = int(coords[0])\n",
    "            col = int(coords[1])\n",
    "            print(row, col)\n",
    "            state, reward, done, info = go_env.step((row, col))\n",
    "            player_moved = True\n",
    "        except Exception as e:\n",
    "            print(e)"
   ]
  },
  {
   "cell_type": "code",
   "execution_count": null,
   "metadata": {},
   "outputs": [],
   "source": []
  }
 ],
 "metadata": {
  "colab": {
   "include_colab_link": true,
   "name": "go_ai.ipynb",
   "provenance": [],
   "version": "0.3.2"
  },
  "kernelspec": {
   "display_name": "Python 3",
   "language": "python",
   "name": "python3"
  },
  "language_info": {
   "codemirror_mode": {
    "name": "ipython",
    "version": 3
   },
   "file_extension": ".py",
   "mimetype": "text/x-python",
   "name": "python",
   "nbconvert_exporter": "python",
   "pygments_lexer": "ipython3",
   "version": "3.7.3"
  },
  "widgets": {
   "application/vnd.jupyter.widget-state+json": {
    "state": {},
    "version_major": 2,
    "version_minor": 0
   }
  }
 },
 "nbformat": 4,
 "nbformat_minor": 1
}
