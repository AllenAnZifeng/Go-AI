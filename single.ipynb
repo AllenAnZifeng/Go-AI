{
 "cells": [
  {
   "cell_type": "code",
   "execution_count": 1,
   "metadata": {
    "colab": {},
    "colab_type": "code",
    "id": "88zLHqvDwJRj"
   },
   "outputs": [],
   "source": [
    "import numpy as np\n",
    "import gym\n",
    "from go_ai import policies, game, metrics, data\n",
    "from go_ai.models import value_model\n",
    "import os\n",
    "import random\n",
    "import torch"
   ]
  },
  {
   "cell_type": "markdown",
   "metadata": {
    "colab_type": "text",
    "id": "TfY-_1_5wJR5"
   },
   "source": [
    "# Hyperparameters"
   ]
  },
  {
   "cell_type": "code",
   "execution_count": 2,
   "metadata": {
    "colab": {},
    "colab_type": "code",
    "id": "-Ju4HYnKwJRq"
   },
   "outputs": [],
   "source": [
    "BOARD_SIZE = 4"
   ]
  },
  {
   "cell_type": "code",
   "execution_count": 3,
   "metadata": {
    "colab": {},
    "colab_type": "code",
    "id": "DX04C6TbwJR5"
   },
   "outputs": [],
   "source": [
    "ITERATIONS = 256\n",
    "EPISODES_PER_ITERATION = 256\n",
    "NUM_EVAL_GAMES = 256"
   ]
  },
  {
   "cell_type": "code",
   "execution_count": 4,
   "metadata": {},
   "outputs": [],
   "source": [
    "INIT_TEMP = 1\n",
    "TEMP_DECAY = 3/4\n",
    "MIN_TEMP = 1/64"
   ]
  },
  {
   "cell_type": "code",
   "execution_count": 5,
   "metadata": {
    "colab": {},
    "colab_type": "code",
    "id": "I8pWCj8jGa7Y"
   },
   "outputs": [],
   "source": [
    "BATCH_SIZE = 32"
   ]
  },
  {
   "cell_type": "code",
   "execution_count": 6,
   "metadata": {},
   "outputs": [],
   "source": [
    "LOAD_SAVED_MODELS = False"
   ]
  },
  {
   "cell_type": "markdown",
   "metadata": {},
   "source": [
    "# Data Parameters"
   ]
  },
  {
   "cell_type": "code",
   "execution_count": 7,
   "metadata": {},
   "outputs": [],
   "source": [
    "EPISODES_DIR = 'episodes/'"
   ]
  },
  {
   "cell_type": "code",
   "execution_count": 8,
   "metadata": {
    "colab": {},
    "colab_type": "code",
    "id": "TfJcqNeEGa7b"
   },
   "outputs": [],
   "source": [
    "CHECKPOINT_PATH = 'checkpoints/checkpoint_{}x{}.pt'.format(BOARD_SIZE, BOARD_SIZE)"
   ]
  },
  {
   "cell_type": "code",
   "execution_count": 9,
   "metadata": {},
   "outputs": [],
   "source": [
    "DEMO_TRAJECTORY_PATH = 'logs/a_trajectory.png'"
   ]
  },
  {
   "cell_type": "markdown",
   "metadata": {
    "colab_type": "text",
    "id": "szyALIMpwJRo"
   },
   "source": [
    "# Go Environment\n",
    "Train on a small board for fast training and efficient debugging"
   ]
  },
  {
   "cell_type": "code",
   "execution_count": 10,
   "metadata": {
    "colab": {},
    "colab_type": "code",
    "id": "E4w7gMrfwJRp"
   },
   "outputs": [],
   "source": [
    "go_env = gym.make('gym_go:go-v0', size=BOARD_SIZE)"
   ]
  },
  {
   "cell_type": "markdown",
   "metadata": {},
   "source": [
    "# Model"
   ]
  },
  {
   "cell_type": "code",
   "execution_count": 11,
   "metadata": {
    "colab": {},
    "colab_type": "code",
    "id": "o4m-C0k6Ga7q",
    "scrolled": true
   },
   "outputs": [
    {
     "name": "stdout",
     "output_type": "stream",
     "text": [
      "Initialized checkpoint\n"
     ]
    },
    {
     "data": {
      "text/plain": [
       "ValueNet(\n",
       "  (convs): Sequential(\n",
       "    (0): Conv2d(6, 128, kernel_size=(3, 3), stride=(1, 1), padding=(1, 1))\n",
       "    (1): ReLU()\n",
       "    (2): Conv2d(128, 128, kernel_size=(3, 3), stride=(1, 1), padding=(1, 1))\n",
       "    (3): ReLU()\n",
       "    (4): Conv2d(128, 1, kernel_size=(3, 3), stride=(1, 1), padding=(1, 1))\n",
       "    (5): ReLU()\n",
       "  )\n",
       "  (fcs): Sequential(\n",
       "    (0): Linear(in_features=16, out_features=16, bias=True)\n",
       "    (1): ReLU()\n",
       "    (2): Linear(in_features=16, out_features=1, bias=True)\n",
       "  )\n",
       "  (criterion): BCEWithLogitsLoss()\n",
       ")"
      ]
     },
     "execution_count": 11,
     "metadata": {},
     "output_type": "execute_result"
    }
   ],
   "source": [
    "curr_model = value_model.ValueNet(BOARD_SIZE)\n",
    "checkpoint_model = value_model.ValueNet(BOARD_SIZE)\n",
    "\n",
    "if LOAD_SAVED_MODELS:\n",
    "    assert os.path.exists(CHECKPOINT_PATH)\n",
    "    print(\"Starting from checkpoint\")\n",
    "else:\n",
    "    torch.save(curr_model.state_dict(), CHECKPOINT_PATH)\n",
    "    print(\"Initialized checkpoint\") \n",
    "\n",
    "curr_model.load_state_dict(torch.load(CHECKPOINT_PATH))\n",
    "checkpoint_model.load_state_dict(torch.load(CHECKPOINT_PATH))\n",
    "\n",
    "curr_model"
   ]
  },
  {
   "cell_type": "markdown",
   "metadata": {},
   "source": [
    "# Policies"
   ]
  },
  {
   "cell_type": "code",
   "execution_count": 12,
   "metadata": {},
   "outputs": [],
   "source": [
    "curr_policy = policies.QTempPolicy('Current', curr_model, INIT_TEMP)\n",
    "checkpoint_policy = policies.QTempPolicy('Checkpoint', checkpoint_model, INIT_TEMP)\n",
    "\n",
    "random_policy = policies.RandomPolicy()\n",
    "greedy_policy = policies.QTempPolicy('Greedy', policies.greedy_val_func, temp=0)\n",
    "human_policy = policies.HumanPolicy()"
   ]
  },
  {
   "cell_type": "code",
   "execution_count": 13,
   "metadata": {},
   "outputs": [],
   "source": [
    "def decay_temps(policies, temp_decay, min_temp):\n",
    "    for policy in policies:\n",
    "        assert hasattr(policy, 'temp')\n",
    "        policy.temp *= temp_decay\n",
    "        if policy.temp < min_temp:\n",
    "            policy.temp = min_temp\n",
    "        print(f\"{policy.name} temp decayed to {policy.temp}\")"
   ]
  },
  {
   "cell_type": "markdown",
   "metadata": {
    "colab_type": "text",
    "id": "nVCEKWx_Ga7r"
   },
   "source": [
    "# Demo and Time Games"
   ]
  },
  {
   "cell_type": "markdown",
   "metadata": {
    "colab_type": "text",
    "id": "YSQ1RFHuGa7r"
   },
   "source": [
    "Symmetries"
   ]
  },
  {
   "cell_type": "code",
   "execution_count": 14,
   "metadata": {
    "colab": {},
    "colab_type": "code",
    "id": "98jmZoKvwJRv"
   },
   "outputs": [
    {
     "name": "stdout",
     "output_type": "stream",
     "text": [
      "CPU times: user 335 ms, sys: 29.9 ms, total: 365 ms\n",
      "Wall time: 181 ms\n"
     ]
    }
   ],
   "source": [
    "%%time\n",
    "go_env.reset()\n",
    "action = (1, 1)\n",
    "next_state, _, _, _ = go_env.step(action)\n",
    "metrics.plot_symmetries(next_state, 'logs/symmetries.jpg')"
   ]
  },
  {
   "cell_type": "markdown",
   "metadata": {},
   "source": [
    "With replay memory"
   ]
  },
  {
   "cell_type": "code",
   "execution_count": 15,
   "metadata": {
    "scrolled": false
   },
   "outputs": [
    {
     "name": "stdout",
     "output_type": "stream",
     "text": [
      "CPU times: user 569 ms, sys: 60.7 ms, total: 630 ms\n",
      "Wall time: 255 ms\n"
     ]
    }
   ],
   "source": [
    "%%time\n",
    "go_env.reset()\n",
    "_,_ = game.pit(go_env, curr_policy, curr_policy, get_traj=True)"
   ]
  },
  {
   "cell_type": "code",
   "execution_count": 16,
   "metadata": {
    "colab": {},
    "colab_type": "code",
    "id": "ZrTjrYjBGa7u"
   },
   "outputs": [
    {
     "name": "stdout",
     "output_type": "stream",
     "text": [
      "CPU times: user 3.46 s, sys: 187 ms, total: 3.65 s\n",
      "Wall time: 3.28 s\n"
     ]
    }
   ],
   "source": [
    "%%time\n",
    "metrics.gen_traj_fig(go_env, curr_policy, DEMO_TRAJECTORY_PATH)"
   ]
  },
  {
   "cell_type": "markdown",
   "metadata": {
    "colab_type": "text",
    "id": "qNBj_gKPwJR_"
   },
   "source": [
    "# Train"
   ]
  },
  {
   "cell_type": "code",
   "execution_count": null,
   "metadata": {
    "colab": {
     "base_uri": "https://localhost:8080/",
     "height": 1000
    },
    "colab_type": "code",
    "id": "LT1PUXyXwJR_",
    "outputId": "100dda95-316e-457c-b1f3-c8bf82243c52",
    "scrolled": false
   },
   "outputs": [
    {
     "name": "stderr",
     "output_type": "stream",
     "text": [
      "Current vs. Current:   1%|          | 1/128 [00:00<00:21,  5.90it/s, 0.0%]"
     ]
    },
    {
     "name": "stdout",
     "output_type": "stream",
     "text": [
      "Iteration 0\n"
     ]
    },
    {
     "name": "stderr",
     "output_type": "stream",
     "text": [
      "Current vs. Current: 100%|██████████| 128/128 [00:27<00:00,  4.66it/s, 59.8%]\n",
      "Optimizing: 88it [00:01, 85.33it/s, 60.5%, 0.663L]\n",
      "Current vs. Checkpoint: 100%|██████████| 128/128 [00:25<00:00,  4.93it/s, 60.9%]\n"
     ]
    },
    {
     "name": "stdout",
     "output_type": "stream",
     "text": [
      "60.9% Accepted new model\n"
     ]
    },
    {
     "name": "stderr",
     "output_type": "stream",
     "text": [
      "\r",
      "Current vs. Random:   0%|          | 0/128 [00:00<?, ?it/s]"
     ]
    },
    {
     "name": "stdout",
     "output_type": "stream",
     "text": [
      "Plotted sample trajectory\n"
     ]
    },
    {
     "name": "stderr",
     "output_type": "stream",
     "text": [
      "Current vs. Random: 100%|██████████| 128/128 [00:15<00:00,  8.05it/s, 68.4%]\n",
      "Current vs. Greedy: 100%|██████████| 128/128 [00:26<00:00,  4.88it/s, 7.4%]\n",
      "Current vs. Current:   0%|          | 0/128 [00:00<?, ?it/s]"
     ]
    },
    {
     "name": "stdout",
     "output_type": "stream",
     "text": [
      "Current temp decayed to 0.75\n",
      "Checkpoint temp decayed to 0.75\n",
      "Iteration 1\n"
     ]
    },
    {
     "name": "stderr",
     "output_type": "stream",
     "text": [
      "Current vs. Current: 100%|██████████| 128/128 [00:25<00:00,  4.99it/s, 45.7%]\n",
      "Optimizing: 86it [00:01, 84.74it/s, 65.7%, 0.621L]\n",
      "Current vs. Checkpoint: 100%|██████████| 128/128 [00:26<00:00,  4.88it/s, 54.7%]\n",
      "Current vs. Current:   0%|          | 0/128 [00:00<?, ?it/s]"
     ]
    },
    {
     "name": "stdout",
     "output_type": "stream",
     "text": [
      "54.7% Continuing to train current weights\n",
      "Current temp decayed to 0.5625\n",
      "Checkpoint temp decayed to 0.5625\n",
      "Iteration 2\n"
     ]
    },
    {
     "name": "stderr",
     "output_type": "stream",
     "text": [
      "Current vs. Current: 100%|██████████| 128/128 [00:27<00:00,  4.62it/s, 54.3%]\n",
      "Optimizing: 99it [00:01, 87.28it/s, 63.3%, 0.649L]\n",
      "Current vs. Checkpoint: 100%|██████████| 128/128 [00:25<00:00,  5.04it/s, 52.3%]\n",
      "Current vs. Current:   0%|          | 0/128 [00:00<?, ?it/s]"
     ]
    },
    {
     "name": "stdout",
     "output_type": "stream",
     "text": [
      "52.3% Continuing to train current weights\n",
      "Current temp decayed to 0.421875\n",
      "Checkpoint temp decayed to 0.421875\n",
      "Iteration 3\n"
     ]
    },
    {
     "name": "stderr",
     "output_type": "stream",
     "text": [
      "Current vs. Current: 100%|██████████| 128/128 [00:26<00:00,  4.85it/s, 59.4%]\n",
      "Optimizing: 81it [00:00, 84.50it/s, 67.5%, 0.615L]\n",
      "Current vs. Checkpoint: 100%|██████████| 128/128 [00:26<00:00,  4.86it/s, 55.5%]\n",
      "Current vs. Current:   1%|          | 1/128 [00:00<00:15,  8.39it/s, 0.0%]"
     ]
    },
    {
     "name": "stdout",
     "output_type": "stream",
     "text": [
      "55.5% Continuing to train current weights\n",
      "Current temp decayed to 0.31640625\n",
      "Checkpoint temp decayed to 0.31640625\n",
      "Iteration 4\n"
     ]
    },
    {
     "name": "stderr",
     "output_type": "stream",
     "text": [
      "Current vs. Current: 100%|██████████| 128/128 [00:25<00:00,  5.12it/s, 52.3%]\n",
      "Optimizing: 81it [00:00, 85.38it/s, 68.4%, 0.603L]\n",
      "Current vs. Checkpoint: 100%|██████████| 128/128 [00:27<00:00,  4.66it/s, 53.9%]\n",
      "Current vs. Current:   1%|          | 1/128 [00:00<00:23,  5.39it/s, 0.0%]"
     ]
    },
    {
     "name": "stdout",
     "output_type": "stream",
     "text": [
      "53.9% Continuing to train current weights\n",
      "Current temp decayed to 0.2373046875\n",
      "Checkpoint temp decayed to 0.2373046875\n",
      "Iteration 5\n"
     ]
    },
    {
     "name": "stderr",
     "output_type": "stream",
     "text": [
      "Current vs. Current: 100%|██████████| 128/128 [00:26<00:00,  4.80it/s, 59.0%]\n",
      "Optimizing: 86it [00:00, 88.09it/s, 60.6%, 0.666L]\n",
      "Current vs. Checkpoint: 100%|██████████| 128/128 [00:29<00:00,  4.37it/s, 59.4%]\n",
      "Current vs. Current:   1%|          | 1/128 [00:00<00:21,  5.87it/s, 100.0%]"
     ]
    },
    {
     "name": "stdout",
     "output_type": "stream",
     "text": [
      "59.4% Continuing to train current weights\n",
      "Current temp decayed to 0.177978515625\n",
      "Checkpoint temp decayed to 0.177978515625\n",
      "Iteration 6\n"
     ]
    },
    {
     "name": "stderr",
     "output_type": "stream",
     "text": [
      "Current vs. Current: 100%|██████████| 128/128 [00:28<00:00,  4.46it/s, 56.6%]\n",
      "Optimizing: 93it [00:01, 88.52it/s, 62.9%, 0.646L]\n",
      "Current vs. Checkpoint: 100%|██████████| 128/128 [00:25<00:00,  5.06it/s, 67.2%]\n"
     ]
    },
    {
     "name": "stdout",
     "output_type": "stream",
     "text": [
      "67.2% Accepted new model\n"
     ]
    },
    {
     "name": "stderr",
     "output_type": "stream",
     "text": [
      "Current vs. Random:   0%|          | 0/128 [00:00<?, ?it/s, 100.0%]"
     ]
    },
    {
     "name": "stdout",
     "output_type": "stream",
     "text": [
      "Plotted sample trajectory\n"
     ]
    },
    {
     "name": "stderr",
     "output_type": "stream",
     "text": [
      "Current vs. Random: 100%|██████████| 128/128 [00:14<00:00,  8.89it/s, 85.5%]\n",
      "Current vs. Greedy: 100%|██████████| 128/128 [00:27<00:00,  4.64it/s, 17.2%]\n",
      "Current vs. Current:   1%|          | 1/128 [00:00<00:15,  7.98it/s, 100.0%]"
     ]
    },
    {
     "name": "stdout",
     "output_type": "stream",
     "text": [
      "Current temp decayed to 0.13348388671875\n",
      "Checkpoint temp decayed to 0.13348388671875\n",
      "Iteration 7\n"
     ]
    },
    {
     "name": "stderr",
     "output_type": "stream",
     "text": [
      "Current vs. Current: 100%|██████████| 128/128 [00:23<00:00,  5.50it/s, 59.8%]\n",
      "Optimizing: 72it [00:00, 83.08it/s, 66.7%, 0.617L]\n",
      "Current vs. Checkpoint: 100%|██████████| 128/128 [00:26<00:00,  4.79it/s, 62.1%]\n"
     ]
    },
    {
     "name": "stdout",
     "output_type": "stream",
     "text": [
      "62.1% Accepted new model\n"
     ]
    },
    {
     "name": "stderr",
     "output_type": "stream",
     "text": [
      "Current vs. Random:   1%|          | 1/128 [00:00<00:19,  6.62it/s, 100.0%]"
     ]
    },
    {
     "name": "stdout",
     "output_type": "stream",
     "text": [
      "Plotted sample trajectory\n"
     ]
    },
    {
     "name": "stderr",
     "output_type": "stream",
     "text": [
      "Current vs. Random: 100%|██████████| 128/128 [00:14<00:00,  8.93it/s, 89.1%]\n",
      "Current vs. Greedy: 100%|██████████| 128/128 [00:30<00:00,  4.21it/s, 25.0%]\n",
      "Current vs. Current:   0%|          | 0/128 [00:00<?, ?it/s]"
     ]
    },
    {
     "name": "stdout",
     "output_type": "stream",
     "text": [
      "Current temp decayed to 0.1001129150390625\n",
      "Checkpoint temp decayed to 0.1001129150390625\n",
      "Iteration 8\n"
     ]
    },
    {
     "name": "stderr",
     "output_type": "stream",
     "text": [
      "Current vs. Current: 100%|██████████| 128/128 [00:28<00:00,  4.43it/s, 53.5%]\n",
      "Optimizing: 104it [00:01, 71.81it/s, 61.5%, 0.650L]\n",
      "Current vs. Checkpoint: 100%|██████████| 128/128 [00:26<00:00,  4.88it/s, 55.1%]\n",
      "Current vs. Current:   1%|          | 1/128 [00:00<00:22,  5.58it/s, 100.0%]"
     ]
    },
    {
     "name": "stdout",
     "output_type": "stream",
     "text": [
      "55.1% Continuing to train current weights\n",
      "Current temp decayed to 0.07508468627929688\n",
      "Checkpoint temp decayed to 0.07508468627929688\n",
      "Iteration 9\n"
     ]
    },
    {
     "name": "stderr",
     "output_type": "stream",
     "text": [
      "Current vs. Current: 100%|██████████| 128/128 [00:23<00:00,  5.35it/s, 63.3%]\n",
      "Optimizing: 77it [00:01, 71.79it/s, 70.6%, 0.557L]\n",
      "Current vs. Checkpoint: 100%|██████████| 128/128 [00:30<00:00,  4.21it/s, 60.9%]\n"
     ]
    },
    {
     "name": "stdout",
     "output_type": "stream",
     "text": [
      "60.9% Accepted new model\n"
     ]
    },
    {
     "name": "stderr",
     "output_type": "stream",
     "text": [
      "Current vs. Random:   1%|          | 1/128 [00:00<00:13,  9.60it/s, 100.0%]"
     ]
    },
    {
     "name": "stdout",
     "output_type": "stream",
     "text": [
      "Plotted sample trajectory\n"
     ]
    },
    {
     "name": "stderr",
     "output_type": "stream",
     "text": [
      "Current vs. Random: 100%|██████████| 128/128 [00:14<00:00,  8.76it/s, 93.0%]\n",
      "Current vs. Greedy: 100%|██████████| 128/128 [00:31<00:00,  4.10it/s, 38.7%]\n",
      "Current vs. Current:   0%|          | 0/128 [00:00<?, ?it/s]"
     ]
    },
    {
     "name": "stdout",
     "output_type": "stream",
     "text": [
      "Current temp decayed to 0.056313514709472656\n",
      "Checkpoint temp decayed to 0.056313514709472656\n",
      "Iteration 10\n"
     ]
    },
    {
     "name": "stderr",
     "output_type": "stream",
     "text": [
      "Current vs. Current: 100%|██████████| 128/128 [00:30<00:00,  4.21it/s, 52.7%]\n",
      "Optimizing: 109it [00:01, 72.68it/s, 64.2%, 0.636L]\n",
      "Current vs. Checkpoint: 100%|██████████| 128/128 [00:28<00:00,  4.49it/s, 35.9%]\n",
      "Current vs. Current:   0%|          | 0/128 [00:00<?, ?it/s]"
     ]
    },
    {
     "name": "stdout",
     "output_type": "stream",
     "text": [
      "35.9% Rejected new model\n",
      "Current temp decayed to 0.04223513603210449\n",
      "Checkpoint temp decayed to 0.04223513603210449\n",
      "Iteration 11\n"
     ]
    },
    {
     "name": "stderr",
     "output_type": "stream",
     "text": [
      "Current vs. Current: 100%|██████████| 128/128 [00:32<00:00,  3.98it/s, 58.2%]\n",
      "Optimizing: 112it [00:01, 72.51it/s, 61.9%, 0.667L]\n",
      "Current vs. Checkpoint: 100%|██████████| 128/128 [00:28<00:00,  4.42it/s, 42.2%]\n",
      "Current vs. Current:   1%|          | 1/128 [00:00<00:23,  5.45it/s, 100.0%]"
     ]
    },
    {
     "name": "stdout",
     "output_type": "stream",
     "text": [
      "42.2% Continuing to train current weights\n",
      "Current temp decayed to 0.03167635202407837\n",
      "Checkpoint temp decayed to 0.03167635202407837\n",
      "Iteration 12\n"
     ]
    },
    {
     "name": "stderr",
     "output_type": "stream",
     "text": [
      "Current vs. Current: 100%|██████████| 128/128 [00:24<00:00,  5.22it/s, 57.4%]\n",
      "Optimizing: 81it [00:01, 71.78it/s, 67.7%, 0.596L]\n",
      "Current vs. Checkpoint: 100%|██████████| 128/128 [00:29<00:00,  4.33it/s, 57.8%]\n",
      "Current vs. Current:   1%|          | 1/128 [00:00<00:22,  5.69it/s, 0.0%]"
     ]
    },
    {
     "name": "stdout",
     "output_type": "stream",
     "text": [
      "57.8% Continuing to train current weights\n",
      "Current temp decayed to 0.023757264018058777\n",
      "Checkpoint temp decayed to 0.023757264018058777\n",
      "Iteration 13\n"
     ]
    },
    {
     "name": "stderr",
     "output_type": "stream",
     "text": [
      "Current vs. Current: 100%|██████████| 128/128 [00:25<00:00,  5.10it/s, 62.5%]\n",
      "Optimizing: 78it [00:01, 72.32it/s, 78.1%, 0.456L]\n",
      "Current vs. Checkpoint: 100%|██████████| 128/128 [00:31<00:00,  4.07it/s, 56.2%]\n",
      "Current vs. Current:   0%|          | 0/128 [00:00<?, ?it/s]"
     ]
    },
    {
     "name": "stdout",
     "output_type": "stream",
     "text": [
      "56.2% Continuing to train current weights\n",
      "Current temp decayed to 0.017817948013544083\n",
      "Checkpoint temp decayed to 0.017817948013544083\n",
      "Iteration 14\n"
     ]
    },
    {
     "name": "stderr",
     "output_type": "stream",
     "text": [
      "Current vs. Current: 100%|██████████| 128/128 [00:30<00:00,  4.19it/s, 52.7%]\n",
      "Optimizing: 108it [00:01, 72.81it/s, 58.4%, 0.695L]\n",
      "Current vs. Checkpoint: 100%|██████████| 128/128 [00:29<00:00,  4.27it/s, 43.0%]\n",
      "Current vs. Current:   0%|          | 0/128 [00:00<?, ?it/s]"
     ]
    },
    {
     "name": "stdout",
     "output_type": "stream",
     "text": [
      "43.0% Continuing to train current weights\n",
      "Current temp decayed to 0.015625\n",
      "Checkpoint temp decayed to 0.015625\n",
      "Iteration 15\n"
     ]
    },
    {
     "name": "stderr",
     "output_type": "stream",
     "text": [
      "Current vs. Current: 100%|██████████| 128/128 [00:28<00:00,  4.46it/s, 60.2%]\n",
      "Optimizing: 80it [00:01, 66.70it/s, 71.9%, 0.556L]\n",
      "Current vs. Checkpoint: 100%|██████████| 128/128 [00:31<00:00,  4.11it/s, 77.7%]\n"
     ]
    },
    {
     "name": "stdout",
     "output_type": "stream",
     "text": [
      "77.7% Accepted new model\n"
     ]
    },
    {
     "name": "stderr",
     "output_type": "stream",
     "text": [
      "Current vs. Random:   1%|          | 1/128 [00:00<00:19,  6.58it/s, 100.0%]"
     ]
    },
    {
     "name": "stdout",
     "output_type": "stream",
     "text": [
      "Plotted sample trajectory\n"
     ]
    },
    {
     "name": "stderr",
     "output_type": "stream",
     "text": [
      "Current vs. Random: 100%|██████████| 128/128 [00:14<00:00,  8.93it/s, 96.9%]\n",
      "Current vs. Greedy: 100%|██████████| 128/128 [00:28<00:00,  4.45it/s, 71.1%]\n",
      "Current vs. Current:   1%|          | 1/128 [00:00<00:18,  6.93it/s, 100.0%]"
     ]
    },
    {
     "name": "stdout",
     "output_type": "stream",
     "text": [
      "Current temp decayed to 0.015625\n",
      "Checkpoint temp decayed to 0.015625\n",
      "Iteration 16\n"
     ]
    },
    {
     "name": "stderr",
     "output_type": "stream",
     "text": [
      "Current vs. Current: 100%|██████████| 128/128 [00:28<00:00,  4.53it/s, 84.0%]\n",
      "Optimizing: 88it [00:01, 72.15it/s, 83.3%, 0.446L]\n",
      "Current vs. Checkpoint: 100%|██████████| 128/128 [00:30<00:00,  4.26it/s, 72.7%]\n"
     ]
    },
    {
     "name": "stdout",
     "output_type": "stream",
     "text": [
      "72.7% Accepted new model\n"
     ]
    },
    {
     "name": "stderr",
     "output_type": "stream",
     "text": [
      "Current vs. Random:   1%|          | 1/128 [00:00<00:18,  6.85it/s, 100.0%]"
     ]
    },
    {
     "name": "stdout",
     "output_type": "stream",
     "text": [
      "Plotted sample trajectory\n"
     ]
    },
    {
     "name": "stderr",
     "output_type": "stream",
     "text": [
      "Current vs. Random: 100%|██████████| 128/128 [00:15<00:00,  8.16it/s, 93.8%]\n",
      "Current vs. Greedy: 100%|██████████| 128/128 [00:30<00:00,  4.26it/s, 50.4%]\n",
      "Current vs. Current:   1%|          | 1/128 [00:00<00:21,  5.90it/s, 100.0%]"
     ]
    },
    {
     "name": "stdout",
     "output_type": "stream",
     "text": [
      "Current temp decayed to 0.015625\n",
      "Checkpoint temp decayed to 0.015625\n",
      "Iteration 17\n"
     ]
    },
    {
     "name": "stderr",
     "output_type": "stream",
     "text": [
      "Current vs. Current: 100%|██████████| 128/128 [00:30<00:00,  4.18it/s, 66.8%]\n",
      "Optimizing: 94it [00:01, 63.72it/s, 62.3%, 0.672L]\n",
      "Current vs. Checkpoint: 100%|██████████| 128/128 [00:29<00:00,  4.40it/s, 63.3%]\n"
     ]
    },
    {
     "name": "stdout",
     "output_type": "stream",
     "text": [
      "63.3% Accepted new model\n"
     ]
    },
    {
     "name": "stderr",
     "output_type": "stream",
     "text": [
      "Current vs. Random:   1%|          | 1/128 [00:00<00:16,  7.60it/s, 100.0%]"
     ]
    },
    {
     "name": "stdout",
     "output_type": "stream",
     "text": [
      "Plotted sample trajectory\n"
     ]
    },
    {
     "name": "stderr",
     "output_type": "stream",
     "text": [
      "Current vs. Random: 100%|██████████| 128/128 [00:13<00:00,  9.59it/s, 100.0%]\n",
      "Current vs. Greedy: 100%|██████████| 128/128 [00:27<00:00,  4.60it/s, 64.1%]\n",
      "Current vs. Current:   0%|          | 0/128 [00:00<?, ?it/s]"
     ]
    },
    {
     "name": "stdout",
     "output_type": "stream",
     "text": [
      "Current temp decayed to 0.015625\n",
      "Checkpoint temp decayed to 0.015625\n",
      "Iteration 18\n"
     ]
    },
    {
     "name": "stderr",
     "output_type": "stream",
     "text": [
      "Current vs. Current: 100%|██████████| 128/128 [00:26<00:00,  4.88it/s, 57.0%]\n",
      "Optimizing: 85it [00:01, 71.33it/s, 69.4%, 0.572L]\n",
      "Current vs. Checkpoint: 100%|██████████| 128/128 [00:25<00:00,  4.96it/s, 75.8%]\n"
     ]
    },
    {
     "name": "stdout",
     "output_type": "stream",
     "text": [
      "75.8% Accepted new model\n"
     ]
    },
    {
     "name": "stderr",
     "output_type": "stream",
     "text": [
      "Current vs. Random:   2%|▏         | 2/128 [00:00<00:09, 13.55it/s, 100.0%]"
     ]
    },
    {
     "name": "stdout",
     "output_type": "stream",
     "text": [
      "Plotted sample trajectory\n"
     ]
    },
    {
     "name": "stderr",
     "output_type": "stream",
     "text": [
      "Current vs. Random: 100%|██████████| 128/128 [00:12<00:00, 10.19it/s, 99.2%]\n",
      "Current vs. Greedy: 100%|██████████| 128/128 [00:28<00:00,  4.49it/s, 85.9%]\n",
      "Current vs. Current:   0%|          | 0/128 [00:00<?, ?it/s]"
     ]
    },
    {
     "name": "stdout",
     "output_type": "stream",
     "text": [
      "Current temp decayed to 0.015625\n",
      "Checkpoint temp decayed to 0.015625\n",
      "Iteration 19\n"
     ]
    },
    {
     "name": "stderr",
     "output_type": "stream",
     "text": [
      "Current vs. Current: 100%|██████████| 128/128 [00:23<00:00,  5.38it/s, 83.6%]\n",
      "Optimizing: 75it [00:01, 71.66it/s, 83.1%, 0.425L]\n",
      "Current vs. Checkpoint: 100%|██████████| 128/128 [00:26<00:00,  4.81it/s, 52.0%]\n",
      "Current vs. Current:   0%|          | 0/128 [00:00<?, ?it/s]"
     ]
    },
    {
     "name": "stdout",
     "output_type": "stream",
     "text": [
      "52.0% Continuing to train current weights\n",
      "Current temp decayed to 0.015625\n",
      "Checkpoint temp decayed to 0.015625\n",
      "Iteration 20\n"
     ]
    },
    {
     "name": "stderr",
     "output_type": "stream",
     "text": [
      "Current vs. Current: 100%|██████████| 128/128 [00:29<00:00,  4.39it/s, 64.5%]\n",
      "Optimizing: 104it [00:01, 69.08it/s, 66.0%, 0.640L]\n",
      "Current vs. Checkpoint: 100%|██████████| 128/128 [00:24<00:00,  5.15it/s, 64.8%]\n"
     ]
    },
    {
     "name": "stdout",
     "output_type": "stream",
     "text": [
      "64.8% Accepted new model\n"
     ]
    },
    {
     "name": "stderr",
     "output_type": "stream",
     "text": [
      "Current vs. Random:   1%|          | 1/128 [00:00<00:14,  8.78it/s, 100.0%]"
     ]
    },
    {
     "name": "stdout",
     "output_type": "stream",
     "text": [
      "Plotted sample trajectory\n"
     ]
    },
    {
     "name": "stderr",
     "output_type": "stream",
     "text": [
      "Current vs. Random: 100%|██████████| 128/128 [00:12<00:00, 10.08it/s, 100.0%]\n",
      "Current vs. Greedy: 100%|██████████| 128/128 [00:26<00:00,  4.90it/s, 80.5%]\n",
      "Current vs. Current:   1%|          | 1/128 [00:00<00:20,  6.27it/s, 0.0%]"
     ]
    },
    {
     "name": "stdout",
     "output_type": "stream",
     "text": [
      "Current temp decayed to 0.015625\n",
      "Checkpoint temp decayed to 0.015625\n",
      "Iteration 21\n"
     ]
    },
    {
     "name": "stderr",
     "output_type": "stream",
     "text": [
      "Current vs. Current: 100%|██████████| 128/128 [00:25<00:00,  5.03it/s, 67.2%]\n",
      "Optimizing: 82it [00:01, 70.47it/s, 75.4%, 0.472L]\n",
      "Current vs. Checkpoint: 100%|██████████| 128/128 [00:27<00:00,  4.63it/s, 58.2%]\n",
      "Current vs. Current:   0%|          | 0/128 [00:00<?, ?it/s]"
     ]
    },
    {
     "name": "stdout",
     "output_type": "stream",
     "text": [
      "58.2% Continuing to train current weights\n",
      "Current temp decayed to 0.015625\n",
      "Checkpoint temp decayed to 0.015625\n",
      "Iteration 22\n"
     ]
    },
    {
     "name": "stderr",
     "output_type": "stream",
     "text": [
      "Current vs. Current: 100%|██████████| 128/128 [00:29<00:00,  4.35it/s, 61.3%]\n",
      "Optimizing: 100it [00:01, 70.66it/s, 62.3%, 0.676L]\n",
      "Current vs. Checkpoint: 100%|██████████| 128/128 [00:26<00:00,  4.80it/s, 53.1%]\n",
      "Current vs. Current:   1%|          | 1/128 [00:00<00:24,  5.24it/s, 100.0%]"
     ]
    },
    {
     "name": "stdout",
     "output_type": "stream",
     "text": [
      "53.1% Continuing to train current weights\n",
      "Current temp decayed to 0.015625\n",
      "Checkpoint temp decayed to 0.015625\n",
      "Iteration 23\n"
     ]
    },
    {
     "name": "stderr",
     "output_type": "stream",
     "text": [
      "Current vs. Current: 100%|██████████| 128/128 [00:27<00:00,  4.65it/s, 60.2%]\n",
      "Optimizing: 82it [00:01, 69.28it/s, 73.4%, 0.515L]\n",
      "Current vs. Checkpoint: 100%|██████████| 128/128 [00:28<00:00,  4.45it/s, 47.7%]\n",
      "Current vs. Current:   0%|          | 0/128 [00:00<?, ?it/s]"
     ]
    },
    {
     "name": "stdout",
     "output_type": "stream",
     "text": [
      "47.7% Continuing to train current weights\n",
      "Current temp decayed to 0.015625\n",
      "Checkpoint temp decayed to 0.015625\n",
      "Iteration 24\n"
     ]
    },
    {
     "name": "stderr",
     "output_type": "stream",
     "text": [
      "Current vs. Current: 100%|██████████| 128/128 [00:28<00:00,  4.51it/s, 35.2%]\n",
      "Optimizing: 80it [00:01, 70.75it/s, 63.5%, 0.522L]\n",
      "Current vs. Checkpoint: 100%|██████████| 128/128 [00:30<00:00,  4.16it/s, 57.0%]\n",
      "Current vs. Current:   0%|          | 0/128 [00:00<?, ?it/s]"
     ]
    },
    {
     "name": "stdout",
     "output_type": "stream",
     "text": [
      "57.0% Continuing to train current weights\n",
      "Current temp decayed to 0.015625\n",
      "Checkpoint temp decayed to 0.015625\n",
      "Iteration 25\n"
     ]
    },
    {
     "name": "stderr",
     "output_type": "stream",
     "text": [
      "Current vs. Current: 100%|██████████| 128/128 [00:34<00:00,  3.73it/s, 67.2%]\n",
      "Optimizing: 105it [00:01, 72.13it/s, 67.1%, 0.652L]\n",
      "Current vs. Checkpoint: 100%|██████████| 128/128 [00:27<00:00,  4.59it/s, 65.6%]\n"
     ]
    },
    {
     "name": "stdout",
     "output_type": "stream",
     "text": [
      "65.6% Accepted new model\n"
     ]
    },
    {
     "name": "stderr",
     "output_type": "stream",
     "text": [
      "Current vs. Random:   1%|          | 1/128 [00:00<00:14,  8.89it/s, 100.0%]"
     ]
    },
    {
     "name": "stdout",
     "output_type": "stream",
     "text": [
      "Plotted sample trajectory\n"
     ]
    },
    {
     "name": "stderr",
     "output_type": "stream",
     "text": [
      "Current vs. Random: 100%|██████████| 128/128 [00:14<00:00,  8.85it/s, 99.2%] \n",
      "Current vs. Greedy: 100%|██████████| 128/128 [00:28<00:00,  4.43it/s, 89.1%]\n",
      "Current vs. Current:   1%|          | 1/128 [00:00<00:19,  6.64it/s, 100.0%]"
     ]
    },
    {
     "name": "stdout",
     "output_type": "stream",
     "text": [
      "Current temp decayed to 0.015625\n",
      "Checkpoint temp decayed to 0.015625\n",
      "Iteration 26\n"
     ]
    },
    {
     "name": "stderr",
     "output_type": "stream",
     "text": [
      "Current vs. Current: 100%|██████████| 128/128 [00:27<00:00,  4.69it/s, 89.1%]\n",
      "Optimizing: 68it [00:01, 57.59it/s, 88.4%, 0.318L]\n",
      "Current vs. Checkpoint: 100%|██████████| 128/128 [00:32<00:00,  3.94it/s, 66.4%]\n"
     ]
    },
    {
     "name": "stdout",
     "output_type": "stream",
     "text": [
      "66.4% Accepted new model\n"
     ]
    },
    {
     "name": "stderr",
     "output_type": "stream",
     "text": [
      "Current vs. Random:   1%|          | 1/128 [00:00<00:22,  5.61it/s, 100.0%]"
     ]
    },
    {
     "name": "stdout",
     "output_type": "stream",
     "text": [
      "Plotted sample trajectory\n"
     ]
    },
    {
     "name": "stderr",
     "output_type": "stream",
     "text": [
      "Current vs. Random: 100%|██████████| 128/128 [00:15<00:00,  8.12it/s, 95.3%]\n",
      "Current vs. Greedy: 100%|██████████| 128/128 [00:31<00:00,  4.12it/s, 46.9%]\n",
      "Current vs. Current:   0%|          | 0/128 [00:00<?, ?it/s]"
     ]
    },
    {
     "name": "stdout",
     "output_type": "stream",
     "text": [
      "Current temp decayed to 0.015625\n",
      "Checkpoint temp decayed to 0.015625\n",
      "Iteration 27\n"
     ]
    },
    {
     "name": "stderr",
     "output_type": "stream",
     "text": [
      "Current vs. Current: 100%|██████████| 128/128 [00:35<00:00,  3.64it/s, 71.9%]\n",
      "Optimizing: 106it [00:01, 69.63it/s, 64.2%, 0.704L]\n",
      "Current vs. Checkpoint: 100%|██████████| 128/128 [00:31<00:00,  4.09it/s, 69.5%]\n"
     ]
    },
    {
     "name": "stdout",
     "output_type": "stream",
     "text": [
      "69.5% Accepted new model\n"
     ]
    },
    {
     "name": "stderr",
     "output_type": "stream",
     "text": [
      "Current vs. Random:   1%|          | 1/128 [00:00<00:13,  9.42it/s, 100.0%]"
     ]
    },
    {
     "name": "stdout",
     "output_type": "stream",
     "text": [
      "Plotted sample trajectory\n"
     ]
    },
    {
     "name": "stderr",
     "output_type": "stream",
     "text": [
      "Current vs. Random: 100%|██████████| 128/128 [00:13<00:00,  9.23it/s, 98.4%]\n",
      "Current vs. Greedy: 100%|██████████| 128/128 [00:28<00:00,  4.45it/s, 80.5%]\n",
      "Current vs. Current:   1%|          | 1/128 [00:00<00:21,  6.05it/s, 0.0%]"
     ]
    },
    {
     "name": "stdout",
     "output_type": "stream",
     "text": [
      "Current temp decayed to 0.015625\n",
      "Checkpoint temp decayed to 0.015625\n",
      "Iteration 28\n"
     ]
    },
    {
     "name": "stderr",
     "output_type": "stream",
     "text": [
      "Current vs. Current: 100%|██████████| 128/128 [00:27<00:00,  4.70it/s, 64.1%]\n",
      "Optimizing: 78it [00:01, 68.94it/s, 73.5%, 0.525L]\n",
      "Current vs. Checkpoint: 100%|██████████| 128/128 [00:30<00:00,  4.19it/s, 68.0%]\n"
     ]
    },
    {
     "name": "stdout",
     "output_type": "stream",
     "text": [
      "68.0% Accepted new model\n"
     ]
    },
    {
     "name": "stderr",
     "output_type": "stream",
     "text": [
      "Current vs. Random:   2%|▏         | 2/128 [00:00<00:11, 10.56it/s, 100.0%]"
     ]
    },
    {
     "name": "stdout",
     "output_type": "stream",
     "text": [
      "Plotted sample trajectory\n"
     ]
    },
    {
     "name": "stderr",
     "output_type": "stream",
     "text": [
      "Current vs. Random: 100%|██████████| 128/128 [00:15<00:00,  8.14it/s, 94.5%]\n",
      "Current vs. Greedy: 100%|██████████| 128/128 [00:33<00:00,  3.82it/s, 51.2%]\n",
      "Current vs. Current:   0%|          | 0/128 [00:00<?, ?it/s]"
     ]
    },
    {
     "name": "stdout",
     "output_type": "stream",
     "text": [
      "Current temp decayed to 0.015625\n",
      "Checkpoint temp decayed to 0.015625\n",
      "Iteration 29\n"
     ]
    },
    {
     "name": "stderr",
     "output_type": "stream",
     "text": [
      "Current vs. Current: 100%|██████████| 128/128 [00:35<00:00,  3.66it/s, 68.0%]\n",
      "Optimizing: 112it [00:01, 67.95it/s, 64.4%, 0.657L]\n",
      "Current vs. Checkpoint: 100%|██████████| 128/128 [00:23<00:00,  5.39it/s, 20.7%]\n",
      "Current vs. Current:   0%|          | 0/128 [00:00<?, ?it/s]"
     ]
    },
    {
     "name": "stdout",
     "output_type": "stream",
     "text": [
      "20.7% Rejected new model\n",
      "Current temp decayed to 0.015625\n",
      "Checkpoint temp decayed to 0.015625\n",
      "Iteration 30\n"
     ]
    },
    {
     "name": "stderr",
     "output_type": "stream",
     "text": [
      "Current vs. Current: 100%|██████████| 128/128 [00:31<00:00,  4.07it/s, 64.8%]\n",
      "Optimizing: 111it [00:01, 71.93it/s, 66.6%, 0.627L]\n",
      "Current vs. Checkpoint: 100%|██████████| 128/128 [00:31<00:00,  4.08it/s, 67.2%]\n"
     ]
    },
    {
     "name": "stdout",
     "output_type": "stream",
     "text": [
      "67.2% Accepted new model\n"
     ]
    },
    {
     "name": "stderr",
     "output_type": "stream",
     "text": [
      "Current vs. Random:   1%|          | 1/128 [00:00<00:12,  9.93it/s, 100.0%]"
     ]
    },
    {
     "name": "stdout",
     "output_type": "stream",
     "text": [
      "Plotted sample trajectory\n"
     ]
    },
    {
     "name": "stderr",
     "output_type": "stream",
     "text": [
      "Current vs. Random: 100%|██████████| 128/128 [00:13<00:00,  9.78it/s, 100.0%]\n",
      "Current vs. Greedy: 100%|██████████| 128/128 [00:28<00:00,  4.54it/s, 90.6%]\n",
      "Current vs. Current:   1%|          | 1/128 [00:00<00:23,  5.48it/s, 100.0%]"
     ]
    },
    {
     "name": "stdout",
     "output_type": "stream",
     "text": [
      "Current temp decayed to 0.015625\n",
      "Checkpoint temp decayed to 0.015625\n",
      "Iteration 31\n"
     ]
    },
    {
     "name": "stderr",
     "output_type": "stream",
     "text": [
      "Current vs. Current:  80%|███████▉  | 102/128 [00:22<00:05,  4.73it/s, 84.3%]"
     ]
    }
   ],
   "source": [
    "for iteration in range(ITERATIONS):\n",
    "    print(f\"Iteration {iteration}\")\n",
    "    \n",
    "    # Make and write out the episode data\n",
    "    _, replay_data = game.play_games(go_env, curr_policy, curr_policy, True, EPISODES_PER_ITERATION)\n",
    "        \n",
    "    # Process the data\n",
    "    random.shuffle(replay_data)\n",
    "    replay_data = data.replaylist_to_numpy(replay_data)\n",
    "\n",
    "    # Optimize\n",
    "    curr_model.optimize(replay_data, BATCH_SIZE)\n",
    "    \n",
    "    # Evaluate against checkpoint model and other baselines\n",
    "    opp_winrate, _ = game.play_games(go_env, curr_policy, checkpoint_policy, False, EPISODES_PER_ITERATION)\n",
    "\n",
    "    if opp_winrate > 0.6:\n",
    "        # New parameters are significantly better. Accept it\n",
    "        torch.save(curr_model.state_dict(), CHECKPOINT_PATH)\n",
    "        checkpoint_model.load_state_dict(torch.load(CHECKPOINT_PATH))\n",
    "        print(f\"{100*opp_winrate:.1f}% Accepted new model\")\n",
    "        \n",
    "        # Plot samples of states and response heatmaps\n",
    "        metrics.gen_traj_fig(go_env, curr_policy, DEMO_TRAJECTORY_PATH)\n",
    "        print(\"Plotted sample trajectory\")\n",
    "        \n",
    "        rand_winrate, _ = game.play_games(go_env, curr_policy, random_policy, False, NUM_EVAL_GAMES)\n",
    "        greed_winrate, _ = game.play_games(go_env, curr_policy, greedy_policy, False, NUM_EVAL_GAMES)\n",
    "\n",
    "    elif opp_winrate >= 0.4:\n",
    "        # Keep trying\n",
    "        print(f\"{100*opp_winrate:.1f}% Continuing to train current weights\")\n",
    "    else:\n",
    "        # New parameters are significantly worse. Reject it.\n",
    "        curr_model.load_state_dict(torch.load(CHECKPOINT_PATH))\n",
    "        print(f\"{100*opp_winrate:.1f}% Rejected new model\")\n",
    "        \n",
    "    # Decay the temperatures if any\n",
    "    decay_temps([curr_policy, checkpoint_policy], TEMP_DECAY, MIN_TEMP)"
   ]
  },
  {
   "cell_type": "markdown",
   "metadata": {
    "colab_type": "text",
    "id": "NyMNxMAWwJR_"
   },
   "source": [
    "# Evaluate"
   ]
  },
  {
   "cell_type": "markdown",
   "metadata": {
    "colab_type": "text",
    "id": "Moy9uJ6fGa7z"
   },
   "source": [
    "Play against our AI"
   ]
  },
  {
   "cell_type": "code",
   "execution_count": null,
   "metadata": {},
   "outputs": [],
   "source": [
    "set_temps([curr_policy, checkpoint_policy], 0)"
   ]
  },
  {
   "cell_type": "code",
   "execution_count": null,
   "metadata": {
    "colab": {},
    "colab_type": "code",
    "id": "97j_uYY9wJSA"
   },
   "outputs": [],
   "source": [
    "game.pit(go_env, human_policy, checkpoint_policy, False)"
   ]
  },
  {
   "cell_type": "code",
   "execution_count": null,
   "metadata": {
    "colab": {},
    "colab_type": "code",
    "id": "emKESg3hGa71"
   },
   "outputs": [],
   "source": []
  }
 ],
 "metadata": {
  "accelerator": "GPU",
  "colab": {
   "collapsed_sections": [],
   "name": "Copy of go_ai.ipynb",
   "provenance": []
  },
  "kernelspec": {
   "display_name": "Python 3",
   "language": "python",
   "name": "python3"
  },
  "language_info": {
   "codemirror_mode": {
    "name": "ipython",
    "version": 3
   },
   "file_extension": ".py",
   "mimetype": "text/x-python",
   "name": "python",
   "nbconvert_exporter": "python",
   "pygments_lexer": "ipython3",
   "version": "3.7.4"
  },
  "widgets": {
   "application/vnd.jupyter.widget-state+json": {
    "state": {},
    "version_major": 2,
    "version_minor": 0
   }
  }
 },
 "nbformat": 4,
 "nbformat_minor": 1
}
