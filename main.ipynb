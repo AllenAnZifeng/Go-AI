{
 "cells": [
  {
   "cell_type": "code",
   "execution_count": 1,
   "metadata": {
    "colab": {},
    "colab_type": "code",
    "id": "88zLHqvDwJRj"
   },
   "outputs": [],
   "source": [
    "import tensorflow as tf\n",
    "import numpy as np\n",
    "import gym\n",
    "from go_ai import data, metrics, policies\n",
    "from go_ai.models import value_model\n",
    "import matplotlib.pyplot as plt\n",
    "import shutil\n",
    "import multiprocessing as mp"
   ]
  },
  {
   "cell_type": "markdown",
   "metadata": {
    "colab_type": "text",
    "id": "TfY-_1_5wJR5"
   },
   "source": [
    "# Hyperparameters"
   ]
  },
  {
   "cell_type": "code",
   "execution_count": 2,
   "metadata": {
    "colab": {},
    "colab_type": "code",
    "id": "-Ju4HYnKwJRq"
   },
   "outputs": [],
   "source": [
    "BOARD_SIZE = 5"
   ]
  },
  {
   "cell_type": "code",
   "execution_count": 3,
   "metadata": {
    "colab": {},
    "colab_type": "code",
    "id": "DX04C6TbwJR5"
   },
   "outputs": [],
   "source": [
    "ITERATIONS = 256\n",
    "EPISODES_PER_ITERATION = 128\n",
    "NUM_EVAL_GAMES = 32"
   ]
  },
  {
   "cell_type": "code",
   "execution_count": 4,
   "metadata": {
    "colab": {},
    "colab_type": "code",
    "id": "I8pWCj8jGa7Y"
   },
   "outputs": [],
   "source": [
    "BATCH_SIZE = 32\n",
    "LEARNING_RATE = 2e-3"
   ]
  },
  {
   "cell_type": "code",
   "execution_count": 5,
   "metadata": {},
   "outputs": [],
   "source": [
    "LOAD_SAVED_MODELS = True"
   ]
  },
  {
   "cell_type": "markdown",
   "metadata": {},
   "source": [
    "# Data Parameters"
   ]
  },
  {
   "cell_type": "code",
   "execution_count": 6,
   "metadata": {},
   "outputs": [],
   "source": [
    "NUM_WORKERS = mp.cpu_count()"
   ]
  },
  {
   "cell_type": "code",
   "execution_count": 7,
   "metadata": {},
   "outputs": [],
   "source": [
    "EPISODES_DIR = './data/'"
   ]
  },
  {
   "cell_type": "code",
   "execution_count": 8,
   "metadata": {
    "colab": {},
    "colab_type": "code",
    "id": "TfJcqNeEGa7b"
   },
   "outputs": [],
   "source": [
    "WEIGHTS_DIR = 'model_weights/'\n",
    "CHECKPOINT_PATH = WEIGHTS_DIR + 'checkpoint_{}x{}.h5'.format(BOARD_SIZE, BOARD_SIZE)\n",
    "TMP_WEIGHTS_PATH = WEIGHTS_DIR + 'tmp.h5'"
   ]
  },
  {
   "cell_type": "code",
   "execution_count": 9,
   "metadata": {},
   "outputs": [],
   "source": [
    "DEMO_TRAJECTORY_PATH = 'logs/a_trajectory.png'"
   ]
  },
  {
   "cell_type": "markdown",
   "metadata": {
    "colab_type": "text",
    "id": "szyALIMpwJRo"
   },
   "source": [
    "# Go Environment\n",
    "Train on a small board for fast training and efficient debugging"
   ]
  },
  {
   "cell_type": "code",
   "execution_count": 10,
   "metadata": {
    "colab": {},
    "colab_type": "code",
    "id": "E4w7gMrfwJRp"
   },
   "outputs": [],
   "source": [
    "go_env = gym.make('gym_go:go-v0', size=BOARD_SIZE)"
   ]
  },
  {
   "cell_type": "markdown",
   "metadata": {
    "colab_type": "text",
    "id": "g7ZoRfzIwJRr"
   },
   "source": [
    "# Preview Model"
   ]
  },
  {
   "cell_type": "code",
   "execution_count": 11,
   "metadata": {
    "colab": {},
    "colab_type": "code",
    "id": "0VDp7tLiGa7j",
    "scrolled": true
   },
   "outputs": [],
   "source": [
    "val_net = value_model.make_val_net(BOARD_SIZE)"
   ]
  },
  {
   "cell_type": "code",
   "execution_count": 12,
   "metadata": {
    "colab": {
     "base_uri": "https://localhost:8080/",
     "height": 952
    },
    "colab_type": "code",
    "id": "1FsLyPsAGa7m",
    "outputId": "6786c8ef-0958-4c82-d4ac-40cb4ceebb3a",
    "scrolled": true
   },
   "outputs": [
    {
     "name": "stdout",
     "output_type": "stream",
     "text": [
      "Model: \"sequential\"\n",
      "_________________________________________________________________\n",
      "Layer (type)                 Output Shape              Param #   \n",
      "=================================================================\n",
      "conv2d (Conv2D)              (None, 5, 5, 128)         7040      \n",
      "_________________________________________________________________\n",
      "batch_normalization (BatchNo (None, 5, 5, 128)         512       \n",
      "_________________________________________________________________\n",
      "re_lu (ReLU)                 (None, 5, 5, 128)         0         \n",
      "_________________________________________________________________\n",
      "conv2d_1 (Conv2D)            (None, 5, 5, 128)         147584    \n",
      "_________________________________________________________________\n",
      "batch_normalization_1 (Batch (None, 5, 5, 128)         512       \n",
      "_________________________________________________________________\n",
      "re_lu_1 (ReLU)               (None, 5, 5, 128)         0         \n",
      "_________________________________________________________________\n",
      "conv2d_2 (Conv2D)            (None, 5, 5, 64)          73792     \n",
      "_________________________________________________________________\n",
      "batch_normalization_2 (Batch (None, 5, 5, 64)          256       \n",
      "_________________________________________________________________\n",
      "re_lu_2 (ReLU)               (None, 5, 5, 64)          0         \n",
      "_________________________________________________________________\n",
      "conv2d_3 (Conv2D)            (None, 5, 5, 8)           4616      \n",
      "_________________________________________________________________\n",
      "batch_normalization_3 (Batch (None, 5, 5, 8)           32        \n",
      "_________________________________________________________________\n",
      "re_lu_3 (ReLU)               (None, 5, 5, 8)           0         \n",
      "_________________________________________________________________\n",
      "flatten (Flatten)            (None, 200)               0         \n",
      "_________________________________________________________________\n",
      "dense (Dense)                (None, 256)               51456     \n",
      "_________________________________________________________________\n",
      "batch_normalization_4 (Batch (None, 256)               1024      \n",
      "_________________________________________________________________\n",
      "re_lu_4 (ReLU)               (None, 256)               0         \n",
      "_________________________________________________________________\n",
      "value (Dense)                (None, 1)                 257       \n",
      "=================================================================\n",
      "Total params: 287,081\n",
      "Trainable params: 285,913\n",
      "Non-trainable params: 1,168\n",
      "_________________________________________________________________\n"
     ]
    }
   ],
   "source": [
    "val_net.summary()"
   ]
  },
  {
   "cell_type": "markdown",
   "metadata": {},
   "source": [
    "# Initialize Weights"
   ]
  },
  {
   "cell_type": "code",
   "execution_count": 13,
   "metadata": {
    "colab": {},
    "colab_type": "code",
    "id": "o4m-C0k6Ga7q"
   },
   "outputs": [
    {
     "name": "stdout",
     "output_type": "stream",
     "text": [
      "Starting from checkpoint\n"
     ]
    }
   ],
   "source": [
    "if LOAD_SAVED_MODELS:\n",
    "    val_net.load_weights(CHECKPOINT_PATH)\n",
    "    print(\"Starting from checkpoint\")\n",
    "else:\n",
    "    val_net.save_weights(CHECKPOINT_PATH)\n",
    "    print(\"Initialized checkpoint and temp\")\n",
    "    \n",
    "# Sync temp with checkpoint\n",
    "val_net.save_weights(TMP_WEIGHTS_PATH)"
   ]
  },
  {
   "cell_type": "markdown",
   "metadata": {},
   "source": [
    "# Policies"
   ]
  },
  {
   "cell_type": "code",
   "execution_count": 14,
   "metadata": {},
   "outputs": [],
   "source": [
    "temp_policy_args = {\n",
    "    'name': 'temp',\n",
    "    'mode': 'values',\n",
    "    'board_size': BOARD_SIZE,\n",
    "    'model_path': TMP_WEIGHTS_PATH,\n",
    "}"
   ]
  },
  {
   "cell_type": "code",
   "execution_count": 15,
   "metadata": {},
   "outputs": [],
   "source": [
    "checkpoint_policy_args = {\n",
    "    'name': 'checkpoint',\n",
    "    'mode': 'values',\n",
    "    'board_size': BOARD_SIZE,\n",
    "    'model_path': CHECKPOINT_PATH,\n",
    "}"
   ]
  },
  {
   "cell_type": "code",
   "execution_count": 16,
   "metadata": {},
   "outputs": [],
   "source": [
    "random_policy_args = {\n",
    "    'name': 'random',\n",
    "    'mode': 'random',\n",
    "    'board_size': BOARD_SIZE,\n",
    "}"
   ]
  },
  {
   "cell_type": "code",
   "execution_count": 17,
   "metadata": {},
   "outputs": [],
   "source": [
    "greedy_policy_args = {\n",
    "    'name': 'greedy',\n",
    "    'mode': 'greedy',\n",
    "    'board_size': BOARD_SIZE,\n",
    "}"
   ]
  },
  {
   "cell_type": "markdown",
   "metadata": {
    "colab_type": "text",
    "id": "nVCEKWx_Ga7r"
   },
   "source": [
    "# Demo and Time Games"
   ]
  },
  {
   "cell_type": "markdown",
   "metadata": {
    "colab_type": "text",
    "id": "YSQ1RFHuGa7r"
   },
   "source": [
    "Symmetries"
   ]
  },
  {
   "cell_type": "code",
   "execution_count": 18,
   "metadata": {
    "colab": {},
    "colab_type": "code",
    "id": "98jmZoKvwJRv"
   },
   "outputs": [
    {
     "name": "stdout",
     "output_type": "stream",
     "text": [
      "CPU times: user 120 ms, sys: 6.51 ms, total: 127 ms\n",
      "Wall time: 133 ms\n"
     ]
    }
   ],
   "source": [
    "%%time\n",
    "go_env.reset()\n",
    "action = (1, 2)\n",
    "next_state, _, _, _ = go_env.step(action)\n",
    "metrics.plot_symmetries(next_state, 'logs/symmetries.jpg')"
   ]
  },
  {
   "cell_type": "markdown",
   "metadata": {},
   "source": [
    "With replay memory"
   ]
  },
  {
   "cell_type": "code",
   "execution_count": 19,
   "metadata": {},
   "outputs": [
    {
     "name": "stderr",
     "output_type": "stream",
     "text": [
      "Episode worker: 1it [00:01,  1.27s/it]\n",
      "temp vs. temp: 100%|██████████| 1/1 [00:00<00:00, 992.26it/s, 100.0% WIN]"
     ]
    },
    {
     "name": "stdout",
     "output_type": "stream",
     "text": [
      "CPU times: user 1.66 s, sys: 105 ms, total: 1.77 s\n",
      "Wall time: 1.54 s\n"
     ]
    },
    {
     "name": "stderr",
     "output_type": "stream",
     "text": [
      "\n"
     ]
    },
    {
     "data": {
      "text/plain": [
       "1.0"
      ]
     },
     "execution_count": 19,
     "metadata": {},
     "output_type": "execute_result"
    }
   ],
   "source": [
    "%%time\n",
    "data.make_episodes(temp_policy_args, temp_policy_args, 1, num_workers=1, \n",
    "                   outdir=EPISODES_DIR)"
   ]
  },
  {
   "cell_type": "raw",
   "metadata": {
    "colab": {},
    "colab_type": "code",
    "id": "ZrTjrYjBGa7u"
   },
   "source": [
    "%%time\n",
    "fig = metrics.gen_traj_fig(go_env, temp_policy_args)\n",
    "fig.savefig(DEMO_TRAJECTORY_PATH)\n",
    "plt.close()"
   ]
  },
  {
   "cell_type": "markdown",
   "metadata": {
    "colab_type": "text",
    "id": "qNBj_gKPwJR_"
   },
   "source": [
    "# Train"
   ]
  },
  {
   "cell_type": "code",
   "execution_count": null,
   "metadata": {
    "colab": {
     "base_uri": "https://localhost:8080/",
     "height": 1000
    },
    "colab_type": "code",
    "id": "LT1PUXyXwJR_",
    "outputId": "100dda95-316e-457c-b1f3-c8bf82243c52",
    "scrolled": true
   },
   "outputs": [
    {
     "name": "stderr",
     "output_type": "stream",
     "text": [
      "temp vs. temp: 100%|██████████| 128/128 [00:46<00:00,  2.75it/s, 45.3% WIN]\n",
      "Updating: 100%|██████████| 154/154 [00:06<00:00, 23.90it/s, 79.4% ACC, 0.537VL]\n",
      "temp vs. checkpoint: 100%|██████████| 32/32 [00:13<00:00,  2.40it/s, 21.9% WIN]\n"
     ]
    },
    {
     "name": "stdout",
     "output_type": "stream",
     "text": [
      "21.9%O Rejected new model\n"
     ]
    },
    {
     "name": "stderr",
     "output_type": "stream",
     "text": [
      "\r",
      "temp vs. temp:   0%|          | 0/128 [00:00<?, ?it/s]"
     ]
    }
   ],
   "source": [
    "for iteration in range(ITERATIONS):\n",
    "    # Optimization\n",
    "    \n",
    "    # Make and write out the episode data\n",
    "    data.make_episodes(temp_policy_args, temp_policy_args, EPISODES_PER_ITERATION, \n",
    "                       num_workers=NUM_WORKERS, outdir=EPISODES_DIR)\n",
    "    # Read in the episode data\n",
    "    np_data = data.episodes_from_dir(EPISODES_DIR)\n",
    "    batched_np_data = [np.array_split(datum, len(np_data[0]) // BATCH_SIZE) for datum in np_data]\n",
    "    batched_mem = list(zip(*batched_np_data))\n",
    "\n",
    "    # Optimize\n",
    "    value_model.optimize_val_net(temp_policy_args, batched_mem, LEARNING_RATE)\n",
    "    \n",
    "    # Evaluate against checkpoint model and other baselines\n",
    "    opp_win_rate = data.make_episodes(temp_policy_args, checkpoint_policy_args, \n",
    "                                      NUM_EVAL_GAMES, num_workers=NUM_WORKERS)\n",
    "\n",
    "    stats = f\"{100*opp_win_rate:.1f}%O\"\n",
    "\n",
    "    # If it's better than the checkpoint, update\n",
    "    if opp_win_rate > 0.6:\n",
    "        shutil.copy(TMP_WEIGHTS_PATH, CHECKPOINT_PATH)\n",
    "        print(f\"{stats} Accepted new model\")\n",
    "        rand_win_rate = data.make_episodes(temp_policy_args, random_policy_args, \n",
    "                                       NUM_EVAL_GAMES, num_workers=NUM_WORKERS)\n",
    "        greed_win_rate = data.make_episodes(temp_policy_args, greedy_policy_args, \n",
    "                                        NUM_EVAL_GAMES, num_workers=NUM_WORKERS)\n",
    "        print(f\"{100*greed_win_rate:.1f}%G {100*rand_win_rate:.1f}%R\")\n",
    "\n",
    "        # Plot samples of states and response heatmaps\n",
    "        fig = metrics.gen_traj_fig(go_env, temp_policy_args)\n",
    "        fig.savefig(DEMO_TRAJECTORY_PATH)\n",
    "        plt.close()\n",
    "\n",
    "    elif opp_win_rate >= 0.5:\n",
    "        print(f\"{stats} Continuing to train current weights\")\n",
    "\n",
    "    else:\n",
    "        shutil.copy(CHECKPOINT_PATH, TMP_WEIGHTS_PATH)\n",
    "        print(f\"{stats} Rejected new model\")"
   ]
  },
  {
   "cell_type": "markdown",
   "metadata": {
    "colab_type": "text",
    "id": "NyMNxMAWwJR_"
   },
   "source": [
    "# Evaluate"
   ]
  },
  {
   "cell_type": "markdown",
   "metadata": {
    "colab_type": "text",
    "id": "Moy9uJ6fGa7z"
   },
   "source": [
    "Play against our AI"
   ]
  },
  {
   "cell_type": "code",
   "execution_count": null,
   "metadata": {},
   "outputs": [],
   "source": [
    "human_policy_args = {\n",
    "    'mode': 'human',\n",
    "    'board_size': BOARD_SIZE,\n",
    "}"
   ]
  },
  {
   "cell_type": "code",
   "execution_count": null,
   "metadata": {
    "colab": {},
    "colab_type": "code",
    "id": "97j_uYY9wJSA",
    "scrolled": true
   },
   "outputs": [],
   "source": [
    "data.make_episodes(checkpoint_policy_args, human_policy_args, 1, num_workers=1)"
   ]
  },
  {
   "cell_type": "code",
   "execution_count": null,
   "metadata": {
    "colab": {},
    "colab_type": "code",
    "id": "emKESg3hGa71"
   },
   "outputs": [],
   "source": []
  }
 ],
 "metadata": {
  "accelerator": "GPU",
  "colab": {
   "collapsed_sections": [],
   "name": "Copy of go_ai.ipynb",
   "provenance": []
  },
  "kernelspec": {
   "display_name": "Python 3",
   "language": "python",
   "name": "python3"
  },
  "language_info": {
   "codemirror_mode": {
    "name": "ipython",
    "version": 3
   },
   "file_extension": ".py",
   "mimetype": "text/x-python",
   "name": "python",
   "nbconvert_exporter": "python",
   "pygments_lexer": "ipython3",
   "version": "3.7.4"
  },
  "widgets": {
   "application/vnd.jupyter.widget-state+json": {
    "state": {},
    "version_major": 2,
    "version_minor": 0
   }
  }
 },
 "nbformat": 4,
 "nbformat_minor": 1
}
