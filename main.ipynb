{
 "cells": [
  {
   "cell_type": "code",
   "execution_count": 1,
   "metadata": {
    "colab": {},
    "colab_type": "code",
    "id": "88zLHqvDwJRj"
   },
   "outputs": [],
   "source": [
    "import tensorflow as tf\n",
    "import numpy as np\n",
    "import gym\n",
    "from go_ai import data, metrics, policies\n",
    "from go_ai.models import value_model\n",
    "import matplotlib.pyplot as plt\n",
    "import shutil\n",
    "import multiprocessing as mp"
   ]
  },
  {
   "cell_type": "markdown",
   "metadata": {
    "colab_type": "text",
    "id": "TfY-_1_5wJR5"
   },
   "source": [
    "# Hyperparameters"
   ]
  },
  {
   "cell_type": "code",
   "execution_count": 2,
   "metadata": {
    "colab": {},
    "colab_type": "code",
    "id": "-Ju4HYnKwJRq"
   },
   "outputs": [],
   "source": [
    "BOARD_SIZE = 9"
   ]
  },
  {
   "cell_type": "code",
   "execution_count": 25,
   "metadata": {
    "colab": {},
    "colab_type": "code",
    "id": "DX04C6TbwJR5"
   },
   "outputs": [],
   "source": [
    "ITERATIONS = 256\n",
    "EPISODES_PER_ITERATION = 128\n",
    "NUM_EVAL_GAMES = 32"
   ]
  },
  {
   "cell_type": "code",
   "execution_count": 4,
   "metadata": {},
   "outputs": [],
   "source": [
    "EPISODES_DIR = './data/'"
   ]
  },
  {
   "cell_type": "code",
   "execution_count": 5,
   "metadata": {
    "colab": {},
    "colab_type": "code",
    "id": "I8pWCj8jGa7Y"
   },
   "outputs": [],
   "source": [
    "BATCH_SIZE = 32\n",
    "LEARNING_RATE = 2e-3"
   ]
  },
  {
   "cell_type": "code",
   "execution_count": 6,
   "metadata": {
    "colab": {},
    "colab_type": "code",
    "id": "TfJcqNeEGa7b"
   },
   "outputs": [],
   "source": [
    "WEIGHTS_DIR = 'model_weights/'\n",
    "CHECKPOINT_PATH = WEIGHTS_DIR + 'checkpoint_{}x{}.h5'.format(BOARD_SIZE, BOARD_SIZE)\n",
    "TMP_WEIGHTS_PATH = WEIGHTS_DIR + 'tmp.h5'\n",
    "LOAD_SAVED_MODELS = False"
   ]
  },
  {
   "cell_type": "code",
   "execution_count": 7,
   "metadata": {},
   "outputs": [],
   "source": [
    "NUM_WORKERS = mp.cpu_count()"
   ]
  },
  {
   "cell_type": "markdown",
   "metadata": {
    "colab_type": "text",
    "id": "szyALIMpwJRo"
   },
   "source": [
    "# Go Environment\n",
    "Train on a small board for fast training and efficient debugging"
   ]
  },
  {
   "cell_type": "code",
   "execution_count": 8,
   "metadata": {
    "colab": {},
    "colab_type": "code",
    "id": "E4w7gMrfwJRp"
   },
   "outputs": [],
   "source": [
    "go_env = gym.make('gym_go:go-v0', size=BOARD_SIZE)"
   ]
  },
  {
   "cell_type": "markdown",
   "metadata": {
    "colab_type": "text",
    "id": "nbI1xPoVGa7e"
   },
   "source": [
    "# Metrics and Tensorboard"
   ]
  },
  {
   "cell_type": "code",
   "execution_count": 9,
   "metadata": {},
   "outputs": [],
   "source": [
    "DEMO_TRAJECTORY_PATH = 'logs/a_trajectory.png'"
   ]
  },
  {
   "cell_type": "markdown",
   "metadata": {
    "colab_type": "text",
    "id": "zuHFwINdGa7g"
   },
   "source": [
    "Metrics"
   ]
  },
  {
   "cell_type": "code",
   "execution_count": 10,
   "metadata": {
    "colab": {},
    "colab_type": "code",
    "id": "I4hPKfRaGa7g"
   },
   "outputs": [],
   "source": [
    "tb_metrics = {}\n",
    "for metric_key in ['val_loss', 'move_loss']:\n",
    "    tb_metrics[metric_key] = tf.keras.metrics.Mean('{}'.format(metric_key), \n",
    "                                                   dtype=tf.float32)\n",
    "tb_metrics['pred_win_acc'] = tf.keras.metrics.Accuracy()"
   ]
  },
  {
   "cell_type": "markdown",
   "metadata": {
    "colab_type": "text",
    "id": "CNKtplyZGa7h"
   },
   "source": [
    "Tensorboard"
   ]
  },
  {
   "cell_type": "markdown",
   "metadata": {
    "colab_type": "text",
    "id": "g7ZoRfzIwJRr"
   },
   "source": [
    "# Machine Learning Models"
   ]
  },
  {
   "cell_type": "code",
   "execution_count": 11,
   "metadata": {
    "colab": {},
    "colab_type": "code",
    "id": "0VDp7tLiGa7j",
    "scrolled": false
   },
   "outputs": [],
   "source": [
    "val_net = value_model.make_val_net(BOARD_SIZE)"
   ]
  },
  {
   "cell_type": "code",
   "execution_count": 12,
   "metadata": {
    "colab": {},
    "colab_type": "code",
    "id": "_x7SlLhZGa7l",
    "scrolled": true
   },
   "outputs": [
    {
     "name": "stdout",
     "output_type": "stream",
     "text": [
      "Failed to import pydot. You must install pydot and graphviz for `pydotprint` to work.\n"
     ]
    }
   ],
   "source": [
    "_ = tf.keras.utils.plot_model(val_net, to_file='logs/model.png')"
   ]
  },
  {
   "cell_type": "code",
   "execution_count": 13,
   "metadata": {
    "colab": {
     "base_uri": "https://localhost:8080/",
     "height": 952
    },
    "colab_type": "code",
    "id": "1FsLyPsAGa7m",
    "outputId": "6786c8ef-0958-4c82-d4ac-40cb4ceebb3a",
    "scrolled": true
   },
   "outputs": [
    {
     "name": "stdout",
     "output_type": "stream",
     "text": [
      "Model: \"sequential\"\n",
      "_________________________________________________________________\n",
      "Layer (type)                 Output Shape              Param #   \n",
      "=================================================================\n",
      "conv2d (Conv2D)              (None, 9, 9, 128)         7040      \n",
      "_________________________________________________________________\n",
      "batch_normalization (BatchNo (None, 9, 9, 128)         512       \n",
      "_________________________________________________________________\n",
      "re_lu (ReLU)                 (None, 9, 9, 128)         0         \n",
      "_________________________________________________________________\n",
      "conv2d_1 (Conv2D)            (None, 9, 9, 128)         147584    \n",
      "_________________________________________________________________\n",
      "batch_normalization_1 (Batch (None, 9, 9, 128)         512       \n",
      "_________________________________________________________________\n",
      "re_lu_1 (ReLU)               (None, 9, 9, 128)         0         \n",
      "_________________________________________________________________\n",
      "conv2d_2 (Conv2D)            (None, 9, 9, 64)          73792     \n",
      "_________________________________________________________________\n",
      "batch_normalization_2 (Batch (None, 9, 9, 64)          256       \n",
      "_________________________________________________________________\n",
      "re_lu_2 (ReLU)               (None, 9, 9, 64)          0         \n",
      "_________________________________________________________________\n",
      "conv2d_3 (Conv2D)            (None, 9, 9, 8)           4616      \n",
      "_________________________________________________________________\n",
      "batch_normalization_3 (Batch (None, 9, 9, 8)           32        \n",
      "_________________________________________________________________\n",
      "re_lu_3 (ReLU)               (None, 9, 9, 8)           0         \n",
      "_________________________________________________________________\n",
      "flatten (Flatten)            (None, 648)               0         \n",
      "_________________________________________________________________\n",
      "dense (Dense)                (None, 256)               166144    \n",
      "_________________________________________________________________\n",
      "batch_normalization_4 (Batch (None, 256)               1024      \n",
      "_________________________________________________________________\n",
      "re_lu_4 (ReLU)               (None, 256)               0         \n",
      "_________________________________________________________________\n",
      "value (Dense)                (None, 1)                 257       \n",
      "=================================================================\n",
      "Total params: 401,769\n",
      "Trainable params: 400,601\n",
      "Non-trainable params: 1,168\n",
      "_________________________________________________________________\n"
     ]
    }
   ],
   "source": [
    "val_net.summary()"
   ]
  },
  {
   "cell_type": "code",
   "execution_count": 14,
   "metadata": {
    "colab": {},
    "colab_type": "code",
    "id": "o4m-C0k6Ga7q"
   },
   "outputs": [
    {
     "name": "stdout",
     "output_type": "stream",
     "text": [
      "Initialized checkpoint and temp\n"
     ]
    }
   ],
   "source": [
    "if LOAD_SAVED_MODELS:\n",
    "    val_net.load_weights(CHECKPOINT_PATH)\n",
    "    print(\"Starting from checkpoint\")\n",
    "else:\n",
    "    val_net.save_weights(CHECKPOINT_PATH)\n",
    "    print(\"Initialized checkpoint and temp\")\n",
    "    \n",
    "# Sync temp with checkpoint\n",
    "val_net.save_weights(TMP_WEIGHTS_PATH)"
   ]
  },
  {
   "cell_type": "markdown",
   "metadata": {},
   "source": [
    "# Policies"
   ]
  },
  {
   "cell_type": "code",
   "execution_count": 15,
   "metadata": {},
   "outputs": [],
   "source": [
    "temp_policy_args = {\n",
    "    'mode': 'values',\n",
    "    'board_size': BOARD_SIZE,\n",
    "    'model_path': TMP_WEIGHTS_PATH,\n",
    "}"
   ]
  },
  {
   "cell_type": "code",
   "execution_count": 16,
   "metadata": {},
   "outputs": [],
   "source": [
    "checkpoint_policy_args = {\n",
    "    'mode': 'values',\n",
    "    'board_size': BOARD_SIZE,\n",
    "    'model_path': CHECKPOINT_PATH,\n",
    "}"
   ]
  },
  {
   "cell_type": "code",
   "execution_count": 17,
   "metadata": {},
   "outputs": [],
   "source": [
    "random_policy_args = {\n",
    "    'mode': 'random',\n",
    "    'board_size': BOARD_SIZE,\n",
    "}"
   ]
  },
  {
   "cell_type": "code",
   "execution_count": 18,
   "metadata": {},
   "outputs": [],
   "source": [
    "greedy_policy_args = {\n",
    "    'mode': 'greedy',\n",
    "    'board_size': BOARD_SIZE,\n",
    "}"
   ]
  },
  {
   "cell_type": "markdown",
   "metadata": {
    "colab_type": "text",
    "id": "nVCEKWx_Ga7r"
   },
   "source": [
    "# Demo and Time Games"
   ]
  },
  {
   "cell_type": "markdown",
   "metadata": {
    "colab_type": "text",
    "id": "YSQ1RFHuGa7r"
   },
   "source": [
    "Symmetries"
   ]
  },
  {
   "cell_type": "code",
   "execution_count": 19,
   "metadata": {
    "colab": {},
    "colab_type": "code",
    "id": "98jmZoKvwJRv"
   },
   "outputs": [
    {
     "name": "stdout",
     "output_type": "stream",
     "text": [
      "CPU times: user 125 ms, sys: 6.69 ms, total: 132 ms\n",
      "Wall time: 131 ms\n"
     ]
    }
   ],
   "source": [
    "%%time\n",
    "go_env.reset()\n",
    "action = (1, 2)\n",
    "next_state, _, _, _ = go_env.step(action)\n",
    "metrics.plot_symmetries(next_state, 'logs/symmetries.jpg')"
   ]
  },
  {
   "cell_type": "markdown",
   "metadata": {},
   "source": [
    "With replay memory"
   ]
  },
  {
   "cell_type": "code",
   "execution_count": 21,
   "metadata": {},
   "outputs": [
    {
     "name": "stderr",
     "output_type": "stream",
     "text": [
      "Episode worker: 1it [00:17, 17.57s/it]\n",
      "values vs. values: 100%|██████████| 1/1 [00:00<00:00, 984.58it/s, 100.0% WIN]"
     ]
    },
    {
     "name": "stdout",
     "output_type": "stream",
     "text": [
      "CPU times: user 21.7 s, sys: 2.43 s, total: 24.1 s\n",
      "Wall time: 17.8 s\n"
     ]
    },
    {
     "name": "stderr",
     "output_type": "stream",
     "text": [
      "\n"
     ]
    },
    {
     "data": {
      "text/plain": [
       "1.0"
      ]
     },
     "execution_count": 21,
     "metadata": {},
     "output_type": "execute_result"
    }
   ],
   "source": [
    "%%time\n",
    "data.make_episodes(temp_policy_args, temp_policy_args, 1, num_workers=1, \n",
    "                   outdir=EPISODES_DIR)"
   ]
  },
  {
   "cell_type": "raw",
   "metadata": {
    "colab": {},
    "colab_type": "code",
    "id": "ZrTjrYjBGa7u"
   },
   "source": [
    "%%time\n",
    "fig = metrics.gen_traj_fig(go_env, temp_policy_args)\n",
    "fig.savefig(DEMO_TRAJECTORY_PATH)\n",
    "plt.close()"
   ]
  },
  {
   "cell_type": "markdown",
   "metadata": {
    "colab_type": "text",
    "id": "qNBj_gKPwJR_"
   },
   "source": [
    "# Train"
   ]
  },
  {
   "cell_type": "code",
   "execution_count": 26,
   "metadata": {
    "colab": {
     "base_uri": "https://localhost:8080/",
     "height": 1000
    },
    "colab_type": "code",
    "id": "LT1PUXyXwJR_",
    "outputId": "100dda95-316e-457c-b1f3-c8bf82243c52",
    "scrolled": false
   },
   "outputs": [
    {
     "name": "stderr",
     "output_type": "stream",
     "text": [
      "values vs. values: 100%|██████████| 128/128 [15:14<00:00,  7.14s/it, 46.9% WIN]\n",
      "Updating: 100%|██████████| 500/500 [00:34<00:00, 14.50it/s, 64.3% ACC, 0.941VL]\n",
      "values vs. random: 100%|██████████| 32/32 [01:42<00:00,  3.20s/it, 84.4% WIN]\n",
      "values vs. values: 100%|██████████| 32/32 [04:52<00:00,  9.15s/it, 53.1% WIN]\n"
     ]
    },
    {
     "name": "stdout",
     "output_type": "stream",
     "text": [
      "53.1%O, 84.4%R Continuing to train current weights\n"
     ]
    },
    {
     "name": "stderr",
     "output_type": "stream",
     "text": [
      "values vs. values: 100%|██████████| 128/128 [20:20<00:00,  9.54s/it, 55.9% WIN] \n",
      "Updating: 100%|██████████| 579/579 [00:40<00:00, 14.20it/s, 70.1% ACC, 0.710VL]\n",
      "values vs. random: 100%|██████████| 32/32 [02:00<00:00,  3.75s/it, 96.9% WIN]\n",
      "values vs. values: 100%|██████████| 32/32 [04:56<00:00,  9.26s/it, 75.0% WIN]\n"
     ]
    },
    {
     "name": "stdout",
     "output_type": "stream",
     "text": [
      "75.0%O, 96.9%R Accepted new model\n"
     ]
    },
    {
     "name": "stderr",
     "output_type": "stream",
     "text": [
      "values vs. greedy: 100%|██████████| 32/32 [04:28<00:00,  8.39s/it, 12.5% WIN]\n",
      "values vs. values: 100%|██████████| 128/128 [18:32<00:00,  8.69s/it, 51.2% WIN] \n",
      "Updating: 100%|██████████| 458/458 [00:32<00:00, 14.15it/s, 79.5% ACC, 0.454VL]\n",
      "values vs. random: 100%|██████████| 32/32 [02:04<00:00,  3.89s/it, 96.9% WIN] \n",
      "values vs. values: 100%|██████████| 32/32 [04:40<00:00,  8.77s/it, 59.4% WIN]\n"
     ]
    },
    {
     "name": "stdout",
     "output_type": "stream",
     "text": [
      "59.4%O, 96.9%R Continuing to train current weights\n"
     ]
    },
    {
     "name": "stderr",
     "output_type": "stream",
     "text": [
      "values vs. values: 100%|██████████| 128/128 [13:23<00:00,  6.28s/it, 53.9% WIN] \n",
      "Updating: 100%|██████████| 334/334 [00:23<00:00, 14.10it/s, 65.2% ACC, 0.831VL]\n",
      "values vs. random: 100%|██████████| 32/32 [01:44<00:00,  3.26s/it, 100.0% WIN]\n",
      "values vs. values: 100%|██████████| 32/32 [03:52<00:00,  7.26s/it, 100.0% WIN]\n"
     ]
    },
    {
     "name": "stdout",
     "output_type": "stream",
     "text": [
      "100.0%O, 100.0%R Accepted new model\n"
     ]
    },
    {
     "name": "stderr",
     "output_type": "stream",
     "text": [
      "values vs. greedy: 100%|██████████| 32/32 [03:58<00:00,  7.45s/it, 93.8% WIN]\n",
      "values vs. values: 100%|██████████| 128/128 [22:12<00:00, 10.41s/it, 47.7% WIN]\n",
      "Updating: 100%|██████████| 517/517 [00:36<00:00, 14.28it/s, 81.0% ACC, 0.493VL]\n",
      "values vs. random: 100%|██████████| 32/32 [01:39<00:00,  3.11s/it, 100.0% WIN]\n",
      "values vs. values: 100%|██████████| 32/32 [04:50<00:00,  9.08s/it, 50.0% WIN]\n"
     ]
    },
    {
     "name": "stdout",
     "output_type": "stream",
     "text": [
      "50.0%O, 100.0%R Continuing to train current weights\n"
     ]
    },
    {
     "name": "stderr",
     "output_type": "stream",
     "text": [
      "values vs. values: 100%|██████████| 128/128 [11:42<00:00,  5.49s/it, 54.3% WIN]\n",
      "Updating: 100%|██████████| 260/260 [00:18<00:00, 14.24it/s, 69.3% ACC, 0.748VL]\n",
      "values vs. random: 100%|██████████| 32/32 [01:42<00:00,  3.21s/it, 81.2% WIN]\n",
      "values vs. values: 100%|██████████| 32/32 [02:55<00:00,  5.50s/it, 14.1% WIN]\n"
     ]
    },
    {
     "name": "stdout",
     "output_type": "stream",
     "text": [
      "14.1%O, 81.2%R Rejected new model\n"
     ]
    },
    {
     "name": "stderr",
     "output_type": "stream",
     "text": [
      "values vs. values: 100%|██████████| 128/128 [21:12<00:00,  9.94s/it, 50.8% WIN]\n",
      "Updating: 100%|██████████| 493/493 [00:34<00:00, 14.09it/s, 81.9% ACC, 0.464VL]\n",
      "values vs. random: 100%|██████████| 32/32 [01:47<00:00,  3.35s/it, 100.0% WIN]\n",
      "values vs. values: 100%|██████████| 32/32 [05:48<00:00, 10.89s/it, 90.6% WIN]\n"
     ]
    },
    {
     "name": "stdout",
     "output_type": "stream",
     "text": [
      "90.6%O, 100.0%R Accepted new model\n"
     ]
    },
    {
     "name": "stderr",
     "output_type": "stream",
     "text": [
      "values vs. greedy: 100%|██████████| 32/32 [04:16<00:00,  8.00s/it, 96.9% WIN]\n",
      "values vs. values: 100%|██████████| 128/128 [21:11<00:00,  9.93s/it, 44.5% WIN]\n",
      "Updating: 100%|██████████| 552/552 [00:38<00:00, 14.36it/s, 81.8% ACC, 0.468VL]\n",
      "values vs. random: 100%|██████████| 32/32 [01:50<00:00,  3.46s/it, 96.9% WIN] \n",
      "values vs. values: 100%|██████████| 32/32 [03:29<00:00,  6.56s/it, 45.3% WIN]\n"
     ]
    },
    {
     "name": "stdout",
     "output_type": "stream",
     "text": [
      "45.3%O, 96.9%R Rejected new model\n"
     ]
    },
    {
     "name": "stderr",
     "output_type": "stream",
     "text": [
      "values vs. values: 100%|██████████| 128/128 [21:07<00:00,  9.90s/it, 48.4% WIN] \n",
      "Updating: 100%|██████████| 556/556 [00:39<00:00, 14.04it/s, 82.2% ACC, 0.450VL]\n",
      "values vs. random: 100%|██████████| 32/32 [01:35<00:00,  2.97s/it, 100.0% WIN]\n",
      "values vs. values: 100%|██████████| 32/32 [05:26<00:00, 10.19s/it, 62.5% WIN]\n"
     ]
    },
    {
     "name": "stdout",
     "output_type": "stream",
     "text": [
      "62.5%O, 100.0%R Accepted new model\n"
     ]
    },
    {
     "name": "stderr",
     "output_type": "stream",
     "text": [
      "values vs. greedy: 100%|██████████| 32/32 [04:15<00:00,  7.99s/it, 93.8% WIN] \n",
      "values vs. values: 100%|██████████| 128/128 [17:20<00:00,  8.13s/it, 49.2% WIN]\n",
      "Updating: 100%|██████████| 461/461 [00:32<00:00, 14.18it/s, 75.6% ACC, 0.663VL]\n",
      "values vs. random: 100%|██████████| 32/32 [01:49<00:00,  3.41s/it, 100.0% WIN]\n",
      "values vs. values: 100%|██████████| 32/32 [01:39<00:00,  3.12s/it, 6.2% WIN]\n"
     ]
    },
    {
     "name": "stdout",
     "output_type": "stream",
     "text": [
      "6.2%O, 100.0%R Rejected new model\n"
     ]
    },
    {
     "name": "stderr",
     "output_type": "stream",
     "text": [
      "values vs. values: 100%|██████████| 128/128 [17:40<00:00,  8.29s/it, 50.0% WIN]\n",
      "Updating: 100%|██████████| 464/464 [00:33<00:00, 13.94it/s, 75.5% ACC, 0.637VL]\n",
      "values vs. random: 100%|██████████| 32/32 [01:37<00:00,  3.04s/it, 100.0% WIN]\n",
      "values vs. values: 100%|██████████| 32/32 [04:20<00:00,  8.13s/it, 37.5% WIN]\n"
     ]
    },
    {
     "name": "stdout",
     "output_type": "stream",
     "text": [
      "37.5%O, 100.0%R Rejected new model\n"
     ]
    },
    {
     "name": "stderr",
     "output_type": "stream",
     "text": [
      "values vs. values: 100%|██████████| 128/128 [16:45<00:00,  7.85s/it, 46.9% WIN]\n",
      "Updating: 100%|██████████| 442/442 [00:31<00:00, 13.98it/s, 71.7% ACC, 0.667VL]\n",
      "values vs. random: 100%|██████████| 32/32 [02:28<00:00,  4.63s/it, 18.8% WIN]\n",
      "values vs. values: 100%|██████████| 32/32 [00:30<00:00,  1.04it/s, 3.1% WIN]\n"
     ]
    },
    {
     "name": "stdout",
     "output_type": "stream",
     "text": [
      "3.1%O, 18.8%R Rejected new model\n"
     ]
    },
    {
     "name": "stderr",
     "output_type": "stream",
     "text": [
      "values vs. values: 100%|██████████| 128/128 [17:07<00:00,  8.03s/it, 43.8% WIN]\n",
      "Updating: 100%|██████████| 449/449 [00:32<00:00, 13.96it/s, 75.1% ACC, 0.638VL]\n",
      "values vs. random: 100%|██████████| 32/32 [01:42<00:00,  3.20s/it, 93.8% WIN]\n",
      "values vs. values: 100%|██████████| 32/32 [03:06<00:00,  5.84s/it, 53.1% WIN]\n"
     ]
    },
    {
     "name": "stdout",
     "output_type": "stream",
     "text": [
      "53.1%O, 93.8%R Continuing to train current weights\n"
     ]
    },
    {
     "name": "stderr",
     "output_type": "stream",
     "text": [
      "values vs. values: 100%|██████████| 128/128 [05:02<00:00,  2.36s/it, 51.6% WIN]\n",
      "Updating: 100%|██████████| 91/91 [00:06<00:00, 13.87it/s, 69.6% ACC, 0.817VL]\n",
      "values vs. random: 100%|██████████| 32/32 [02:02<00:00,  3.83s/it, 100.0% WIN]\n",
      "values vs. values: 100%|██████████| 32/32 [03:55<00:00,  7.37s/it, 75.0% WIN]\n"
     ]
    },
    {
     "name": "stdout",
     "output_type": "stream",
     "text": [
      "75.0%O, 100.0%R Accepted new model\n"
     ]
    },
    {
     "name": "stderr",
     "output_type": "stream",
     "text": [
      "values vs. greedy: 100%|██████████| 32/32 [04:17<00:00,  8.05s/it, 100.0% WIN]\n",
      "values vs. values: 100%|██████████| 128/128 [14:26<00:00,  6.77s/it, 54.7% WIN] \n",
      "Updating: 100%|██████████| 353/353 [00:24<00:00, 14.14it/s, 78.4% ACC, 0.595VL]\n",
      "values vs. random: 100%|██████████| 32/32 [01:36<00:00,  3.03s/it, 100.0% WIN]\n",
      "values vs. values: 100%|██████████| 32/32 [03:37<00:00,  6.79s/it, 42.2% WIN]\n"
     ]
    },
    {
     "name": "stdout",
     "output_type": "stream",
     "text": [
      "42.2%O, 100.0%R Rejected new model\n"
     ]
    },
    {
     "name": "stderr",
     "output_type": "stream",
     "text": [
      "values vs. values: 100%|██████████| 128/128 [14:38<00:00,  6.87s/it, 53.1% WIN] \n",
      "Updating: 100%|██████████| 368/368 [00:26<00:00, 13.98it/s, 78.0% ACC, 0.583VL]\n",
      "values vs. random: 100%|██████████| 32/32 [02:26<00:00,  4.57s/it, 12.5% WIN]\n",
      "values vs. values: 100%|██████████| 32/32 [00:31<00:00,  1.02it/s, 3.1% WIN]\n"
     ]
    },
    {
     "name": "stdout",
     "output_type": "stream",
     "text": [
      "3.1%O, 12.5%R Rejected new model\n"
     ]
    },
    {
     "name": "stderr",
     "output_type": "stream",
     "text": [
      "values vs. values: 100%|██████████| 128/128 [14:37<00:00,  6.86s/it, 41.4% WIN]\n",
      "Updating: 100%|██████████| 360/360 [00:25<00:00, 14.11it/s, 72.5% ACC, 0.699VL]\n",
      "values vs. random: 100%|██████████| 32/32 [01:35<00:00,  3.00s/it, 100.0% WIN]\n",
      "values vs. values: 100%|██████████| 32/32 [04:12<00:00,  7.90s/it, 50.0% WIN]\n"
     ]
    },
    {
     "name": "stdout",
     "output_type": "stream",
     "text": [
      "50.0%O, 100.0%R Continuing to train current weights\n"
     ]
    },
    {
     "name": "stderr",
     "output_type": "stream",
     "text": [
      "values vs. values: 100%|██████████| 128/128 [17:20<00:00,  8.13s/it, 48.4% WIN]\n",
      "Updating: 100%|██████████| 473/473 [00:33<00:00, 14.06it/s, 80.1% ACC, 0.484VL]\n",
      "values vs. random: 100%|██████████| 32/32 [01:52<00:00,  3.52s/it, 100.0% WIN]\n",
      "values vs. values: 100%|██████████| 32/32 [04:01<00:00,  7.55s/it, 59.4% WIN]\n"
     ]
    },
    {
     "name": "stdout",
     "output_type": "stream",
     "text": [
      "59.4%O, 100.0%R Continuing to train current weights\n"
     ]
    },
    {
     "name": "stderr",
     "output_type": "stream",
     "text": [
      "values vs. values: 100%|██████████| 128/128 [14:10<00:00,  6.64s/it, 39.1% WIN] \n",
      "Updating: 100%|██████████| 321/321 [00:22<00:00, 14.18it/s, 69.7% ACC, 0.763VL]\n",
      "values vs. random: 100%|██████████| 32/32 [01:42<00:00,  3.19s/it, 100.0% WIN]\n",
      "values vs. values: 100%|██████████| 32/32 [03:59<00:00,  7.48s/it, 62.5% WIN]\n"
     ]
    },
    {
     "name": "stdout",
     "output_type": "stream",
     "text": [
      "62.5%O, 100.0%R Accepted new model\n"
     ]
    },
    {
     "name": "stderr",
     "output_type": "stream",
     "text": [
      "values vs. greedy: 100%|██████████| 32/32 [04:36<00:00,  8.63s/it, 100.0% WIN]\n",
      "values vs. values: 100%|██████████| 128/128 [12:00<00:00,  5.63s/it, 56.2% WIN]\n",
      "Updating: 100%|██████████| 260/260 [00:18<00:00, 14.00it/s, 75.8% ACC, 0.625VL]\n",
      "values vs. random: 100%|██████████| 32/32 [02:15<00:00,  4.25s/it, 100.0% WIN]\n",
      "values vs. values: 100%|██████████| 32/32 [04:22<00:00,  8.19s/it, 43.8% WIN]\n"
     ]
    },
    {
     "name": "stdout",
     "output_type": "stream",
     "text": [
      "43.8%O, 100.0%R Rejected new model\n"
     ]
    },
    {
     "name": "stderr",
     "output_type": "stream",
     "text": [
      "values vs. values: 100%|██████████| 128/128 [11:45<00:00,  5.51s/it, 52.0% WIN]\n",
      "Updating: 100%|██████████| 253/253 [00:17<00:00, 14.09it/s, 79.1% ACC, 0.559VL]\n",
      "values vs. random: 100%|██████████| 32/32 [01:46<00:00,  3.33s/it, 100.0% WIN]\n",
      "values vs. values: 100%|██████████| 32/32 [04:04<00:00,  7.63s/it, 43.8% WIN]\n"
     ]
    },
    {
     "name": "stdout",
     "output_type": "stream",
     "text": [
      "43.8%O, 100.0%R Rejected new model\n"
     ]
    },
    {
     "name": "stderr",
     "output_type": "stream",
     "text": [
      "values vs. values: 100%|██████████| 128/128 [12:35<00:00,  5.91s/it, 53.1% WIN]\n",
      "Updating: 100%|██████████| 273/273 [00:20<00:00, 13.46it/s, 69.7% ACC, 0.761VL]\n",
      "values vs. random: 100%|██████████| 32/32 [01:35<00:00,  2.98s/it, 100.0% WIN]\n",
      "values vs. values: 100%|██████████| 32/32 [04:47<00:00,  8.98s/it, 34.4% WIN]\n"
     ]
    },
    {
     "name": "stdout",
     "output_type": "stream",
     "text": [
      "34.4%O, 100.0%R Rejected new model\n"
     ]
    },
    {
     "name": "stderr",
     "output_type": "stream",
     "text": [
      "values vs. values: 100%|██████████| 128/128 [12:03<00:00,  5.65s/it, 59.4% WIN]\n",
      "Updating: 100%|██████████| 254/254 [00:18<00:00, 13.99it/s, 78.7% ACC, 0.605VL]\n",
      "values vs. random: 100%|██████████| 32/32 [01:58<00:00,  3.70s/it, 100.0% WIN]\n",
      "values vs. values: 100%|██████████| 32/32 [03:31<00:00,  6.61s/it, 75.0% WIN]\n"
     ]
    },
    {
     "name": "stdout",
     "output_type": "stream",
     "text": [
      "75.0%O, 100.0%R Accepted new model\n"
     ]
    },
    {
     "name": "stderr",
     "output_type": "stream",
     "text": [
      "values vs. greedy: 100%|██████████| 32/32 [04:15<00:00,  8.00s/it, 100.0% WIN]\n",
      "values vs. values: 100%|██████████| 128/128 [17:47<00:00,  8.34s/it, 47.7% WIN] \n",
      "Updating: 100%|██████████| 475/475 [00:34<00:00, 13.79it/s, 78.4% ACC, 0.551VL]\n",
      "values vs. random: 100%|██████████| 32/32 [01:36<00:00,  3.01s/it, 100.0% WIN]\n",
      "values vs. values: 100%|██████████| 32/32 [03:23<00:00,  6.37s/it, 6.2% WIN]\n"
     ]
    },
    {
     "name": "stdout",
     "output_type": "stream",
     "text": [
      "6.2%O, 100.0%R Rejected new model\n"
     ]
    },
    {
     "name": "stderr",
     "output_type": "stream",
     "text": [
      "values vs. values: 100%|██████████| 128/128 [18:15<00:00,  8.56s/it, 53.9% WIN]\n",
      "Updating: 100%|██████████| 482/482 [00:33<00:00, 14.24it/s, 76.6% ACC, 0.600VL]\n",
      "values vs. random: 100%|██████████| 32/32 [01:43<00:00,  3.24s/it, 100.0% WIN]\n",
      "values vs. values: 100%|██████████| 32/32 [05:06<00:00,  9.59s/it, 43.8% WIN]\n"
     ]
    },
    {
     "name": "stdout",
     "output_type": "stream",
     "text": [
      "43.8%O, 100.0%R Rejected new model\n"
     ]
    },
    {
     "name": "stderr",
     "output_type": "stream",
     "text": [
      "\r",
      "values vs. values:   0%|          | 0/128 [00:00<?, ?it/s]"
     ]
    },
    {
     "ename": "KeyboardInterrupt",
     "evalue": "",
     "output_type": "error",
     "traceback": [
      "\u001b[0;31m---------------------------------------------------------------------------\u001b[0m",
      "\u001b[0;31mKeyboardInterrupt\u001b[0m                         Traceback (most recent call last)",
      "\u001b[0;32m<ipython-input-26-2dd67ff8a9fd>\u001b[0m in \u001b[0;36m<module>\u001b[0;34m\u001b[0m\n\u001b[1;32m      4\u001b[0m     \u001b[0;31m# Make and write out the episode data\u001b[0m\u001b[0;34m\u001b[0m\u001b[0;34m\u001b[0m\u001b[0;34m\u001b[0m\u001b[0m\n\u001b[1;32m      5\u001b[0m     data.make_episodes(temp_policy_args, temp_policy_args, EPISODES_PER_ITERATION, \n\u001b[0;32m----> 6\u001b[0;31m                        num_workers=NUM_WORKERS, outdir=EPISODES_DIR)\n\u001b[0m\u001b[1;32m      7\u001b[0m     \u001b[0;31m# Read in the episode data\u001b[0m\u001b[0;34m\u001b[0m\u001b[0;34m\u001b[0m\u001b[0;34m\u001b[0m\u001b[0m\n\u001b[1;32m      8\u001b[0m     \u001b[0mnp_data\u001b[0m \u001b[0;34m=\u001b[0m \u001b[0mdata\u001b[0m\u001b[0;34m.\u001b[0m\u001b[0mepisodes_from_dir\u001b[0m\u001b[0;34m(\u001b[0m\u001b[0mEPISODES_DIR\u001b[0m\u001b[0;34m)\u001b[0m\u001b[0;34m\u001b[0m\u001b[0;34m\u001b[0m\u001b[0m\n",
      "\u001b[0;32m~/projects/Go-AI/go_ai/data.py\u001b[0m in \u001b[0;36mmake_episodes\u001b[0;34m(first_policy_args, second_policy_args, episodes, num_workers, outdir)\u001b[0m\n\u001b[1;32m    292\u001b[0m     \u001b[0mpbar\u001b[0m \u001b[0;34m=\u001b[0m \u001b[0mtqdm\u001b[0m\u001b[0;34m(\u001b[0m\u001b[0mrange\u001b[0m\u001b[0;34m(\u001b[0m\u001b[0mepisodes\u001b[0m\u001b[0;34m)\u001b[0m\u001b[0;34m,\u001b[0m \u001b[0mdesc\u001b[0m\u001b[0;34m=\u001b[0m\u001b[0;34mf\"{first_policy_args['mode']} vs. {second_policy_args['mode']}\"\u001b[0m\u001b[0;34m)\u001b[0m\u001b[0;34m\u001b[0m\u001b[0;34m\u001b[0m\u001b[0m\n\u001b[1;32m    293\u001b[0m     \u001b[0;32mfor\u001b[0m \u001b[0m_\u001b[0m \u001b[0;32min\u001b[0m \u001b[0mpbar\u001b[0m\u001b[0;34m:\u001b[0m\u001b[0;34m\u001b[0m\u001b[0;34m\u001b[0m\u001b[0m\n\u001b[0;32m--> 294\u001b[0;31m         \u001b[0mfirst_policy_won\u001b[0m \u001b[0;34m=\u001b[0m \u001b[0mfirst_policy_won_queue\u001b[0m\u001b[0;34m.\u001b[0m\u001b[0mget\u001b[0m\u001b[0;34m(\u001b[0m\u001b[0;34m)\u001b[0m\u001b[0;34m\u001b[0m\u001b[0;34m\u001b[0m\u001b[0m\n\u001b[0m\u001b[1;32m    295\u001b[0m         \u001b[0mwins\u001b[0m\u001b[0;34m.\u001b[0m\u001b[0mappend\u001b[0m\u001b[0;34m(\u001b[0m\u001b[0mfirst_policy_won\u001b[0m\u001b[0;34m)\u001b[0m\u001b[0;34m\u001b[0m\u001b[0;34m\u001b[0m\u001b[0m\n\u001b[1;32m    296\u001b[0m         \u001b[0mpbar\u001b[0m\u001b[0;34m.\u001b[0m\u001b[0mset_postfix_str\u001b[0m\u001b[0;34m(\u001b[0m\u001b[0;34m'{:.1f}% WIN'\u001b[0m\u001b[0;34m.\u001b[0m\u001b[0mformat\u001b[0m\u001b[0;34m(\u001b[0m\u001b[0;36m100\u001b[0m \u001b[0;34m*\u001b[0m \u001b[0mnp\u001b[0m\u001b[0;34m.\u001b[0m\u001b[0mmean\u001b[0m\u001b[0;34m(\u001b[0m\u001b[0mwins\u001b[0m\u001b[0;34m)\u001b[0m\u001b[0;34m)\u001b[0m\u001b[0;34m)\u001b[0m\u001b[0;34m\u001b[0m\u001b[0;34m\u001b[0m\u001b[0m\n",
      "\u001b[0;32m/usr/local/Cellar/python/3.7.4_1/Frameworks/Python.framework/Versions/3.7/lib/python3.7/multiprocessing/queues.py\u001b[0m in \u001b[0;36mget\u001b[0;34m(self, block, timeout)\u001b[0m\n\u001b[1;32m     92\u001b[0m         \u001b[0;32mif\u001b[0m \u001b[0mblock\u001b[0m \u001b[0;32mand\u001b[0m \u001b[0mtimeout\u001b[0m \u001b[0;32mis\u001b[0m \u001b[0;32mNone\u001b[0m\u001b[0;34m:\u001b[0m\u001b[0;34m\u001b[0m\u001b[0;34m\u001b[0m\u001b[0m\n\u001b[1;32m     93\u001b[0m             \u001b[0;32mwith\u001b[0m \u001b[0mself\u001b[0m\u001b[0;34m.\u001b[0m\u001b[0m_rlock\u001b[0m\u001b[0;34m:\u001b[0m\u001b[0;34m\u001b[0m\u001b[0;34m\u001b[0m\u001b[0m\n\u001b[0;32m---> 94\u001b[0;31m                 \u001b[0mres\u001b[0m \u001b[0;34m=\u001b[0m \u001b[0mself\u001b[0m\u001b[0;34m.\u001b[0m\u001b[0m_recv_bytes\u001b[0m\u001b[0;34m(\u001b[0m\u001b[0;34m)\u001b[0m\u001b[0;34m\u001b[0m\u001b[0;34m\u001b[0m\u001b[0m\n\u001b[0m\u001b[1;32m     95\u001b[0m             \u001b[0mself\u001b[0m\u001b[0;34m.\u001b[0m\u001b[0m_sem\u001b[0m\u001b[0;34m.\u001b[0m\u001b[0mrelease\u001b[0m\u001b[0;34m(\u001b[0m\u001b[0;34m)\u001b[0m\u001b[0;34m\u001b[0m\u001b[0;34m\u001b[0m\u001b[0m\n\u001b[1;32m     96\u001b[0m         \u001b[0;32melse\u001b[0m\u001b[0;34m:\u001b[0m\u001b[0;34m\u001b[0m\u001b[0;34m\u001b[0m\u001b[0m\n",
      "\u001b[0;32m/usr/local/Cellar/python/3.7.4_1/Frameworks/Python.framework/Versions/3.7/lib/python3.7/multiprocessing/connection.py\u001b[0m in \u001b[0;36mrecv_bytes\u001b[0;34m(self, maxlength)\u001b[0m\n\u001b[1;32m    214\u001b[0m         \u001b[0;32mif\u001b[0m \u001b[0mmaxlength\u001b[0m \u001b[0;32mis\u001b[0m \u001b[0;32mnot\u001b[0m \u001b[0;32mNone\u001b[0m \u001b[0;32mand\u001b[0m \u001b[0mmaxlength\u001b[0m \u001b[0;34m<\u001b[0m \u001b[0;36m0\u001b[0m\u001b[0;34m:\u001b[0m\u001b[0;34m\u001b[0m\u001b[0;34m\u001b[0m\u001b[0m\n\u001b[1;32m    215\u001b[0m             \u001b[0;32mraise\u001b[0m \u001b[0mValueError\u001b[0m\u001b[0;34m(\u001b[0m\u001b[0;34m\"negative maxlength\"\u001b[0m\u001b[0;34m)\u001b[0m\u001b[0;34m\u001b[0m\u001b[0;34m\u001b[0m\u001b[0m\n\u001b[0;32m--> 216\u001b[0;31m         \u001b[0mbuf\u001b[0m \u001b[0;34m=\u001b[0m \u001b[0mself\u001b[0m\u001b[0;34m.\u001b[0m\u001b[0m_recv_bytes\u001b[0m\u001b[0;34m(\u001b[0m\u001b[0mmaxlength\u001b[0m\u001b[0;34m)\u001b[0m\u001b[0;34m\u001b[0m\u001b[0;34m\u001b[0m\u001b[0m\n\u001b[0m\u001b[1;32m    217\u001b[0m         \u001b[0;32mif\u001b[0m \u001b[0mbuf\u001b[0m \u001b[0;32mis\u001b[0m \u001b[0;32mNone\u001b[0m\u001b[0;34m:\u001b[0m\u001b[0;34m\u001b[0m\u001b[0;34m\u001b[0m\u001b[0m\n\u001b[1;32m    218\u001b[0m             \u001b[0mself\u001b[0m\u001b[0;34m.\u001b[0m\u001b[0m_bad_message_length\u001b[0m\u001b[0;34m(\u001b[0m\u001b[0;34m)\u001b[0m\u001b[0;34m\u001b[0m\u001b[0;34m\u001b[0m\u001b[0m\n",
      "\u001b[0;32m/usr/local/Cellar/python/3.7.4_1/Frameworks/Python.framework/Versions/3.7/lib/python3.7/multiprocessing/connection.py\u001b[0m in \u001b[0;36m_recv_bytes\u001b[0;34m(self, maxsize)\u001b[0m\n\u001b[1;32m    405\u001b[0m \u001b[0;34m\u001b[0m\u001b[0m\n\u001b[1;32m    406\u001b[0m     \u001b[0;32mdef\u001b[0m \u001b[0m_recv_bytes\u001b[0m\u001b[0;34m(\u001b[0m\u001b[0mself\u001b[0m\u001b[0;34m,\u001b[0m \u001b[0mmaxsize\u001b[0m\u001b[0;34m=\u001b[0m\u001b[0;32mNone\u001b[0m\u001b[0;34m)\u001b[0m\u001b[0;34m:\u001b[0m\u001b[0;34m\u001b[0m\u001b[0;34m\u001b[0m\u001b[0m\n\u001b[0;32m--> 407\u001b[0;31m         \u001b[0mbuf\u001b[0m \u001b[0;34m=\u001b[0m \u001b[0mself\u001b[0m\u001b[0;34m.\u001b[0m\u001b[0m_recv\u001b[0m\u001b[0;34m(\u001b[0m\u001b[0;36m4\u001b[0m\u001b[0;34m)\u001b[0m\u001b[0;34m\u001b[0m\u001b[0;34m\u001b[0m\u001b[0m\n\u001b[0m\u001b[1;32m    408\u001b[0m         \u001b[0msize\u001b[0m\u001b[0;34m,\u001b[0m \u001b[0;34m=\u001b[0m \u001b[0mstruct\u001b[0m\u001b[0;34m.\u001b[0m\u001b[0munpack\u001b[0m\u001b[0;34m(\u001b[0m\u001b[0;34m\"!i\"\u001b[0m\u001b[0;34m,\u001b[0m \u001b[0mbuf\u001b[0m\u001b[0;34m.\u001b[0m\u001b[0mgetvalue\u001b[0m\u001b[0;34m(\u001b[0m\u001b[0;34m)\u001b[0m\u001b[0;34m)\u001b[0m\u001b[0;34m\u001b[0m\u001b[0;34m\u001b[0m\u001b[0m\n\u001b[1;32m    409\u001b[0m         \u001b[0;32mif\u001b[0m \u001b[0mmaxsize\u001b[0m \u001b[0;32mis\u001b[0m \u001b[0;32mnot\u001b[0m \u001b[0;32mNone\u001b[0m \u001b[0;32mand\u001b[0m \u001b[0msize\u001b[0m \u001b[0;34m>\u001b[0m \u001b[0mmaxsize\u001b[0m\u001b[0;34m:\u001b[0m\u001b[0;34m\u001b[0m\u001b[0;34m\u001b[0m\u001b[0m\n",
      "\u001b[0;32m/usr/local/Cellar/python/3.7.4_1/Frameworks/Python.framework/Versions/3.7/lib/python3.7/multiprocessing/connection.py\u001b[0m in \u001b[0;36m_recv\u001b[0;34m(self, size, read)\u001b[0m\n\u001b[1;32m    377\u001b[0m         \u001b[0mremaining\u001b[0m \u001b[0;34m=\u001b[0m \u001b[0msize\u001b[0m\u001b[0;34m\u001b[0m\u001b[0;34m\u001b[0m\u001b[0m\n\u001b[1;32m    378\u001b[0m         \u001b[0;32mwhile\u001b[0m \u001b[0mremaining\u001b[0m \u001b[0;34m>\u001b[0m \u001b[0;36m0\u001b[0m\u001b[0;34m:\u001b[0m\u001b[0;34m\u001b[0m\u001b[0;34m\u001b[0m\u001b[0m\n\u001b[0;32m--> 379\u001b[0;31m             \u001b[0mchunk\u001b[0m \u001b[0;34m=\u001b[0m \u001b[0mread\u001b[0m\u001b[0;34m(\u001b[0m\u001b[0mhandle\u001b[0m\u001b[0;34m,\u001b[0m \u001b[0mremaining\u001b[0m\u001b[0;34m)\u001b[0m\u001b[0;34m\u001b[0m\u001b[0;34m\u001b[0m\u001b[0m\n\u001b[0m\u001b[1;32m    380\u001b[0m             \u001b[0mn\u001b[0m \u001b[0;34m=\u001b[0m \u001b[0mlen\u001b[0m\u001b[0;34m(\u001b[0m\u001b[0mchunk\u001b[0m\u001b[0;34m)\u001b[0m\u001b[0;34m\u001b[0m\u001b[0;34m\u001b[0m\u001b[0m\n\u001b[1;32m    381\u001b[0m             \u001b[0;32mif\u001b[0m \u001b[0mn\u001b[0m \u001b[0;34m==\u001b[0m \u001b[0;36m0\u001b[0m\u001b[0;34m:\u001b[0m\u001b[0;34m\u001b[0m\u001b[0;34m\u001b[0m\u001b[0m\n",
      "\u001b[0;31mKeyboardInterrupt\u001b[0m: "
     ]
    }
   ],
   "source": [
    "for iteration in range(ITERATIONS):\n",
    "    # Optimization\n",
    "    \n",
    "    # Make and write out the episode data\n",
    "    data.make_episodes(temp_policy_args, temp_policy_args, EPISODES_PER_ITERATION, \n",
    "                       num_workers=NUM_WORKERS, outdir=EPISODES_DIR)\n",
    "    # Read in the episode data\n",
    "    np_data = data.episodes_from_dir(EPISODES_DIR)\n",
    "    batched_np_data = [np.array_split(datum, len(np_data[0]) // BATCH_SIZE) for datum in np_data]\n",
    "    batched_mem = list(zip(*batched_np_data))\n",
    "\n",
    "    # Optimize\n",
    "    value_model.optimize_val_net(temp_policy_args, batched_mem, LEARNING_RATE, tb_metrics)\n",
    "    # Resets the metrics\n",
    "    metrics.reset_metrics(tb_metrics)\n",
    "    \n",
    "    # Evaluate against checkpoint model and other baselines\n",
    "    rand_win_rate = data.make_episodes(temp_policy_args, random_policy_args, \n",
    "                                       NUM_EVAL_GAMES, num_workers=NUM_WORKERS)\n",
    "    opp_win_rate = data.make_episodes(temp_policy_args, checkpoint_policy_args, \n",
    "                                      NUM_EVAL_GAMES, num_workers=NUM_WORKERS)\n",
    "\n",
    "    stats = f\"{100*opp_win_rate:.1f}%O, {100*rand_win_rate:.1f}%R\"\n",
    "\n",
    "    # If it's better than the checkpoint, update\n",
    "    if opp_win_rate > 0.6:\n",
    "        shutil.copy(TMP_WEIGHTS_PATH, CHECKPOINT_PATH)\n",
    "        print(f\"{stats} Accepted new model\")\n",
    "        \n",
    "        greed_win_rate = data.make_episodes(temp_policy_args, greedy_policy_args, \n",
    "                                        NUM_EVAL_GAMES, num_workers=NUM_WORKERS)\n",
    "\n",
    "        # Plot samples of states and response heatmaps\n",
    "        fig = metrics.gen_traj_fig(go_env, temp_policy_args)\n",
    "        fig.savefig(DEMO_TRAJECTORY_PATH)\n",
    "        plt.close()\n",
    "\n",
    "    elif opp_win_rate >= 0.5:\n",
    "        print(f\"{stats} Continuing to train current weights\")\n",
    "\n",
    "    else:\n",
    "        shutil.copy(CHECKPOINT_PATH, TMP_WEIGHTS_PATH)\n",
    "        print(f\"{stats} Rejected new model\")"
   ]
  },
  {
   "cell_type": "markdown",
   "metadata": {
    "colab_type": "text",
    "id": "NyMNxMAWwJR_"
   },
   "source": [
    "# Evaluate"
   ]
  },
  {
   "cell_type": "markdown",
   "metadata": {
    "colab_type": "text",
    "id": "Moy9uJ6fGa7z"
   },
   "source": [
    "Play against our AI"
   ]
  },
  {
   "cell_type": "code",
   "execution_count": 27,
   "metadata": {},
   "outputs": [],
   "source": [
    "human_policy_args = {\n",
    "    'mode': 'human',\n",
    "    'board_size': BOARD_SIZE,\n",
    "}"
   ]
  },
  {
   "cell_type": "code",
   "execution_count": 29,
   "metadata": {},
   "outputs": [],
   "source": [
    "val_net.load_weights(CHECKPOINT_PATH)"
   ]
  },
  {
   "cell_type": "code",
   "execution_count": 30,
   "metadata": {},
   "outputs": [],
   "source": [
    "val_net.save('novice_9x9.h5')"
   ]
  },
  {
   "cell_type": "code",
   "execution_count": 28,
   "metadata": {
    "colab": {},
    "colab_type": "code",
    "id": "97j_uYY9wJSA",
    "scrolled": true
   },
   "outputs": [
    {
     "name": "stderr",
     "output_type": "stream",
     "text": [
      "\r",
      "Episode worker: 0it [00:00, ?it/s]"
     ]
    },
    {
     "name": "stdout",
     "output_type": "stream",
     "text": [
      "    0   1   2   3   4   5   6   7   8\n",
      "  -------------------------------------\n",
      "0 | . | . | . | . | . | . | . | . | . |\n",
      "  -------------------------------------\n",
      "1 | . | . | . | . | . | . | . | . | . |\n",
      "  -------------------------------------\n",
      "2 | . | . | . | . | . | . | . | . | . |\n",
      "  -------------------------------------\n",
      "3 | . | . | . | . | . | . | . | . | . |\n",
      "  -------------------------------------\n",
      "4 | . | B | . | . | . | . | . | . | . |\n",
      "  -------------------------------------\n",
      "5 | . | . | . | . | . | . | . | . | . |\n",
      "  -------------------------------------\n",
      "6 | . | . | . | . | . | . | . | . | . |\n",
      "  -------------------------------------\n",
      "7 | . | . | . | . | . | . | . | . | . |\n",
      "  -------------------------------------\n",
      "8 | . | . | . | . | . | . | . | . | . |\n",
      "  -------------------------------------\n",
      "\tTurn: W, Last Turn Passed: False, Game Over: 0\n",
      "\tBlack Area: 81, White Area: 0\n",
      "\n",
      "Enter coordinates separated by space (`q` to quit)\n",
      "4 4\n",
      "    0   1   2   3   4   5   6   7   8\n",
      "  -------------------------------------\n",
      "0 | . | . | . | . | . | . | . | . | . |\n",
      "  -------------------------------------\n",
      "1 | . | . | . | . | . | . | . | . | . |\n",
      "  -------------------------------------\n",
      "2 | . | . | . | . | . | . | . | . | . |\n",
      "  -------------------------------------\n",
      "3 | . | . | . | . | . | . | . | . | . |\n",
      "  -------------------------------------\n",
      "4 | . | B | . | . | W | . | . | . | . |\n",
      "  -------------------------------------\n",
      "5 | . | . | . | B | . | . | . | . | . |\n",
      "  -------------------------------------\n",
      "6 | . | . | . | . | . | . | . | . | . |\n",
      "  -------------------------------------\n",
      "7 | . | . | . | . | . | . | . | . | . |\n",
      "  -------------------------------------\n",
      "8 | . | . | . | . | . | . | . | . | . |\n",
      "  -------------------------------------\n",
      "\tTurn: W, Last Turn Passed: False, Game Over: 0\n",
      "\tBlack Area: 2, White Area: 1\n",
      "\n",
      "Enter coordinates separated by space (`q` to quit)\n",
      "5 4\n",
      "    0   1   2   3   4   5   6   7   8\n",
      "  -------------------------------------\n",
      "0 | . | . | . | . | . | . | . | . | . |\n",
      "  -------------------------------------\n",
      "1 | . | . | . | . | . | . | . | . | . |\n",
      "  -------------------------------------\n",
      "2 | . | . | . | . | . | . | . | . | . |\n",
      "  -------------------------------------\n",
      "3 | . | . | . | . | . | . | . | . | . |\n",
      "  -------------------------------------\n",
      "4 | . | B | . | B | W | . | . | . | . |\n",
      "  -------------------------------------\n",
      "5 | . | . | . | B | W | . | . | . | . |\n",
      "  -------------------------------------\n",
      "6 | . | . | . | . | . | . | . | . | . |\n",
      "  -------------------------------------\n",
      "7 | . | . | . | . | . | . | . | . | . |\n",
      "  -------------------------------------\n",
      "8 | . | . | . | . | . | . | . | . | . |\n",
      "  -------------------------------------\n",
      "\tTurn: W, Last Turn Passed: False, Game Over: 0\n",
      "\tBlack Area: 3, White Area: 2\n",
      "\n",
      "Enter coordinates separated by space (`q` to quit)\n",
      "3 3\n",
      "    0   1   2   3   4   5   6   7   8\n",
      "  -------------------------------------\n",
      "0 | . | . | . | . | . | . | . | . | . |\n",
      "  -------------------------------------\n",
      "1 | . | . | . | . | . | . | . | . | . |\n",
      "  -------------------------------------\n",
      "2 | . | . | . | . | . | . | . | . | . |\n",
      "  -------------------------------------\n",
      "3 | . | . | . | W | B | . | . | . | . |\n",
      "  -------------------------------------\n",
      "4 | . | B | . | B | W | . | . | . | . |\n",
      "  -------------------------------------\n",
      "5 | . | . | . | B | W | . | . | . | . |\n",
      "  -------------------------------------\n",
      "6 | . | . | . | . | . | . | . | . | . |\n",
      "  -------------------------------------\n",
      "7 | . | . | . | . | . | . | . | . | . |\n",
      "  -------------------------------------\n",
      "8 | . | . | . | . | . | . | . | . | . |\n",
      "  -------------------------------------\n",
      "\tTurn: W, Last Turn Passed: False, Game Over: 0\n",
      "\tBlack Area: 4, White Area: 3\n",
      "\n",
      "Enter coordinates separated by space (`q` to quit)\n",
      "2 4\n",
      "    0   1   2   3   4   5   6   7   8\n",
      "  -------------------------------------\n",
      "0 | . | . | . | . | . | . | . | . | . |\n",
      "  -------------------------------------\n",
      "1 | . | . | . | . | . | . | . | . | . |\n",
      "  -------------------------------------\n",
      "2 | . | . | . | . | W | . | . | . | . |\n",
      "  -------------------------------------\n",
      "3 | . | . | . | W | B | B | . | . | . |\n",
      "  -------------------------------------\n",
      "4 | . | B | . | B | W | . | . | . | . |\n",
      "  -------------------------------------\n",
      "5 | . | . | . | B | W | . | . | . | . |\n",
      "  -------------------------------------\n",
      "6 | . | . | . | . | . | . | . | . | . |\n",
      "  -------------------------------------\n",
      "7 | . | . | . | . | . | . | . | . | . |\n",
      "  -------------------------------------\n",
      "8 | . | . | . | . | . | . | . | . | . |\n",
      "  -------------------------------------\n",
      "\tTurn: W, Last Turn Passed: False, Game Over: 0\n",
      "\tBlack Area: 5, White Area: 4\n",
      "\n",
      "Enter coordinates separated by space (`q` to quit)\n",
      "2 5\n",
      "    0   1   2   3   4   5   6   7   8\n",
      "  -------------------------------------\n",
      "0 | . | . | . | . | . | . | . | . | . |\n",
      "  -------------------------------------\n",
      "1 | . | . | . | . | . | . | . | . | . |\n",
      "  -------------------------------------\n",
      "2 | . | . | . | . | W | W | . | . | . |\n",
      "  -------------------------------------\n",
      "3 | . | . | . | W | B | B | . | . | . |\n",
      "  -------------------------------------\n",
      "4 | . | B | . | B | W | . | . | . | . |\n",
      "  -------------------------------------\n",
      "5 | . | . | . | B | W | . | . | . | . |\n",
      "  -------------------------------------\n",
      "6 | . | . | . | . | B | . | . | . | . |\n",
      "  -------------------------------------\n",
      "7 | . | . | . | . | . | . | . | . | . |\n",
      "  -------------------------------------\n",
      "8 | . | . | . | . | . | . | . | . | . |\n",
      "  -------------------------------------\n",
      "\tTurn: W, Last Turn Passed: False, Game Over: 0\n",
      "\tBlack Area: 6, White Area: 5\n",
      "\n",
      "Enter coordinates separated by space (`q` to quit)\n",
      "5 5\n",
      "    0   1   2   3   4   5   6   7   8\n",
      "  -------------------------------------\n",
      "0 | . | . | . | . | . | . | . | . | . |\n",
      "  -------------------------------------\n",
      "1 | . | . | . | . | . | . | . | . | . |\n",
      "  -------------------------------------\n",
      "2 | . | . | . | . | W | W | . | . | . |\n",
      "  -------------------------------------\n",
      "3 | . | . | . | W | B | B | B | . | . |\n",
      "  -------------------------------------\n",
      "4 | . | B | . | B | W | . | . | . | . |\n",
      "  -------------------------------------\n",
      "5 | . | . | . | B | W | W | . | . | . |\n",
      "  -------------------------------------\n",
      "6 | . | . | . | . | B | . | . | . | . |\n",
      "  -------------------------------------\n",
      "7 | . | . | . | . | . | . | . | . | . |\n",
      "  -------------------------------------\n",
      "8 | . | . | . | . | . | . | . | . | . |\n",
      "  -------------------------------------\n",
      "\tTurn: W, Last Turn Passed: False, Game Over: 0\n",
      "\tBlack Area: 7, White Area: 6\n",
      "\n",
      "Enter coordinates separated by space (`q` to quit)\n",
      "2 6\n",
      "    0   1   2   3   4   5   6   7   8\n",
      "  -------------------------------------\n",
      "0 | . | . | . | . | . | . | . | . | . |\n",
      "  -------------------------------------\n",
      "1 | . | . | . | . | . | . | . | . | . |\n",
      "  -------------------------------------\n",
      "2 | . | . | . | . | W | W | W | . | . |\n",
      "  -------------------------------------\n",
      "3 | . | . | . | W | B | B | B | . | . |\n",
      "  -------------------------------------\n",
      "4 | . | B | . | B | W | . | . | . | . |\n",
      "  -------------------------------------\n",
      "5 | . | . | . | B | W | W | . | . | . |\n",
      "  -------------------------------------\n",
      "6 | . | . | . | . | B | . | B | . | . |\n",
      "  -------------------------------------\n",
      "7 | . | . | . | . | . | . | . | . | . |\n",
      "  -------------------------------------\n",
      "8 | . | . | . | . | . | . | . | . | . |\n",
      "  -------------------------------------\n",
      "\tTurn: W, Last Turn Passed: False, Game Over: 0\n",
      "\tBlack Area: 8, White Area: 7\n",
      "\n",
      "Enter coordinates separated by space (`q` to quit)\n",
      "3 7\n",
      "    0   1   2   3   4   5   6   7   8\n",
      "  -------------------------------------\n",
      "0 | . | . | . | . | . | . | . | . | . |\n",
      "  -------------------------------------\n",
      "1 | . | . | . | . | . | . | . | . | . |\n",
      "  -------------------------------------\n",
      "2 | . | . | . | . | W | W | W | . | . |\n",
      "  -------------------------------------\n",
      "3 | . | . | . | W | B | B | B | W | . |\n",
      "  -------------------------------------\n",
      "4 | . | B | . | B | W | . | . | . | . |\n",
      "  -------------------------------------\n",
      "5 | . | . | . | B | W | W | . | . | . |\n",
      "  -------------------------------------\n",
      "6 | . | . | . | . | B | B | B | . | . |\n",
      "  -------------------------------------\n",
      "7 | . | . | . | . | . | . | . | . | . |\n",
      "  -------------------------------------\n",
      "8 | . | . | . | . | . | . | . | . | . |\n",
      "  -------------------------------------\n",
      "\tTurn: W, Last Turn Passed: False, Game Over: 0\n",
      "\tBlack Area: 9, White Area: 8\n",
      "\n"
     ]
    },
    {
     "name": "stdout",
     "output_type": "stream",
     "text": [
      "Enter coordinates separated by space (`q` to quit)\n",
      "4 6\n",
      "    0   1   2   3   4   5   6   7   8\n",
      "  -------------------------------------\n",
      "0 | . | . | . | . | . | . | . | . | . |\n",
      "  -------------------------------------\n",
      "1 | . | . | B | . | . | . | . | . | . |\n",
      "  -------------------------------------\n",
      "2 | . | . | . | . | W | W | W | . | . |\n",
      "  -------------------------------------\n",
      "3 | . | . | . | W | B | B | B | W | . |\n",
      "  -------------------------------------\n",
      "4 | . | B | . | B | W | . | W | . | . |\n",
      "  -------------------------------------\n",
      "5 | . | . | . | B | W | W | . | . | . |\n",
      "  -------------------------------------\n",
      "6 | . | . | . | . | B | B | B | . | . |\n",
      "  -------------------------------------\n",
      "7 | . | . | . | . | . | . | . | . | . |\n",
      "  -------------------------------------\n",
      "8 | . | . | . | . | . | . | . | . | . |\n",
      "  -------------------------------------\n",
      "\tTurn: W, Last Turn Passed: False, Game Over: 0\n",
      "\tBlack Area: 10, White Area: 9\n",
      "\n",
      "Enter coordinates separated by space (`q` to quit)\n",
      "4 5\n",
      "    0   1   2   3   4   5   6   7   8\n",
      "  -------------------------------------\n",
      "0 | . | . | . | . | . | . | . | . | . |\n",
      "  -------------------------------------\n",
      "1 | . | . | B | . | . | . | . | . | . |\n",
      "  -------------------------------------\n",
      "2 | . | . | . | . | W | W | W | . | . |\n",
      "  -------------------------------------\n",
      "3 | . | . | . | W | . | . | . | W | . |\n",
      "  -------------------------------------\n",
      "4 | . | B | . | B | W | W | W | . | . |\n",
      "  -------------------------------------\n",
      "5 | . | . | . | B | W | W | . | . | . |\n",
      "  -------------------------------------\n",
      "6 | . | . | . | . | B | B | B | B | . |\n",
      "  -------------------------------------\n",
      "7 | . | . | . | . | . | . | . | . | . |\n",
      "  -------------------------------------\n",
      "8 | . | . | . | . | . | . | . | . | . |\n",
      "  -------------------------------------\n",
      "\tTurn: W, Last Turn Passed: False, Game Over: 0\n",
      "\tBlack Area: 8, White Area: 13\n",
      "\n",
      "Enter coordinates separated by space (`q` to quit)\n",
      "6 3\n",
      "    0   1   2   3   4   5   6   7   8\n",
      "  -------------------------------------\n",
      "0 | . | . | . | . | . | . | . | . | . |\n",
      "  -------------------------------------\n",
      "1 | . | . | B | . | . | . | . | . | . |\n",
      "  -------------------------------------\n",
      "2 | . | . | . | . | W | W | W | . | . |\n",
      "  -------------------------------------\n",
      "3 | . | . | . | W | . | . | . | W | . |\n",
      "  -------------------------------------\n",
      "4 | . | B | . | B | W | W | W | . | . |\n",
      "  -------------------------------------\n",
      "5 | . | . | . | B | W | W | . | . | . |\n",
      "  -------------------------------------\n",
      "6 | . | . | . | W | B | B | B | B | . |\n",
      "  -------------------------------------\n",
      "7 | . | . | B | . | . | . | . | . | . |\n",
      "  -------------------------------------\n",
      "8 | . | . | . | . | . | . | . | . | . |\n",
      "  -------------------------------------\n",
      "\tTurn: W, Last Turn Passed: False, Game Over: 0\n",
      "\tBlack Area: 9, White Area: 14\n",
      "\n",
      "Enter coordinates separated by space (`q` to quit)\n",
      "6 3\n",
      "Invalid action\n",
      "    0   1   2   3   4   5   6   7   8\n",
      "  -------------------------------------\n",
      "0 | . | . | . | . | . | . | . | . | . |\n",
      "  -------------------------------------\n",
      "1 | . | . | B | . | . | . | . | . | . |\n",
      "  -------------------------------------\n",
      "2 | . | . | . | . | W | W | W | . | . |\n",
      "  -------------------------------------\n",
      "3 | . | . | . | W | . | . | . | W | . |\n",
      "  -------------------------------------\n",
      "4 | . | B | . | B | W | W | W | . | . |\n",
      "  -------------------------------------\n",
      "5 | . | . | . | B | W | W | . | . | . |\n",
      "  -------------------------------------\n",
      "6 | . | . | . | W | B | B | B | B | . |\n",
      "  -------------------------------------\n",
      "7 | . | . | B | . | . | . | . | . | . |\n",
      "  -------------------------------------\n",
      "8 | . | . | . | . | . | . | . | . | . |\n",
      "  -------------------------------------\n",
      "\tTurn: W, Last Turn Passed: False, Game Over: 0\n",
      "\tBlack Area: 9, White Area: 14\n",
      "\n",
      "Enter coordinates separated by space (`q` to quit)\n",
      "6 2\n",
      "    0   1   2   3   4   5   6   7   8\n",
      "  -------------------------------------\n",
      "0 | . | . | . | . | . | . | . | . | . |\n",
      "  -------------------------------------\n",
      "1 | . | . | B | . | . | . | . | . | . |\n",
      "  -------------------------------------\n",
      "2 | . | . | . | . | W | W | W | . | . |\n",
      "  -------------------------------------\n",
      "3 | . | . | . | W | . | . | . | W | . |\n",
      "  -------------------------------------\n",
      "4 | . | B | . | B | W | W | W | . | . |\n",
      "  -------------------------------------\n",
      "5 | . | . | . | B | W | W | . | . | . |\n",
      "  -------------------------------------\n",
      "6 | . | B | W | W | B | B | B | B | . |\n",
      "  -------------------------------------\n",
      "7 | . | . | B | . | . | . | . | . | . |\n",
      "  -------------------------------------\n",
      "8 | . | . | . | . | . | . | . | . | . |\n",
      "  -------------------------------------\n",
      "\tTurn: W, Last Turn Passed: False, Game Over: 0\n",
      "\tBlack Area: 10, White Area: 15\n",
      "\n",
      "Enter coordinates separated by space (`q` to quit)\n",
      "5 2\n",
      "    0   1   2   3   4   5   6   7   8\n",
      "  -------------------------------------\n",
      "0 | . | . | . | . | . | . | . | . | . |\n",
      "  -------------------------------------\n",
      "1 | . | . | B | . | . | . | . | . | . |\n",
      "  -------------------------------------\n",
      "2 | . | . | . | . | W | W | W | . | . |\n",
      "  -------------------------------------\n",
      "3 | . | . | . | W | . | . | . | W | . |\n",
      "  -------------------------------------\n",
      "4 | . | B | B | B | W | W | W | . | . |\n",
      "  -------------------------------------\n",
      "5 | . | . | W | B | W | W | . | . | . |\n",
      "  -------------------------------------\n",
      "6 | . | B | W | W | B | B | B | B | . |\n",
      "  -------------------------------------\n",
      "7 | . | . | B | . | . | . | . | . | . |\n",
      "  -------------------------------------\n",
      "8 | . | . | . | . | . | . | . | . | . |\n",
      "  -------------------------------------\n",
      "\tTurn: W, Last Turn Passed: False, Game Over: 0\n",
      "\tBlack Area: 11, White Area: 16\n",
      "\n",
      "Enter coordinates separated by space (`q` to quit)\n",
      "7 3\n",
      "    0   1   2   3   4   5   6   7   8\n",
      "  -------------------------------------\n",
      "0 | . | . | . | . | . | . | . | . | . |\n",
      "  -------------------------------------\n",
      "1 | . | . | B | . | . | . | . | . | . |\n",
      "  -------------------------------------\n",
      "2 | . | . | . | . | W | W | W | . | . |\n",
      "  -------------------------------------\n",
      "3 | . | . | . | W | . | . | . | W | . |\n",
      "  -------------------------------------\n",
      "4 | . | B | B | B | W | W | W | . | . |\n",
      "  -------------------------------------\n",
      "5 | . | B | W | B | W | W | . | . | . |\n",
      "  -------------------------------------\n",
      "6 | . | B | W | W | B | B | B | B | . |\n",
      "  -------------------------------------\n",
      "7 | . | . | B | W | . | . | . | . | . |\n",
      "  -------------------------------------\n",
      "8 | . | . | . | . | . | . | . | . | . |\n",
      "  -------------------------------------\n",
      "\tTurn: W, Last Turn Passed: False, Game Over: 0\n",
      "\tBlack Area: 12, White Area: 17\n",
      "\n",
      "Enter coordinates separated by space (`q` to quit)\n",
      "8 2\n",
      "    0   1   2   3   4   5   6   7   8\n",
      "  -------------------------------------\n",
      "0 | . | . | . | . | . | . | . | . | . |\n",
      "  -------------------------------------\n",
      "1 | . | . | B | . | . | . | . | . | . |\n",
      "  -------------------------------------\n",
      "2 | . | . | . | . | W | W | W | . | . |\n",
      "  -------------------------------------\n",
      "3 | . | . | . | W | . | . | . | W | . |\n",
      "  -------------------------------------\n",
      "4 | . | B | B | B | W | W | W | . | . |\n",
      "  -------------------------------------\n",
      "5 | . | B | W | B | W | W | . | . | . |\n",
      "  -------------------------------------\n",
      "6 | . | B | W | W | B | B | B | B | . |\n",
      "  -------------------------------------\n",
      "7 | . | B | B | W | . | . | . | . | . |\n",
      "  -------------------------------------\n",
      "8 | . | . | W | . | . | . | . | . | . |\n",
      "  -------------------------------------\n",
      "\tTurn: W, Last Turn Passed: False, Game Over: 0\n",
      "\tBlack Area: 13, White Area: 18\n",
      "\n",
      "Enter coordinates separated by space (`q` to quit)\n",
      "8 3\n",
      "    0   1   2   3   4   5   6   7   8\n",
      "  -------------------------------------\n",
      "0 | . | . | . | . | . | . | . | . | . |\n",
      "  -------------------------------------\n",
      "1 | . | . | B | . | . | . | . | . | . |\n",
      "  -------------------------------------\n",
      "2 | . | . | B | . | W | W | W | . | . |\n",
      "  -------------------------------------\n",
      "3 | . | . | . | W | . | . | . | W | . |\n",
      "  -------------------------------------\n",
      "4 | . | B | B | B | W | W | W | . | . |\n",
      "  -------------------------------------\n",
      "5 | . | B | W | B | W | W | . | . | . |\n",
      "  -------------------------------------\n",
      "6 | . | B | W | W | B | B | B | B | . |\n",
      "  -------------------------------------\n",
      "7 | . | B | B | W | . | . | . | . | . |\n",
      "  -------------------------------------\n",
      "8 | . | . | W | W | . | . | . | . | . |\n",
      "  -------------------------------------\n",
      "\tTurn: W, Last Turn Passed: False, Game Over: 0\n",
      "\tBlack Area: 14, White Area: 19\n",
      "\n"
     ]
    },
    {
     "name": "stdout",
     "output_type": "stream",
     "text": [
      "Enter coordinates separated by space (`q` to quit)\n",
      "7 5\n",
      "    0   1   2   3   4   5   6   7   8\n",
      "  -------------------------------------\n",
      "0 | . | . | . | . | . | . | . | . | . |\n",
      "  -------------------------------------\n",
      "1 | . | . | B | . | . | . | . | . | . |\n",
      "  -------------------------------------\n",
      "2 | . | . | B | . | W | W | W | . | . |\n",
      "  -------------------------------------\n",
      "3 | . | . | . | W | . | . | . | W | . |\n",
      "  -------------------------------------\n",
      "4 | . | B | B | B | W | W | W | . | . |\n",
      "  -------------------------------------\n",
      "5 | . | B | W | B | W | W | . | . | . |\n",
      "  -------------------------------------\n",
      "6 | . | B | W | W | B | B | B | B | . |\n",
      "  -------------------------------------\n",
      "7 | . | B | B | W | B | W | . | . | . |\n",
      "  -------------------------------------\n",
      "8 | . | . | W | W | . | . | . | . | . |\n",
      "  -------------------------------------\n",
      "\tTurn: W, Last Turn Passed: False, Game Over: 0\n",
      "\tBlack Area: 15, White Area: 20\n",
      "\n",
      "Enter coordinates separated by space (`q` to quit)\n",
      "8 4\n",
      "    0   1   2   3   4   5   6   7   8\n",
      "  -------------------------------------\n",
      "0 | . | . | . | . | . | . | . | . | . |\n",
      "  -------------------------------------\n",
      "1 | . | . | B | . | . | . | . | . | . |\n",
      "  -------------------------------------\n",
      "2 | . | . | B | . | W | W | W | . | . |\n",
      "  -------------------------------------\n",
      "3 | . | . | B | W | . | . | . | W | . |\n",
      "  -------------------------------------\n",
      "4 | . | B | B | B | W | W | W | . | . |\n",
      "  -------------------------------------\n",
      "5 | . | B | W | B | W | W | . | . | . |\n",
      "  -------------------------------------\n",
      "6 | . | B | W | W | B | B | B | B | . |\n",
      "  -------------------------------------\n",
      "7 | . | B | B | W | B | W | . | . | . |\n",
      "  -------------------------------------\n",
      "8 | . | . | W | W | W | . | . | . | . |\n",
      "  -------------------------------------\n",
      "\tTurn: W, Last Turn Passed: False, Game Over: 0\n",
      "\tBlack Area: 16, White Area: 21\n",
      "\n",
      "Enter coordinates separated by space (`q` to quit)\n",
      "7 6\n",
      "    0   1   2   3   4   5   6   7   8\n",
      "  -------------------------------------\n",
      "0 | . | . | . | . | . | . | . | . | . |\n",
      "  -------------------------------------\n",
      "1 | . | . | B | . | . | . | . | . | . |\n",
      "  -------------------------------------\n",
      "2 | . | . | B | . | W | W | W | . | . |\n",
      "  -------------------------------------\n",
      "3 | . | . | B | W | . | . | . | W | . |\n",
      "  -------------------------------------\n",
      "4 | . | B | B | B | W | W | W | . | . |\n",
      "  -------------------------------------\n",
      "5 | . | B | W | B | W | W | . | . | . |\n",
      "  -------------------------------------\n",
      "6 | . | B | W | W | B | B | B | B | . |\n",
      "  -------------------------------------\n",
      "7 | . | B | B | W | B | W | W | B | . |\n",
      "  -------------------------------------\n",
      "8 | . | . | W | W | W | . | . | . | . |\n",
      "  -------------------------------------\n",
      "\tTurn: W, Last Turn Passed: False, Game Over: 0\n",
      "\tBlack Area: 17, White Area: 22\n",
      "\n",
      "Enter coordinates separated by space (`q` to quit)\n",
      "8 7\n",
      "    0   1   2   3   4   5   6   7   8\n",
      "  -------------------------------------\n",
      "0 | . | . | . | . | . | . | . | . | . |\n",
      "  -------------------------------------\n",
      "1 | . | . | B | . | . | . | . | . | . |\n",
      "  -------------------------------------\n",
      "2 | . | . | B | . | W | W | W | . | . |\n",
      "  -------------------------------------\n",
      "3 | . | . | B | W | . | . | . | W | . |\n",
      "  -------------------------------------\n",
      "4 | . | B | B | B | W | W | W | . | B |\n",
      "  -------------------------------------\n",
      "5 | . | B | W | B | W | W | . | . | . |\n",
      "  -------------------------------------\n",
      "6 | . | B | W | W | B | B | B | B | . |\n",
      "  -------------------------------------\n",
      "7 | . | B | B | W | B | W | W | B | . |\n",
      "  -------------------------------------\n",
      "8 | . | . | W | W | W | . | . | W | . |\n",
      "  -------------------------------------\n",
      "\tTurn: W, Last Turn Passed: False, Game Over: 0\n",
      "\tBlack Area: 18, White Area: 25\n",
      "\n",
      "Enter coordinates separated by space (`q` to quit)\n",
      "5 7\n",
      "    0   1   2   3   4   5   6   7   8\n",
      "  -------------------------------------\n",
      "0 | . | . | . | . | . | . | . | . | . |\n",
      "  -------------------------------------\n",
      "1 | . | . | B | . | . | . | . | . | . |\n",
      "  -------------------------------------\n",
      "2 | . | . | B | . | W | W | W | . | . |\n",
      "  -------------------------------------\n",
      "3 | . | . | B | W | . | . | . | W | . |\n",
      "  -------------------------------------\n",
      "4 | . | B | B | B | W | W | W | . | B |\n",
      "  -------------------------------------\n",
      "5 | . | B | W | B | W | W | . | W | . |\n",
      "  -------------------------------------\n",
      "6 | . | B | W | W | B | B | B | B | B |\n",
      "  -------------------------------------\n",
      "7 | . | B | B | W | B | W | W | B | . |\n",
      "  -------------------------------------\n",
      "8 | . | . | W | W | W | . | . | W | . |\n",
      "  -------------------------------------\n",
      "\tTurn: W, Last Turn Passed: False, Game Over: 0\n",
      "\tBlack Area: 19, White Area: 26\n",
      "\n",
      "Enter coordinates separated by space (`q` to quit)\n",
      "5 6\n",
      "    0   1   2   3   4   5   6   7   8\n",
      "  -------------------------------------\n",
      "0 | . | . | . | B | . | . | . | . | . |\n",
      "  -------------------------------------\n",
      "1 | . | . | B | . | . | . | . | . | . |\n",
      "  -------------------------------------\n",
      "2 | . | . | B | . | W | W | W | . | . |\n",
      "  -------------------------------------\n",
      "3 | . | . | B | W | . | . | . | W | . |\n",
      "  -------------------------------------\n",
      "4 | . | B | B | B | W | W | W | . | B |\n",
      "  -------------------------------------\n",
      "5 | . | B | W | B | W | W | W | W | . |\n",
      "  -------------------------------------\n",
      "6 | . | B | W | W | B | B | B | B | B |\n",
      "  -------------------------------------\n",
      "7 | . | B | B | W | B | W | W | B | . |\n",
      "  -------------------------------------\n",
      "8 | . | . | W | W | W | . | . | W | . |\n",
      "  -------------------------------------\n",
      "\tTurn: W, Last Turn Passed: False, Game Over: 0\n",
      "\tBlack Area: 20, White Area: 27\n",
      "\n",
      "Enter coordinates separated by space (`q` to quit)\n",
      "5 8\n",
      "    0   1   2   3   4   5   6   7   8\n",
      "  -------------------------------------\n",
      "0 | . | . | . | B | . | . | . | . | . |\n",
      "  -------------------------------------\n",
      "1 | . | . | B | . | . | . | . | B | . |\n",
      "  -------------------------------------\n",
      "2 | . | . | B | . | W | W | W | . | . |\n",
      "  -------------------------------------\n",
      "3 | . | . | B | W | . | . | . | W | . |\n",
      "  -------------------------------------\n",
      "4 | . | B | B | B | W | W | W | . | B |\n",
      "  -------------------------------------\n",
      "5 | . | B | W | B | W | W | W | W | W |\n",
      "  -------------------------------------\n",
      "6 | . | B | W | W | B | B | B | B | B |\n",
      "  -------------------------------------\n",
      "7 | . | B | B | W | B | W | W | B | . |\n",
      "  -------------------------------------\n",
      "8 | . | . | W | W | W | . | . | W | . |\n",
      "  -------------------------------------\n",
      "\tTurn: W, Last Turn Passed: False, Game Over: 0\n",
      "\tBlack Area: 21, White Area: 28\n",
      "\n",
      "Enter coordinates separated by space (`q` to quit)\n",
      "7 8\n",
      "    0   1   2   3   4   5   6   7   8\n",
      "  -------------------------------------\n",
      "0 | . | . | . | B | . | . | . | . | . |\n",
      "  -------------------------------------\n",
      "1 | . | . | B | . | . | . | B | B | . |\n",
      "  -------------------------------------\n",
      "2 | . | . | B | . | W | W | W | . | . |\n",
      "  -------------------------------------\n",
      "3 | . | . | B | W | . | . | . | W | . |\n",
      "  -------------------------------------\n",
      "4 | . | B | B | B | W | W | W | . | B |\n",
      "  -------------------------------------\n",
      "5 | . | B | W | B | W | W | W | W | W |\n",
      "  -------------------------------------\n",
      "6 | . | B | W | W | . | . | . | . | . |\n",
      "  -------------------------------------\n",
      "7 | . | B | B | W | . | W | W | . | W |\n",
      "  -------------------------------------\n",
      "8 | . | . | W | W | W | . | . | W | . |\n",
      "  -------------------------------------\n",
      "\tTurn: W, Last Turn Passed: False, Game Over: 0\n",
      "\tBlack Area: 15, White Area: 37\n",
      "\n",
      "Enter coordinates separated by space (`q` to quit)\n",
      "1 3\n",
      "    0   1   2   3   4   5   6   7   8\n",
      "  -------------------------------------\n",
      "0 | . | . | . | B | . | . | . | . | . |\n",
      "  -------------------------------------\n",
      "1 | . | . | B | W | . | B | B | B | . |\n",
      "  -------------------------------------\n",
      "2 | . | . | B | . | W | W | W | . | . |\n",
      "  -------------------------------------\n",
      "3 | . | . | B | W | . | . | . | W | . |\n",
      "  -------------------------------------\n",
      "4 | . | B | B | B | W | W | W | . | B |\n",
      "  -------------------------------------\n",
      "5 | . | B | W | B | W | W | W | W | W |\n",
      "  -------------------------------------\n",
      "6 | . | B | W | W | . | . | . | . | . |\n",
      "  -------------------------------------\n",
      "7 | . | B | B | W | . | W | W | . | W |\n",
      "  -------------------------------------\n",
      "8 | . | . | W | W | W | . | . | W | . |\n",
      "  -------------------------------------\n",
      "\tTurn: W, Last Turn Passed: False, Game Over: 0\n",
      "\tBlack Area: 16, White Area: 38\n",
      "\n"
     ]
    },
    {
     "name": "stdout",
     "output_type": "stream",
     "text": [
      "Enter coordinates separated by space (`q` to quit)\n",
      "1 4\n",
      "    0   1   2   3   4   5   6   7   8\n",
      "  -------------------------------------\n",
      "0 | . | . | . | B | . | . | . | . | . |\n",
      "  -------------------------------------\n",
      "1 | . | . | B | W | W | B | B | B | . |\n",
      "  -------------------------------------\n",
      "2 | . | . | B | . | W | W | W | B | . |\n",
      "  -------------------------------------\n",
      "3 | . | . | B | W | . | . | . | W | . |\n",
      "  -------------------------------------\n",
      "4 | . | B | B | B | W | W | W | . | B |\n",
      "  -------------------------------------\n",
      "5 | . | B | W | B | W | W | W | W | W |\n",
      "  -------------------------------------\n",
      "6 | . | B | W | W | . | . | . | . | . |\n",
      "  -------------------------------------\n",
      "7 | . | B | B | W | . | W | W | . | W |\n",
      "  -------------------------------------\n",
      "8 | . | . | W | W | W | . | . | W | . |\n",
      "  -------------------------------------\n",
      "\tTurn: W, Last Turn Passed: False, Game Over: 0\n",
      "\tBlack Area: 17, White Area: 39\n",
      "\n",
      "Enter coordinates separated by space (`q` to quit)\n",
      "0 4\n",
      "    0   1   2   3   4   5   6   7   8\n",
      "  -------------------------------------\n",
      "0 | . | . | B | B | W | . | . | . | . |\n",
      "  -------------------------------------\n",
      "1 | . | . | B | W | W | B | B | B | . |\n",
      "  -------------------------------------\n",
      "2 | . | . | B | . | W | W | W | B | . |\n",
      "  -------------------------------------\n",
      "3 | . | . | B | W | . | . | . | W | . |\n",
      "  -------------------------------------\n",
      "4 | . | B | B | B | W | W | W | . | B |\n",
      "  -------------------------------------\n",
      "5 | . | B | W | B | W | W | W | W | W |\n",
      "  -------------------------------------\n",
      "6 | . | B | W | W | . | . | . | . | . |\n",
      "  -------------------------------------\n",
      "7 | . | B | B | W | . | W | W | . | W |\n",
      "  -------------------------------------\n",
      "8 | . | . | W | W | W | . | . | W | . |\n",
      "  -------------------------------------\n",
      "\tTurn: W, Last Turn Passed: False, Game Over: 0\n",
      "\tBlack Area: 18, White Area: 40\n",
      "\n",
      "Enter coordinates separated by space (`q` to quit)\n",
      "8 1\n",
      "    0   1   2   3   4   5   6   7   8\n",
      "  -------------------------------------\n",
      "0 | . | . | B | B | W | . | . | . | . |\n",
      "  -------------------------------------\n",
      "1 | . | . | B | W | W | B | B | B | . |\n",
      "  -------------------------------------\n",
      "2 | . | . | B | . | W | W | W | B | . |\n",
      "  -------------------------------------\n",
      "3 | . | . | B | W | . | . | . | W | B |\n",
      "  -------------------------------------\n",
      "4 | . | B | B | B | W | W | W | . | B |\n",
      "  -------------------------------------\n",
      "5 | . | B | W | B | W | W | W | W | W |\n",
      "  -------------------------------------\n",
      "6 | . | B | W | W | . | . | . | . | . |\n",
      "  -------------------------------------\n",
      "7 | . | B | B | W | . | W | W | . | W |\n",
      "  -------------------------------------\n",
      "8 | . | W | W | W | W | . | . | W | . |\n",
      "  -------------------------------------\n",
      "\tTurn: W, Last Turn Passed: False, Game Over: 0\n",
      "\tBlack Area: 19, White Area: 41\n",
      "\n",
      "Enter coordinates separated by space (`q` to quit)\n",
      "4 6\n",
      "Invalid action\n",
      "    0   1   2   3   4   5   6   7   8\n",
      "  -------------------------------------\n",
      "0 | . | . | B | B | W | . | . | . | . |\n",
      "  -------------------------------------\n",
      "1 | . | . | B | W | W | B | B | B | . |\n",
      "  -------------------------------------\n",
      "2 | . | . | B | . | W | W | W | B | . |\n",
      "  -------------------------------------\n",
      "3 | . | . | B | W | . | . | . | W | B |\n",
      "  -------------------------------------\n",
      "4 | . | B | B | B | W | W | W | . | B |\n",
      "  -------------------------------------\n",
      "5 | . | B | W | B | W | W | W | W | W |\n",
      "  -------------------------------------\n",
      "6 | . | B | W | W | . | . | . | . | . |\n",
      "  -------------------------------------\n",
      "7 | . | B | B | W | . | W | W | . | W |\n",
      "  -------------------------------------\n",
      "8 | . | W | W | W | W | . | . | W | . |\n",
      "  -------------------------------------\n",
      "\tTurn: W, Last Turn Passed: False, Game Over: 0\n",
      "\tBlack Area: 19, White Area: 41\n",
      "\n",
      "Enter coordinates separated by space (`q` to quit)\n",
      "4 7\n",
      "    0   1   2   3   4   5   6   7   8\n",
      "  -------------------------------------\n",
      "0 | . | . | B | B | W | . | . | . | . |\n",
      "  -------------------------------------\n",
      "1 | . | . | B | W | W | B | B | B | . |\n",
      "  -------------------------------------\n",
      "2 | . | . | B | . | W | W | W | B | . |\n",
      "  -------------------------------------\n",
      "3 | . | . | B | W | . | . | . | W | B |\n",
      "  -------------------------------------\n",
      "4 | . | B | B | B | W | W | W | W | B |\n",
      "  -------------------------------------\n",
      "5 | . | B | W | B | W | W | W | W | W |\n",
      "  -------------------------------------\n",
      "6 | . | B | W | W | . | . | . | B | . |\n",
      "  -------------------------------------\n",
      "7 | . | B | B | W | . | W | W | . | W |\n",
      "  -------------------------------------\n",
      "8 | . | W | W | W | W | . | . | W | . |\n",
      "  -------------------------------------\n",
      "\tTurn: W, Last Turn Passed: False, Game Over: 0\n",
      "\tBlack Area: 20, White Area: 35\n",
      "\n",
      "Enter coordinates separated by space (`q` to quit)\n",
      "2 8\n",
      "    0   1   2   3   4   5   6   7   8\n",
      "  -------------------------------------\n",
      "0 | . | . | B | B | W | . | . | . | . |\n",
      "  -------------------------------------\n",
      "1 | . | . | B | W | W | B | B | B | . |\n",
      "  -------------------------------------\n",
      "2 | . | . | B | . | W | W | W | B | W |\n",
      "  -------------------------------------\n",
      "3 | . | . | B | W | B | . | . | W | . |\n",
      "  -------------------------------------\n",
      "4 | . | B | B | B | W | W | W | W | . |\n",
      "  -------------------------------------\n",
      "5 | . | B | W | B | W | W | W | W | W |\n",
      "  -------------------------------------\n",
      "6 | . | B | W | W | . | . | . | B | . |\n",
      "  -------------------------------------\n",
      "7 | . | B | B | W | . | W | W | . | W |\n",
      "  -------------------------------------\n",
      "8 | . | W | W | W | W | . | . | W | . |\n",
      "  -------------------------------------\n",
      "\tTurn: W, Last Turn Passed: False, Game Over: 0\n",
      "\tBlack Area: 19, White Area: 35\n",
      "\n",
      "Enter coordinates separated by space (`q` to quit)\n",
      "3 8\n",
      "    0   1   2   3   4   5   6   7   8\n",
      "  -------------------------------------\n",
      "0 | . | . | B | B | W | . | . | . | . |\n",
      "  -------------------------------------\n",
      "1 | . | . | B | W | W | B | B | B | . |\n",
      "  -------------------------------------\n",
      "2 | . | . | B | . | W | W | W | B | W |\n",
      "  -------------------------------------\n",
      "3 | . | . | B | W | B | B | . | W | W |\n",
      "  -------------------------------------\n",
      "4 | . | B | B | B | W | W | W | W | . |\n",
      "  -------------------------------------\n",
      "5 | . | B | W | B | W | W | W | W | W |\n",
      "  -------------------------------------\n",
      "6 | . | B | W | W | . | . | . | B | . |\n",
      "  -------------------------------------\n",
      "7 | . | B | B | W | . | W | W | . | W |\n",
      "  -------------------------------------\n",
      "8 | . | W | W | W | W | . | . | W | . |\n",
      "  -------------------------------------\n",
      "\tTurn: W, Last Turn Passed: False, Game Over: 0\n",
      "\tBlack Area: 20, White Area: 35\n",
      "\n",
      "Enter coordinates separated by space (`q` to quit)\n",
      "3 6\n",
      "    0   1   2   3   4   5   6   7   8\n",
      "  -------------------------------------\n",
      "0 | . | . | B | B | W | . | . | . | . |\n",
      "  -------------------------------------\n",
      "1 | . | . | B | W | W | B | B | B | . |\n",
      "  -------------------------------------\n",
      "2 | . | . | B | . | W | W | W | B | W |\n",
      "  -------------------------------------\n",
      "3 | . | . | B | W | B | . | W | W | W |\n",
      "  -------------------------------------\n",
      "4 | . | B | B | B | W | W | W | W | . |\n",
      "  -------------------------------------\n",
      "5 | . | B | W | B | W | W | W | W | W |\n",
      "  -------------------------------------\n",
      "6 | . | B | W | W | . | . | . | B | . |\n",
      "  -------------------------------------\n",
      "7 | . | B | B | W | . | W | W | . | W |\n",
      "  -------------------------------------\n",
      "8 | . | W | W | W | W | . | . | W | . |\n",
      "  -------------------------------------\n",
      "\tTurn: W, Last Turn Passed: False, Game Over: 0\n",
      "\tBlack Area: 19, White Area: 36\n",
      "\n",
      "Enter coordinates separated by space (`q` to quit)\n",
      "p\n",
      "    0   1   2   3   4   5   6   7   8\n",
      "  -------------------------------------\n",
      "0 | . | . | B | B | W | . | . | . | . |\n",
      "  -------------------------------------\n",
      "1 | . | . | B | W | W | B | B | B | . |\n",
      "  -------------------------------------\n",
      "2 | . | . | B | B | W | W | W | B | W |\n",
      "  -------------------------------------\n",
      "3 | . | . | B | . | B | . | W | W | W |\n",
      "  -------------------------------------\n",
      "4 | . | B | B | B | W | W | W | W | . |\n",
      "  -------------------------------------\n",
      "5 | . | B | W | B | W | W | W | W | W |\n",
      "  -------------------------------------\n",
      "6 | . | B | W | W | . | . | . | B | . |\n",
      "  -------------------------------------\n",
      "7 | . | B | B | W | . | W | W | . | W |\n",
      "  -------------------------------------\n",
      "8 | . | W | W | W | W | . | . | W | . |\n",
      "  -------------------------------------\n",
      "\tTurn: W, Last Turn Passed: False, Game Over: 0\n",
      "\tBlack Area: 21, White Area: 35\n",
      "\n"
     ]
    },
    {
     "name": "stdout",
     "output_type": "stream",
     "text": [
      "Enter coordinates separated by space (`q` to quit)\n",
      "p\n",
      "    0   1   2   3   4   5   6   7   8\n",
      "  -------------------------------------\n",
      "0 | . | . | B | B | W | B | . | . | . |\n",
      "  -------------------------------------\n",
      "1 | . | . | B | W | W | B | B | B | . |\n",
      "  -------------------------------------\n",
      "2 | . | . | B | B | W | W | W | B | W |\n",
      "  -------------------------------------\n",
      "3 | . | . | B | . | B | . | W | W | W |\n",
      "  -------------------------------------\n",
      "4 | . | B | B | B | W | W | W | W | . |\n",
      "  -------------------------------------\n",
      "5 | . | B | W | B | W | W | W | W | W |\n",
      "  -------------------------------------\n",
      "6 | . | B | W | W | . | . | . | B | . |\n",
      "  -------------------------------------\n",
      "7 | . | B | B | W | . | W | W | . | W |\n",
      "  -------------------------------------\n",
      "8 | . | W | W | W | W | . | . | W | . |\n",
      "  -------------------------------------\n",
      "\tTurn: W, Last Turn Passed: False, Game Over: 0\n",
      "\tBlack Area: 22, White Area: 35\n",
      "\n",
      "Enter coordinates separated by space (`q` to quit)\n",
      "p\n",
      "    0   1   2   3   4   5   6   7   8\n",
      "  -------------------------------------\n",
      "0 | . | . | B | B | W | B | . | B | . |\n",
      "  -------------------------------------\n",
      "1 | . | . | B | W | W | B | B | B | . |\n",
      "  -------------------------------------\n",
      "2 | . | . | B | B | W | W | W | B | W |\n",
      "  -------------------------------------\n",
      "3 | . | . | B | . | B | . | W | W | W |\n",
      "  -------------------------------------\n",
      "4 | . | B | B | B | W | W | W | W | . |\n",
      "  -------------------------------------\n",
      "5 | . | B | W | B | W | W | W | W | W |\n",
      "  -------------------------------------\n",
      "6 | . | B | W | W | . | . | . | B | . |\n",
      "  -------------------------------------\n",
      "7 | . | B | B | W | . | W | W | . | W |\n",
      "  -------------------------------------\n",
      "8 | . | W | W | W | W | . | . | W | . |\n",
      "  -------------------------------------\n",
      "\tTurn: W, Last Turn Passed: False, Game Over: 0\n",
      "\tBlack Area: 24, White Area: 35\n",
      "\n",
      "Enter coordinates separated by space (`q` to quit)\n",
      "p\n",
      "    0   1   2   3   4   5   6   7   8\n",
      "  -------------------------------------\n",
      "0 | . | . | B | B | W | B | . | B | . |\n",
      "  -------------------------------------\n",
      "1 | . | . | B | W | W | B | B | B | . |\n",
      "  -------------------------------------\n",
      "2 | . | . | B | B | W | W | W | B | W |\n",
      "  -------------------------------------\n",
      "3 | . | . | B | . | B | . | W | W | W |\n",
      "  -------------------------------------\n",
      "4 | . | B | B | B | W | W | W | W | . |\n",
      "  -------------------------------------\n",
      "5 | . | B | W | B | W | W | W | W | W |\n",
      "  -------------------------------------\n",
      "6 | . | B | W | W | . | . | . | B | . |\n",
      "  -------------------------------------\n",
      "7 | B | B | B | W | . | W | W | . | W |\n",
      "  -------------------------------------\n",
      "8 | . | W | W | W | W | . | . | W | . |\n",
      "  -------------------------------------\n",
      "\tTurn: W, Last Turn Passed: False, Game Over: 0\n",
      "\tBlack Area: 36, White Area: 35\n",
      "\n",
      "Enter coordinates separated by space (`q` to quit)\n",
      "p\n"
     ]
    },
    {
     "name": "stderr",
     "output_type": "stream",
     "text": [
      "Episode worker: 1it [04:00, 240.51s/it]\n",
      "\n",
      "values vs. human:   0%|          | 0/1 [00:00<?, ?it/s]\u001b[A\n",
      "values vs. human: 100%|██████████| 1/1 [00:00<00:00, 450.23it/s, 100.0% WIN]\n"
     ]
    },
    {
     "data": {
      "text/plain": [
       "1.0"
      ]
     },
     "execution_count": 28,
     "metadata": {},
     "output_type": "execute_result"
    }
   ],
   "source": [
    "data.make_episodes(checkpoint_policy_args, human_policy_args, 1, num_workers=1)"
   ]
  },
  {
   "cell_type": "code",
   "execution_count": null,
   "metadata": {
    "colab": {},
    "colab_type": "code",
    "id": "emKESg3hGa71"
   },
   "outputs": [],
   "source": []
  }
 ],
 "metadata": {
  "accelerator": "GPU",
  "colab": {
   "collapsed_sections": [],
   "name": "Copy of go_ai.ipynb",
   "provenance": []
  },
  "kernelspec": {
   "display_name": "Python 3",
   "language": "python",
   "name": "python3"
  },
  "language_info": {
   "codemirror_mode": {
    "name": "ipython",
    "version": 3
   },
   "file_extension": ".py",
   "mimetype": "text/x-python",
   "name": "python",
   "nbconvert_exporter": "python",
   "pygments_lexer": "ipython3",
   "version": "3.7.4"
  },
  "widgets": {
   "application/vnd.jupyter.widget-state+json": {
    "state": {},
    "version_major": 2,
    "version_minor": 0
   }
  }
 },
 "nbformat": 4,
 "nbformat_minor": 1
}
