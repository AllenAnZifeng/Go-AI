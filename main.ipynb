{
 "cells": [
  {
   "cell_type": "code",
   "execution_count": 1,
   "metadata": {
    "colab": {},
    "colab_type": "code",
    "id": "88zLHqvDwJRj"
   },
   "outputs": [],
   "source": [
    "import tensorflow as tf\n",
    "import numpy as np\n",
    "import gym\n",
    "from go_ai import data, metrics, policies\n",
    "from go_ai.models import value_model\n",
    "import matplotlib.pyplot as plt\n",
    "import shutil\n",
    "import multiprocessing as mp\n",
    "import os"
   ]
  },
  {
   "cell_type": "markdown",
   "metadata": {
    "colab_type": "text",
    "id": "TfY-_1_5wJR5"
   },
   "source": [
    "# Hyperparameters"
   ]
  },
  {
   "cell_type": "code",
   "execution_count": 2,
   "metadata": {
    "colab": {},
    "colab_type": "code",
    "id": "-Ju4HYnKwJRq"
   },
   "outputs": [],
   "source": [
    "BOARD_SIZE = 4"
   ]
  },
  {
   "cell_type": "code",
   "execution_count": 3,
   "metadata": {
    "colab": {},
    "colab_type": "code",
    "id": "DX04C6TbwJR5"
   },
   "outputs": [],
   "source": [
    "ITERATIONS = 256\n",
    "EPISODES_PER_ITERATION = 128\n",
    "RANDOM_BEGINNING = 0\n",
    "NUM_EVAL_GAMES = 128"
   ]
  },
  {
   "cell_type": "code",
   "execution_count": 4,
   "metadata": {
    "colab": {},
    "colab_type": "code",
    "id": "I8pWCj8jGa7Y"
   },
   "outputs": [],
   "source": [
    "BATCH_SIZE = 32"
   ]
  },
  {
   "cell_type": "code",
   "execution_count": 5,
   "metadata": {},
   "outputs": [],
   "source": [
    "LOAD_SAVED_MODELS = False"
   ]
  },
  {
   "cell_type": "markdown",
   "metadata": {},
   "source": [
    "# Data Parameters"
   ]
  },
  {
   "cell_type": "code",
   "execution_count": 6,
   "metadata": {},
   "outputs": [
    {
     "name": "stdout",
     "output_type": "stream",
     "text": [
      "Workers:  8\n"
     ]
    }
   ],
   "source": [
    "NUM_WORKERS = mp.cpu_count()\n",
    "print(\"Workers: \", NUM_WORKERS)"
   ]
  },
  {
   "cell_type": "code",
   "execution_count": 7,
   "metadata": {},
   "outputs": [],
   "source": [
    "EPISODES_DIR = './data/'"
   ]
  },
  {
   "cell_type": "code",
   "execution_count": 8,
   "metadata": {
    "colab": {},
    "colab_type": "code",
    "id": "TfJcqNeEGa7b"
   },
   "outputs": [],
   "source": [
    "MODELS_DIR = 'models/'\n",
    "CHECKPOINT_PATH = MODELS_DIR + 'checkpoint_{}x{}.h5'.format(BOARD_SIZE, BOARD_SIZE)\n",
    "TMP_MODEL_PATH = MODELS_DIR + 'tmp.h5'"
   ]
  },
  {
   "cell_type": "code",
   "execution_count": 9,
   "metadata": {},
   "outputs": [],
   "source": [
    "DEMO_TRAJECTORY_PATH = 'logs/a_trajectory.png'"
   ]
  },
  {
   "cell_type": "markdown",
   "metadata": {
    "colab_type": "text",
    "id": "szyALIMpwJRo"
   },
   "source": [
    "# Go Environment\n",
    "Train on a small board for fast training and efficient debugging"
   ]
  },
  {
   "cell_type": "code",
   "execution_count": 10,
   "metadata": {
    "colab": {},
    "colab_type": "code",
    "id": "E4w7gMrfwJRp"
   },
   "outputs": [],
   "source": [
    "go_env = gym.make('gym_go:go-v0', size=BOARD_SIZE)"
   ]
  },
  {
   "cell_type": "markdown",
   "metadata": {},
   "source": [
    "# Preview Model"
   ]
  },
  {
   "cell_type": "code",
   "execution_count": 11,
   "metadata": {
    "colab": {},
    "colab_type": "code",
    "id": "o4m-C0k6Ga7q",
    "scrolled": true
   },
   "outputs": [
    {
     "name": "stdout",
     "output_type": "stream",
     "text": [
      "Initialized checkpoint and temp\n",
      "\n",
      "Model: \"sequential\"\n",
      "_________________________________________________________________\n",
      "Layer (type)                 Output Shape              Param #   \n",
      "=================================================================\n",
      "flatten (Flatten)            (None, 96)                0         \n",
      "_________________________________________________________________\n",
      "dense (Dense)                (None, 256)               24832     \n",
      "_________________________________________________________________\n",
      "batch_normalization (BatchNo (None, 256)               1024      \n",
      "_________________________________________________________________\n",
      "re_lu (ReLU)                 (None, 256)               0         \n",
      "_________________________________________________________________\n",
      "dense_1 (Dense)              (None, 512)               131584    \n",
      "_________________________________________________________________\n",
      "batch_normalization_1 (Batch (None, 512)               2048      \n",
      "_________________________________________________________________\n",
      "re_lu_1 (ReLU)               (None, 512)               0         \n",
      "_________________________________________________________________\n",
      "dense_2 (Dense)              (None, 256)               131328    \n",
      "_________________________________________________________________\n",
      "batch_normalization_2 (Batch (None, 256)               1024      \n",
      "_________________________________________________________________\n",
      "re_lu_2 (ReLU)               (None, 256)               0         \n",
      "_________________________________________________________________\n",
      "dense_3 (Dense)              (None, 128)               32896     \n",
      "_________________________________________________________________\n",
      "re_lu_3 (ReLU)               (None, 128)               0         \n",
      "_________________________________________________________________\n",
      "dense_4 (Dense)              (None, 1)                 129       \n",
      "=================================================================\n",
      "Total params: 324,865\n",
      "Trainable params: 322,817\n",
      "Non-trainable params: 2,048\n",
      "_________________________________________________________________\n"
     ]
    }
   ],
   "source": [
    "if LOAD_SAVED_MODELS:\n",
    "    assert os.path.exists(CHECKPOINT_PATH)\n",
    "    print(\"Starting from checkpoint\")\n",
    "else:\n",
    "    val_net = value_model.make_model(BOARD_SIZE)\n",
    "    val_net.save(CHECKPOINT_PATH)\n",
    "    print(\"Initialized checkpoint and temp\") \n",
    "print()\n",
    "    \n",
    "# Sync temp with checkpoint\n",
    "shutil.copy(CHECKPOINT_PATH, TMP_MODEL_PATH)\n",
    "\n",
    "model = tf.keras.models.load_model(TMP_MODEL_PATH)\n",
    "model.summary()"
   ]
  },
  {
   "cell_type": "markdown",
   "metadata": {},
   "source": [
    "# Policies"
   ]
  },
  {
   "cell_type": "code",
   "execution_count": 12,
   "metadata": {},
   "outputs": [],
   "source": [
    "tmp_policy_args = policies.PolicyArgs('qtemp', BOARD_SIZE, TMP_MODEL_PATH, name='tmp', temperature=1/64)\n",
    "checkpoint_policy_args = policies.PolicyArgs('qtemp', BOARD_SIZE, CHECKPOINT_PATH, name='checkpoint', \n",
    "                                             temperature=1/64)\n",
    "random_policy_args = policies.PolicyArgs('random', BOARD_SIZE)\n",
    "greedy_policy_args = policies.PolicyArgs('greedy', BOARD_SIZE)\n",
    "human_policy_args = policies.PolicyArgs('human', BOARD_SIZE)"
   ]
  },
  {
   "cell_type": "markdown",
   "metadata": {
    "colab_type": "text",
    "id": "nVCEKWx_Ga7r"
   },
   "source": [
    "# Demo and Time Games"
   ]
  },
  {
   "cell_type": "markdown",
   "metadata": {
    "colab_type": "text",
    "id": "YSQ1RFHuGa7r"
   },
   "source": [
    "Symmetries"
   ]
  },
  {
   "cell_type": "code",
   "execution_count": 13,
   "metadata": {
    "colab": {},
    "colab_type": "code",
    "id": "98jmZoKvwJRv"
   },
   "outputs": [
    {
     "name": "stdout",
     "output_type": "stream",
     "text": [
      "CPU times: user 190 ms, sys: 5.5 ms, total: 195 ms\n",
      "Wall time: 194 ms\n"
     ]
    }
   ],
   "source": [
    "%%time\n",
    "go_env.reset()\n",
    "action = (1, 1)\n",
    "next_state, _, _, _ = go_env.step(action)\n",
    "metrics.plot_symmetries(next_state, 'logs/symmetries.jpg')"
   ]
  },
  {
   "cell_type": "markdown",
   "metadata": {},
   "source": [
    "With replay memory"
   ]
  },
  {
   "cell_type": "code",
   "execution_count": 14,
   "metadata": {
    "scrolled": false
   },
   "outputs": [
    {
     "name": "stderr",
     "output_type": "stream",
     "text": [
      "Episode worker: 1it [00:00, 14.57it/s]\n",
      "tmp vs. tmp: 100%|██████████| 1/1 [00:00<00:00, 1016.31it/s, 100.0% WIN]"
     ]
    },
    {
     "name": "stdout",
     "output_type": "stream",
     "text": [
      "CPU times: user 255 ms, sys: 9.82 ms, total: 265 ms\n",
      "Wall time: 259 ms\n"
     ]
    },
    {
     "name": "stderr",
     "output_type": "stream",
     "text": [
      "\n"
     ]
    },
    {
     "data": {
      "text/plain": [
       "1.0"
      ]
     },
     "execution_count": 14,
     "metadata": {},
     "output_type": "execute_result"
    }
   ],
   "source": [
    "%%time\n",
    "data.make_episodes(tmp_policy_args, tmp_policy_args, 1, num_workers=1, \n",
    "                   outdir=EPISODES_DIR)"
   ]
  },
  {
   "cell_type": "code",
   "execution_count": 15,
   "metadata": {
    "colab": {},
    "colab_type": "code",
    "id": "ZrTjrYjBGa7u"
   },
   "outputs": [
    {
     "name": "stdout",
     "output_type": "stream",
     "text": [
      "CPU times: user 2.33 s, sys: 103 ms, total: 2.43 s\n",
      "Wall time: 1.83 s\n"
     ]
    }
   ],
   "source": [
    "%%time\n",
    "fig = metrics.gen_traj_fig(go_env, tmp_policy_args)\n",
    "fig.savefig(DEMO_TRAJECTORY_PATH)\n",
    "plt.close()"
   ]
  },
  {
   "cell_type": "markdown",
   "metadata": {
    "colab_type": "text",
    "id": "qNBj_gKPwJR_"
   },
   "source": [
    "# Train"
   ]
  },
  {
   "cell_type": "code",
   "execution_count": null,
   "metadata": {
    "colab": {
     "base_uri": "https://localhost:8080/",
     "height": 1000
    },
    "colab_type": "code",
    "id": "LT1PUXyXwJR_",
    "outputId": "100dda95-316e-457c-b1f3-c8bf82243c52",
    "scrolled": false
   },
   "outputs": [
    {
     "name": "stdout",
     "output_type": "stream",
     "text": [
      "Iteration 0\n"
     ]
    },
    {
     "name": "stderr",
     "output_type": "stream",
     "text": [
      "tmp vs. tmp: 100%|██████████| 128/128 [00:10<00:00, 12.44it/s, 46.9% WIN]\n"
     ]
    },
    {
     "name": "stdout",
     "output_type": "stream",
     "text": [
      "Train on 1529 samples\n",
      "WARNING:tensorflow:From /usr/local/lib/python3.7/site-packages/tensorflow_core/python/ops/nn_impl.py:183: where (from tensorflow.python.ops.array_ops) is deprecated and will be removed in a future version.\n",
      "Instructions for updating:\n",
      "Use tf.where in 2.0, which has the same broadcast rule as np.where\n",
      "WARNING:tensorflow:Entity <function Function._initialize_uninitialized_variables.<locals>.initialize_variables at 0x13f3e7b90> could not be transformed and will be executed as-is. Please report this to the AutoGraph team. When filing the bug, set the verbosity to 10 (on Linux, `export AUTOGRAPH_VERBOSITY=10`) and attach the full output. Cause: module 'gast' has no attribute 'Num'\n",
      "WARNING: Entity <function Function._initialize_uninitialized_variables.<locals>.initialize_variables at 0x13f3e7b90> could not be transformed and will be executed as-is. Please report this to the AutoGraph team. When filing the bug, set the verbosity to 10 (on Linux, `export AUTOGRAPH_VERBOSITY=10`) and attach the full output. Cause: module 'gast' has no attribute 'Num'\n",
      "1529/1529 [==============================] - 1s 810us/sample - loss: 0.6305 - binary_accuracy: 0.6521\n"
     ]
    },
    {
     "name": "stderr",
     "output_type": "stream",
     "text": [
      "tmp vs. checkpoint: 100%|██████████| 128/128 [00:13<00:00,  9.36it/s, 94.1% WIN]\n"
     ]
    },
    {
     "name": "stdout",
     "output_type": "stream",
     "text": [
      "94.1% Accepted new model\n"
     ]
    },
    {
     "name": "stderr",
     "output_type": "stream",
     "text": [
      "tmp vs. random: 100%|██████████| 128/128 [00:10<00:00, 12.17it/s, 87.5% WIN]\n",
      "tmp vs. greedy: 100%|██████████| 128/128 [00:16<00:00,  7.71it/s, 34.4% WIN]\n"
     ]
    },
    {
     "name": "stdout",
     "output_type": "stream",
     "text": [
      "34.4%G 87.5%R\n",
      "Iteration 1\n"
     ]
    },
    {
     "name": "stderr",
     "output_type": "stream",
     "text": [
      "tmp vs. tmp: 100%|██████████| 128/128 [00:16<00:00,  7.77it/s, 49.6% WIN]\n"
     ]
    },
    {
     "name": "stdout",
     "output_type": "stream",
     "text": [
      "Train on 2972 samples\n",
      "2972/2972 [==============================] - 1s 405us/sample - loss: 0.6315 - binary_accuracy: 0.6480\n"
     ]
    },
    {
     "name": "stderr",
     "output_type": "stream",
     "text": [
      "tmp vs. checkpoint: 100%|██████████| 128/128 [00:18<00:00,  6.90it/s, 54.3% WIN]\n"
     ]
    },
    {
     "name": "stdout",
     "output_type": "stream",
     "text": [
      "54.3% Continuing to train current weights\n",
      "Iteration 2\n"
     ]
    },
    {
     "name": "stderr",
     "output_type": "stream",
     "text": [
      "tmp vs. tmp: 100%|██████████| 128/128 [00:16<00:00,  7.90it/s, 58.6% WIN]\n"
     ]
    },
    {
     "name": "stdout",
     "output_type": "stream",
     "text": [
      "Train on 2731 samples\n",
      "2731/2731 [==============================] - 1s 422us/sample - loss: 0.5282 - binary_accuracy: 0.7323\n"
     ]
    },
    {
     "name": "stderr",
     "output_type": "stream",
     "text": [
      "tmp vs. checkpoint: 100%|██████████| 128/128 [00:17<00:00,  7.33it/s, 65.6% WIN]\n"
     ]
    },
    {
     "name": "stdout",
     "output_type": "stream",
     "text": [
      "65.6% Accepted new model\n"
     ]
    },
    {
     "name": "stderr",
     "output_type": "stream",
     "text": [
      "tmp vs. random: 100%|██████████| 128/128 [00:11<00:00, 11.62it/s, 94.5% WIN]\n",
      "tmp vs. greedy: 100%|██████████| 128/128 [00:15<00:00,  8.20it/s, 54.7% WIN]\n"
     ]
    },
    {
     "name": "stdout",
     "output_type": "stream",
     "text": [
      "54.7%G 94.5%R\n",
      "Iteration 3\n"
     ]
    },
    {
     "name": "stderr",
     "output_type": "stream",
     "text": [
      "tmp vs. tmp: 100%|██████████| 128/128 [00:15<00:00,  8.17it/s, 43.4% WIN]\n"
     ]
    },
    {
     "name": "stdout",
     "output_type": "stream",
     "text": [
      "Train on 2515 samples\n",
      "2515/2515 [==============================] - 1s 473us/sample - loss: 0.5259 - binary_accuracy: 0.7149\n"
     ]
    },
    {
     "name": "stderr",
     "output_type": "stream",
     "text": [
      "tmp vs. checkpoint: 100%|██████████| 128/128 [00:12<00:00, 10.36it/s, 9.0% WIN]\n"
     ]
    },
    {
     "name": "stdout",
     "output_type": "stream",
     "text": [
      "9.0% Rejected new model\n",
      "Iteration 4\n"
     ]
    },
    {
     "name": "stderr",
     "output_type": "stream",
     "text": [
      "tmp vs. tmp: 100%|██████████| 128/128 [00:15<00:00,  8.26it/s, 58.6% WIN]\n"
     ]
    },
    {
     "name": "stdout",
     "output_type": "stream",
     "text": [
      "Train on 2367 samples\n",
      "2367/2367 [==============================] - 1s 346us/sample - loss: 0.5646 - binary_accuracy: 0.6958\n"
     ]
    },
    {
     "name": "stderr",
     "output_type": "stream",
     "text": [
      "tmp vs. checkpoint: 100%|██████████| 128/128 [00:17<00:00,  7.15it/s, 60.5% WIN]\n"
     ]
    },
    {
     "name": "stdout",
     "output_type": "stream",
     "text": [
      "60.5% Accepted new model\n"
     ]
    },
    {
     "name": "stderr",
     "output_type": "stream",
     "text": [
      "tmp vs. random: 100%|██████████| 128/128 [00:11<00:00, 11.43it/s, 98.8% WIN]\n",
      "tmp vs. greedy: 100%|██████████| 128/128 [00:16<00:00,  7.78it/s, 47.3% WIN]\n"
     ]
    },
    {
     "name": "stdout",
     "output_type": "stream",
     "text": [
      "47.3%G 98.8%R\n",
      "Iteration 5\n"
     ]
    },
    {
     "name": "stderr",
     "output_type": "stream",
     "text": [
      "tmp vs. tmp: 100%|██████████| 128/128 [00:16<00:00,  7.80it/s, 53.9% WIN]\n"
     ]
    },
    {
     "name": "stdout",
     "output_type": "stream",
     "text": [
      "Train on 2966 samples\n",
      "2966/2966 [==============================] - 1s 301us/sample - loss: 0.5441 - binary_accuracy: 0.6902\n"
     ]
    },
    {
     "name": "stderr",
     "output_type": "stream",
     "text": [
      "tmp vs. checkpoint: 100%|██████████| 128/128 [00:18<00:00,  6.76it/s, 70.7% WIN]\n"
     ]
    },
    {
     "name": "stdout",
     "output_type": "stream",
     "text": [
      "70.7% Accepted new model\n"
     ]
    },
    {
     "name": "stderr",
     "output_type": "stream",
     "text": [
      "tmp vs. random: 100%|██████████| 128/128 [00:12<00:00, 10.59it/s, 95.7% WIN]\n",
      "tmp vs. greedy: 100%|██████████| 128/128 [00:16<00:00,  7.80it/s, 68.0% WIN]\n"
     ]
    },
    {
     "name": "stdout",
     "output_type": "stream",
     "text": [
      "68.0%G 95.7%R\n",
      "Iteration 6\n"
     ]
    },
    {
     "name": "stderr",
     "output_type": "stream",
     "text": [
      "tmp vs. tmp: 100%|██████████| 128/128 [00:16<00:00,  7.61it/s, 52.3% WIN]\n"
     ]
    },
    {
     "name": "stdout",
     "output_type": "stream",
     "text": [
      "Train on 3140 samples\n",
      "3140/3140 [==============================] - 1s 286us/sample - loss: 0.4575 - binary_accuracy: 0.7414\n"
     ]
    },
    {
     "name": "stderr",
     "output_type": "stream",
     "text": [
      "tmp vs. checkpoint: 100%|██████████| 128/128 [00:20<00:00,  6.40it/s, 46.9% WIN]\n"
     ]
    },
    {
     "name": "stdout",
     "output_type": "stream",
     "text": [
      "46.9% Rejected new model\n",
      "Iteration 7\n"
     ]
    },
    {
     "name": "stderr",
     "output_type": "stream",
     "text": [
      "tmp vs. tmp: 100%|██████████| 128/128 [00:17<00:00,  7.15it/s, 43.8% WIN]\n"
     ]
    },
    {
     "name": "stdout",
     "output_type": "stream",
     "text": [
      "Train on 3066 samples\n",
      "3066/3066 [==============================] - 1s 287us/sample - loss: 0.5379 - binary_accuracy: 0.6967\n"
     ]
    },
    {
     "name": "stderr",
     "output_type": "stream",
     "text": [
      "tmp vs. checkpoint: 100%|██████████| 128/128 [00:19<00:00,  6.57it/s, 45.7% WIN]\n"
     ]
    },
    {
     "name": "stdout",
     "output_type": "stream",
     "text": [
      "45.7% Rejected new model\n",
      "Iteration 8\n"
     ]
    },
    {
     "name": "stderr",
     "output_type": "stream",
     "text": [
      "tmp vs. tmp: 100%|██████████| 128/128 [00:18<00:00,  7.03it/s, 55.9% WIN]\n"
     ]
    },
    {
     "name": "stdout",
     "output_type": "stream",
     "text": [
      "Train on 3130 samples\n",
      "3130/3130 [==============================] - 1s 285us/sample - loss: 0.4945 - binary_accuracy: 0.7204\n"
     ]
    },
    {
     "name": "stderr",
     "output_type": "stream",
     "text": [
      "tmp vs. checkpoint: 100%|██████████| 128/128 [00:19<00:00,  6.44it/s, 55.9% WIN]\n"
     ]
    },
    {
     "name": "stdout",
     "output_type": "stream",
     "text": [
      "55.9% Continuing to train current weights\n",
      "Iteration 9\n"
     ]
    },
    {
     "name": "stderr",
     "output_type": "stream",
     "text": [
      "tmp vs. tmp: 100%|██████████| 128/128 [00:17<00:00,  7.27it/s, 58.6% WIN]\n"
     ]
    },
    {
     "name": "stdout",
     "output_type": "stream",
     "text": [
      "Train on 2778 samples\n",
      "2778/2778 [==============================] - 1s 312us/sample - loss: 0.4759 - binary_accuracy: 0.7379\n"
     ]
    },
    {
     "name": "stderr",
     "output_type": "stream",
     "text": [
      "tmp vs. checkpoint: 100%|██████████| 128/128 [00:20<00:00,  6.20it/s, 48.0% WIN]\n"
     ]
    },
    {
     "name": "stdout",
     "output_type": "stream",
     "text": [
      "48.0% Rejected new model\n",
      "Iteration 10\n"
     ]
    },
    {
     "name": "stderr",
     "output_type": "stream",
     "text": [
      "tmp vs. tmp: 100%|██████████| 128/128 [00:18<00:00,  6.77it/s, 44.1% WIN]\n"
     ]
    },
    {
     "name": "stdout",
     "output_type": "stream",
     "text": [
      "Train on 3262 samples\n",
      "3262/3262 [==============================] - 1s 282us/sample - loss: 0.5731 - binary_accuracy: 0.6668\n"
     ]
    },
    {
     "name": "stderr",
     "output_type": "stream",
     "text": [
      "tmp vs. checkpoint: 100%|██████████| 128/128 [00:20<00:00,  6.32it/s, 51.6% WIN]\n"
     ]
    },
    {
     "name": "stdout",
     "output_type": "stream",
     "text": [
      "51.6% Continuing to train current weights\n",
      "Iteration 11\n"
     ]
    },
    {
     "name": "stderr",
     "output_type": "stream",
     "text": [
      "tmp vs. tmp: 100%|██████████| 128/128 [00:17<00:00,  7.28it/s, 46.9% WIN]\n"
     ]
    },
    {
     "name": "stdout",
     "output_type": "stream",
     "text": [
      "Train on 2868 samples\n",
      "2868/2868 [==============================] - 1s 302us/sample - loss: 0.4671 - binary_accuracy: 0.7531\n"
     ]
    },
    {
     "name": "stderr",
     "output_type": "stream",
     "text": [
      "tmp vs. checkpoint: 100%|██████████| 128/128 [00:19<00:00,  6.57it/s, 52.0% WIN]\n"
     ]
    },
    {
     "name": "stdout",
     "output_type": "stream",
     "text": [
      "52.0% Continuing to train current weights\n",
      "Iteration 12\n"
     ]
    },
    {
     "name": "stderr",
     "output_type": "stream",
     "text": [
      "tmp vs. tmp: 100%|██████████| 128/128 [00:18<00:00,  6.88it/s, 52.3% WIN]\n"
     ]
    },
    {
     "name": "stdout",
     "output_type": "stream",
     "text": [
      "Train on 3118 samples\n",
      "3118/3118 [==============================] - 1s 288us/sample - loss: 0.5292 - binary_accuracy: 0.7117\n"
     ]
    },
    {
     "name": "stderr",
     "output_type": "stream",
     "text": [
      "tmp vs. checkpoint: 100%|██████████| 128/128 [00:19<00:00,  6.58it/s, 55.9% WIN]\n"
     ]
    },
    {
     "name": "stdout",
     "output_type": "stream",
     "text": [
      "55.9% Continuing to train current weights\n",
      "Iteration 13\n"
     ]
    },
    {
     "name": "stderr",
     "output_type": "stream",
     "text": [
      "tmp vs. tmp: 100%|██████████| 128/128 [00:17<00:00,  7.26it/s, 51.6% WIN]\n"
     ]
    },
    {
     "name": "stdout",
     "output_type": "stream",
     "text": [
      "Train on 2805 samples\n",
      "2805/2805 [==============================] - 1s 310us/sample - loss: 0.4846 - binary_accuracy: 0.7316\n"
     ]
    },
    {
     "name": "stderr",
     "output_type": "stream",
     "text": [
      "tmp vs. checkpoint: 100%|██████████| 128/128 [00:20<00:00,  6.22it/s, 47.3% WIN]\n"
     ]
    },
    {
     "name": "stdout",
     "output_type": "stream",
     "text": [
      "47.3% Rejected new model\n",
      "Iteration 14\n"
     ]
    },
    {
     "name": "stderr",
     "output_type": "stream",
     "text": [
      "tmp vs. tmp: 100%|██████████| 128/128 [00:18<00:00,  7.06it/s, 44.5% WIN]\n"
     ]
    },
    {
     "name": "stdout",
     "output_type": "stream",
     "text": [
      "Train on 3125 samples\n",
      "3125/3125 [==============================] - 1s 289us/sample - loss: 0.5571 - binary_accuracy: 0.6931\n"
     ]
    },
    {
     "name": "stderr",
     "output_type": "stream",
     "text": [
      "tmp vs. checkpoint: 100%|██████████| 128/128 [00:19<00:00,  6.54it/s, 52.7% WIN]\n"
     ]
    },
    {
     "name": "stdout",
     "output_type": "stream",
     "text": [
      "52.7% Continuing to train current weights\n",
      "Iteration 15\n"
     ]
    },
    {
     "name": "stderr",
     "output_type": "stream",
     "text": [
      "tmp vs. tmp: 100%|██████████| 128/128 [00:17<00:00,  7.14it/s, 50.8% WIN]\n"
     ]
    },
    {
     "name": "stdout",
     "output_type": "stream",
     "text": [
      "Train on 2989 samples\n",
      "2989/2989 [==============================] - 1s 295us/sample - loss: 0.4804 - binary_accuracy: 0.7501\n"
     ]
    },
    {
     "name": "stderr",
     "output_type": "stream",
     "text": [
      "tmp vs. checkpoint: 100%|██████████| 128/128 [00:19<00:00,  6.45it/s, 59.4% WIN]\n"
     ]
    },
    {
     "name": "stdout",
     "output_type": "stream",
     "text": [
      "59.4% Continuing to train current weights\n",
      "Iteration 16\n"
     ]
    },
    {
     "name": "stderr",
     "output_type": "stream",
     "text": [
      "tmp vs. tmp: 100%|██████████| 128/128 [00:18<00:00,  6.90it/s, 54.7% WIN]\n"
     ]
    },
    {
     "name": "stdout",
     "output_type": "stream",
     "text": [
      "Train on 3220 samples\n",
      "3220/3220 [==============================] - 1s 286us/sample - loss: 0.5018 - binary_accuracy: 0.7398\n"
     ]
    },
    {
     "name": "stderr",
     "output_type": "stream",
     "text": [
      "tmp vs. checkpoint: 100%|██████████| 128/128 [00:19<00:00,  6.52it/s, 65.2% WIN]\n"
     ]
    },
    {
     "name": "stdout",
     "output_type": "stream",
     "text": [
      "65.2% Accepted new model\n"
     ]
    },
    {
     "name": "stderr",
     "output_type": "stream",
     "text": [
      "tmp vs. random: 100%|██████████| 128/128 [00:11<00:00, 10.80it/s, 98.0% WIN]\n",
      "tmp vs. greedy: 100%|██████████| 128/128 [00:16<00:00,  7.81it/s, 69.5% WIN]\n"
     ]
    },
    {
     "name": "stdout",
     "output_type": "stream",
     "text": [
      "69.5%G 98.0%R\n",
      "Iteration 17\n"
     ]
    },
    {
     "name": "stderr",
     "output_type": "stream",
     "text": [
      "tmp vs. tmp: 100%|██████████| 128/128 [00:17<00:00,  7.24it/s, 44.5% WIN]\n"
     ]
    },
    {
     "name": "stdout",
     "output_type": "stream",
     "text": [
      "Train on 3172 samples\n",
      "3172/3172 [==============================] - 1s 286us/sample - loss: 0.4444 - binary_accuracy: 0.7525\n"
     ]
    },
    {
     "name": "stderr",
     "output_type": "stream",
     "text": [
      "tmp vs. checkpoint: 100%|██████████| 128/128 [00:20<00:00,  6.23it/s, 39.8% WIN]\n"
     ]
    },
    {
     "name": "stdout",
     "output_type": "stream",
     "text": [
      "39.8% Rejected new model\n",
      "Iteration 18\n"
     ]
    },
    {
     "name": "stderr",
     "output_type": "stream",
     "text": [
      "tmp vs. tmp: 100%|██████████| 128/128 [00:17<00:00,  7.37it/s, 49.2% WIN]\n"
     ]
    },
    {
     "name": "stdout",
     "output_type": "stream",
     "text": [
      "Train on 3051 samples\n",
      "3051/3051 [==============================] - 1s 297us/sample - loss: 0.4749 - binary_accuracy: 0.7509\n"
     ]
    },
    {
     "name": "stderr",
     "output_type": "stream",
     "text": [
      "tmp vs. checkpoint: 100%|██████████| 128/128 [00:19<00:00,  6.62it/s, 54.3% WIN]\n"
     ]
    },
    {
     "name": "stdout",
     "output_type": "stream",
     "text": [
      "54.3% Continuing to train current weights\n",
      "Iteration 19\n"
     ]
    },
    {
     "name": "stderr",
     "output_type": "stream",
     "text": [
      "tmp vs. tmp: 100%|██████████| 128/128 [00:18<00:00,  7.06it/s, 57.8% WIN]\n"
     ]
    },
    {
     "name": "stdout",
     "output_type": "stream",
     "text": [
      "Train on 3141 samples\n",
      "3141/3141 [==============================] - 1s 294us/sample - loss: 0.4954 - binary_accuracy: 0.7284\n"
     ]
    },
    {
     "name": "stderr",
     "output_type": "stream",
     "text": [
      "tmp vs. checkpoint: 100%|██████████| 128/128 [00:19<00:00,  6.48it/s, 40.6% WIN]\n"
     ]
    },
    {
     "name": "stdout",
     "output_type": "stream",
     "text": [
      "40.6% Rejected new model\n",
      "Iteration 20\n"
     ]
    },
    {
     "name": "stderr",
     "output_type": "stream",
     "text": [
      "tmp vs. tmp: 100%|██████████| 128/128 [00:19<00:00,  6.63it/s, 47.7% WIN]\n"
     ]
    },
    {
     "name": "stdout",
     "output_type": "stream",
     "text": [
      "Train on 3195 samples\n",
      "3195/3195 [==============================] - 1s 288us/sample - loss: 0.5022 - binary_accuracy: 0.7180\n"
     ]
    },
    {
     "name": "stderr",
     "output_type": "stream",
     "text": [
      "tmp vs. checkpoint: 100%|██████████| 128/128 [00:20<00:00,  6.39it/s, 58.2% WIN]\n"
     ]
    },
    {
     "name": "stdout",
     "output_type": "stream",
     "text": [
      "58.2% Continuing to train current weights\n",
      "Iteration 21\n"
     ]
    },
    {
     "name": "stderr",
     "output_type": "stream",
     "text": [
      "tmp vs. tmp: 100%|██████████| 128/128 [00:20<00:00,  6.36it/s, 52.7% WIN]\n"
     ]
    },
    {
     "name": "stdout",
     "output_type": "stream",
     "text": [
      "Train on 3179 samples\n",
      "3179/3179 [==============================] - 1s 295us/sample - loss: 0.5050 - binary_accuracy: 0.7307\n"
     ]
    },
    {
     "name": "stderr",
     "output_type": "stream",
     "text": [
      "tmp vs. checkpoint: 100%|██████████| 128/128 [00:17<00:00,  7.46it/s, 28.5% WIN]\n"
     ]
    },
    {
     "name": "stdout",
     "output_type": "stream",
     "text": [
      "28.5% Rejected new model\n",
      "Iteration 22\n"
     ]
    },
    {
     "name": "stderr",
     "output_type": "stream",
     "text": [
      "tmp vs. tmp: 100%|██████████| 128/128 [00:18<00:00,  6.96it/s, 48.4% WIN]\n"
     ]
    },
    {
     "name": "stdout",
     "output_type": "stream",
     "text": [
      "Train on 3027 samples\n",
      "3027/3027 [==============================] - 1s 310us/sample - loss: 0.4864 - binary_accuracy: 0.7443\n"
     ]
    },
    {
     "name": "stderr",
     "output_type": "stream",
     "text": [
      "tmp vs. checkpoint: 100%|██████████| 128/128 [00:19<00:00,  6.43it/s, 62.5% WIN]\n"
     ]
    },
    {
     "name": "stdout",
     "output_type": "stream",
     "text": [
      "62.5% Accepted new model\n"
     ]
    },
    {
     "name": "stderr",
     "output_type": "stream",
     "text": [
      "tmp vs. random: 100%|██████████| 128/128 [00:11<00:00, 10.74it/s, 97.7% WIN]\n",
      "tmp vs. greedy: 100%|██████████| 128/128 [00:16<00:00,  7.62it/s, 79.3% WIN]\n"
     ]
    },
    {
     "name": "stdout",
     "output_type": "stream",
     "text": [
      "79.3%G 97.7%R\n",
      "Iteration 23\n"
     ]
    },
    {
     "name": "stderr",
     "output_type": "stream",
     "text": [
      "tmp vs. tmp: 100%|██████████| 128/128 [00:20<00:00,  6.15it/s, 51.6% WIN]\n"
     ]
    },
    {
     "name": "stdout",
     "output_type": "stream",
     "text": [
      "Train on 2913 samples\n",
      "2913/2913 [==============================] - 1s 313us/sample - loss: 0.4961 - binary_accuracy: 0.7209\n"
     ]
    },
    {
     "name": "stderr",
     "output_type": "stream",
     "text": [
      "tmp vs. checkpoint: 100%|██████████| 128/128 [00:22<00:00,  5.63it/s, 41.0% WIN]\n"
     ]
    },
    {
     "name": "stdout",
     "output_type": "stream",
     "text": [
      "41.0% Rejected new model\n",
      "Iteration 24\n"
     ]
    },
    {
     "name": "stderr",
     "output_type": "stream",
     "text": [
      "tmp vs. tmp: 100%|██████████| 128/128 [00:23<00:00,  5.43it/s, 51.6% WIN]\n"
     ]
    },
    {
     "name": "stdout",
     "output_type": "stream",
     "text": [
      "Train on 2981 samples\n",
      "2981/2981 [==============================] - 1s 365us/sample - loss: 0.4823 - binary_accuracy: 0.7310\n"
     ]
    },
    {
     "name": "stderr",
     "output_type": "stream",
     "text": [
      "tmp vs. checkpoint: 100%|██████████| 128/128 [00:25<00:00,  4.94it/s, 37.1% WIN]\n"
     ]
    },
    {
     "name": "stdout",
     "output_type": "stream",
     "text": [
      "37.1% Rejected new model\n",
      "Iteration 25\n"
     ]
    },
    {
     "name": "stderr",
     "output_type": "stream",
     "text": [
      "tmp vs. tmp: 100%|██████████| 128/128 [00:20<00:00,  6.26it/s, 60.5% WIN]\n"
     ]
    },
    {
     "name": "stdout",
     "output_type": "stream",
     "text": [
      "Train on 2889 samples\n",
      "2889/2889 [==============================] - 1s 339us/sample - loss: 0.4444 - binary_accuracy: 0.7560\n"
     ]
    },
    {
     "name": "stderr",
     "output_type": "stream",
     "text": [
      "tmp vs. checkpoint: 100%|██████████| 128/128 [00:23<00:00,  5.53it/s, 36.7% WIN]\n"
     ]
    },
    {
     "name": "stdout",
     "output_type": "stream",
     "text": [
      "36.7% Rejected new model\n",
      "Iteration 26\n"
     ]
    },
    {
     "name": "stderr",
     "output_type": "stream",
     "text": [
      "tmp vs. tmp: 100%|██████████| 128/128 [00:19<00:00,  6.51it/s, 47.3% WIN]\n"
     ]
    },
    {
     "name": "stdout",
     "output_type": "stream",
     "text": [
      "Train on 2928 samples\n",
      "2928/2928 [==============================] - 1s 336us/sample - loss: 0.4569 - binary_accuracy: 0.7415\n"
     ]
    },
    {
     "name": "stderr",
     "output_type": "stream",
     "text": [
      "tmp vs. checkpoint: 100%|██████████| 128/128 [00:21<00:00,  5.97it/s, 19.5% WIN]\n"
     ]
    },
    {
     "name": "stdout",
     "output_type": "stream",
     "text": [
      "19.5% Rejected new model\n",
      "Iteration 27\n"
     ]
    },
    {
     "name": "stderr",
     "output_type": "stream",
     "text": [
      "tmp vs. tmp: 100%|██████████| 128/128 [00:22<00:00,  5.68it/s, 45.7% WIN]\n"
     ]
    },
    {
     "name": "stdout",
     "output_type": "stream",
     "text": [
      "Train on 2923 samples\n",
      "2923/2923 [==============================] - 1s 327us/sample - loss: 0.4396 - binary_accuracy: 0.7687\n"
     ]
    },
    {
     "name": "stderr",
     "output_type": "stream",
     "text": [
      "tmp vs. checkpoint: 100%|██████████| 128/128 [00:24<00:00,  5.33it/s, 43.0% WIN]\n"
     ]
    },
    {
     "name": "stdout",
     "output_type": "stream",
     "text": [
      "43.0% Rejected new model\n",
      "Iteration 28\n"
     ]
    },
    {
     "name": "stderr",
     "output_type": "stream",
     "text": [
      "tmp vs. tmp: 100%|██████████| 128/128 [00:18<00:00,  7.08it/s, 45.7% WIN]\n"
     ]
    },
    {
     "name": "stdout",
     "output_type": "stream",
     "text": [
      "Train on 2824 samples\n",
      "2824/2824 [==============================] - 1s 337us/sample - loss: 0.4396 - binary_accuracy: 0.7567\n"
     ]
    },
    {
     "name": "stderr",
     "output_type": "stream",
     "text": [
      "tmp vs. checkpoint: 100%|██████████| 128/128 [00:24<00:00,  5.16it/s, 39.5% WIN]\n"
     ]
    },
    {
     "name": "stdout",
     "output_type": "stream",
     "text": [
      "39.5% Rejected new model\n",
      "Iteration 29\n"
     ]
    },
    {
     "name": "stderr",
     "output_type": "stream",
     "text": [
      "tmp vs. tmp: 100%|██████████| 128/128 [00:22<00:00,  5.71it/s, 50.0% WIN]\n"
     ]
    },
    {
     "name": "stdout",
     "output_type": "stream",
     "text": [
      "Train on 2923 samples\n",
      "2923/2923 [==============================] - 1s 339us/sample - loss: 0.4560 - binary_accuracy: 0.7629\n"
     ]
    },
    {
     "name": "stderr",
     "output_type": "stream",
     "text": [
      "tmp vs. checkpoint: 100%|██████████| 128/128 [00:22<00:00,  5.63it/s, 45.7% WIN]\n"
     ]
    },
    {
     "name": "stdout",
     "output_type": "stream",
     "text": [
      "45.7% Rejected new model\n",
      "Iteration 30\n"
     ]
    },
    {
     "name": "stderr",
     "output_type": "stream",
     "text": [
      "tmp vs. tmp: 100%|██████████| 128/128 [00:20<00:00,  6.14it/s, 53.9% WIN]\n"
     ]
    },
    {
     "name": "stdout",
     "output_type": "stream",
     "text": [
      "Train on 2919 samples\n",
      "2919/2919 [==============================] - 1s 331us/sample - loss: 0.4853 - binary_accuracy: 0.7413\n"
     ]
    },
    {
     "name": "stderr",
     "output_type": "stream",
     "text": [
      "tmp vs. checkpoint:  48%|████▊     | 61/128 [00:18<00:08,  8.05it/s, 36.1% WIN]"
     ]
    }
   ],
   "source": [
    "for iteration in range(ITERATIONS):\n",
    "    print(f\"Iteration {iteration}\")\n",
    "    \n",
    "    # Make and write out the episode data\n",
    "    data.make_episodes(tmp_policy_args, tmp_policy_args, EPISODES_PER_ITERATION, \n",
    "                       num_workers=NUM_WORKERS, outdir=EPISODES_DIR, \n",
    "                       random_beginning=RANDOM_BEGINNING)\n",
    "    # Read in the episode data\n",
    "    replay_data = data.episodes_from_dir(EPISODES_DIR)\n",
    "\n",
    "    # Optimize\n",
    "    value_model.optimize(tmp_policy_args, replay_data, BATCH_SIZE)\n",
    "    \n",
    "    # Evaluate against checkpoint model and other baselines\n",
    "    opp_win_rate = data.make_episodes(tmp_policy_args, checkpoint_policy_args, \n",
    "                                      NUM_EVAL_GAMES, NUM_WORKERS, \n",
    "                                      random_beginning=RANDOM_BEGINNING)\n",
    "\n",
    "    # If it's better than the checkpoint, update\n",
    "    if opp_win_rate > 0.6:\n",
    "        shutil.copy(TMP_MODEL_PATH, CHECKPOINT_PATH)\n",
    "        print(f\"{100*opp_win_rate:.1f}% Accepted new model\")\n",
    "        rand_win_rate = data.make_episodes(tmp_policy_args, random_policy_args, \n",
    "                                           NUM_EVAL_GAMES, NUM_WORKERS, \n",
    "                                           random_beginning=0)\n",
    "        greed_win_rate = data.make_episodes(tmp_policy_args, greedy_policy_args, \n",
    "                                            NUM_EVAL_GAMES, NUM_WORKERS, \n",
    "                                            random_beginning=0)\n",
    "        print(f\"{100*greed_win_rate:.1f}%G {100*rand_win_rate:.1f}%R\")\n",
    "\n",
    "        # Plot samples of states and response heatmaps\n",
    "        fig = metrics.gen_traj_fig(go_env, tmp_policy_args)\n",
    "        fig.savefig(DEMO_TRAJECTORY_PATH)\n",
    "        plt.close()\n",
    "\n",
    "    elif opp_win_rate >= 0.5:\n",
    "        print(f\"{100*opp_win_rate:.1f}% Continuing to train current weights\")\n",
    "\n",
    "    else:\n",
    "        shutil.copy(CHECKPOINT_PATH, TMP_MODEL_PATH)\n",
    "        print(f\"{100*opp_win_rate:.1f}% Rejected new model\")"
   ]
  },
  {
   "cell_type": "markdown",
   "metadata": {
    "colab_type": "text",
    "id": "NyMNxMAWwJR_"
   },
   "source": [
    "# Evaluate"
   ]
  },
  {
   "cell_type": "markdown",
   "metadata": {
    "colab_type": "text",
    "id": "Moy9uJ6fGa7z"
   },
   "source": [
    "Play against our AI"
   ]
  },
  {
   "cell_type": "code",
   "execution_count": null,
   "metadata": {
    "colab": {},
    "colab_type": "code",
    "id": "97j_uYY9wJSA"
   },
   "outputs": [],
   "source": [
    "data.make_episodes(checkpoint_policy_args, human_policy_args, 1)"
   ]
  },
  {
   "cell_type": "code",
   "execution_count": null,
   "metadata": {
    "colab": {},
    "colab_type": "code",
    "id": "emKESg3hGa71"
   },
   "outputs": [],
   "source": []
  }
 ],
 "metadata": {
  "accelerator": "GPU",
  "colab": {
   "collapsed_sections": [],
   "name": "Copy of go_ai.ipynb",
   "provenance": []
  },
  "kernelspec": {
   "display_name": "Python 3",
   "language": "python",
   "name": "python3"
  },
  "language_info": {
   "codemirror_mode": {
    "name": "ipython",
    "version": 3
   },
   "file_extension": ".py",
   "mimetype": "text/x-python",
   "name": "python",
   "nbconvert_exporter": "python",
   "pygments_lexer": "ipython3",
   "version": "3.7.4"
  },
  "widgets": {
   "application/vnd.jupyter.widget-state+json": {
    "state": {},
    "version_major": 2,
    "version_minor": 0
   }
  }
 },
 "nbformat": 4,
 "nbformat_minor": 1
}
