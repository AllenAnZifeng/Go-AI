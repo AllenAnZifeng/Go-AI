{
 "cells": [
  {
   "cell_type": "code",
   "execution_count": 1,
   "metadata": {
    "colab": {
     "base_uri": "https://localhost:8080/",
     "height": 740
    },
    "colab_type": "code",
    "id": "5YQ7bYMnwJRa",
    "outputId": "65617db9-e466-4ec7-d8e9-d829a89dc2a1"
   },
   "outputs": [],
   "source": [
    "%%capture\n",
    "!pip3 install tensorflow==2.0.0-beta1\n",
    "\n",
    "# Load the TensorBoard notebook extension\n",
    "# Restart the jupyter notebook if you just installed TF 2.0 Beta\n",
    "%load_ext tensorboard"
   ]
  },
  {
   "cell_type": "code",
   "execution_count": 2,
   "metadata": {
    "colab": {},
    "colab_type": "code",
    "id": "88zLHqvDwJRj"
   },
   "outputs": [],
   "source": [
    "import tensorflow as tf\n",
    "import matplotlib.pyplot as plt\n",
    "import numpy as np\n",
    "import gym\n",
    "import datetime\n",
    "from tqdm import tqdm\n",
    "import logging\n",
    "import random"
   ]
  },
  {
   "cell_type": "code",
   "execution_count": 3,
   "metadata": {
    "colab": {},
    "colab_type": "code",
    "id": "fc1lqGjPwJRm"
   },
   "outputs": [],
   "source": [
    "!rm -rf ./logs/"
   ]
  },
  {
   "cell_type": "markdown",
   "metadata": {
    "colab_type": "text",
    "id": "szyALIMpwJRo"
   },
   "source": [
    "# Go Environment\n",
    "Train on a small board with heuristic reward for fast training and efficient debugging"
   ]
  },
  {
   "cell_type": "code",
   "execution_count": 4,
   "metadata": {},
   "outputs": [],
   "source": [
    "%%capture\n",
    "!pip3 install -e gym-go"
   ]
  },
  {
   "cell_type": "code",
   "execution_count": 5,
   "metadata": {
    "colab": {},
    "colab_type": "code",
    "id": "E4w7gMrfwJRp"
   },
   "outputs": [],
   "source": [
    "go_env = gym.make('gym_go:go-v0', size='S', reward_method='heuristic')"
   ]
  },
  {
   "cell_type": "code",
   "execution_count": 6,
   "metadata": {
    "colab": {},
    "colab_type": "code",
    "id": "-Ju4HYnKwJRq"
   },
   "outputs": [],
   "source": [
    "BOARD_SIZE = 7"
   ]
  },
  {
   "cell_type": "markdown",
   "metadata": {
    "colab_type": "text",
    "id": "g7ZoRfzIwJRr"
   },
   "source": [
    "# Machine Learning Models\n",
    "Actor-Critic method"
   ]
  },
  {
   "cell_type": "code",
   "execution_count": 7,
   "metadata": {
    "colab": {},
    "colab_type": "code",
    "id": "W9wWb0HvwJRs"
   },
   "outputs": [],
   "source": [
    "from tensorflow.keras import layers"
   ]
  },
  {
   "cell_type": "code",
   "execution_count": 8,
   "metadata": {
    "colab": {},
    "colab_type": "code",
    "id": "BLZ97l11wJRt",
    "scrolled": true
   },
   "outputs": [],
   "source": [
    "class ActorCritic(tf.keras.Model):\n",
    "    def __init__(self, mode):\n",
    "        super().__init__()\n",
    "        \n",
    "        assert mode == 'actor' or mode == 'critic'\n",
    "        \n",
    "        self.main = tf.keras.Sequential([\n",
    "            layers.Conv2D(input_shape=(BOARD_SIZE, BOARD_SIZE, 4), bias_initializer=\"ones\", \n",
    "                          filters=16, kernel_size=5, padding=\"same\"),\n",
    "            layers.BatchNormalization(),\n",
    "            layers.ReLU(),\n",
    "            layers.Conv2D(filters=64, kernel_size=5, padding=\"same\"),\n",
    "            layers.BatchNormalization(),\n",
    "            layers.ReLU(),\n",
    "            layers.Conv2D(filters=64, kernel_size=5, padding=\"same\"),\n",
    "            layers.BatchNormalization(),\n",
    "            layers.ReLU(),\n",
    "            layers.Conv2D(filters=16, kernel_size=5, padding=\"same\"),\n",
    "            layers.BatchNormalization(),\n",
    "            layers.ReLU(),\n",
    "            layers.Conv2D(filters=1, kernel_size=5, padding=\"same\"),\n",
    "            layers.Flatten(),\n",
    "        ])\n",
    "        \n",
    "        if mode == 'actor':\n",
    "            self.main.add(layers.Softmax())\n",
    "            \n",
    "        self.main.add(layers.Reshape((BOARD_SIZE, BOARD_SIZE)))\n",
    "            \n",
    "        \n",
    "        self.pass_decision = tf.keras.Sequential([\n",
    "            layers.Conv2D(input_shape=(BOARD_SIZE, BOARD_SIZE, 4), \n",
    "                          filters=16, kernel_size=5, padding=\"same\"),\n",
    "            layers.BatchNormalization(),\n",
    "            layers.ReLU(),\n",
    "            layers.Conv2D(filters=64, kernel_size=5, padding=\"same\"),\n",
    "            layers.BatchNormalization(),\n",
    "            layers.ReLU(),\n",
    "            layers.Conv2D(filters=64, kernel_size=5, padding=\"same\"),\n",
    "            layers.BatchNormalization(),\n",
    "            layers.ReLU(),\n",
    "            layers.Flatten(),\n",
    "            layers.Dense(4 * BOARD_SIZE**2),\n",
    "            layers.BatchNormalization(),\n",
    "            layers.ReLU(),\n",
    "            layers.Dense(BOARD_SIZE**2),\n",
    "            layers.BatchNormalization(),\n",
    "            layers.ReLU(),\n",
    "            layers.Dense(BOARD_SIZE),\n",
    "            layers.BatchNormalization(),\n",
    "            layers.ReLU(),\n",
    "            layers.Dense(1, activation=\"sigmoid\" if mode == 'actor' else None),\n",
    "        ])\n",
    "    def call(self, inputs):\n",
    "        action_prob_distr = self.main(inputs)\n",
    "        pass_decision = self.pass_decision(inputs)\n",
    "        return action_prob_distr, pass_decision"
   ]
  },
  {
   "cell_type": "code",
   "execution_count": 9,
   "metadata": {},
   "outputs": [],
   "source": [
    "actor = ActorCritic(mode='actor')"
   ]
  },
  {
   "cell_type": "code",
   "execution_count": 10,
   "metadata": {
    "colab": {},
    "colab_type": "code",
    "id": "V-jD8fmbwJRu"
   },
   "outputs": [],
   "source": [
    "critic = ActorCritic(mode='critic')"
   ]
  },
  {
   "cell_type": "code",
   "execution_count": 11,
   "metadata": {},
   "outputs": [],
   "source": [
    "import os\n",
    "def copy_actor_critic(model, mode):\n",
    "    if not os.path.exists('tmp'):\n",
    "        os.mkdir('tmp/')\n",
    "        \n",
    "    model.save_weights('tmp/tmp_model.h5')\n",
    "    clone = ActorCritic(mode=mode)\n",
    "    clone.load_weights('tmp/tmp_model.h5')\n",
    "    return clone"
   ]
  },
  {
   "cell_type": "code",
   "execution_count": 12,
   "metadata": {},
   "outputs": [],
   "source": [
    "opponent = copy_actor_critic(actor, 'actor')\n",
    "target_critic = copy_actor_critic(critic, 'critic')"
   ]
  },
  {
   "cell_type": "code",
   "execution_count": 13,
   "metadata": {
    "colab": {},
    "colab_type": "code",
    "id": "98jmZoKvwJRv"
   },
   "outputs": [],
   "source": [
    "state = go_env.reset()\n",
    "state, reward, done, info = go_env.step((3,5))\n",
    "state, reward, done, info = go_env.step((5,3))"
   ]
  },
  {
   "cell_type": "code",
   "execution_count": 14,
   "metadata": {},
   "outputs": [
    {
     "data": {
      "text/plain": [
       "(4, 7, 7)"
      ]
     },
     "execution_count": 14,
     "metadata": {},
     "output_type": "execute_result"
    }
   ],
   "source": [
    "foo = np.empty((4,7,7))\n",
    "foo.shape"
   ]
  },
  {
   "cell_type": "code",
   "execution_count": 15,
   "metadata": {},
   "outputs": [
    {
     "data": {
      "text/plain": [
       "(3, 7, 7)"
      ]
     },
     "execution_count": 15,
     "metadata": {},
     "output_type": "execute_result"
    }
   ],
   "source": [
    "foo[[0,1,3]].shape"
   ]
  },
  {
   "cell_type": "code",
   "execution_count": 16,
   "metadata": {
    "colab": {},
    "colab_type": "code",
    "id": "uc8i21oJwJRw"
   },
   "outputs": [],
   "source": [
    "def plot_state(state, channels_last=False):\n",
    "    plt.figure()\n",
    "    for i, (layer, name) in enumerate(zip([state[[0,1,3]].transpose(1,2,0).astype(np.float), state[2]] if not channels_last else \n",
    "                                          [state[:,:,[0,1,3]].astype(np.float), state[:,:,2]], \n",
    "                                          ['board', 'invalid'])):\n",
    "        plt.subplot(1,4,i+1)\n",
    "        plt.title(name)\n",
    "        plt.imshow(layer)\n",
    "    plt.tight_layout()"
   ]
  },
  {
   "cell_type": "markdown",
   "metadata": {
    "colab_type": "text",
    "id": "wKcZcVE3wJRx"
   },
   "source": [
    "Tensorflow expects images to be `channels last`. \n",
    "\n",
    "This can be adapted to with `tranpose`.\n",
    "\n",
    "\n",
    "Ensure the `transpose` function doesn't change anything visually"
   ]
  },
  {
   "cell_type": "code",
   "execution_count": 17,
   "metadata": {
    "colab": {},
    "colab_type": "code",
    "id": "3F1bb2VewJRx",
    "outputId": "63618177-2949-450b-d90b-a17d7ebe2d81"
   },
   "outputs": [
    {
     "data": {
      "image/png": "[encoded data removed]",
      "text/plain": [
       "<Figure size 432x288 with 2 Axes>"
      ]
     },
     "metadata": {
      "needs_background": "light"
     },
     "output_type": "display_data"
    }
   ],
   "source": [
    "plot_state(state, channels_last=False)"
   ]
  },
  {
   "cell_type": "code",
   "execution_count": 18,
   "metadata": {
    "colab": {},
    "colab_type": "code",
    "id": "jJWxThQMwJRz"
   },
   "outputs": [],
   "source": [
    "state = state.transpose(1,2,0).reshape(1, BOARD_SIZE, BOARD_SIZE, 4)"
   ]
  },
  {
   "cell_type": "code",
   "execution_count": 19,
   "metadata": {
    "colab": {},
    "colab_type": "code",
    "id": "8VL_dpWgwJRz",
    "outputId": "608f32e9-4186-4f43-a780-ee774c81fe9a"
   },
   "outputs": [
    {
     "data": {
      "image/png": "[encoded data removed]",
      "text/plain": [
       "<Figure size 432x288 with 2 Axes>"
      ]
     },
     "metadata": {
      "needs_background": "light"
     },
     "output_type": "display_data"
    }
   ],
   "source": [
    "plot_state(state[0], channels_last=True)"
   ]
  },
  {
   "cell_type": "markdown",
   "metadata": {
    "colab_type": "text",
    "id": "L9djBWO1wJR1"
   },
   "source": [
    "### Initialization of models should be random"
   ]
  },
  {
   "cell_type": "code",
   "execution_count": 20,
   "metadata": {
    "colab": {},
    "colab_type": "code",
    "id": "3MLnPF4AwJR1"
   },
   "outputs": [],
   "source": [
    "board_probs, pass_decision = actor(state.astype(np.float32))"
   ]
  },
  {
   "cell_type": "code",
   "execution_count": 21,
   "metadata": {
    "colab": {},
    "colab_type": "code",
    "id": "BTqa6IEcwJR3"
   },
   "outputs": [],
   "source": [
    "board_vals, pass_vals = critic(state.astype(np.float32))"
   ]
  },
  {
   "cell_type": "code",
   "execution_count": 22,
   "metadata": {
    "colab": {},
    "colab_type": "code",
    "id": "qH4rDyuowJR3",
    "outputId": "6376f7a8-99ff-4352-e6fc-0eccd05dfa25",
    "scrolled": false
   },
   "outputs": [
    {
     "data": {
      "image/png": "[encoded data removed]",
      "text/plain": [
       "<Figure size 432x288 with 2 Axes>"
      ]
     },
     "metadata": {
      "needs_background": "light"
     },
     "output_type": "display_data"
    }
   ],
   "source": [
    "plt.subplot(1,2,1)\n",
    "plt.title('Actor - Passing Prob: {:.4f}'.format(pass_decision[0][0]))\n",
    "plt.imshow(board_probs[0])\n",
    "plt.subplot(1,2,2)\n",
    "plt.title('Critic - Min: {:.4f}, Max: {:.4f}\\nPass Val: {:.4f}'.\n",
    "          format(tf.math.reduce_min(board_vals[0]), \n",
    "                 tf.math.reduce_max(board_vals[0]), \n",
    "                 pass_vals[0][0]))\n",
    "plt.imshow(board_vals[0])\n",
    "plt.tight_layout()"
   ]
  },
  {
   "cell_type": "markdown",
   "metadata": {
    "colab_type": "text",
    "id": "ViUxxPnUwJR5"
   },
   "source": [
    "# Training Setup"
   ]
  },
  {
   "cell_type": "markdown",
   "metadata": {
    "colab_type": "text",
    "id": "TfY-_1_5wJR5"
   },
   "source": [
    "### Hyperparameters"
   ]
  },
  {
   "cell_type": "code",
   "execution_count": 23,
   "metadata": {
    "colab": {},
    "colab_type": "code",
    "id": "DX04C6TbwJR5"
   },
   "outputs": [],
   "source": [
    "NUM_EPISODES = 100\n",
    "BATCH_SIZE = 64\n",
    "REPLAY_MEM_SIZE = 1e4\n",
    "OPPONENT_UPDATE = 5\n",
    "EPSILON = 1\n",
    "EPSILON_DECAY = 0.995\n",
    "EPSILON_MIN = 0.05\n",
    "GAMMA = 0.95\n",
    "TARGET_UPDATE = 1 # number of episodes to update the target critic model"
   ]
  },
  {
   "cell_type": "code",
   "execution_count": 24,
   "metadata": {
    "colab": {},
    "colab_type": "code",
    "id": "sumB3IsFwJR6"
   },
   "outputs": [],
   "source": [
    "from collections import deque"
   ]
  },
  {
   "cell_type": "code",
   "execution_count": 25,
   "metadata": {
    "colab": {},
    "colab_type": "code",
    "id": "MeB26mZvwJR7"
   },
   "outputs": [],
   "source": [
    "replay_mem = deque(maxlen=int(REPLAY_MEM_SIZE))"
   ]
  },
  {
   "cell_type": "markdown",
   "metadata": {},
   "source": [
    "### Metrics and Tensorboard"
   ]
  },
  {
   "cell_type": "markdown",
   "metadata": {},
   "source": [
    "Metrics"
   ]
  },
  {
   "cell_type": "code",
   "execution_count": 26,
   "metadata": {},
   "outputs": [],
   "source": [
    "actor_metrics = {}\n",
    "for metric_key in ['avntg', 'invalid', 'total']:\n",
    "    actor_metrics[metric_key] = tf.keras.metrics.Mean('actor_{}_loss'.format(metric_key), dtype=tf.float32)\n",
    "\n",
    "critic_metrics = {}\n",
    "for metric_key in ['val', 'invalid', 'total']:\n",
    "    critic_metrics[metric_key] = tf.keras.metrics.Mean('critic_{}_loss'.format(metric_key), dtype=tf.float32)"
   ]
  },
  {
   "cell_type": "markdown",
   "metadata": {},
   "source": [
    "Tensorboard"
   ]
  },
  {
   "cell_type": "code",
   "execution_count": 27,
   "metadata": {},
   "outputs": [],
   "source": [
    "summary_writers = {}\n",
    "current_time = datetime.datetime.now().strftime(\"%Y%m%d-%H%M%S\")\n",
    "for summary_key in ['main', 'invalid', 'total']:\n",
    "    log_dir = 'logs/{}/{}'.format(current_time, summary_key)\n",
    "    summary_writers[summary_key] = tf.summary.create_file_writer(log_dir)"
   ]
  },
  {
   "cell_type": "markdown",
   "metadata": {
    "colab_type": "text",
    "id": "zXOIVFjmwJR7"
   },
   "source": [
    "### Functions"
   ]
  },
  {
   "cell_type": "code",
   "execution_count": 28,
   "metadata": {},
   "outputs": [],
   "source": [
    "def random_weighted_action(state, pass_prob, board_weights):\n",
    "    illegal_mask = state[2]\n",
    "\n",
    "    masked_prob = np.where(illegal_mask == 0, board_weights, 0)\n",
    "\n",
    "    # Decide with 1 / BOARD_SIZE ** 2 chance to pass (pass if we have to)\n",
    "    if np.random.uniform() < pass_prob or np.sum(masked_prob) <= 0:\n",
    "        action = None\n",
    "    else:\n",
    "        # Uniform random chance for all places\n",
    "        masked_prob /= np.sum(masked_prob)\n",
    "\n",
    "        action_1d = np.random.choice(np.arange(BOARD_SIZE**2), p=masked_prob.flatten())\n",
    "        action = (action_1d // BOARD_SIZE, action_1d % BOARD_SIZE)\n",
    "    return action"
   ]
  },
  {
   "cell_type": "code",
   "execution_count": 29,
   "metadata": {},
   "outputs": [],
   "source": [
    "def get_action(policy, state, epsilon):\n",
    "    \"\"\"\n",
    "    Gets an action based on exploration/exploitation\n",
    "    \"\"\"\n",
    "    epsilon_choice = np.random.uniform()\n",
    "    if epsilon_choice < EPSILON:\n",
    "        # Random move\n",
    "        logging.debug(\"Exploring a random move\")\n",
    "        action = random_weighted_action(state, \n",
    "                        pass_prob=1/BOARD_SIZE**2, \n",
    "                        board_weights=np.ones((BOARD_SIZE, BOARD_SIZE)))\n",
    "    else:\n",
    "        # policy makes a move\n",
    "        logging.debug(\"Exploiting policy's move\")\n",
    "        act_prob_distr, pass_decision = policy(state\n",
    "                                               .reshape(1, BOARD_SIZE, BOARD_SIZE, 4)\n",
    "                                               .astype(np.float32))\n",
    "        \n",
    "        action = random_weighted_action(state, pass_prob=pass_decision, \n",
    "                                        board_weights=act_prob_distr)\n",
    "        \n",
    "    return action"
   ]
  },
  {
   "cell_type": "code",
   "execution_count": 30,
   "metadata": {},
   "outputs": [],
   "source": [
    "def get_value_for_action(board_values, passing_values, actions):\n",
    "    '''\n",
    "    Get value from board_values based on action, or take the passing_values if the action is None\n",
    "    '''\n",
    "    action_values = tf.gather_nd(board_values, [(i, a[0], a[1]) if a is not None \n",
    "                                                    else (i, 0, 0) \n",
    "                                                    for i, a in enumerate(actions)])\n",
    "    action_values = tf.where([a is not None for a in actions], action_values, passing_values)\n",
    "    return action_values"
   ]
  },
  {
   "cell_type": "code",
   "execution_count": 31,
   "metadata": {},
   "outputs": [],
   "source": [
    "def get_batch_obs(size=BATCH_SIZE):\n",
    "    '''\n",
    "    Get a batch of orig_states, actions, states, rewards, terminals as np array out of replay memory\n",
    "    '''\n",
    "    batch = random.sample(replay_mem, size)\n",
    "    batch = list(zip(*batch))\n",
    "    orig_states = np.array(list(batch[0]), dtype=np.float32).transpose(0,3,2,1)\n",
    "    actions = np.array(list(batch[1]))\n",
    "    states = np.array(list(batch[2]), dtype=np.float32).transpose(0,3,2,1)\n",
    "    rewards = np.array(list(batch[3]), dtype=np.float32)\n",
    "    terminals = np.array(list(batch[4]), dtype=np.uint8)\n",
    "    return orig_states, actions, states, rewards, terminals\n",
    "    "
   ]
  },
  {
   "cell_type": "code",
   "execution_count": 32,
   "metadata": {},
   "outputs": [],
   "source": [
    "def calculate_state_vals(states, policy, actval_func):\n",
    "    '''\n",
    "    Get the expected value of states\n",
    "    '''\n",
    "    board_prob_distrs, passing_probs = policy(states)\n",
    "    board_val_distrs, passing_vals = actval_func(states)\n",
    "    \n",
    "    passing_probs = tf.reshape(passing_probs, (-1,))\n",
    "    passing_vals = tf.reshape(passing_vals, (-1,))\n",
    "    \n",
    "    # state value is the expected critic value based on the actor's policy\n",
    "    state_vals = tf.reduce_sum(board_prob_distrs * board_val_distrs, axis=[1,2])\n",
    "    state_vals = passing_probs * passing_vals + (1 - passing_probs) * state_vals\n",
    "    return state_vals"
   ]
  },
  {
   "cell_type": "code",
   "execution_count": 33,
   "metadata": {
    "colab": {},
    "colab_type": "code",
    "id": "t8QseVrawJR8"
   },
   "outputs": [],
   "source": [
    "def update_critic():\n",
    "    \"\"\"\n",
    "    Optimizes the critic in one step and updates the critic loss metric\n",
    "    \"\"\"\n",
    "    optimizer = tf.keras.optimizers.Adam(1e-5)\n",
    "    mse = tf.keras.losses.MeanSquaredError()\n",
    "    \n",
    "    states, actions, next_states, rewards, terminals  = get_batch_obs()\n",
    "    \n",
    "    # get expected values for next state\n",
    "    next_state_vals = calculate_state_vals(next_states, actor, target_critic)\n",
    "    \n",
    "    with tf.GradientTape() as tape:\n",
    "        board_val_distrs, passing_vals = critic(states)\n",
    "        passing_vals = tf.reshape(passing_vals, (-1,))\n",
    "        action_vals = get_value_for_action(board_val_distrs, passing_vals, actions)\n",
    "        val_loss = mse(rewards + GAMMA * next_state_vals * terminals, action_vals)\n",
    "        invalid_move_loss = mse(tf.zeros(board_val_distrs.shape), states[:,:,:,2] * board_val_distrs)\n",
    "        loss = val_loss + invalid_move_loss\n",
    "    \n",
    "    critic_metrics['val'](val_loss)\n",
    "    critic_metrics['invalid'](invalid_move_loss)\n",
    "    critic_metrics['total'](loss)\n",
    "    \n",
    "    # compute and apply gradients\n",
    "    gradients = tape.gradient(loss, critic.trainable_variables)\n",
    "    optimizer.apply_gradients(zip(gradients, critic.trainable_variables))"
   ]
  },
  {
   "cell_type": "code",
   "execution_count": 34,
   "metadata": {
    "colab": {},
    "colab_type": "code",
    "id": "4FqPJCaOwJR9"
   },
   "outputs": [],
   "source": [
    "def update_actor():\n",
    "    \"\"\"\n",
    "    Optimizes the actor in one step and updates the critic loss metric\n",
    "    \"\"\"\n",
    "    \n",
    "    optimizer = tf.keras.optimizers.Adam(1e-4)\n",
    "    mse = tf.keras.losses.MeanSquaredError()\n",
    "    \n",
    "    states, actions, next_states, rewards, terminals = get_batch_obs()\n",
    "    \n",
    "    # State values\n",
    "    state_vals = calculate_state_vals(states, actor, critic)\n",
    "    \n",
    "    # Next state values\n",
    "    next_state_vals = calculate_state_vals(next_states, actor, critic)\n",
    "    \n",
    "    # Advantage values\n",
    "    avntg_vals = (rewards + GAMMA * next_state_vals * terminals) - state_vals\n",
    "    \n",
    "    with tf.GradientTape() as tape:\n",
    "        board_prob_distrs, passing_probs = actor(states)\n",
    "        passing_probs = tf.reshape(passing_probs, (-1,))\n",
    "        action_probs = get_value_for_action(board_prob_distrs, passing_probs, actions)\n",
    "        avntg_loss = - tf.math.log(action_probs + 1e-6) * avntg_vals\n",
    "        avntg_loss = tf.math.reduce_mean(avntg_loss)\n",
    "        invalid_move_loss = mse(tf.zeros(board_prob_distrs.shape), board_prob_distrs * states[:,:,:,1])\n",
    "        loss = avntg_loss + invalid_move_loss\n",
    "    \n",
    "    # log the loss in tensorboard\n",
    "    actor_metrics['avntg'](avntg_loss)\n",
    "    actor_metrics['invalid'](invalid_move_loss)\n",
    "    actor_metrics['total'](loss)\n",
    "        \n",
    "    # compute and apply gradients\n",
    "    gradients = tape.gradient(loss, actor.trainable_variables)\n",
    "    optimizer.apply_gradients(zip(gradients, actor.trainable_variables))"
   ]
  },
  {
   "cell_type": "code",
   "execution_count": 35,
   "metadata": {
    "colab": {},
    "colab_type": "code",
    "id": "K0E04emPwJR-"
   },
   "outputs": [],
   "source": [
    "def train(episode):\n",
    "    \"\"\"\n",
    "    Plays out a game, and iteratively updates the models at each step\n",
    "    \"\"\"\n",
    "    global EPSILON\n",
    "    \n",
    "    # Basic setup\n",
    "    done = False\n",
    "    num_of_turns = 0\n",
    "    state = go_env.reset()\n",
    "    \n",
    "    while not done:\n",
    "        # Copy state for memory\n",
    "        orig_state = np.copy(state)\n",
    "        \n",
    "        action = get_action(actor, state, EPSILON)\n",
    "        if action is None:\n",
    "            logging.debug(\"Black (actor) passed\")\n",
    "            \n",
    "        state, reward, done, info = go_env.step(action)\n",
    "        num_of_turns += 1\n",
    "        \n",
    "        # Add to memory\n",
    "        replay_mem.append((orig_state, action, state, reward, done))\n",
    "        \n",
    "        # Update the critic and then actor if we have enough events\n",
    "        if len(replay_mem) >= BATCH_SIZE:\n",
    "            update_critic()        \n",
    "            update_actor()\n",
    "    \n",
    "            # Update exploration/exploitation\n",
    "            if EPSILON > EPSILON_MIN:\n",
    "                EPSILON *= EPSILON_DECAY\n",
    "                logging.debug(\"Epsilon decayed to {}\".format(EPSILON))\n",
    "            \n",
    "        if done:\n",
    "            break\n",
    "            \n",
    "        # opponent makes a move\n",
    "        # swap the black and white layers\n",
    "        temp = np.copy(state[0])\n",
    "        state[0] = state[1]\n",
    "        state[1] = temp\n",
    "        # get action from opponent\n",
    "        action = get_action(opponent, state, epsilon=0)\n",
    "        if action is None:\n",
    "            logging.debug(\"White (opponent) passed\")\n",
    "\n",
    "        state, reward, done, info = go_env.step(action)\n",
    "        num_of_turns += 1\n",
    "    \n",
    "    # Game ended\n",
    "    return num_of_turns, reward"
   ]
  },
  {
   "cell_type": "markdown",
   "metadata": {
    "colab_type": "text",
    "id": "qNBj_gKPwJR_"
   },
   "source": [
    "# Train"
   ]
  },
  {
   "cell_type": "code",
   "execution_count": 36,
   "metadata": {},
   "outputs": [],
   "source": [
    "logger = logging.getLogger()\n",
    "logger.setLevel(logging.INFO)"
   ]
  },
  {
   "cell_type": "code",
   "execution_count": 37,
   "metadata": {
    "scrolled": false
   },
   "outputs": [
    {
     "data": {
      "text/plain": [
       "Reusing TensorBoard on port 6007 (pid 27596), started 0:20:38 ago. (Use '!kill 27596' to kill it.)"
      ]
     },
     "metadata": {},
     "output_type": "display_data"
    },
    {
     "data": {
      "text/html": [
       "\n",
       "        <iframe\n",
       "            width=\"100%\"\n",
       "            height=\"800\"\n",
       "            src=\"http://localhost:6007\"\n",
       "            frameborder=\"0\"\n",
       "            allowfullscreen\n",
       "        ></iframe>\n",
       "        "
      ],
      "text/plain": [
       "<IPython.lib.display.IFrame at 0x13accd390>"
      ]
     },
     "metadata": {},
     "output_type": "display_data"
    }
   ],
   "source": [
    "%tensorboard --logdir logs"
   ]
  },
  {
   "cell_type": "code",
   "execution_count": null,
   "metadata": {
    "colab": {},
    "colab_type": "code",
    "id": "LT1PUXyXwJR_",
    "scrolled": false
   },
   "outputs": [
    {
     "name": "stderr",
     "output_type": "stream",
     "text": [
      "\r",
      "  0%|          | 0/100 [00:00<?, ?it/s]"
     ]
    },
    {
     "data": {
      "image/png": "[encoded data removed]",
      "text/plain": [
       "<Figure size 432x288 with 9 Axes>"
      ]
     },
     "metadata": {
      "needs_background": "light"
     },
     "output_type": "display_data"
    },
    {
     "name": "stderr",
     "output_type": "stream",
     "text": [
      "\r",
      "  1%|          | 1/100 [00:02<03:59,  2.42s/it]"
     ]
    },
    {
     "name": "stdout",
     "output_type": "stream",
     "text": [
      "> <ipython-input-33-f7d578607ffd>(19)update_critic()\n",
      "-> invalid_move_loss = mse(tf.zeros(board_val_distrs.shape), states[:,:,:,2] * board_val_distrs)\n",
      "(Pdb) n\n",
      "> <ipython-input-33-f7d578607ffd>(20)update_critic()\n",
      "-> loss = val_loss + invalid_move_loss\n",
      "(Pdb) invalid_move_loss\n",
      "<tf.Tensor: id=12691, shape=(), dtype=float32, numpy=0.0441069>\n",
      "(Pdb) board_val_distrs\n",
      "<tf.Tensor: id=12484, shape=(64, 7, 7), dtype=float32, numpy=\n",
      "array([[[-0.05684105, -0.06037782, -0.02522886, ...,  0.01373594,\n",
      "          0.02626085, -0.02955701],\n",
      "        [-0.11613888, -0.10259761, -0.18725982, ..., -0.09777462,\n",
      "         -0.1090638 ,  0.00188582],\n",
      "        [-0.00954471, -0.27673241, -0.34432796, ..., -0.16796413,\n",
      "         -0.13936573, -0.08908982],\n",
      "        ...,\n",
      "        [-0.16334073, -0.39902303, -0.6740829 , ..., -0.46134162,\n",
      "         -0.21968636, -0.24755278],\n",
      "        [-0.15676056, -0.44422334, -0.6750629 , ..., -0.51101434,\n",
      "         -0.27063125, -0.16065097],\n",
      "        [-0.03564333, -0.14652929, -0.4256317 , ..., -0.22402087,\n",
      "         -0.13193461, -0.1027479 ]],\n",
      "\n",
      "       [[-0.02570826,  0.05505945, -0.10927904, ..., -0.03987348,\n",
      "          0.01325997,  0.00177369],\n",
      "        [-0.08612192, -0.09637254, -0.25914612, ..., -0.0957787 ,\n",
      "         -0.07439743, -0.02776228],\n",
      "        [ 0.00599686, -0.27148634, -0.3696053 , ..., -0.19940986,\n",
      "         -0.08366632, -0.10963126],\n",
      "        ...,\n",
      "        [-0.12540445, -0.394452  , -0.5788746 , ..., -0.3807629 ,\n",
      "         -0.22450158, -0.18196413],\n",
      "        [-0.08888002, -0.28538728, -0.5174041 , ..., -0.37302512,\n",
      "         -0.15543519, -0.11899431],\n",
      "        [-0.0264334 , -0.14482157, -0.33129185, ..., -0.18563873,\n",
      "         -0.10088475, -0.06114184]],\n",
      "\n",
      "       [[-0.05446051,  0.03161839, -0.05002453, ..., -0.03450715,\n",
      "          0.02548353, -0.01926733],\n",
      "        [-0.10924095, -0.0836992 , -0.22628132, ..., -0.0328509 ,\n",
      "         -0.08320337, -0.04437092],\n",
      "        [ 0.05897775, -0.17265335, -0.3604354 , ..., -0.24738048,\n",
      "         -0.15798318, -0.06050623],\n",
      "        ...,\n",
      "        [-0.21228682, -0.43990788, -0.60260624, ..., -0.5018967 ,\n",
      "         -0.21373828, -0.2249662 ],\n",
      "        [-0.1953614 , -0.35182405, -0.68329674, ..., -0.48754388,\n",
      "         -0.2069743 , -0.17795463],\n",
      "        [-0.0593744 , -0.22767751, -0.3891635 , ..., -0.27871457,\n",
      "         -0.1848919 , -0.13947088]],\n",
      "\n",
      "       ...,\n",
      "\n",
      "       [[-0.03621849,  0.07798564, -0.12973468, ..., -0.05623939,\n",
      "          0.03261868,  0.01425753],\n",
      "        [-0.11601087, -0.10489517, -0.21918282, ..., -0.11374816,\n",
      "         -0.0602066 , -0.03626783],\n",
      "        [ 0.02077055, -0.21913937, -0.3537606 , ..., -0.20765674,\n",
      "         -0.08558477, -0.10691807],\n",
      "        ...,\n",
      "        [-0.091586  , -0.40218964, -0.5195453 , ..., -0.33855048,\n",
      "         -0.23452617, -0.13253069],\n",
      "        [-0.09767626, -0.28968686, -0.5108791 , ..., -0.3681559 ,\n",
      "         -0.14830056, -0.11772054],\n",
      "        [-0.02299399, -0.15761574, -0.3428395 , ..., -0.16557722,\n",
      "         -0.07795036, -0.05092361]],\n",
      "\n",
      "       [[-0.05866399,  0.07264006, -0.00996483, ..., -0.03483076,\n",
      "          0.06540802, -0.02548835],\n",
      "        [-0.11254857, -0.06188321, -0.17981987, ..., -0.05331031,\n",
      "         -0.08341824, -0.05469722],\n",
      "        [ 0.0614606 , -0.15994899, -0.3560633 , ..., -0.22088474,\n",
      "         -0.14482257, -0.08111651],\n",
      "        ...,\n",
      "        [-0.15707748, -0.4074331 , -0.6308158 , ..., -0.486888  ,\n",
      "         -0.21978617, -0.20622198],\n",
      "        [-0.15072554, -0.37757504, -0.6660618 , ..., -0.4625049 ,\n",
      "         -0.19529364, -0.12935638],\n",
      "        [-0.04926959, -0.19911635, -0.3824852 , ..., -0.25913775,\n",
      "         -0.16153488, -0.11929037]],\n",
      "\n",
      "       [[-0.02668125,  0.09256989, -0.10700624, ..., -0.06733063,\n",
      "          0.02795874,  0.00480719],\n",
      "        [-0.10196199, -0.10168415, -0.19298461, ..., -0.11158721,\n",
      "         -0.03094923, -0.03079564],\n",
      "        [ 0.03700529, -0.22921833, -0.33228382, ..., -0.22171685,\n",
      "         -0.10560927, -0.10759663],\n",
      "        ...,\n",
      "        [-0.09021872, -0.40055272, -0.5655418 , ..., -0.34765345,\n",
      "         -0.18285568, -0.12521097],\n",
      "        [-0.1105573 , -0.27741402, -0.5257492 , ..., -0.37093112,\n",
      "         -0.15091455, -0.09589936],\n",
      "        [-0.03348399, -0.19345129, -0.29894057, ..., -0.17623308,\n",
      "         -0.08704784, -0.06822487]]], dtype=float32)>\n",
      "(Pdb) list\n",
      " 15  \t        passing_vals = tf.reshape(passing_vals, (-1,))\n",
      " 16  \t        action_vals = get_value_for_action(board_val_distrs, passing_vals, actions)\n",
      " 17  \t        val_loss = tf.losses.mean_squared_error(rewards + GAMMA * next_state_vals * terminals, action_vals)\n",
      " 18  \t        import pdb; pdb.set_trace()\n",
      " 19  \t        invalid_move_loss = mse(tf.zeros(board_val_distrs.shape), states[:,:,:,2] * board_val_distrs)\n",
      " 20  ->\t        loss = val_loss + invalid_move_loss\n",
      " 21  \t\n",
      " 22  \t    critic_metrics['val'](val_loss)\n",
      " 23  \t    critic_metrics['invalid'](invalid_move_loss)\n",
      " 24  \t    critic_metrics['total'](loss)\n",
      " 25  \t\n",
      "(Pdb) val_loss\n",
      "<tf.Tensor: id=12664, shape=(), dtype=float32, numpy=255.16827>\n"
     ]
    }
   ],
   "source": [
    "for episode in tqdm(range(NUM_EPISODES)):\n",
    "    # Reset all metrics\n",
    "    for metric in actor_metrics.values():\n",
    "        metric.reset_states()\n",
    "    for metric in critic_metrics.values():\n",
    "        metric.reset_states()\n",
    "    \n",
    "    if episode % OPPONENT_UPDATE == 0:\n",
    "        opponent = copy_actor_critic(actor, 'actor')\n",
    "        \n",
    "    if episode % TARGET_UPDATE == 0:\n",
    "        target_critic = copy_actor_critic(critic, 'critic')\n",
    "\n",
    "    num_turns, reward = train(episode)\n",
    "    \n",
    "    # Plot samples of states and actor, critic heatmaps\n",
    "    num_samples = 3\n",
    "    states, _, _, _,_ = get_batch_obs(num_samples)\n",
    "    board_prob_distrs, pass_probs = actor(states)\n",
    "    board_val_distrs, pass_vals = critic(states)\n",
    "    for i in range(num_samples):\n",
    "        plt.subplot(num_samples,3,3*i+1+0)\n",
    "        plt.axis('off')\n",
    "        plt.title('Board')\n",
    "        plt.imshow(states[i][:,:,[0,1,3]].astype(np.float))\n",
    "        plt.subplot(num_samples,3,3*i+1+1)\n",
    "        plt.axis('off')\n",
    "        plt.title('Actor')\n",
    "        plt.imshow(board_prob_distrs[i])\n",
    "        plt.subplot(num_samples,3,3*i+1+2)\n",
    "        plt.axis('off')\n",
    "        plt.title('Critic')\n",
    "        plt.imshow(board_val_distrs[i])\n",
    "        \n",
    "    plt.tight_layout()\n",
    "    plt.show()\n",
    "    \n",
    "    # log results\n",
    "    with summary_writers['total'].as_default():\n",
    "        tf.summary.scalar('last rewards', reward, step=episode)\n",
    "        tf.summary.scalar('number of moves', num_turns, step=episode)\n",
    "        tf.summary.scalar('critic loss', critic_metrics['total'].result(), step=episode)\n",
    "        tf.summary.scalar('actor loss', actor_metrics['total'].result(), step=episode)\n",
    "    \n",
    "    with summary_writers['main'].as_default():\n",
    "        tf.summary.scalar('critic loss', critic_metrics['val'].result(), step=episode)\n",
    "        tf.summary.scalar('actor loss', actor_metrics['avntg'].result(), step=episode)\n",
    "    \n",
    "    with summary_writers['invalid'].as_default():\n",
    "        tf.summary.scalar('critic loss', critic_metrics['invalid'].result(), step=episode)\n",
    "        tf.summary.scalar('actor loss', actor_metrics['invalid'].result(), step=episode)\n",
    "    \n",
    "        \n",
    "        "
   ]
  },
  {
   "cell_type": "markdown",
   "metadata": {
    "colab_type": "text",
    "id": "NyMNxMAWwJR_"
   },
   "source": [
    "# Evaluate\n",
    "Play against the actor 💪"
   ]
  },
  {
   "cell_type": "raw",
   "metadata": {
    "colab": {},
    "colab_type": "code",
    "id": "97j_uYY9wJSA",
    "outputId": "4d6aa1e6-8b63-4a39-b600-e331284ad6ff"
   },
   "source": [
    "go_env = gym.make('gym_go:go-v0', size='S')\n",
    "\n",
    "state = go_env.reset()\n",
    "\n",
    "done = False\n",
    "while not done:\n",
    "    go_env.render()\n",
    "    \n",
    "    # Actor's move\n",
    "    action = get_action(actor, state)\n",
    "    \n",
    "    state, reward, done, info = go_env.step(action)\n",
    "    \n",
    "    go_env.render()\n",
    "    \n",
    "    # Player's move\n",
    "    player_moved = False\n",
    "    while not player_moved:\n",
    "        coords = input(\"Enter coordinates separated by space (`q` to quit)\\n\")\n",
    "        if coords == 'q':\n",
    "            done = True\n",
    "            break\n",
    "        coords = coords.split()\n",
    "        try:\n",
    "            row = int(coords[0])\n",
    "            col = int(coords[1])\n",
    "            print(row, col)\n",
    "            state, reward, done, info = go_env.step((row, col))\n",
    "            player_moved = True\n",
    "        except Exception as e:\n",
    "            print(e)"
   ]
  },
  {
   "cell_type": "code",
   "execution_count": null,
   "metadata": {},
   "outputs": [],
   "source": []
  }
 ],
 "metadata": {
  "colab": {
   "include_colab_link": true,
   "name": "go_ai.ipynb",
   "provenance": [],
   "version": "0.3.2"
  },
  "kernelspec": {
   "display_name": "Python 3",
   "language": "python",
   "name": "python3"
  },
  "language_info": {
   "codemirror_mode": {
    "name": "ipython",
    "version": 3
   },
   "file_extension": ".py",
   "mimetype": "text/x-python",
   "name": "python",
   "nbconvert_exporter": "python",
   "pygments_lexer": "ipython3",
   "version": "3.7.3"
  },
  "widgets": {
   "application/vnd.jupyter.widget-state+json": {
    "state": {},
    "version_major": 2,
    "version_minor": 0
   }
  }
 },
 "nbformat": 4,
 "nbformat_minor": 1
}
