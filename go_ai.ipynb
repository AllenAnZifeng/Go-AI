{
 "cells": [
  {
   "cell_type": "code",
   "execution_count": 1,
   "metadata": {
    "colab": {
     "base_uri": "https://localhost:8080/",
     "height": 740
    },
    "colab_type": "code",
    "id": "5YQ7bYMnwJRa",
    "outputId": "65617db9-e466-4ec7-d8e9-d829a89dc2a1"
   },
   "outputs": [],
   "source": [
    "%%capture\n",
    "!pip3 install tensorflow==2.0.0-beta1\n",
    "\n",
    "# Load the TensorBoard notebook extension\n",
    "# Restart the jupyter notebook if you just installed TF 2.0 Beta\n",
    "%load_ext tensorboard"
   ]
  },
  {
   "cell_type": "code",
   "execution_count": 2,
   "metadata": {
    "colab": {},
    "colab_type": "code",
    "id": "88zLHqvDwJRj"
   },
   "outputs": [],
   "source": [
    "import tensorflow as tf\n",
    "import matplotlib.pyplot as plt\n",
    "import numpy as np\n",
    "import gym\n",
    "import datetime\n",
    "from tqdm import tqdm\n",
    "import logging"
   ]
  },
  {
   "cell_type": "code",
   "execution_count": 3,
   "metadata": {
    "colab": {},
    "colab_type": "code",
    "id": "fc1lqGjPwJRm"
   },
   "outputs": [],
   "source": [
    "!rm -rf ./logs/"
   ]
  },
  {
   "cell_type": "markdown",
   "metadata": {
    "colab_type": "text",
    "id": "szyALIMpwJRo"
   },
   "source": [
    "# Go Environment\n",
    "Train on a small board with heuristic reward for fast training and efficient debugging"
   ]
  },
  {
   "cell_type": "code",
   "execution_count": 4,
   "metadata": {},
   "outputs": [],
   "source": [
    "%%capture\n",
    "!pip3 install -e gym-go"
   ]
  },
  {
   "cell_type": "code",
   "execution_count": 5,
   "metadata": {
    "colab": {},
    "colab_type": "code",
    "id": "E4w7gMrfwJRp"
   },
   "outputs": [],
   "source": [
    "go_env = gym.make('gym_go:go-v0', size='S', reward_method='heuristic')"
   ]
  },
  {
   "cell_type": "code",
   "execution_count": 6,
   "metadata": {
    "colab": {},
    "colab_type": "code",
    "id": "-Ju4HYnKwJRq"
   },
   "outputs": [],
   "source": [
    "BOARD_SIZE = 7"
   ]
  },
  {
   "cell_type": "markdown",
   "metadata": {
    "colab_type": "text",
    "id": "g7ZoRfzIwJRr"
   },
   "source": [
    "# Machine Learning Models\n",
    "Actor-Critic method"
   ]
  },
  {
   "cell_type": "code",
   "execution_count": 7,
   "metadata": {
    "colab": {},
    "colab_type": "code",
    "id": "W9wWb0HvwJRs"
   },
   "outputs": [],
   "source": [
    "from tensorflow.keras import layers"
   ]
  },
  {
   "cell_type": "code",
   "execution_count": 8,
   "metadata": {
    "colab": {},
    "colab_type": "code",
    "id": "BLZ97l11wJRt",
    "scrolled": true
   },
   "outputs": [],
   "source": [
    "class Actor(tf.keras.Model):\n",
    "    def __init__(self):\n",
    "        super(Actor, self).__init__()\n",
    "        self.main = tf.keras.Sequential([\n",
    "            layers.Conv2D(input_shape=(BOARD_SIZE, BOARD_SIZE, 4), bias_initializer=\"ones\", \n",
    "                          filters=16, kernel_size=5, padding=\"same\"),\n",
    "            layers.BatchNormalization(),\n",
    "            layers.ReLU(),\n",
    "            layers.Conv2D(filters=64, kernel_size=5, padding=\"same\"),\n",
    "            layers.BatchNormalization(),\n",
    "            layers.ReLU(),\n",
    "            layers.Conv2D(filters=64, kernel_size=5, padding=\"same\"),\n",
    "            layers.BatchNormalization(),\n",
    "            layers.ReLU(),\n",
    "            layers.Conv2D(filters=16, kernel_size=5, padding=\"same\"),\n",
    "            layers.BatchNormalization(),\n",
    "            layers.ReLU(),\n",
    "            layers.Conv2D(filters=1, kernel_size=5, padding=\"same\"),\n",
    "            layers.Flatten(),\n",
    "            layers.Softmax(),\n",
    "            layers.Reshape((BOARD_SIZE, BOARD_SIZE))\n",
    "        ])\n",
    "        \n",
    "        self.pass_decision = tf.keras.Sequential([\n",
    "            layers.Conv2D(input_shape=(BOARD_SIZE, BOARD_SIZE, 4), \n",
    "                          filters=16, kernel_size=5, padding=\"same\"),\n",
    "            layers.BatchNormalization(),\n",
    "            layers.ReLU(),\n",
    "            layers.Conv2D(filters=64, kernel_size=5, padding=\"same\"),\n",
    "            layers.BatchNormalization(),\n",
    "            layers.ReLU(),\n",
    "            layers.Conv2D(filters=64, kernel_size=5, padding=\"same\"),\n",
    "            layers.BatchNormalization(),\n",
    "            layers.ReLU(),\n",
    "            layers.Flatten(),\n",
    "            layers.Dense(4 * BOARD_SIZE**2),\n",
    "            layers.BatchNormalization(),\n",
    "            layers.ReLU(),\n",
    "            layers.Dense(BOARD_SIZE**2),\n",
    "            layers.BatchNormalization(),\n",
    "            layers.ReLU(),\n",
    "            layers.Dense(BOARD_SIZE),\n",
    "            layers.BatchNormalization(),\n",
    "            layers.ReLU(),\n",
    "            layers.Dense(1, activation=\"sigmoid\"),\n",
    "        ])\n",
    "    def call(self, inputs):\n",
    "        action_prob_distr = self.main(inputs)\n",
    "        pass_decision = self.pass_decision(inputs)\n",
    "        return action_prob_distr, pass_decision"
   ]
  },
  {
   "cell_type": "code",
   "execution_count": 9,
   "metadata": {},
   "outputs": [],
   "source": [
    "actor = Actor()"
   ]
  },
  {
   "cell_type": "code",
   "execution_count": 10,
   "metadata": {
    "colab": {},
    "colab_type": "code",
    "id": "V-jD8fmbwJRu"
   },
   "outputs": [],
   "source": [
    "critic = tf.keras.Sequential([\n",
    "    layers.Conv2D(input_shape=(BOARD_SIZE, BOARD_SIZE, 4), bias_initializer=\"ones\", \n",
    "                  filters=16, kernel_size=5, padding=\"same\"),\n",
    "    layers.BatchNormalization(),\n",
    "    layers.ReLU(),\n",
    "    layers.Conv2D(filters=64, kernel_size=5, padding=\"same\"),\n",
    "    layers.BatchNormalization(),\n",
    "    layers.ReLU(),\n",
    "    layers.Conv2D(filters=64, kernel_size=5, padding=\"same\"),\n",
    "    layers.BatchNormalization(),\n",
    "    layers.ReLU(),\n",
    "    layers.Conv2D(filters=16, kernel_size=5, padding=\"same\"),\n",
    "    layers.BatchNormalization(),\n",
    "    layers.ReLU(),\n",
    "    layers.Conv2D(filters=1, kernel_size=5, padding=\"same\"),\n",
    "    layers.Reshape((BOARD_SIZE, BOARD_SIZE))\n",
    "])"
   ]
  },
  {
   "cell_type": "code",
   "execution_count": 11,
   "metadata": {},
   "outputs": [],
   "source": [
    "import os\n",
    "if not os.path.exists('tmp'):\n",
    "    os.mkdir('tmp/')\n",
    "actor.save_weights('tmp/opp.h5')\n",
    "opponent = Actor()\n",
    "opponent.load_weights('tmp/opp.h5')"
   ]
  },
  {
   "cell_type": "code",
   "execution_count": 12,
   "metadata": {
    "colab": {},
    "colab_type": "code",
    "id": "98jmZoKvwJRv"
   },
   "outputs": [],
   "source": [
    "state = go_env.reset()\n",
    "state, reward, done, info = go_env.step((3,5))\n",
    "state, reward, done, info = go_env.step((5,3))"
   ]
  },
  {
   "cell_type": "code",
   "execution_count": 13,
   "metadata": {
    "colab": {},
    "colab_type": "code",
    "id": "uc8i21oJwJRw"
   },
   "outputs": [],
   "source": [
    "def plot_state(state, channels_last=False):\n",
    "    plt.figure()\n",
    "    for i, (layer, name) in enumerate(zip([state[0], state[1], state[2], state[3]] if not channels_last else \n",
    "                                          [state[:,:,0], state[:,:,1], state[:,:,2], state[:,:,3]], \n",
    "                                          ['black', 'white', 'invalid', 'pass'])):\n",
    "        plt.subplot(1,4,i+1)\n",
    "        plt.title(name)\n",
    "        plt.imshow(layer)\n",
    "    plt.tight_layout()"
   ]
  },
  {
   "cell_type": "markdown",
   "metadata": {
    "colab_type": "text",
    "id": "wKcZcVE3wJRx"
   },
   "source": [
    "Tensorflow expects images to be `channels last`. \n",
    "\n",
    "This can be adapted to with `tranpose`.\n",
    "\n",
    "\n",
    "Ensure the `transpose` function doesn't change anything visually"
   ]
  },
  {
   "cell_type": "code",
   "execution_count": 14,
   "metadata": {
    "colab": {},
    "colab_type": "code",
    "id": "3F1bb2VewJRx",
    "outputId": "63618177-2949-450b-d90b-a17d7ebe2d81"
   },
   "outputs": [
    {
     "data": {
      "image/png": "[encoded data removed]",
      "text/plain": [
       "<Figure size 432x288 with 4 Axes>"
      ]
     },
     "metadata": {
      "needs_background": "light"
     },
     "output_type": "display_data"
    }
   ],
   "source": [
    "plot_state(state, channels_last=False)"
   ]
  },
  {
   "cell_type": "code",
   "execution_count": 15,
   "metadata": {
    "colab": {},
    "colab_type": "code",
    "id": "jJWxThQMwJRz"
   },
   "outputs": [],
   "source": [
    "state = state.transpose(1,2,0).reshape(1, BOARD_SIZE, BOARD_SIZE, 4)"
   ]
  },
  {
   "cell_type": "code",
   "execution_count": 16,
   "metadata": {
    "colab": {},
    "colab_type": "code",
    "id": "8VL_dpWgwJRz",
    "outputId": "608f32e9-4186-4f43-a780-ee774c81fe9a"
   },
   "outputs": [
    {
     "data": {
      "image/png": "[encoded data removed]",
      "text/plain": [
       "<Figure size 432x288 with 4 Axes>"
      ]
     },
     "metadata": {
      "needs_background": "light"
     },
     "output_type": "display_data"
    }
   ],
   "source": [
    "plot_state(state[0], channels_last=True)"
   ]
  },
  {
   "cell_type": "markdown",
   "metadata": {
    "colab_type": "text",
    "id": "L9djBWO1wJR1"
   },
   "source": [
    "### Initialization of models should be random"
   ]
  },
  {
   "cell_type": "code",
   "execution_count": 17,
   "metadata": {
    "colab": {},
    "colab_type": "code",
    "id": "3MLnPF4AwJR1"
   },
   "outputs": [],
   "source": [
    "probs, pass_decision = actor(state.astype(np.float32))"
   ]
  },
  {
   "cell_type": "code",
   "execution_count": 18,
   "metadata": {
    "colab": {},
    "colab_type": "code",
    "id": "BTqa6IEcwJR3"
   },
   "outputs": [],
   "source": [
    "values = critic.predict(state)"
   ]
  },
  {
   "cell_type": "code",
   "execution_count": 19,
   "metadata": {
    "colab": {},
    "colab_type": "code",
    "id": "qH4rDyuowJR3",
    "outputId": "6376f7a8-99ff-4352-e6fc-0eccd05dfa25",
    "scrolled": false
   },
   "outputs": [
    {
     "data": {
      "text/plain": [
       "<matplotlib.image.AxesImage at 0x10598f7b8>"
      ]
     },
     "execution_count": 19,
     "metadata": {},
     "output_type": "execute_result"
    },
    {
     "data": {
      "image/png": "[encoded data removed]",
      "text/plain": [
       "<Figure size 432x288 with 2 Axes>"
      ]
     },
     "metadata": {
      "needs_background": "light"
     },
     "output_type": "display_data"
    }
   ],
   "source": [
    "plt.subplot(1,2,1)\n",
    "plt.title('Actor - Passing Prob: {}'.format(pass_decision[0]))\n",
    "plt.imshow(probs[0])\n",
    "plt.subplot(1,2,2)\n",
    "plt.title('Critic')\n",
    "plt.imshow(values[0])"
   ]
  },
  {
   "cell_type": "markdown",
   "metadata": {
    "colab_type": "text",
    "id": "ViUxxPnUwJR5"
   },
   "source": [
    "# Training Setup"
   ]
  },
  {
   "cell_type": "markdown",
   "metadata": {
    "colab_type": "text",
    "id": "TfY-_1_5wJR5"
   },
   "source": [
    "### Hyperparameters"
   ]
  },
  {
   "cell_type": "code",
   "execution_count": 20,
   "metadata": {
    "colab": {},
    "colab_type": "code",
    "id": "DX04C6TbwJR5"
   },
   "outputs": [],
   "source": [
    "NUM_EPISODES = 10\n",
    "BATCH_SIZE = 64\n",
    "REPLAY_MEM_SIZE = 1e6\n",
    "OPPONENT_UPDATE = 10\n",
    "EPSILON = 1\n",
    "EPSILON_DECAY = 0.995\n",
    "EPSILON_MIN = 0.05"
   ]
  },
  {
   "cell_type": "code",
   "execution_count": 21,
   "metadata": {
    "colab": {},
    "colab_type": "code",
    "id": "sumB3IsFwJR6"
   },
   "outputs": [],
   "source": [
    "from collections import deque"
   ]
  },
  {
   "cell_type": "code",
   "execution_count": 22,
   "metadata": {
    "colab": {},
    "colab_type": "code",
    "id": "MeB26mZvwJR7"
   },
   "outputs": [],
   "source": [
    "memory = deque(maxlen=int(REPLAY_MEM_SIZE))"
   ]
  },
  {
   "cell_type": "markdown",
   "metadata": {},
   "source": [
    "### Metrics and Tensorboard"
   ]
  },
  {
   "cell_type": "markdown",
   "metadata": {},
   "source": [
    "Metrics"
   ]
  },
  {
   "cell_type": "code",
   "execution_count": 23,
   "metadata": {},
   "outputs": [],
   "source": [
    "actor_loss = tf.keras.metrics.Mean('actor_loss', dtype=tf.float32)\n",
    "critic_loss = tf.keras.metrics.Mean('critic_loss', dtype=tf.float32)"
   ]
  },
  {
   "cell_type": "markdown",
   "metadata": {},
   "source": [
    "Tensorboard"
   ]
  },
  {
   "cell_type": "code",
   "execution_count": 24,
   "metadata": {},
   "outputs": [],
   "source": [
    "current_time = datetime.datetime.now().strftime(\"%Y%m%d-%H%M%S\")\n",
    "train_log_dir = 'logs/gradient_tape/' + current_time + '/train'\n",
    "test_log_dir = 'logs/gradient_tape/' + current_time + '/test'\n",
    "train_summary_writer = tf.summary.create_file_writer(train_log_dir)\n",
    "test_summary_writer = tf.summary.create_file_writer(test_log_dir)"
   ]
  },
  {
   "cell_type": "markdown",
   "metadata": {
    "colab_type": "text",
    "id": "zXOIVFjmwJR7"
   },
   "source": [
    "### Functions"
   ]
  },
  {
   "cell_type": "code",
   "execution_count": 25,
   "metadata": {},
   "outputs": [],
   "source": [
    "def get_action(actor, state):\n",
    "    illegal_mask = state[2]\n",
    "    state = state.transpose(1,2,0).reshape(1, BOARD_SIZE ,BOARD_SIZE ,4)\n",
    "    act_prob_distr, pass_decision = actor(state.astype(np.float32))\n",
    "    \n",
    "    # decide whether to pass\n",
    "    pass_choice = np.random.uniform()\n",
    "    will_pass = pass_choice < pass_decision[0][0]\n",
    "    if will_pass:\n",
    "        return None\n",
    "    \n",
    "    # mask out the illegal move\n",
    "    masked_prob = np.where(illegal_mask == 0, act_prob_distr, 0)\n",
    "    sum_prob = np.sum(masked_prob)\n",
    "    \n",
    "    # if there is no more legal move, have to pass\n",
    "    if sum_prob == 0:\n",
    "        return None\n",
    "    \n",
    "    # make a move based on probability distribution\n",
    "    masked_prob = masked_prob / sum_prob\n",
    "    action_1d = np.random.choice(np.arange(BOARD_SIZE**2), p=masked_prob.flatten())\n",
    "    action = (action_1d // BOARD_SIZE, action_1d % BOARD_SIZE)\n",
    "    \n",
    "    return action"
   ]
  },
  {
   "cell_type": "code",
   "execution_count": 26,
   "metadata": {
    "colab": {},
    "colab_type": "code",
    "id": "Cme6dstwwJR8"
   },
   "outputs": [],
   "source": [
    "def play(episode):\n",
    "    '''\n",
    "    :return: number of turns in this game, winner ('b'/'w'/None)\n",
    "    '''\n",
    "    done = False\n",
    "    num_of_turns = 0\n",
    "    state = go_env.reset()\n",
    "    \n",
    "    while not done:\n",
    "        \n",
    "        epsilon_choice = np.random.uniform()\n",
    "        if epsilon_choice < EPSILON:\n",
    "            # Random move\n",
    "            logging.debug(\"Exploring a random move\")\n",
    "            choices = np.ones((BOARD_SIZE, BOARD_SIZE))\n",
    "            illegal_mask = state[2]\n",
    "\n",
    "            masked_prob = np.where(illegal_mask == 0, choices, 0)\n",
    "            \n",
    "            # Decide with 1 / BOARD_SIZE ** 2 chance to pass (pass if we have to)\n",
    "            if np.random.uniform() < 1 / BOARD_SIZE**2 or np.sum(masked_prob) <= 0:\n",
    "                action = None\n",
    "            else:\n",
    "                # Uniform random chance for all places\n",
    "                \n",
    "                masked_prob /= np.sum(masked_prob)\n",
    "\n",
    "                action_1d = np.random.choice(np.arange(BOARD_SIZE**2), p=masked_prob.flatten())\n",
    "                action = (action_1d // BOARD_SIZE, action_1d % BOARD_SIZE)\n",
    "        else:\n",
    "            # actor makes a move\n",
    "            logging.debug(\"Exploiting actor's move\")\n",
    "            action = get_action(actor, state)\n",
    "            \n",
    "        if action is None:\n",
    "            logging.debug(\"Black passed\")\n",
    "            \n",
    "        state, reward, done, info = go_env.step(action)\n",
    "        num_of_turns += 1\n",
    "        \n",
    "        if done:\n",
    "            break\n",
    "        \n",
    "        # opponent makes a move\n",
    "        # swap the black and white layers\n",
    "        temp = np.copy(state[0])\n",
    "        state[0] = state[1]\n",
    "        state[1] = temp\n",
    "        # get action from opponent\n",
    "        action = get_action(opponent, state)\n",
    "        \n",
    "        if action is None:\n",
    "            logging.debug(\"White passed\")\n",
    "            \n",
    "        state, reward, done, info = go_env.step(action)\n",
    "        num_of_turns += 1\n",
    "        \n",
    "    # log results\n",
    "    with train_summary_writer.as_default():\n",
    "        tf.summary.scalar('number of moves', num_of_turns, step=episode)\n",
    "        tf.summary.scalar('winner', reward > 0, step=episode)"
   ]
  },
  {
   "cell_type": "code",
   "execution_count": 27,
   "metadata": {
    "colab": {},
    "colab_type": "code",
    "id": "t8QseVrawJR8"
   },
   "outputs": [],
   "source": [
    "def update_critic():\n",
    "    pass"
   ]
  },
  {
   "cell_type": "code",
   "execution_count": 28,
   "metadata": {
    "colab": {},
    "colab_type": "code",
    "id": "4FqPJCaOwJR9"
   },
   "outputs": [],
   "source": [
    "def update_actor():\n",
    "    pass"
   ]
  },
  {
   "cell_type": "code",
   "execution_count": 29,
   "metadata": {
    "colab": {},
    "colab_type": "code",
    "id": "K0E04emPwJR-"
   },
   "outputs": [],
   "source": [
    "def train(episode):\n",
    "    global EPSILON\n",
    "    \n",
    "    if episode % OPPONENT_UPDATE == 0:\n",
    "        # TODO sync opponent\n",
    "        pass\n",
    "    \n",
    "    play(episode)\n",
    "    update_critic()\n",
    "    \n",
    "    update_actor()\n",
    "    \n",
    "    # Update exploration/exploitation\n",
    "    if EPSILON > EPSILON_MIN:\n",
    "        EPSILON *= EPSILON_DECAY"
   ]
  },
  {
   "cell_type": "markdown",
   "metadata": {
    "colab_type": "text",
    "id": "qNBj_gKPwJR_"
   },
   "source": [
    "# Train"
   ]
  },
  {
   "cell_type": "code",
   "execution_count": 30,
   "metadata": {},
   "outputs": [],
   "source": [
    "logger = logging.getLogger()\n",
    "logger.setLevel(logging.DEBUG)"
   ]
  },
  {
   "cell_type": "code",
   "execution_count": 31,
   "metadata": {
    "scrolled": false
   },
   "outputs": [
    {
     "data": {
      "text/plain": [
       "Reusing TensorBoard on port 6006 (pid 59977), started 1 day, 2:46:03 ago. (Use '!kill 59977' to kill it.)"
      ]
     },
     "metadata": {},
     "output_type": "display_data"
    },
    {
     "data": {
      "text/html": [
       "\n",
       "        <iframe\n",
       "            width=\"100%\"\n",
       "            height=\"800\"\n",
       "            src=\"http://localhost:6006\"\n",
       "            frameborder=\"0\"\n",
       "            allowfullscreen\n",
       "        ></iframe>\n",
       "        "
      ],
      "text/plain": [
       "<IPython.lib.display.IFrame at 0x13694ec88>"
      ]
     },
     "metadata": {},
     "output_type": "display_data"
    }
   ],
   "source": [
    "%tensorboard --logdir logs/gradient_tape"
   ]
  },
  {
   "cell_type": "code",
   "execution_count": 33,
   "metadata": {
    "colab": {},
    "colab_type": "code",
    "id": "LT1PUXyXwJR_",
    "scrolled": false
   },
   "outputs": [
    {
     "name": "stderr",
     "output_type": "stream",
     "text": [
      "E0706 16:57:18.514438 4533421504 interactiveshell.py:1178] No traceback has been produced, nothing to debug.\n",
      "I0706 16:57:18.515765 4533421504 <ipython-input-26-73c374e3c1b2>:14] Exploring a random move\n",
      "I0706 16:57:18.543603 4533421504 <ipython-input-26-73c374e3c1b2>:53] White passed\n",
      "I0706 16:57:18.545192 4533421504 <ipython-input-26-73c374e3c1b2>:14] Exploring a random move\n",
      "I0706 16:57:18.582384 4533421504 <ipython-input-26-73c374e3c1b2>:14] Exploring a random move\n",
      "I0706 16:57:18.620932 4533421504 <ipython-input-26-73c374e3c1b2>:14] Exploring a random move\n",
      "I0706 16:57:18.666589 4533421504 <ipython-input-26-73c374e3c1b2>:14] Exploring a random move\n",
      "I0706 16:57:18.717423 4533421504 <ipython-input-26-73c374e3c1b2>:14] Exploring a random move\n",
      "I0706 16:57:18.774798 4533421504 <ipython-input-26-73c374e3c1b2>:14] Exploring a random move\n",
      "I0706 16:57:18.835045 4533421504 <ipython-input-26-73c374e3c1b2>:14] Exploring a random move\n",
      "I0706 16:57:18.895765 4533421504 <ipython-input-26-73c374e3c1b2>:14] Exploring a random move\n",
      "I0706 16:57:18.934176 4533421504 <ipython-input-26-73c374e3c1b2>:53] White passed\n",
      "I0706 16:57:18.935217 4533421504 <ipython-input-26-73c374e3c1b2>:14] Exploring a random move\n",
      "I0706 16:57:18.975904 4533421504 <ipython-input-26-73c374e3c1b2>:53] White passed\n",
      "I0706 16:57:18.976994 4533421504 <ipython-input-26-73c374e3c1b2>:14] Exploring a random move\n",
      "I0706 16:57:19.039826 4533421504 <ipython-input-26-73c374e3c1b2>:14] Exploring a random move\n",
      "I0706 16:57:19.075749 4533421504 <ipython-input-26-73c374e3c1b2>:53] White passed\n",
      "I0706 16:57:19.076575 4533421504 <ipython-input-26-73c374e3c1b2>:14] Exploring a random move\n",
      "I0706 16:57:19.114974 4533421504 <ipython-input-26-73c374e3c1b2>:53] White passed\n",
      "I0706 16:57:19.115877 4533421504 <ipython-input-26-73c374e3c1b2>:14] Exploring a random move\n",
      "I0706 16:57:19.176497 4533421504 <ipython-input-26-73c374e3c1b2>:14] Exploring a random move\n",
      "I0706 16:57:19.233814 4533421504 <ipython-input-26-73c374e3c1b2>:14] Exploring a random move\n",
      "I0706 16:57:19.273359 4533421504 <ipython-input-26-73c374e3c1b2>:53] White passed\n",
      "I0706 16:57:19.274491 4533421504 <ipython-input-26-73c374e3c1b2>:14] Exploring a random move\n",
      "I0706 16:57:19.319401 4533421504 <ipython-input-26-73c374e3c1b2>:53] White passed\n",
      "I0706 16:57:19.320286 4533421504 <ipython-input-26-73c374e3c1b2>:14] Exploring a random move\n",
      "I0706 16:57:19.388125 4533421504 <ipython-input-26-73c374e3c1b2>:14] Exploring a random move\n",
      "I0706 16:57:19.427540 4533421504 <ipython-input-26-73c374e3c1b2>:53] White passed\n",
      "I0706 16:57:19.428585 4533421504 <ipython-input-26-73c374e3c1b2>:14] Exploring a random move\n",
      "I0706 16:57:19.487164 4533421504 <ipython-input-26-73c374e3c1b2>:14] Exploring a random move\n",
      "I0706 16:57:19.535601 4533421504 <ipython-input-26-73c374e3c1b2>:14] Exploring a random move\n",
      "I0706 16:57:19.579331 4533421504 <ipython-input-26-73c374e3c1b2>:14] Exploring a random move\n",
      "I0706 16:57:19.618287 4533421504 <ipython-input-26-73c374e3c1b2>:14] Exploring a random move\n",
      "I0706 16:57:19.643076 4533421504 <ipython-input-26-73c374e3c1b2>:53] White passed\n",
      "I0706 16:57:19.644031 4533421504 <ipython-input-26-73c374e3c1b2>:14] Exploring a random move\n",
      "I0706 16:57:19.679931 4533421504 <ipython-input-26-73c374e3c1b2>:14] Exploring a random move\n",
      "I0706 16:57:19.704221 4533421504 <ipython-input-26-73c374e3c1b2>:53] White passed\n",
      "I0706 16:57:19.705145 4533421504 <ipython-input-26-73c374e3c1b2>:14] Exploring a random move\n",
      "I0706 16:57:19.736417 4533421504 <ipython-input-26-73c374e3c1b2>:14] Exploring a random move\n",
      "I0706 16:57:19.756392 4533421504 <ipython-input-26-73c374e3c1b2>:53] White passed\n",
      "I0706 16:57:19.757487 4533421504 <ipython-input-26-73c374e3c1b2>:14] Exploring a random move\n",
      "I0706 16:57:19.786103 4533421504 <ipython-input-26-73c374e3c1b2>:14] Exploring a random move\n",
      "I0706 16:57:19.805269 4533421504 <ipython-input-26-73c374e3c1b2>:53] White passed\n",
      "I0706 16:57:19.806129 4533421504 <ipython-input-26-73c374e3c1b2>:14] Exploring a random move\n",
      "I0706 16:57:19.825498 4533421504 <ipython-input-26-73c374e3c1b2>:53] White passed\n",
      "I0706 16:57:19.826503 4533421504 <ipython-input-26-73c374e3c1b2>:14] Exploring a random move\n",
      "I0706 16:57:19.827060 4533421504 <ipython-input-26-73c374e3c1b2>:36] Black passed\n",
      "I0706 16:57:19.829493 4533421504 <ipython-input-26-73c374e3c1b2>:14] Exploring a random move\n",
      "I0706 16:57:19.847979 4533421504 <ipython-input-26-73c374e3c1b2>:53] White passed\n",
      "I0706 16:57:19.849256 4533421504 <ipython-input-26-73c374e3c1b2>:14] Exploring a random move\n",
      "I0706 16:57:19.881119 4533421504 <ipython-input-26-73c374e3c1b2>:14] Exploring a random move\n",
      "I0706 16:57:19.918056 4533421504 <ipython-input-26-73c374e3c1b2>:14] Exploring a random move\n",
      "I0706 16:57:19.964212 4533421504 <ipython-input-26-73c374e3c1b2>:14] Exploring a random move\n",
      "I0706 16:57:20.019530 4533421504 <ipython-input-26-73c374e3c1b2>:14] Exploring a random move\n",
      "I0706 16:57:20.084589 4533421504 <ipython-input-26-73c374e3c1b2>:14] Exploring a random move\n",
      "I0706 16:57:20.149847 4533421504 <ipython-input-26-73c374e3c1b2>:14] Exploring a random move\n",
      "I0706 16:57:20.214649 4533421504 <ipython-input-26-73c374e3c1b2>:14] Exploring a random move\n",
      "I0706 16:57:20.252712 4533421504 <ipython-input-26-73c374e3c1b2>:53] White passed\n",
      "I0706 16:57:20.253938 4533421504 <ipython-input-26-73c374e3c1b2>:14] Exploring a random move\n",
      "I0706 16:57:20.297306 4533421504 <ipython-input-26-73c374e3c1b2>:53] White passed\n",
      "I0706 16:57:20.298314 4533421504 <ipython-input-26-73c374e3c1b2>:14] Exploring a random move\n",
      "I0706 16:57:20.364241 4533421504 <ipython-input-26-73c374e3c1b2>:14] Exploring a random move\n",
      "I0706 16:57:20.401260 4533421504 <ipython-input-26-73c374e3c1b2>:53] White passed\n",
      "I0706 16:57:20.401960 4533421504 <ipython-input-26-73c374e3c1b2>:14] Exploring a random move\n",
      "I0706 16:57:20.440829 4533421504 <ipython-input-26-73c374e3c1b2>:53] White passed\n",
      "I0706 16:57:20.441614 4533421504 <ipython-input-26-73c374e3c1b2>:14] Exploring a random move\n",
      "I0706 16:57:20.504929 4533421504 <ipython-input-26-73c374e3c1b2>:14] Exploring a random move\n",
      "I0706 16:57:20.543484 4533421504 <ipython-input-26-73c374e3c1b2>:53] White passed\n",
      "I0706 16:57:20.544538 4533421504 <ipython-input-26-73c374e3c1b2>:14] Exploring a random move\n",
      "I0706 16:57:20.581772 4533421504 <ipython-input-26-73c374e3c1b2>:53] White passed\n",
      "I0706 16:57:20.582481 4533421504 <ipython-input-26-73c374e3c1b2>:14] Exploring a random move\n",
      "I0706 16:57:20.619249 4533421504 <ipython-input-26-73c374e3c1b2>:53] White passed\n",
      "I0706 16:57:20.620445 4533421504 <ipython-input-26-73c374e3c1b2>:14] Exploring a random move\n",
      "I0706 16:57:20.683152 4533421504 <ipython-input-26-73c374e3c1b2>:14] Exploring a random move\n",
      "I0706 16:57:20.718506 4533421504 <ipython-input-26-73c374e3c1b2>:53] White passed\n",
      "I0706 16:57:20.719629 4533421504 <ipython-input-26-73c374e3c1b2>:14] Exploring a random move\n",
      "I0706 16:57:20.754928 4533421504 <ipython-input-26-73c374e3c1b2>:53] White passed\n",
      "I0706 16:57:20.755826 4533421504 <ipython-input-26-73c374e3c1b2>:14] Exploring a random move\n",
      "I0706 16:57:20.788358 4533421504 <ipython-input-26-73c374e3c1b2>:53] White passed\n",
      "I0706 16:57:20.789255 4533421504 <ipython-input-26-73c374e3c1b2>:14] Exploring a random move\n",
      "I0706 16:57:20.818541 4533421504 <ipython-input-26-73c374e3c1b2>:53] White passed\n",
      "I0706 16:57:20.819494 4533421504 <ipython-input-26-73c374e3c1b2>:14] Exploring a random move\n",
      "I0706 16:57:20.850044 4533421504 <ipython-input-26-73c374e3c1b2>:53] White passed\n",
      "I0706 16:57:20.851214 4533421504 <ipython-input-26-73c374e3c1b2>:14] Exploring a random move\n",
      "I0706 16:57:20.900806 4533421504 <ipython-input-26-73c374e3c1b2>:32] Exploiting actor's move\n",
      "I0706 16:57:20.942778 4533421504 <ipython-input-26-73c374e3c1b2>:53] White passed\n",
      "I0706 16:57:20.943799 4533421504 <ipython-input-26-73c374e3c1b2>:14] Exploring a random move\n",
      "I0706 16:57:20.972762 4533421504 <ipython-input-26-73c374e3c1b2>:53] White passed\n",
      "I0706 16:57:20.973692 4533421504 <ipython-input-26-73c374e3c1b2>:14] Exploring a random move\n",
      "I0706 16:57:21.011119 4533421504 <ipython-input-26-73c374e3c1b2>:14] Exploring a random move\n",
      "I0706 16:57:21.034170 4533421504 <ipython-input-26-73c374e3c1b2>:53] White passed\n",
      "I0706 16:57:21.035063 4533421504 <ipython-input-26-73c374e3c1b2>:14] Exploring a random move\n"
     ]
    },
    {
     "name": "stderr",
     "output_type": "stream",
     "text": [
      "I0706 16:57:21.057856 4533421504 <ipython-input-26-73c374e3c1b2>:53] White passed\n",
      "I0706 16:57:21.058926 4533421504 <ipython-input-26-73c374e3c1b2>:14] Exploring a random move\n",
      "I0706 16:57:21.080286 4533421504 <ipython-input-26-73c374e3c1b2>:53] White passed\n",
      "I0706 16:57:21.081204 4533421504 <ipython-input-26-73c374e3c1b2>:14] Exploring a random move\n",
      "I0706 16:57:21.101001 4533421504 <ipython-input-26-73c374e3c1b2>:53] White passed\n",
      "I0706 16:57:21.102272 4533421504 <ipython-input-26-73c374e3c1b2>:14] Exploring a random move\n",
      "I0706 16:57:21.130290 4533421504 <ipython-input-26-73c374e3c1b2>:14] Exploring a random move\n",
      "I0706 16:57:21.149681 4533421504 <ipython-input-26-73c374e3c1b2>:53] White passed\n",
      "I0706 16:57:21.150543 4533421504 <ipython-input-26-73c374e3c1b2>:14] Exploring a random move\n",
      "I0706 16:57:21.175523 4533421504 <ipython-input-26-73c374e3c1b2>:14] Exploring a random move\n",
      "I0706 16:57:21.193776 4533421504 <ipython-input-26-73c374e3c1b2>:53] White passed\n",
      "I0706 16:57:21.194575 4533421504 <ipython-input-26-73c374e3c1b2>:14] Exploring a random move\n",
      "I0706 16:57:21.195321 4533421504 <ipython-input-26-73c374e3c1b2>:36] Black passed\n",
      "I0706 16:57:21.197038 4533421504 <ipython-input-26-73c374e3c1b2>:14] Exploring a random move\n",
      "I0706 16:57:21.215979 4533421504 <ipython-input-26-73c374e3c1b2>:53] White passed\n",
      "I0706 16:57:21.216857 4533421504 <ipython-input-26-73c374e3c1b2>:14] Exploring a random move\n",
      "I0706 16:57:21.247419 4533421504 <ipython-input-26-73c374e3c1b2>:14] Exploring a random move\n",
      "I0706 16:57:21.286353 4533421504 <ipython-input-26-73c374e3c1b2>:14] Exploring a random move\n",
      "I0706 16:57:21.315315 4533421504 <ipython-input-26-73c374e3c1b2>:53] White passed\n",
      "I0706 16:57:21.316263 4533421504 <ipython-input-26-73c374e3c1b2>:14] Exploring a random move\n",
      "I0706 16:57:21.365525 4533421504 <ipython-input-26-73c374e3c1b2>:14] Exploring a random move\n",
      "I0706 16:57:21.422410 4533421504 <ipython-input-26-73c374e3c1b2>:14] Exploring a random move\n",
      "I0706 16:57:21.481010 4533421504 <ipython-input-26-73c374e3c1b2>:14] Exploring a random move\n",
      "I0706 16:57:21.517691 4533421504 <ipython-input-26-73c374e3c1b2>:53] White passed\n",
      "I0706 16:57:21.519021 4533421504 <ipython-input-26-73c374e3c1b2>:14] Exploring a random move\n",
      "I0706 16:57:21.555136 4533421504 <ipython-input-26-73c374e3c1b2>:53] White passed\n",
      "I0706 16:57:21.556250 4533421504 <ipython-input-26-73c374e3c1b2>:14] Exploring a random move\n",
      "I0706 16:57:21.594291 4533421504 <ipython-input-26-73c374e3c1b2>:53] White passed\n",
      "I0706 16:57:21.595427 4533421504 <ipython-input-26-73c374e3c1b2>:14] Exploring a random move\n",
      "I0706 16:57:21.656273 4533421504 <ipython-input-26-73c374e3c1b2>:14] Exploring a random move\n",
      "I0706 16:57:21.698188 4533421504 <ipython-input-26-73c374e3c1b2>:53] White passed\n",
      "I0706 16:57:21.699275 4533421504 <ipython-input-26-73c374e3c1b2>:14] Exploring a random move\n",
      "I0706 16:57:21.742967 4533421504 <ipython-input-26-73c374e3c1b2>:53] White passed\n",
      "I0706 16:57:21.744432 4533421504 <ipython-input-26-73c374e3c1b2>:14] Exploring a random move\n",
      "I0706 16:57:21.818661 4533421504 <ipython-input-26-73c374e3c1b2>:14] Exploring a random move\n",
      "I0706 16:57:21.860399 4533421504 <ipython-input-26-73c374e3c1b2>:53] White passed\n",
      "I0706 16:57:21.861415 4533421504 <ipython-input-26-73c374e3c1b2>:14] Exploring a random move\n",
      "I0706 16:57:21.901924 4533421504 <ipython-input-26-73c374e3c1b2>:53] White passed\n",
      "I0706 16:57:21.903090 4533421504 <ipython-input-26-73c374e3c1b2>:14] Exploring a random move\n",
      "I0706 16:57:21.968787 4533421504 <ipython-input-26-73c374e3c1b2>:14] Exploring a random move\n",
      "I0706 16:57:22.034586 4533421504 <ipython-input-26-73c374e3c1b2>:14] Exploring a random move\n",
      "I0706 16:57:22.073471 4533421504 <ipython-input-26-73c374e3c1b2>:53] White passed\n",
      "I0706 16:57:22.074579 4533421504 <ipython-input-26-73c374e3c1b2>:14] Exploring a random move\n",
      "I0706 16:57:22.135388 4533421504 <ipython-input-26-73c374e3c1b2>:14] Exploring a random move\n",
      "I0706 16:57:22.194463 4533421504 <ipython-input-26-73c374e3c1b2>:14] Exploring a random move\n",
      "I0706 16:57:22.228161 4533421504 <ipython-input-26-73c374e3c1b2>:53] White passed\n",
      "I0706 16:57:22.228880 4533421504 <ipython-input-26-73c374e3c1b2>:14] Exploring a random move\n",
      "I0706 16:57:22.282319 4533421504 <ipython-input-26-73c374e3c1b2>:14] Exploring a random move\n",
      "I0706 16:57:22.314250 4533421504 <ipython-input-26-73c374e3c1b2>:53] White passed\n",
      "I0706 16:57:22.315212 4533421504 <ipython-input-26-73c374e3c1b2>:14] Exploring a random move\n",
      "I0706 16:57:22.346688 4533421504 <ipython-input-26-73c374e3c1b2>:53] White passed\n",
      "I0706 16:57:22.347403 4533421504 <ipython-input-26-73c374e3c1b2>:14] Exploring a random move\n",
      "I0706 16:57:22.393210 4533421504 <ipython-input-26-73c374e3c1b2>:14] Exploring a random move\n",
      "I0706 16:57:22.420762 4533421504 <ipython-input-26-73c374e3c1b2>:53] White passed\n",
      "I0706 16:57:22.421839 4533421504 <ipython-input-26-73c374e3c1b2>:14] Exploring a random move\n",
      "I0706 16:57:22.465360 4533421504 <ipython-input-26-73c374e3c1b2>:14] Exploring a random move\n",
      "I0706 16:57:22.490550 4533421504 <ipython-input-26-73c374e3c1b2>:53] White passed\n",
      "I0706 16:57:22.491389 4533421504 <ipython-input-26-73c374e3c1b2>:14] Exploring a random move\n",
      "I0706 16:57:22.516969 4533421504 <ipython-input-26-73c374e3c1b2>:53] White passed\n",
      "I0706 16:57:22.517936 4533421504 <ipython-input-26-73c374e3c1b2>:14] Exploring a random move\n",
      "I0706 16:57:22.541540 4533421504 <ipython-input-26-73c374e3c1b2>:53] White passed\n",
      "I0706 16:57:22.542783 4533421504 <ipython-input-26-73c374e3c1b2>:14] Exploring a random move\n",
      "I0706 16:57:22.543416 4533421504 <ipython-input-26-73c374e3c1b2>:36] Black passed\n",
      "I0706 16:57:22.545682 4533421504 <ipython-input-26-73c374e3c1b2>:14] Exploring a random move\n",
      "I0706 16:57:22.546386 4533421504 <ipython-input-26-73c374e3c1b2>:36] Black passed\n",
      "I0706 16:57:22.560371 4533421504 <ipython-input-26-73c374e3c1b2>:53] White passed\n",
      "I0706 16:57:22.562723 4533421504 <ipython-input-26-73c374e3c1b2>:14] Exploring a random move\n",
      "I0706 16:57:22.580506 4533421504 <ipython-input-26-73c374e3c1b2>:53] White passed\n",
      "I0706 16:57:22.581405 4533421504 <ipython-input-26-73c374e3c1b2>:14] Exploring a random move\n",
      "I0706 16:57:22.604281 4533421504 <ipython-input-26-73c374e3c1b2>:53] White passed\n",
      "I0706 16:57:22.605143 4533421504 <ipython-input-26-73c374e3c1b2>:14] Exploring a random move\n",
      "I0706 16:57:22.628950 4533421504 <ipython-input-26-73c374e3c1b2>:53] White passed\n",
      "I0706 16:57:22.630151 4533421504 <ipython-input-26-73c374e3c1b2>:14] Exploring a random move\n",
      "I0706 16:57:22.671902 4533421504 <ipython-input-26-73c374e3c1b2>:14] Exploring a random move\n",
      "I0706 16:57:22.714389 4533421504 <ipython-input-26-73c374e3c1b2>:14] Exploring a random move\n",
      "I0706 16:57:22.772469 4533421504 <ipython-input-26-73c374e3c1b2>:14] Exploring a random move\n",
      "I0706 16:57:22.838770 4533421504 <ipython-input-26-73c374e3c1b2>:14] Exploring a random move\n",
      "I0706 16:57:22.875718 4533421504 <ipython-input-26-73c374e3c1b2>:53] White passed\n",
      "I0706 16:57:22.876879 4533421504 <ipython-input-26-73c374e3c1b2>:14] Exploring a random move\n",
      "I0706 16:57:22.915626 4533421504 <ipython-input-26-73c374e3c1b2>:53] White passed\n",
      "I0706 16:57:22.916689 4533421504 <ipython-input-26-73c374e3c1b2>:14] Exploring a random move\n",
      "I0706 16:57:22.956279 4533421504 <ipython-input-26-73c374e3c1b2>:53] White passed\n",
      "I0706 16:57:22.957442 4533421504 <ipython-input-26-73c374e3c1b2>:14] Exploring a random move\n",
      "I0706 16:57:23.023779 4533421504 <ipython-input-26-73c374e3c1b2>:14] Exploring a random move\n",
      "I0706 16:57:23.092842 4533421504 <ipython-input-26-73c374e3c1b2>:14] Exploring a random move\n",
      "I0706 16:57:23.159344 4533421504 <ipython-input-26-73c374e3c1b2>:14] Exploring a random move\n",
      "I0706 16:57:23.223571 4533421504 <ipython-input-26-73c374e3c1b2>:14] Exploring a random move\n",
      "I0706 16:57:23.264482 4533421504 <ipython-input-26-73c374e3c1b2>:53] White passed\n",
      "I0706 16:57:23.265450 4533421504 <ipython-input-26-73c374e3c1b2>:14] Exploring a random move\n",
      "I0706 16:57:23.306811 4533421504 <ipython-input-26-73c374e3c1b2>:53] White passed\n",
      "I0706 16:57:23.307852 4533421504 <ipython-input-26-73c374e3c1b2>:14] Exploring a random move\n",
      "I0706 16:57:23.377839 4533421504 <ipython-input-26-73c374e3c1b2>:14] Exploring a random move\n",
      "I0706 16:57:23.442497 4533421504 <ipython-input-26-73c374e3c1b2>:14] Exploring a random move\n"
     ]
    },
    {
     "name": "stderr",
     "output_type": "stream",
     "text": [
      "I0706 16:57:23.502666 4533421504 <ipython-input-26-73c374e3c1b2>:32] Exploiting actor's move\n",
      "I0706 16:57:23.516760 4533421504 <ipython-input-26-73c374e3c1b2>:36] Black passed\n",
      "I0706 16:57:23.529626 4533421504 <ipython-input-26-73c374e3c1b2>:53] White passed\n",
      "I0706 16:57:23.531893 4533421504 <ipython-input-26-73c374e3c1b2>:14] Exploring a random move\n",
      "I0706 16:57:23.550755 4533421504 <ipython-input-26-73c374e3c1b2>:53] White passed\n",
      "I0706 16:57:23.551990 4533421504 <ipython-input-26-73c374e3c1b2>:14] Exploring a random move\n",
      "I0706 16:57:23.575389 4533421504 <ipython-input-26-73c374e3c1b2>:53] White passed\n",
      "I0706 16:57:23.576568 4533421504 <ipython-input-26-73c374e3c1b2>:14] Exploring a random move\n",
      "I0706 16:57:23.602210 4533421504 <ipython-input-26-73c374e3c1b2>:53] White passed\n",
      "I0706 16:57:23.602952 4533421504 <ipython-input-26-73c374e3c1b2>:14] Exploring a random move\n",
      "I0706 16:57:23.644786 4533421504 <ipython-input-26-73c374e3c1b2>:14] Exploring a random move\n",
      "I0706 16:57:23.673422 4533421504 <ipython-input-26-73c374e3c1b2>:53] White passed\n",
      "I0706 16:57:23.674478 4533421504 <ipython-input-26-73c374e3c1b2>:14] Exploring a random move\n",
      "I0706 16:57:23.705711 4533421504 <ipython-input-26-73c374e3c1b2>:53] White passed\n",
      "I0706 16:57:23.706522 4533421504 <ipython-input-26-73c374e3c1b2>:14] Exploring a random move\n",
      "I0706 16:57:23.739997 4533421504 <ipython-input-26-73c374e3c1b2>:53] White passed\n",
      "I0706 16:57:23.741029 4533421504 <ipython-input-26-73c374e3c1b2>:32] Exploiting actor's move\n",
      "I0706 16:57:23.803970 4533421504 <ipython-input-26-73c374e3c1b2>:14] Exploring a random move\n",
      "I0706 16:57:23.853332 4533421504 <ipython-input-26-73c374e3c1b2>:14] Exploring a random move\n",
      "I0706 16:57:23.908586 4533421504 <ipython-input-26-73c374e3c1b2>:14] Exploring a random move\n",
      "I0706 16:57:23.941761 4533421504 <ipython-input-26-73c374e3c1b2>:53] White passed\n",
      "I0706 16:57:23.942512 4533421504 <ipython-input-26-73c374e3c1b2>:14] Exploring a random move\n",
      "I0706 16:57:23.977645 4533421504 <ipython-input-26-73c374e3c1b2>:53] White passed\n",
      "I0706 16:57:23.978496 4533421504 <ipython-input-26-73c374e3c1b2>:14] Exploring a random move\n",
      "I0706 16:57:24.035750 4533421504 <ipython-input-26-73c374e3c1b2>:14] Exploring a random move\n",
      "I0706 16:57:24.091362 4533421504 <ipython-input-26-73c374e3c1b2>:14] Exploring a random move\n",
      "I0706 16:57:24.123805 4533421504 <ipython-input-26-73c374e3c1b2>:53] White passed\n",
      "I0706 16:57:24.124989 4533421504 <ipython-input-26-73c374e3c1b2>:14] Exploring a random move\n",
      "I0706 16:57:24.186082 4533421504 <ipython-input-26-73c374e3c1b2>:14] Exploring a random move\n",
      "I0706 16:57:24.224549 4533421504 <ipython-input-26-73c374e3c1b2>:53] White passed\n",
      "I0706 16:57:24.225590 4533421504 <ipython-input-26-73c374e3c1b2>:14] Exploring a random move\n",
      "I0706 16:57:24.263116 4533421504 <ipython-input-26-73c374e3c1b2>:53] White passed\n",
      "I0706 16:57:24.264168 4533421504 <ipython-input-26-73c374e3c1b2>:14] Exploring a random move\n",
      "I0706 16:57:24.299638 4533421504 <ipython-input-26-73c374e3c1b2>:53] White passed\n",
      "I0706 16:57:24.300595 4533421504 <ipython-input-26-73c374e3c1b2>:14] Exploring a random move\n",
      "I0706 16:57:24.350655 4533421504 <ipython-input-26-73c374e3c1b2>:14] Exploring a random move\n",
      "I0706 16:57:24.382939 4533421504 <ipython-input-26-73c374e3c1b2>:53] White passed\n",
      "I0706 16:57:24.383616 4533421504 <ipython-input-26-73c374e3c1b2>:14] Exploring a random move\n",
      "I0706 16:57:24.432074 4533421504 <ipython-input-26-73c374e3c1b2>:14] Exploring a random move\n",
      "I0706 16:57:24.474644 4533421504 <ipython-input-26-73c374e3c1b2>:14] Exploring a random move\n",
      "I0706 16:57:24.501850 4533421504 <ipython-input-26-73c374e3c1b2>:53] White passed\n",
      "I0706 16:57:24.502818 4533421504 <ipython-input-26-73c374e3c1b2>:14] Exploring a random move\n",
      "I0706 16:57:24.530431 4533421504 <ipython-input-26-73c374e3c1b2>:53] White passed\n",
      "I0706 16:57:24.531348 4533421504 <ipython-input-26-73c374e3c1b2>:14] Exploring a random move\n",
      "I0706 16:57:24.568202 4533421504 <ipython-input-26-73c374e3c1b2>:14] Exploring a random move\n",
      "I0706 16:57:24.598814 4533421504 <ipython-input-26-73c374e3c1b2>:32] Exploiting actor's move\n",
      "I0706 16:57:24.638073 4533421504 <ipython-input-26-73c374e3c1b2>:14] Exploring a random move\n",
      "I0706 16:57:24.665683 4533421504 <ipython-input-26-73c374e3c1b2>:14] Exploring a random move\n",
      "I0706 16:57:24.684091 4533421504 <ipython-input-26-73c374e3c1b2>:53] White passed\n",
      "I0706 16:57:24.684700 4533421504 <ipython-input-26-73c374e3c1b2>:14] Exploring a random move\n",
      "I0706 16:57:24.707095 4533421504 <ipython-input-26-73c374e3c1b2>:32] Exploiting actor's move\n",
      "I0706 16:57:24.733744 4533421504 <ipython-input-26-73c374e3c1b2>:53] White passed\n",
      "I0706 16:57:24.734392 4533421504 <ipython-input-26-73c374e3c1b2>:14] Exploring a random move\n",
      "I0706 16:57:24.735260 4533421504 <ipython-input-26-73c374e3c1b2>:36] Black passed\n",
      "I0706 16:57:24.736741 4533421504 <ipython-input-26-73c374e3c1b2>:14] Exploring a random move\n",
      "I0706 16:57:24.764048 4533421504 <ipython-input-26-73c374e3c1b2>:14] Exploring a random move\n",
      "I0706 16:57:24.786874 4533421504 <ipython-input-26-73c374e3c1b2>:53] White passed\n",
      "I0706 16:57:24.787898 4533421504 <ipython-input-26-73c374e3c1b2>:14] Exploring a random move\n",
      "I0706 16:57:24.815613 4533421504 <ipython-input-26-73c374e3c1b2>:53] White passed\n",
      "I0706 16:57:24.816733 4533421504 <ipython-input-26-73c374e3c1b2>:14] Exploring a random move\n",
      "I0706 16:57:24.844421 4533421504 <ipython-input-26-73c374e3c1b2>:53] White passed\n",
      "I0706 16:57:24.845607 4533421504 <ipython-input-26-73c374e3c1b2>:14] Exploring a random move\n",
      "I0706 16:57:24.893113 4533421504 <ipython-input-26-73c374e3c1b2>:14] Exploring a random move\n",
      "I0706 16:57:24.945451 4533421504 <ipython-input-26-73c374e3c1b2>:14] Exploring a random move\n",
      "I0706 16:57:24.977303 4533421504 <ipython-input-26-73c374e3c1b2>:53] White passed\n",
      "I0706 16:57:24.978396 4533421504 <ipython-input-26-73c374e3c1b2>:14] Exploring a random move\n",
      "I0706 16:57:25.015754 4533421504 <ipython-input-26-73c374e3c1b2>:53] White passed\n",
      "I0706 16:57:25.016784 4533421504 <ipython-input-26-73c374e3c1b2>:14] Exploring a random move\n",
      "I0706 16:57:25.052241 4533421504 <ipython-input-26-73c374e3c1b2>:53] White passed\n",
      "I0706 16:57:25.052944 4533421504 <ipython-input-26-73c374e3c1b2>:14] Exploring a random move\n",
      "I0706 16:57:25.089059 4533421504 <ipython-input-26-73c374e3c1b2>:53] White passed\n",
      "I0706 16:57:25.090096 4533421504 <ipython-input-26-73c374e3c1b2>:14] Exploring a random move\n",
      "I0706 16:57:25.127182 4533421504 <ipython-input-26-73c374e3c1b2>:53] White passed\n",
      "I0706 16:57:25.128369 4533421504 <ipython-input-26-73c374e3c1b2>:14] Exploring a random move\n",
      "I0706 16:57:25.187545 4533421504 <ipython-input-26-73c374e3c1b2>:14] Exploring a random move\n",
      "I0706 16:57:25.245298 4533421504 <ipython-input-26-73c374e3c1b2>:14] Exploring a random move\n",
      "I0706 16:57:25.288213 4533421504 <ipython-input-26-73c374e3c1b2>:53] White passed\n",
      "I0706 16:57:25.289451 4533421504 <ipython-input-26-73c374e3c1b2>:14] Exploring a random move\n",
      "I0706 16:57:25.334689 4533421504 <ipython-input-26-73c374e3c1b2>:53] White passed\n",
      "I0706 16:57:25.336091 4533421504 <ipython-input-26-73c374e3c1b2>:14] Exploring a random move\n",
      "I0706 16:57:25.376069 4533421504 <ipython-input-26-73c374e3c1b2>:53] White passed\n",
      "I0706 16:57:25.377397 4533421504 <ipython-input-26-73c374e3c1b2>:14] Exploring a random move\n",
      "I0706 16:57:25.417104 4533421504 <ipython-input-26-73c374e3c1b2>:53] White passed\n",
      "I0706 16:57:25.418108 4533421504 <ipython-input-26-73c374e3c1b2>:14] Exploring a random move\n",
      "I0706 16:57:25.479024 4533421504 <ipython-input-26-73c374e3c1b2>:14] Exploring a random move\n",
      "I0706 16:57:25.514733 4533421504 <ipython-input-26-73c374e3c1b2>:53] White passed\n",
      "I0706 16:57:25.515701 4533421504 <ipython-input-26-73c374e3c1b2>:32] Exploiting actor's move\n",
      "I0706 16:57:25.586230 4533421504 <ipython-input-26-73c374e3c1b2>:14] Exploring a random move\n",
      "I0706 16:57:25.641594 4533421504 <ipython-input-26-73c374e3c1b2>:14] Exploring a random move\n",
      "I0706 16:57:25.693646 4533421504 <ipython-input-26-73c374e3c1b2>:14] Exploring a random move\n",
      "I0706 16:57:25.723497 4533421504 <ipython-input-26-73c374e3c1b2>:53] White passed\n",
      "I0706 16:57:25.724701 4533421504 <ipython-input-26-73c374e3c1b2>:14] Exploring a random move\n",
      "I0706 16:57:25.770956 4533421504 <ipython-input-26-73c374e3c1b2>:14] Exploring a random move\n"
     ]
    },
    {
     "name": "stderr",
     "output_type": "stream",
     "text": [
      "I0706 16:57:25.799404 4533421504 <ipython-input-26-73c374e3c1b2>:53] White passed\n",
      "I0706 16:57:25.800315 4533421504 <ipython-input-26-73c374e3c1b2>:14] Exploring a random move\n",
      "I0706 16:57:25.828487 4533421504 <ipython-input-26-73c374e3c1b2>:53] White passed\n",
      "I0706 16:57:25.829569 4533421504 <ipython-input-26-73c374e3c1b2>:14] Exploring a random move\n",
      "I0706 16:57:25.856555 4533421504 <ipython-input-26-73c374e3c1b2>:53] White passed\n",
      "I0706 16:57:25.857408 4533421504 <ipython-input-26-73c374e3c1b2>:14] Exploring a random move\n",
      "I0706 16:57:25.895652 4533421504 <ipython-input-26-73c374e3c1b2>:32] Exploiting actor's move\n",
      "I0706 16:57:25.909308 4533421504 <ipython-input-26-73c374e3c1b2>:36] Black passed\n"
     ]
    },
    {
     "name": "stdout",
     "output_type": "stream",
     "text": [
      "Turn: w\n",
      "Your pieces (black):\n",
      "[[0 0 1 1 0 0 0]\n",
      " [0 0 1 0 0 0 0]\n",
      " [0 1 0 1 0 1 0]\n",
      " [0 0 0 0 0 0 0]\n",
      " [0 0 1 0 0 1 0]\n",
      " [1 1 0 0 1 0 0]\n",
      " [0 0 0 0 0 0 0]]\n",
      "Opponent's pieces (white):\n",
      "[[1 1 0 0 1 0 1]\n",
      " [1 1 0 1 1 1 1]\n",
      " [1 0 0 0 0 0 1]\n",
      " [1 0 0 1 1 1 0]\n",
      " [1 1 0 1 1 0 1]\n",
      " [0 0 1 0 0 0 1]\n",
      " [0 1 1 1 0 1 1]]\n",
      "Illegal moves:\n",
      "[[1 1 1 1 1 0 1]\n",
      " [1 1 1 1 1 1 1]\n",
      " [1 1 0 1 0 1 1]\n",
      " [1 0 0 1 1 1 0]\n",
      " [1 1 1 1 1 1 1]\n",
      " [1 1 1 0 1 0 1]\n",
      " [0 1 1 1 0 1 1]]\n",
      "The opponent passed: 1\n"
     ]
    },
    {
     "ename": "Exception",
     "evalue": "Move (6, 0) is illegal: this move is suicide",
     "output_type": "error",
     "traceback": [
      "\u001b[0;31m---------------------------------------------------------------------------\u001b[0m",
      "\u001b[0;31mException\u001b[0m                                 Traceback (most recent call last)",
      "\u001b[0;32m<ipython-input-33-ee23de7a9747>\u001b[0m in \u001b[0;36m<module>\u001b[0;34m\u001b[0m\n\u001b[1;32m      1\u001b[0m \u001b[0mget_ipython\u001b[0m\u001b[0;34m(\u001b[0m\u001b[0;34m)\u001b[0m\u001b[0;34m.\u001b[0m\u001b[0mrun_line_magic\u001b[0m\u001b[0;34m(\u001b[0m\u001b[0;34m'debug'\u001b[0m\u001b[0;34m,\u001b[0m \u001b[0;34m''\u001b[0m\u001b[0;34m)\u001b[0m\u001b[0;34m\u001b[0m\u001b[0;34m\u001b[0m\u001b[0m\n\u001b[1;32m      2\u001b[0m \u001b[0;32mfor\u001b[0m \u001b[0mepisode\u001b[0m \u001b[0;32min\u001b[0m \u001b[0mrange\u001b[0m\u001b[0;34m(\u001b[0m\u001b[0mNUM_EPISODES\u001b[0m\u001b[0;34m)\u001b[0m\u001b[0;34m:\u001b[0m\u001b[0;34m\u001b[0m\u001b[0;34m\u001b[0m\u001b[0m\n\u001b[0;32m----> 3\u001b[0;31m     \u001b[0mtrain\u001b[0m\u001b[0;34m(\u001b[0m\u001b[0mepisode\u001b[0m\u001b[0;34m)\u001b[0m\u001b[0;34m\u001b[0m\u001b[0;34m\u001b[0m\u001b[0m\n\u001b[0m",
      "\u001b[0;32m<ipython-input-29-4648c0c54adc>\u001b[0m in \u001b[0;36mtrain\u001b[0;34m(episode)\u001b[0m\n\u001b[1;32m      6\u001b[0m         \u001b[0;32mpass\u001b[0m\u001b[0;34m\u001b[0m\u001b[0;34m\u001b[0m\u001b[0m\n\u001b[1;32m      7\u001b[0m \u001b[0;34m\u001b[0m\u001b[0m\n\u001b[0;32m----> 8\u001b[0;31m     \u001b[0mplay\u001b[0m\u001b[0;34m(\u001b[0m\u001b[0mepisode\u001b[0m\u001b[0;34m)\u001b[0m\u001b[0;34m\u001b[0m\u001b[0;34m\u001b[0m\u001b[0m\n\u001b[0m\u001b[1;32m      9\u001b[0m     \u001b[0mupdate_critic\u001b[0m\u001b[0;34m(\u001b[0m\u001b[0;34m)\u001b[0m\u001b[0;34m\u001b[0m\u001b[0;34m\u001b[0m\u001b[0m\n\u001b[1;32m     10\u001b[0m \u001b[0;34m\u001b[0m\u001b[0m\n",
      "\u001b[0;32m<ipython-input-26-73c374e3c1b2>\u001b[0m in \u001b[0;36mplay\u001b[0;34m(episode)\u001b[0m\n\u001b[1;32m     53\u001b[0m             \u001b[0mlogging\u001b[0m\u001b[0;34m.\u001b[0m\u001b[0mdebug\u001b[0m\u001b[0;34m(\u001b[0m\u001b[0;34m\"White passed\"\u001b[0m\u001b[0;34m)\u001b[0m\u001b[0;34m\u001b[0m\u001b[0;34m\u001b[0m\u001b[0m\n\u001b[1;32m     54\u001b[0m \u001b[0;34m\u001b[0m\u001b[0m\n\u001b[0;32m---> 55\u001b[0;31m         \u001b[0mstate\u001b[0m\u001b[0;34m,\u001b[0m \u001b[0mreward\u001b[0m\u001b[0;34m,\u001b[0m \u001b[0mdone\u001b[0m\u001b[0;34m,\u001b[0m \u001b[0minfo\u001b[0m \u001b[0;34m=\u001b[0m \u001b[0mgo_env\u001b[0m\u001b[0;34m.\u001b[0m\u001b[0mstep\u001b[0m\u001b[0;34m(\u001b[0m\u001b[0maction\u001b[0m\u001b[0;34m)\u001b[0m\u001b[0;34m\u001b[0m\u001b[0;34m\u001b[0m\u001b[0m\n\u001b[0m\u001b[1;32m     56\u001b[0m         \u001b[0mnum_of_turns\u001b[0m \u001b[0;34m+=\u001b[0m \u001b[0;36m1\u001b[0m\u001b[0;34m\u001b[0m\u001b[0;34m\u001b[0m\u001b[0m\n\u001b[1;32m     57\u001b[0m \u001b[0;34m\u001b[0m\u001b[0m\n",
      "\u001b[0;32m~/Go-AI/gym-go/gym_go/envs/go_env.py\u001b[0m in \u001b[0;36mstep\u001b[0;34m(self, action)\u001b[0m\n\u001b[1;32m     77\u001b[0m             \u001b[0;32mif\u001b[0m \u001b[0millegal_reason\u001b[0m \u001b[0;32mis\u001b[0m \u001b[0;32mnot\u001b[0m \u001b[0;32mNone\u001b[0m\u001b[0;34m:\u001b[0m\u001b[0;34m\u001b[0m\u001b[0;34m\u001b[0m\u001b[0m\n\u001b[1;32m     78\u001b[0m                 \u001b[0mself\u001b[0m\u001b[0;34m.\u001b[0m\u001b[0mprint_state\u001b[0m\u001b[0;34m(\u001b[0m\u001b[0;34m)\u001b[0m\u001b[0;34m\u001b[0m\u001b[0;34m\u001b[0m\u001b[0m\n\u001b[0;32m---> 79\u001b[0;31m                 \u001b[0;32mraise\u001b[0m \u001b[0mException\u001b[0m\u001b[0;34m(\u001b[0m\u001b[0millegal_reason\u001b[0m\u001b[0;34m)\u001b[0m\u001b[0;34m\u001b[0m\u001b[0;34m\u001b[0m\u001b[0m\n\u001b[0m\u001b[1;32m     80\u001b[0m \u001b[0;34m\u001b[0m\u001b[0m\n\u001b[1;32m     81\u001b[0m             \u001b[0;31m# make the move\u001b[0m\u001b[0;34m\u001b[0m\u001b[0;34m\u001b[0m\u001b[0;34m\u001b[0m\u001b[0m\n",
      "\u001b[0;31mException\u001b[0m: Move (6, 0) is illegal: this move is suicide"
     ]
    }
   ],
   "source": [
    "%debug\n",
    "for episode in range(NUM_EPISODES):\n",
    "    train(episode)"
   ]
  },
  {
   "cell_type": "markdown",
   "metadata": {
    "colab_type": "text",
    "id": "NyMNxMAWwJR_"
   },
   "source": [
    "# Evaluate\n",
    "Play against the actor 💪"
   ]
  },
  {
   "cell_type": "raw",
   "metadata": {
    "colab": {},
    "colab_type": "code",
    "id": "97j_uYY9wJSA",
    "outputId": "4d6aa1e6-8b63-4a39-b600-e331284ad6ff"
   },
   "source": [
    "go_env = gym.make('gym_go:go-v0', size='S')\n",
    "\n",
    "state = go_env.reset()\n",
    "\n",
    "done = False\n",
    "while not done:\n",
    "    go_env.render()\n",
    "    \n",
    "    # Actor's move\n",
    "    action = get_action(actor, state)\n",
    "    \n",
    "    state, reward, done, info = go_env.step(action)\n",
    "    \n",
    "    go_env.render()\n",
    "    \n",
    "    # Player's move\n",
    "    player_moved = False\n",
    "    while not player_moved:\n",
    "        coords = input(\"Enter coordinates separated by space (`q` to quit)\\n\")\n",
    "        if coords == 'q':\n",
    "            done = True\n",
    "            break\n",
    "        coords = coords.split()\n",
    "        try:\n",
    "            row = int(coords[0])\n",
    "            col = int(coords[1])\n",
    "            print(row, col)\n",
    "            state, reward, done, info = go_env.step((row, col))\n",
    "            player_moved = True\n",
    "        except Exception as e:\n",
    "            print(e)"
   ]
  },
  {
   "cell_type": "code",
   "execution_count": null,
   "metadata": {},
   "outputs": [],
   "source": []
  }
 ],
 "metadata": {
  "colab": {
   "include_colab_link": true,
   "name": "go_ai.ipynb",
   "provenance": [],
   "version": "0.3.2"
  },
  "kernelspec": {
   "display_name": "Python 3",
   "language": "python",
   "name": "python3"
  },
  "language_info": {
   "codemirror_mode": {
    "name": "ipython",
    "version": 3
   },
   "file_extension": ".py",
   "mimetype": "text/x-python",
   "name": "python",
   "nbconvert_exporter": "python",
   "pygments_lexer": "ipython3",
   "version": "3.7.3"
  }
 },
 "nbformat": 4,
 "nbformat_minor": 1
}
