{
  "nbformat": 4,
  "nbformat_minor": 0,
  "metadata": {
    "colab": {
      "name": "go_ai.ipynb",
      "version": "0.3.2",
      "provenance": [],
      "include_colab_link": true
    },
    "language_info": {
      "codemirror_mode": {
        "name": "ipython",
        "version": 3
      },
      "file_extension": ".py",
      "mimetype": "text/x-python",
      "name": "python",
      "nbconvert_exporter": "python",
      "pygments_lexer": "ipython3",
      "version": "3.7.3"
    },
    "kernelspec": {
      "display_name": "Python 3",
      "language": "python",
      "name": "python3"
    }
  },
  "cells": [
    {
      "cell_type": "markdown",
      "metadata": {
        "id": "view-in-github",
        "colab_type": "text"
      },
      "source": [
        "<a href=\"https://colab.research.google.com/github/Xiangmingchen/Go-AI/blob/master/go_ai.ipynb\" target=\"_parent\"><img src=\"https://colab.research.google.com/assets/colab-badge.svg\" alt=\"Open In Colab\"/></a>"
      ]
    },
    {
      "cell_type": "code",
      "metadata": {
        "id": "5YQ7bYMnwJRa",
        "colab_type": "code",
        "colab": {
          "base_uri": "https://localhost:8080/",
          "height": 740
        },
        "outputId": "65617db9-e466-4ec7-d8e9-d829a89dc2a1"
      },
      "source": [
        "!pip3 install tensorflow==2.0.0-beta1\n",
        "\n",
        "# Load the TensorBoard notebook extension\n",
        "# Restart the jupyter notebook if you just installed TF 2.0 Beta\n",
        "%load_ext tensorboard"
      ],
      "execution_count": 1,
      "outputs": [
        {
          "output_type": "stream",
          "text": [
            "Collecting tensorflow==2.0.0-beta1\n",
            "\u001b[?25l  Downloading https://files.pythonhosted.org/packages/29/6c/2c9a5c4d095c63c2fb37d20def0e4f92685f7aee9243d6aae25862694fd1/tensorflow-2.0.0b1-cp36-cp36m-manylinux1_x86_64.whl (87.9MB)\n",
            "\u001b[K     |████████████████████████████████| 87.9MB 1.3MB/s \n",
            "\u001b[?25hRequirement already satisfied: six>=1.10.0 in /usr/local/lib/python3.6/dist-packages (from tensorflow==2.0.0-beta1) (1.12.0)\n",
            "Collecting tf-estimator-nightly<1.14.0.dev2019060502,>=1.14.0.dev2019060501 (from tensorflow==2.0.0-beta1)\n",
            "\u001b[?25l  Downloading https://files.pythonhosted.org/packages/32/dd/99c47dd007dcf10d63fd895611b063732646f23059c618a373e85019eb0e/tf_estimator_nightly-1.14.0.dev2019060501-py2.py3-none-any.whl (496kB)\n",
            "\u001b[K     |████████████████████████████████| 501kB 42.5MB/s \n",
            "\u001b[?25hRequirement already satisfied: numpy<2.0,>=1.14.5 in /usr/local/lib/python3.6/dist-packages (from tensorflow==2.0.0-beta1) (1.16.4)\n",
            "Requirement already satisfied: keras-applications>=1.0.6 in /usr/local/lib/python3.6/dist-packages (from tensorflow==2.0.0-beta1) (1.0.8)\n",
            "Requirement already satisfied: wheel>=0.26 in /usr/local/lib/python3.6/dist-packages (from tensorflow==2.0.0-beta1) (0.33.4)\n",
            "Requirement already satisfied: google-pasta>=0.1.6 in /usr/local/lib/python3.6/dist-packages (from tensorflow==2.0.0-beta1) (0.1.7)\n",
            "Requirement already satisfied: grpcio>=1.8.6 in /usr/local/lib/python3.6/dist-packages (from tensorflow==2.0.0-beta1) (1.15.0)\n",
            "Requirement already satisfied: astor>=0.6.0 in /usr/local/lib/python3.6/dist-packages (from tensorflow==2.0.0-beta1) (0.8.0)\n",
            "Requirement already satisfied: gast>=0.2.0 in /usr/local/lib/python3.6/dist-packages (from tensorflow==2.0.0-beta1) (0.2.2)\n",
            "Requirement already satisfied: termcolor>=1.1.0 in /usr/local/lib/python3.6/dist-packages (from tensorflow==2.0.0-beta1) (1.1.0)\n",
            "Collecting tb-nightly<1.14.0a20190604,>=1.14.0a20190603 (from tensorflow==2.0.0-beta1)\n",
            "\u001b[?25l  Downloading https://files.pythonhosted.org/packages/a4/96/571b875cd81dda9d5dfa1422a4f9d749e67c0a8d4f4f0b33a4e5f5f35e27/tb_nightly-1.14.0a20190603-py3-none-any.whl (3.1MB)\n",
            "\u001b[K     |████████████████████████████████| 3.1MB 37.4MB/s \n",
            "\u001b[?25hRequirement already satisfied: absl-py>=0.7.0 in /usr/local/lib/python3.6/dist-packages (from tensorflow==2.0.0-beta1) (0.7.1)\n",
            "Requirement already satisfied: wrapt>=1.11.1 in /usr/local/lib/python3.6/dist-packages (from tensorflow==2.0.0-beta1) (1.11.2)\n",
            "Requirement already satisfied: keras-preprocessing>=1.0.5 in /usr/local/lib/python3.6/dist-packages (from tensorflow==2.0.0-beta1) (1.1.0)\n",
            "Requirement already satisfied: protobuf>=3.6.1 in /usr/local/lib/python3.6/dist-packages (from tensorflow==2.0.0-beta1) (3.7.1)\n",
            "Requirement already satisfied: h5py in /usr/local/lib/python3.6/dist-packages (from keras-applications>=1.0.6->tensorflow==2.0.0-beta1) (2.8.0)\n",
            "Requirement already satisfied: setuptools>=41.0.0 in /usr/local/lib/python3.6/dist-packages (from tb-nightly<1.14.0a20190604,>=1.14.0a20190603->tensorflow==2.0.0-beta1) (41.0.1)\n",
            "Requirement already satisfied: markdown>=2.6.8 in /usr/local/lib/python3.6/dist-packages (from tb-nightly<1.14.0a20190604,>=1.14.0a20190603->tensorflow==2.0.0-beta1) (3.1.1)\n",
            "Requirement already satisfied: werkzeug>=0.11.15 in /usr/local/lib/python3.6/dist-packages (from tb-nightly<1.14.0a20190604,>=1.14.0a20190603->tensorflow==2.0.0-beta1) (0.15.4)\n",
            "Installing collected packages: tf-estimator-nightly, tb-nightly, tensorflow\n",
            "  Found existing installation: tensorflow 1.14.0\n",
            "    Uninstalling tensorflow-1.14.0:\n",
            "      Successfully uninstalled tensorflow-1.14.0\n",
            "Successfully installed tb-nightly-1.14.0a20190603 tensorflow-2.0.0b1 tf-estimator-nightly-1.14.0.dev2019060501\n"
          ],
          "name": "stdout"
        }
      ]
    },
    {
      "cell_type": "code",
      "metadata": {
        "id": "88zLHqvDwJRj",
        "colab_type": "code",
        "colab": {}
      },
      "source": [
        "import tensorflow as tf\n",
        "import matplotlib.pyplot as plt\n",
        "import numpy as np\n",
        "import gym"
      ],
      "execution_count": 0,
      "outputs": []
    },
    {
      "cell_type": "code",
      "metadata": {
        "id": "fc1lqGjPwJRm",
        "colab_type": "code",
        "colab": {}
      },
      "source": [
        "!rm -rf ./logs/"
      ],
      "execution_count": 0,
      "outputs": []
    },
    {
      "cell_type": "markdown",
      "metadata": {
        "id": "szyALIMpwJRo",
        "colab_type": "text"
      },
      "source": [
        "# Go Environment\n",
        "Train on a small board with heuristic reward for fast training and efficient debugging"
      ]
    },
    {
      "cell_type": "code",
      "metadata": {
        "id": "E4w7gMrfwJRp",
        "colab_type": "code",
        "colab": {}
      },
      "source": [
        "go_env = gym.make('gym_go:go-v0', size='S', reward_method='heuristic')"
      ],
      "execution_count": 0,
      "outputs": []
    },
    {
      "cell_type": "code",
      "metadata": {
        "id": "-Ju4HYnKwJRq",
        "colab_type": "code",
        "colab": {}
      },
      "source": [
        "board_size = 7"
      ],
      "execution_count": 0,
      "outputs": []
    },
    {
      "cell_type": "markdown",
      "metadata": {
        "id": "g7ZoRfzIwJRr",
        "colab_type": "text"
      },
      "source": [
        "# Machine Learning Models\n",
        "Actor-Critic method"
      ]
    },
    {
      "cell_type": "code",
      "metadata": {
        "id": "W9wWb0HvwJRs",
        "colab_type": "code",
        "colab": {}
      },
      "source": [
        "from tensorflow.keras import layers"
      ],
      "execution_count": 0,
      "outputs": []
    },
    {
      "cell_type": "code",
      "metadata": {
        "scrolled": true,
        "id": "BLZ97l11wJRt",
        "colab_type": "code",
        "colab": {}
      },
      "source": [
        "actor = tf.keras.Sequential([\n",
        "    layers.Conv2D(input_shape=(board_size, board_size, 4), bias_initializer=\"ones\", \n",
        "                  filters=16, kernel_size=5, padding=\"same\"),\n",
        "    layers.BatchNormalization(),\n",
        "    layers.ReLU(),\n",
        "    layers.Conv2D(filters=64, kernel_size=5, padding=\"same\"),\n",
        "    layers.BatchNormalization(),\n",
        "    layers.ReLU(),\n",
        "    layers.Conv2D(filters=64, kernel_size=5, padding=\"same\"),\n",
        "    layers.BatchNormalization(),\n",
        "    layers.ReLU(),\n",
        "    layers.Conv2D(filters=16, kernel_size=5, padding=\"same\"),\n",
        "    layers.BatchNormalization(),\n",
        "    layers.ReLU(),\n",
        "    layers.Conv2D(filters=1, kernel_size=5, padding=\"same\"),\n",
        "    layers.Flatten(),\n",
        "    layers.Softmax(),\n",
        "    layers.Reshape((board_size, board_size))\n",
        "])"
      ],
      "execution_count": 0,
      "outputs": []
    },
    {
      "cell_type": "code",
      "metadata": {
        "id": "V-jD8fmbwJRu",
        "colab_type": "code",
        "colab": {}
      },
      "source": [
        "critic = tf.keras.Sequential([\n",
        "    layers.Conv2D(input_shape=(board_size, board_size, 4), bias_initializer=\"ones\", \n",
        "                  filters=16, kernel_size=5, padding=\"same\"),\n",
        "    layers.BatchNormalization(),\n",
        "    layers.ReLU(),\n",
        "    layers.Conv2D(filters=64, kernel_size=5, padding=\"same\"),\n",
        "    layers.BatchNormalization(),\n",
        "    layers.ReLU(),\n",
        "    layers.Conv2D(filters=64, kernel_size=5, padding=\"same\"),\n",
        "    layers.BatchNormalization(),\n",
        "    layers.ReLU(),\n",
        "    layers.Conv2D(filters=16, kernel_size=5, padding=\"same\"),\n",
        "    layers.BatchNormalization(),\n",
        "    layers.ReLU(),\n",
        "    layers.Conv2D(filters=1, kernel_size=5, padding=\"same\"),\n",
        "    layers.Reshape((board_size, board_size))\n",
        "])"
      ],
      "execution_count": 0,
      "outputs": []
    },
    {
      "cell_type": "code",
      "metadata": {
        "id": "98jmZoKvwJRv",
        "colab_type": "code",
        "colab": {}
      },
      "source": [
        "state = go_env.reset()\n",
        "state, reward, done, info = go_env.step((3,5))\n",
        "state, reward, done, info = go_env.step((5,3))"
      ],
      "execution_count": 0,
      "outputs": []
    },
    {
      "cell_type": "code",
      "metadata": {
        "id": "uc8i21oJwJRw",
        "colab_type": "code",
        "colab": {}
      },
      "source": [
        "def plot_state(state, channels_last=False):\n",
        "    plt.figure()\n",
        "    for i, (layer, name) in enumerate(zip([state[0], state[1], state[2], state[3]] if not channels_last else \n",
        "                                          [state[:,:,0], state[:,:,1], state[:,:,2], state[:,:,3]], \n",
        "                                          ['black', 'white', 'ko', 'pass'])):\n",
        "        plt.subplot(2,2,i+1)\n",
        "        plt.title(name)\n",
        "        plt.imshow(layer)\n",
        "    plt.tight_layout()"
      ],
      "execution_count": 0,
      "outputs": []
    },
    {
      "cell_type": "markdown",
      "metadata": {
        "id": "wKcZcVE3wJRx",
        "colab_type": "text"
      },
      "source": [
        "Tensorflow expects images to be `channels last`. \n",
        "\n",
        "This can be adapted to with `tranpose`.\n",
        "\n",
        "\n",
        "Ensure the `transpose` function doesn't change anything visually"
      ]
    },
    {
      "cell_type": "code",
      "metadata": {
        "id": "3F1bb2VewJRx",
        "colab_type": "code",
        "colab": {},
        "outputId": "63618177-2949-450b-d90b-a17d7ebe2d81"
      },
      "source": [
        "plot_state(state, channels_last=False)"
      ],
      "execution_count": 0,
      "outputs": [
        {
          "output_type": "display_data",
          "data": {
            "image/png": "[encoded data removed]",
            "text/plain": [
              "<Figure size 432x288 with 4 Axes>"
            ]
          },
          "metadata": {
            "tags": [],
            "needs_background": "light"
          }
        }
      ]
    },
    {
      "cell_type": "code",
      "metadata": {
        "id": "jJWxThQMwJRz",
        "colab_type": "code",
        "colab": {}
      },
      "source": [
        "state = state.transpose(1,2,0).reshape(1,7,7,4)"
      ],
      "execution_count": 0,
      "outputs": []
    },
    {
      "cell_type": "code",
      "metadata": {
        "id": "8VL_dpWgwJRz",
        "colab_type": "code",
        "colab": {},
        "outputId": "608f32e9-4186-4f43-a780-ee774c81fe9a"
      },
      "source": [
        "plot_state(state[0], channels_last=True)"
      ],
      "execution_count": 0,
      "outputs": [
        {
          "output_type": "display_data",
          "data": {
            "image/png": "[encoded data removed]",
            "text/plain": [
              "<Figure size 432x288 with 4 Axes>"
            ]
          },
          "metadata": {
            "tags": [],
            "needs_background": "light"
          }
        }
      ]
    },
    {
      "cell_type": "markdown",
      "metadata": {
        "id": "L9djBWO1wJR1",
        "colab_type": "text"
      },
      "source": [
        "### Initialization of models should be random"
      ]
    },
    {
      "cell_type": "code",
      "metadata": {
        "id": "3MLnPF4AwJR1",
        "colab_type": "code",
        "colab": {}
      },
      "source": [
        "probs = actor.predict(state)"
      ],
      "execution_count": 0,
      "outputs": []
    },
    {
      "cell_type": "code",
      "metadata": {
        "id": "BTqa6IEcwJR3",
        "colab_type": "code",
        "colab": {}
      },
      "source": [
        "values = critic.predict(state)"
      ],
      "execution_count": 0,
      "outputs": []
    },
    {
      "cell_type": "code",
      "metadata": {
        "scrolled": false,
        "id": "qH4rDyuowJR3",
        "colab_type": "code",
        "colab": {},
        "outputId": "6376f7a8-99ff-4352-e6fc-0eccd05dfa25"
      },
      "source": [
        "plt.subplot(1,2,1)\n",
        "plt.title('Actor')\n",
        "plt.imshow(probs[0])\n",
        "plt.subplot(1,2,2)\n",
        "plt.title('Critic')\n",
        "plt.imshow(values[0])"
      ],
      "execution_count": 0,
      "outputs": [
        {
          "output_type": "execute_result",
          "data": {
            "text/plain": [
              "<matplotlib.image.AxesImage at 0x1046b7710>"
            ]
          },
          "metadata": {
            "tags": []
          },
          "execution_count": 16
        },
        {
          "output_type": "display_data",
          "data": {
            "image/png": "[encoded data removed]",
            "text/plain": [
              "<Figure size 432x288 with 2 Axes>"
            ]
          },
          "metadata": {
            "tags": [],
            "needs_background": "light"
          }
        }
      ]
    },
    {
      "cell_type": "markdown",
      "metadata": {
        "id": "ViUxxPnUwJR5",
        "colab_type": "text"
      },
      "source": [
        "# Training Setup"
      ]
    },
    {
      "cell_type": "markdown",
      "metadata": {
        "id": "TfY-_1_5wJR5",
        "colab_type": "text"
      },
      "source": [
        "### Hyperparameters"
      ]
    },
    {
      "cell_type": "code",
      "metadata": {
        "id": "DX04C6TbwJR5",
        "colab_type": "code",
        "colab": {}
      },
      "source": [
        "NUM_EPISODES = 1000\n",
        "BATCH_SIZE = 64\n",
        "REPLAY_MEM_SIZE = 1e6\n",
        "OPPONENT_UPDATE = 10"
      ],
      "execution_count": 0,
      "outputs": []
    },
    {
      "cell_type": "code",
      "metadata": {
        "id": "sumB3IsFwJR6",
        "colab_type": "code",
        "colab": {}
      },
      "source": [
        "from collections import deque"
      ],
      "execution_count": 0,
      "outputs": []
    },
    {
      "cell_type": "code",
      "metadata": {
        "id": "MeB26mZvwJR7",
        "colab_type": "code",
        "colab": {}
      },
      "source": [
        "memory = deque(maxlen=int(REPLAY_MEM_SIZE))"
      ],
      "execution_count": 0,
      "outputs": []
    },
    {
      "cell_type": "markdown",
      "metadata": {
        "id": "zXOIVFjmwJR7",
        "colab_type": "text"
      },
      "source": [
        "### Functions"
      ]
    },
    {
      "cell_type": "code",
      "metadata": {
        "id": "Cme6dstwwJR8",
        "colab_type": "code",
        "colab": {}
      },
      "source": [
        "def play():\n",
        "    pass"
      ],
      "execution_count": 0,
      "outputs": []
    },
    {
      "cell_type": "code",
      "metadata": {
        "id": "t8QseVrawJR8",
        "colab_type": "code",
        "colab": {}
      },
      "source": [
        "def update_critic():\n",
        "    pass"
      ],
      "execution_count": 0,
      "outputs": []
    },
    {
      "cell_type": "code",
      "metadata": {
        "id": "4FqPJCaOwJR9",
        "colab_type": "code",
        "colab": {}
      },
      "source": [
        "def update_actor():\n",
        "    pass"
      ],
      "execution_count": 0,
      "outputs": []
    },
    {
      "cell_type": "code",
      "metadata": {
        "id": "K0E04emPwJR-",
        "colab_type": "code",
        "colab": {}
      },
      "source": [
        "def train(episode):\n",
        "    if episode % OPPONENT_UPDATE == 0:\n",
        "        # TODO sync opponent\n",
        "        pass\n",
        "    \n",
        "    play()\n",
        "    update_critic()\n",
        "    \n",
        "    update_actor()"
      ],
      "execution_count": 0,
      "outputs": []
    },
    {
      "cell_type": "markdown",
      "metadata": {
        "id": "qNBj_gKPwJR_",
        "colab_type": "text"
      },
      "source": [
        "# Train"
      ]
    },
    {
      "cell_type": "code",
      "metadata": {
        "id": "LT1PUXyXwJR_",
        "colab_type": "code",
        "colab": {}
      },
      "source": [
        "for episode in range(NUM_EPISODES):\n",
        "    train(episode)"
      ],
      "execution_count": 0,
      "outputs": []
    },
    {
      "cell_type": "markdown",
      "metadata": {
        "id": "NyMNxMAWwJR_",
        "colab_type": "text"
      },
      "source": [
        "# Evaluate\n",
        "Play against the actor 💪"
      ]
    },
    {
      "cell_type": "code",
      "metadata": {
        "id": "97j_uYY9wJSA",
        "colab_type": "code",
        "colab": {},
        "outputId": "4d6aa1e6-8b63-4a39-b600-e331284ad6ff"
      },
      "source": [
        "env = gym.make('gym_go:go-v0', size='S')\n",
        "\n",
        "state = env.reset()\n",
        "\n",
        "while True:\n",
        "    env.render()\n",
        "    \n",
        "    # Actor's move\n",
        "    state = state.transpose(1,2,0).reshape(1,7,7,4)\n",
        "    act_prob_distr = actor.predict(state)\n",
        "    action_1d = np.random.choice(np.arange(49), p=act_prob_distr.flatten())\n",
        "    action = (action_1d // 7, action_1d % 7)\n",
        "    \n",
        "    state, action, reward, info = env.step(action)\n",
        "    \n",
        "    env.render()\n",
        "    \n",
        "    # Player's move\n",
        "    player_moved = False\n",
        "    while not player_moved:\n",
        "        coords = input(\"Enter coordinates separated by space\\n\")\n",
        "        coords = coords.split()\n",
        "        try:\n",
        "            row = int(coords[0])\n",
        "            col = int(coords[1])\n",
        "            print(row, col)\n",
        "            state, action, reward, info = env.step((row, col))\n",
        "            player_moved = True\n",
        "        except Exception as e:\n",
        "            print(e)"
      ],
      "execution_count": 0,
      "outputs": [
        {
          "output_type": "stream",
          "text": [
            "    0   1   2   3   4   5   6\n",
            "  -----------------------------\n",
            "0 |   |   |   |   |   |   |   |\n",
            "  -----------------------------\n",
            "1 |   |   |   |   |   |   |   |\n",
            "  -----------------------------\n",
            "2 |   |   |   |   |   |   |   |\n",
            "  -----------------------------\n",
            "3 |   |   |   |   |   |   |   |\n",
            "  -----------------------------\n",
            "4 |   |   |   |   |   |   |   |\n",
            "  -----------------------------\n",
            "5 |   |   |   |   |   |   |   |\n",
            "  -----------------------------\n",
            "6 |   |   |   |   |   |   |   |\n",
            "  -----------------------------\n",
            "\n",
            "    0   1   2   3   4   5   6\n",
            "  -----------------------------\n",
            "0 |   |   |   | B |   |   |   |\n",
            "  -----------------------------\n",
            "1 |   |   |   |   |   |   |   |\n",
            "  -----------------------------\n",
            "2 |   |   |   |   |   |   |   |\n",
            "  -----------------------------\n",
            "3 |   |   |   |   |   |   |   |\n",
            "  -----------------------------\n",
            "4 |   |   |   |   |   |   |   |\n",
            "  -----------------------------\n",
            "5 |   |   |   |   |   |   |   |\n",
            "  -----------------------------\n",
            "6 |   |   |   |   |   |   |   |\n",
            "  -----------------------------\n",
            "\n",
            "Enter coordinates separated by space\n",
            "1 4\n",
            "1 4\n",
            "    0   1   2   3   4   5   6\n",
            "  -----------------------------\n",
            "0 |   |   |   | B |   |   |   |\n",
            "  -----------------------------\n",
            "1 |   |   |   |   | W |   |   |\n",
            "  -----------------------------\n",
            "2 |   |   |   |   |   |   |   |\n",
            "  -----------------------------\n",
            "3 |   |   |   |   |   |   |   |\n",
            "  -----------------------------\n",
            "4 |   |   |   |   |   |   |   |\n",
            "  -----------------------------\n",
            "5 |   |   |   |   |   |   |   |\n",
            "  -----------------------------\n",
            "6 |   |   |   |   |   |   |   |\n",
            "  -----------------------------\n",
            "\n",
            "    0   1   2   3   4   5   6\n",
            "  -----------------------------\n",
            "0 |   |   |   | B |   |   |   |\n",
            "  -----------------------------\n",
            "1 |   |   |   |   | W | B |   |\n",
            "  -----------------------------\n",
            "2 |   |   |   |   |   |   |   |\n",
            "  -----------------------------\n",
            "3 |   |   |   |   |   |   |   |\n",
            "  -----------------------------\n",
            "4 |   |   |   |   |   |   |   |\n",
            "  -----------------------------\n",
            "5 |   |   |   |   |   |   |   |\n",
            "  -----------------------------\n",
            "6 |   |   |   |   |   |   |   |\n",
            "  -----------------------------\n",
            "\n",
            "Enter coordinates separated by space\n",
            "2 1\n",
            "2 1\n",
            "    0   1   2   3   4   5   6\n",
            "  -----------------------------\n",
            "0 |   |   |   | B |   |   |   |\n",
            "  -----------------------------\n",
            "1 |   |   |   |   | W | B |   |\n",
            "  -----------------------------\n",
            "2 |   | W |   |   |   |   |   |\n",
            "  -----------------------------\n",
            "3 |   |   |   |   |   |   |   |\n",
            "  -----------------------------\n",
            "4 |   |   |   |   |   |   |   |\n",
            "  -----------------------------\n",
            "5 |   |   |   |   |   |   |   |\n",
            "  -----------------------------\n",
            "6 |   |   |   |   |   |   |   |\n",
            "  -----------------------------\n",
            "\n",
            "    0   1   2   3   4   5   6\n",
            "  -----------------------------\n",
            "0 |   |   |   | B |   |   |   |\n",
            "  -----------------------------\n",
            "1 |   |   |   |   | W | B |   |\n",
            "  -----------------------------\n",
            "2 |   | W |   |   |   |   |   |\n",
            "  -----------------------------\n",
            "3 |   |   |   |   |   |   |   |\n",
            "  -----------------------------\n",
            "4 |   |   |   |   |   |   |   |\n",
            "  -----------------------------\n",
            "5 |   |   |   |   | B |   |   |\n",
            "  -----------------------------\n",
            "6 |   |   |   |   |   |   |   |\n",
            "  -----------------------------\n",
            "\n"
          ],
          "name": "stdout"
        },
        {
          "output_type": "error",
          "ename": "KeyboardInterrupt",
          "evalue": "",
          "traceback": [
            "\u001b[0;31m---------------------------------------------------------------------------\u001b[0m",
            "\u001b[0;31mKeyboardInterrupt\u001b[0m                         Traceback (most recent call last)",
            "\u001b[0;32m/Library/Frameworks/Python.framework/Versions/3.7/lib/python3.7/site-packages/ipykernel/kernelbase.py\u001b[0m in \u001b[0;36m_input_request\u001b[0;34m(self, prompt, ident, parent, password)\u001b[0m\n\u001b[1;32m    884\u001b[0m             \u001b[0;32mtry\u001b[0m\u001b[0;34m:\u001b[0m\u001b[0;34m\u001b[0m\u001b[0;34m\u001b[0m\u001b[0m\n\u001b[0;32m--> 885\u001b[0;31m                 \u001b[0mident\u001b[0m\u001b[0;34m,\u001b[0m \u001b[0mreply\u001b[0m \u001b[0;34m=\u001b[0m \u001b[0mself\u001b[0m\u001b[0;34m.\u001b[0m\u001b[0msession\u001b[0m\u001b[0;34m.\u001b[0m\u001b[0mrecv\u001b[0m\u001b[0;34m(\u001b[0m\u001b[0mself\u001b[0m\u001b[0;34m.\u001b[0m\u001b[0mstdin_socket\u001b[0m\u001b[0;34m,\u001b[0m \u001b[0;36m0\u001b[0m\u001b[0;34m)\u001b[0m\u001b[0;34m\u001b[0m\u001b[0;34m\u001b[0m\u001b[0m\n\u001b[0m\u001b[1;32m    886\u001b[0m             \u001b[0;32mexcept\u001b[0m \u001b[0mException\u001b[0m\u001b[0;34m:\u001b[0m\u001b[0;34m\u001b[0m\u001b[0;34m\u001b[0m\u001b[0m\n",
            "\u001b[0;32m/Library/Frameworks/Python.framework/Versions/3.7/lib/python3.7/site-packages/jupyter_client/session.py\u001b[0m in \u001b[0;36mrecv\u001b[0;34m(self, socket, mode, content, copy)\u001b[0m\n\u001b[1;32m    802\u001b[0m         \u001b[0;32mtry\u001b[0m\u001b[0;34m:\u001b[0m\u001b[0;34m\u001b[0m\u001b[0;34m\u001b[0m\u001b[0m\n\u001b[0;32m--> 803\u001b[0;31m             \u001b[0mmsg_list\u001b[0m \u001b[0;34m=\u001b[0m \u001b[0msocket\u001b[0m\u001b[0;34m.\u001b[0m\u001b[0mrecv_multipart\u001b[0m\u001b[0;34m(\u001b[0m\u001b[0mmode\u001b[0m\u001b[0;34m,\u001b[0m \u001b[0mcopy\u001b[0m\u001b[0;34m=\u001b[0m\u001b[0mcopy\u001b[0m\u001b[0;34m)\u001b[0m\u001b[0;34m\u001b[0m\u001b[0;34m\u001b[0m\u001b[0m\n\u001b[0m\u001b[1;32m    804\u001b[0m         \u001b[0;32mexcept\u001b[0m \u001b[0mzmq\u001b[0m\u001b[0;34m.\u001b[0m\u001b[0mZMQError\u001b[0m \u001b[0;32mas\u001b[0m \u001b[0me\u001b[0m\u001b[0;34m:\u001b[0m\u001b[0;34m\u001b[0m\u001b[0;34m\u001b[0m\u001b[0m\n",
            "\u001b[0;32m/Library/Frameworks/Python.framework/Versions/3.7/lib/python3.7/site-packages/zmq/sugar/socket.py\u001b[0m in \u001b[0;36mrecv_multipart\u001b[0;34m(self, flags, copy, track)\u001b[0m\n\u001b[1;32m    469\u001b[0m         \"\"\"\n\u001b[0;32m--> 470\u001b[0;31m         \u001b[0mparts\u001b[0m \u001b[0;34m=\u001b[0m \u001b[0;34m[\u001b[0m\u001b[0mself\u001b[0m\u001b[0;34m.\u001b[0m\u001b[0mrecv\u001b[0m\u001b[0;34m(\u001b[0m\u001b[0mflags\u001b[0m\u001b[0;34m,\u001b[0m \u001b[0mcopy\u001b[0m\u001b[0;34m=\u001b[0m\u001b[0mcopy\u001b[0m\u001b[0;34m,\u001b[0m \u001b[0mtrack\u001b[0m\u001b[0;34m=\u001b[0m\u001b[0mtrack\u001b[0m\u001b[0;34m)\u001b[0m\u001b[0;34m]\u001b[0m\u001b[0;34m\u001b[0m\u001b[0;34m\u001b[0m\u001b[0m\n\u001b[0m\u001b[1;32m    471\u001b[0m         \u001b[0;31m# have first part already, only loop while more to receive\u001b[0m\u001b[0;34m\u001b[0m\u001b[0;34m\u001b[0m\u001b[0;34m\u001b[0m\u001b[0m\n",
            "\u001b[0;32mzmq/backend/cython/socket.pyx\u001b[0m in \u001b[0;36mzmq.backend.cython.socket.Socket.recv\u001b[0;34m()\u001b[0m\n",
            "\u001b[0;32mzmq/backend/cython/socket.pyx\u001b[0m in \u001b[0;36mzmq.backend.cython.socket.Socket.recv\u001b[0;34m()\u001b[0m\n",
            "\u001b[0;32mzmq/backend/cython/socket.pyx\u001b[0m in \u001b[0;36mzmq.backend.cython.socket._recv_copy\u001b[0;34m()\u001b[0m\n",
            "\u001b[0;32m/Library/Frameworks/Python.framework/Versions/3.7/lib/python3.7/site-packages/zmq/backend/cython/checkrc.pxd\u001b[0m in \u001b[0;36mzmq.backend.cython.checkrc._check_rc\u001b[0;34m()\u001b[0m\n",
            "\u001b[0;31mKeyboardInterrupt\u001b[0m: ",
            "\nDuring handling of the above exception, another exception occurred:\n",
            "\u001b[0;31mKeyboardInterrupt\u001b[0m                         Traceback (most recent call last)",
            "\u001b[0;32m<ipython-input-37-8701d76e4d7f>\u001b[0m in \u001b[0;36m<module>\u001b[0;34m\u001b[0m\n\u001b[1;32m     19\u001b[0m     \u001b[0mplayer_moved\u001b[0m \u001b[0;34m=\u001b[0m \u001b[0;32mFalse\u001b[0m\u001b[0;34m\u001b[0m\u001b[0;34m\u001b[0m\u001b[0m\n\u001b[1;32m     20\u001b[0m     \u001b[0;32mwhile\u001b[0m \u001b[0;32mnot\u001b[0m \u001b[0mplayer_moved\u001b[0m\u001b[0;34m:\u001b[0m\u001b[0;34m\u001b[0m\u001b[0;34m\u001b[0m\u001b[0m\n\u001b[0;32m---> 21\u001b[0;31m         \u001b[0mcoords\u001b[0m \u001b[0;34m=\u001b[0m \u001b[0minput\u001b[0m\u001b[0;34m(\u001b[0m\u001b[0;34m\"Enter coordinates separated by space\\n\"\u001b[0m\u001b[0;34m)\u001b[0m\u001b[0;34m\u001b[0m\u001b[0;34m\u001b[0m\u001b[0m\n\u001b[0m\u001b[1;32m     22\u001b[0m         \u001b[0mcoords\u001b[0m \u001b[0;34m=\u001b[0m \u001b[0mcoords\u001b[0m\u001b[0;34m.\u001b[0m\u001b[0msplit\u001b[0m\u001b[0;34m(\u001b[0m\u001b[0;34m)\u001b[0m\u001b[0;34m\u001b[0m\u001b[0;34m\u001b[0m\u001b[0m\n\u001b[1;32m     23\u001b[0m         \u001b[0;32mtry\u001b[0m\u001b[0;34m:\u001b[0m\u001b[0;34m\u001b[0m\u001b[0;34m\u001b[0m\u001b[0m\n",
            "\u001b[0;32m/Library/Frameworks/Python.framework/Versions/3.7/lib/python3.7/site-packages/ipykernel/kernelbase.py\u001b[0m in \u001b[0;36mraw_input\u001b[0;34m(self, prompt)\u001b[0m\n\u001b[1;32m    858\u001b[0m             \u001b[0mself\u001b[0m\u001b[0;34m.\u001b[0m\u001b[0m_parent_ident\u001b[0m\u001b[0;34m,\u001b[0m\u001b[0;34m\u001b[0m\u001b[0;34m\u001b[0m\u001b[0m\n\u001b[1;32m    859\u001b[0m             \u001b[0mself\u001b[0m\u001b[0;34m.\u001b[0m\u001b[0m_parent_header\u001b[0m\u001b[0;34m,\u001b[0m\u001b[0;34m\u001b[0m\u001b[0;34m\u001b[0m\u001b[0m\n\u001b[0;32m--> 860\u001b[0;31m             \u001b[0mpassword\u001b[0m\u001b[0;34m=\u001b[0m\u001b[0;32mFalse\u001b[0m\u001b[0;34m,\u001b[0m\u001b[0;34m\u001b[0m\u001b[0;34m\u001b[0m\u001b[0m\n\u001b[0m\u001b[1;32m    861\u001b[0m         )\n\u001b[1;32m    862\u001b[0m \u001b[0;34m\u001b[0m\u001b[0m\n",
            "\u001b[0;32m/Library/Frameworks/Python.framework/Versions/3.7/lib/python3.7/site-packages/ipykernel/kernelbase.py\u001b[0m in \u001b[0;36m_input_request\u001b[0;34m(self, prompt, ident, parent, password)\u001b[0m\n\u001b[1;32m    888\u001b[0m             \u001b[0;32mexcept\u001b[0m \u001b[0mKeyboardInterrupt\u001b[0m\u001b[0;34m:\u001b[0m\u001b[0;34m\u001b[0m\u001b[0;34m\u001b[0m\u001b[0m\n\u001b[1;32m    889\u001b[0m                 \u001b[0;31m# re-raise KeyboardInterrupt, to truncate traceback\u001b[0m\u001b[0;34m\u001b[0m\u001b[0;34m\u001b[0m\u001b[0;34m\u001b[0m\u001b[0m\n\u001b[0;32m--> 890\u001b[0;31m                 \u001b[0;32mraise\u001b[0m \u001b[0mKeyboardInterrupt\u001b[0m\u001b[0;34m\u001b[0m\u001b[0;34m\u001b[0m\u001b[0m\n\u001b[0m\u001b[1;32m    891\u001b[0m             \u001b[0;32melse\u001b[0m\u001b[0;34m:\u001b[0m\u001b[0;34m\u001b[0m\u001b[0;34m\u001b[0m\u001b[0m\n\u001b[1;32m    892\u001b[0m                 \u001b[0;32mbreak\u001b[0m\u001b[0;34m\u001b[0m\u001b[0;34m\u001b[0m\u001b[0m\n",
            "\u001b[0;31mKeyboardInterrupt\u001b[0m: "
          ]
        }
      ]
    },
    {
      "cell_type": "code",
      "metadata": {
        "id": "3dgJF5MtwJSB",
        "colab_type": "code",
        "colab": {}
      },
      "source": [
        ""
      ],
      "execution_count": 0,
      "outputs": []
    }
  ]
}