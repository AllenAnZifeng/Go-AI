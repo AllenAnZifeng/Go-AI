{
 "cells": [
  {
   "cell_type": "code",
   "execution_count": 1,
   "metadata": {
    "colab": {
     "base_uri": "https://localhost:8080/",
     "height": 740
    },
    "colab_type": "code",
    "id": "5YQ7bYMnwJRa",
    "outputId": "65617db9-e466-4ec7-d8e9-d829a89dc2a1"
   },
   "outputs": [],
   "source": [
    "%%capture\n",
    "!pip3 install tensorflow==2.0.0-beta1\n",
    "\n",
    "# Load the TensorBoard notebook extension\n",
    "# Restart the jupyter notebook if you just installed TF 2.0 Beta\n",
    "%load_ext tensorboard"
   ]
  },
  {
   "cell_type": "code",
   "execution_count": 2,
   "metadata": {
    "colab": {},
    "colab_type": "code",
    "id": "88zLHqvDwJRj"
   },
   "outputs": [],
   "source": [
    "import tensorflow as tf\n",
    "import matplotlib.pyplot as plt\n",
    "import numpy as np\n",
    "import gym\n",
    "import datetime\n",
    "from tqdm import tqdm\n",
    "import logging"
   ]
  },
  {
   "cell_type": "code",
   "execution_count": 3,
   "metadata": {
    "colab": {},
    "colab_type": "code",
    "id": "fc1lqGjPwJRm"
   },
   "outputs": [],
   "source": [
    "!rm -rf ./logs/"
   ]
  },
  {
   "cell_type": "markdown",
   "metadata": {
    "colab_type": "text",
    "id": "szyALIMpwJRo"
   },
   "source": [
    "# Go Environment\n",
    "Train on a small board with heuristic reward for fast training and efficient debugging"
   ]
  },
  {
   "cell_type": "code",
   "execution_count": 4,
   "metadata": {},
   "outputs": [],
   "source": [
    "%%capture\n",
    "!pip3 install -e gym-go"
   ]
  },
  {
   "cell_type": "code",
   "execution_count": 5,
   "metadata": {
    "colab": {},
    "colab_type": "code",
    "id": "E4w7gMrfwJRp"
   },
   "outputs": [],
   "source": [
    "go_env = gym.make('gym_go:go-v0', size='S', reward_method='heuristic')"
   ]
  },
  {
   "cell_type": "code",
   "execution_count": 6,
   "metadata": {
    "colab": {},
    "colab_type": "code",
    "id": "-Ju4HYnKwJRq"
   },
   "outputs": [],
   "source": [
    "BOARD_SIZE = 7"
   ]
  },
  {
   "cell_type": "markdown",
   "metadata": {
    "colab_type": "text",
    "id": "g7ZoRfzIwJRr"
   },
   "source": [
    "# Machine Learning Models\n",
    "Actor-Critic method"
   ]
  },
  {
   "cell_type": "code",
   "execution_count": 7,
   "metadata": {
    "colab": {},
    "colab_type": "code",
    "id": "W9wWb0HvwJRs"
   },
   "outputs": [],
   "source": [
    "from tensorflow.keras import layers"
   ]
  },
  {
   "cell_type": "code",
   "execution_count": 8,
   "metadata": {
    "colab": {},
    "colab_type": "code",
    "id": "BLZ97l11wJRt",
    "scrolled": true
   },
   "outputs": [],
   "source": [
    "class Actor(tf.keras.Model):\n",
    "    def __init__(self):\n",
    "        super(Actor, self).__init__()\n",
    "        self.main = tf.keras.Sequential([\n",
    "            layers.Conv2D(input_shape=(BOARD_SIZE, BOARD_SIZE, 4), bias_initializer=\"ones\", \n",
    "                          filters=16, kernel_size=5, padding=\"same\"),\n",
    "            layers.BatchNormalization(),\n",
    "            layers.ReLU(),\n",
    "            layers.Conv2D(filters=64, kernel_size=5, padding=\"same\"),\n",
    "            layers.BatchNormalization(),\n",
    "            layers.ReLU(),\n",
    "            layers.Conv2D(filters=64, kernel_size=5, padding=\"same\"),\n",
    "            layers.BatchNormalization(),\n",
    "            layers.ReLU(),\n",
    "            layers.Conv2D(filters=16, kernel_size=5, padding=\"same\"),\n",
    "            layers.BatchNormalization(),\n",
    "            layers.ReLU(),\n",
    "            layers.Conv2D(filters=1, kernel_size=5, padding=\"same\"),\n",
    "            layers.Flatten(),\n",
    "            layers.Softmax(),\n",
    "            layers.Reshape((BOARD_SIZE, BOARD_SIZE))\n",
    "        ])\n",
    "        \n",
    "        self.pass_decision = tf.keras.Sequential([\n",
    "            layers.Conv2D(input_shape=(BOARD_SIZE, BOARD_SIZE, 4), \n",
    "                          filters=16, kernel_size=5, padding=\"same\"),\n",
    "            layers.BatchNormalization(),\n",
    "            layers.ReLU(),\n",
    "            layers.Conv2D(filters=64, kernel_size=5, padding=\"same\"),\n",
    "            layers.BatchNormalization(),\n",
    "            layers.ReLU(),\n",
    "            layers.Conv2D(filters=64, kernel_size=5, padding=\"same\"),\n",
    "            layers.BatchNormalization(),\n",
    "            layers.ReLU(),\n",
    "            layers.Flatten(),\n",
    "            layers.Dense(4 * BOARD_SIZE**2),\n",
    "            layers.BatchNormalization(),\n",
    "            layers.ReLU(),\n",
    "            layers.Dense(BOARD_SIZE**2),\n",
    "            layers.BatchNormalization(),\n",
    "            layers.ReLU(),\n",
    "            layers.Dense(BOARD_SIZE),\n",
    "            layers.BatchNormalization(),\n",
    "            layers.ReLU(),\n",
    "            layers.Dense(1, activation=\"sigmoid\"),\n",
    "        ])\n",
    "    def call(self, inputs):\n",
    "        action_prob_distr = self.main(inputs)\n",
    "        pass_decision = self.pass_decision(inputs)\n",
    "        return action_prob_distr, pass_decision"
   ]
  },
  {
   "cell_type": "code",
   "execution_count": 9,
   "metadata": {},
   "outputs": [],
   "source": [
    "actor = Actor()"
   ]
  },
  {
   "cell_type": "code",
   "execution_count": 10,
   "metadata": {
    "colab": {},
    "colab_type": "code",
    "id": "V-jD8fmbwJRu"
   },
   "outputs": [],
   "source": [
    "critic = tf.keras.Sequential([\n",
    "    layers.Conv2D(input_shape=(BOARD_SIZE, BOARD_SIZE, 4), bias_initializer=\"ones\", \n",
    "                  filters=16, kernel_size=5, padding=\"same\"),\n",
    "    layers.BatchNormalization(),\n",
    "    layers.ReLU(),\n",
    "    layers.Conv2D(filters=64, kernel_size=5, padding=\"same\"),\n",
    "    layers.BatchNormalization(),\n",
    "    layers.ReLU(),\n",
    "    layers.Conv2D(filters=64, kernel_size=5, padding=\"same\"),\n",
    "    layers.BatchNormalization(),\n",
    "    layers.ReLU(),\n",
    "    layers.Conv2D(filters=16, kernel_size=5, padding=\"same\"),\n",
    "    layers.BatchNormalization(),\n",
    "    layers.ReLU(),\n",
    "    layers.Conv2D(filters=1, kernel_size=5, padding=\"same\"),\n",
    "    layers.Reshape((BOARD_SIZE, BOARD_SIZE))\n",
    "])"
   ]
  },
  {
   "cell_type": "code",
   "execution_count": 11,
   "metadata": {},
   "outputs": [],
   "source": [
    "import os\n",
    "if not os.path.exists('tmp'):\n",
    "    os.mkdir('tmp/')\n",
    "actor.save_weights('tmp/opp.h5')\n",
    "opponent = Actor()\n",
    "opponent.load_weights('tmp/opp.h5')"
   ]
  },
  {
   "cell_type": "code",
   "execution_count": 12,
   "metadata": {
    "colab": {},
    "colab_type": "code",
    "id": "98jmZoKvwJRv"
   },
   "outputs": [],
   "source": [
    "state = go_env.reset()\n",
    "state, reward, done, info = go_env.step((3,5))\n",
    "state, reward, done, info = go_env.step((5,3))"
   ]
  },
  {
   "cell_type": "code",
   "execution_count": 13,
   "metadata": {
    "colab": {},
    "colab_type": "code",
    "id": "uc8i21oJwJRw"
   },
   "outputs": [],
   "source": [
    "def plot_state(state, channels_last=False):\n",
    "    plt.figure()\n",
    "    for i, (layer, name) in enumerate(zip([state[0], state[1], state[2], state[3]] if not channels_last else \n",
    "                                          [state[:,:,0], state[:,:,1], state[:,:,2], state[:,:,3]], \n",
    "                                          ['black', 'white', 'invalid', 'pass'])):\n",
    "        plt.subplot(1,4,i+1)\n",
    "        plt.title(name)\n",
    "        plt.imshow(layer)\n",
    "    plt.tight_layout()"
   ]
  },
  {
   "cell_type": "markdown",
   "metadata": {
    "colab_type": "text",
    "id": "wKcZcVE3wJRx"
   },
   "source": [
    "Tensorflow expects images to be `channels last`. \n",
    "\n",
    "This can be adapted to with `tranpose`.\n",
    "\n",
    "\n",
    "Ensure the `transpose` function doesn't change anything visually"
   ]
  },
  {
   "cell_type": "code",
   "execution_count": 14,
   "metadata": {
    "colab": {},
    "colab_type": "code",
    "id": "3F1bb2VewJRx",
    "outputId": "63618177-2949-450b-d90b-a17d7ebe2d81"
   },
   "outputs": [
    {
     "data": {
      "image/png": "[encoded data removed]",
      "text/plain": [
       "<Figure size 432x288 with 4 Axes>"
      ]
     },
     "metadata": {
      "needs_background": "light"
     },
     "output_type": "display_data"
    }
   ],
   "source": [
    "plot_state(state, channels_last=False)"
   ]
  },
  {
   "cell_type": "code",
   "execution_count": 15,
   "metadata": {
    "colab": {},
    "colab_type": "code",
    "id": "jJWxThQMwJRz"
   },
   "outputs": [],
   "source": [
    "state = state.transpose(1,2,0).reshape(1, BOARD_SIZE, BOARD_SIZE, 4)"
   ]
  },
  {
   "cell_type": "code",
   "execution_count": 16,
   "metadata": {
    "colab": {},
    "colab_type": "code",
    "id": "8VL_dpWgwJRz",
    "outputId": "608f32e9-4186-4f43-a780-ee774c81fe9a"
   },
   "outputs": [
    {
     "data": {
      "image/png": "[encoded data removed]",
      "text/plain": [
       "<Figure size 432x288 with 4 Axes>"
      ]
     },
     "metadata": {
      "needs_background": "light"
     },
     "output_type": "display_data"
    }
   ],
   "source": [
    "plot_state(state[0], channels_last=True)"
   ]
  },
  {
   "cell_type": "markdown",
   "metadata": {
    "colab_type": "text",
    "id": "L9djBWO1wJR1"
   },
   "source": [
    "### Initialization of models should be random"
   ]
  },
  {
   "cell_type": "code",
   "execution_count": 17,
   "metadata": {
    "colab": {},
    "colab_type": "code",
    "id": "3MLnPF4AwJR1"
   },
   "outputs": [],
   "source": [
    "probs, pass_decision = actor(state.astype(np.float32))"
   ]
  },
  {
   "cell_type": "code",
   "execution_count": 18,
   "metadata": {
    "colab": {},
    "colab_type": "code",
    "id": "BTqa6IEcwJR3"
   },
   "outputs": [],
   "source": [
    "values = critic.predict(state)"
   ]
  },
  {
   "cell_type": "code",
   "execution_count": 19,
   "metadata": {
    "colab": {},
    "colab_type": "code",
    "id": "qH4rDyuowJR3",
    "outputId": "6376f7a8-99ff-4352-e6fc-0eccd05dfa25",
    "scrolled": false
   },
   "outputs": [
    {
     "data": {
      "text/plain": [
       "<matplotlib.image.AxesImage at 0x10a164860>"
      ]
     },
     "execution_count": 19,
     "metadata": {},
     "output_type": "execute_result"
    },
    {
     "data": {
      "image/png": "[encoded data removed]",
      "text/plain": [
       "<Figure size 432x288 with 2 Axes>"
      ]
     },
     "metadata": {
      "needs_background": "light"
     },
     "output_type": "display_data"
    }
   ],
   "source": [
    "plt.subplot(1,2,1)\n",
    "plt.title('Actor - Passing Prob: {}'.format(pass_decision[0]))\n",
    "plt.imshow(probs[0])\n",
    "plt.subplot(1,2,2)\n",
    "plt.title('Critic')\n",
    "plt.imshow(values[0])"
   ]
  },
  {
   "cell_type": "markdown",
   "metadata": {
    "colab_type": "text",
    "id": "ViUxxPnUwJR5"
   },
   "source": [
    "# Training Setup"
   ]
  },
  {
   "cell_type": "markdown",
   "metadata": {
    "colab_type": "text",
    "id": "TfY-_1_5wJR5"
   },
   "source": [
    "### Hyperparameters"
   ]
  },
  {
   "cell_type": "code",
   "execution_count": 20,
   "metadata": {
    "colab": {},
    "colab_type": "code",
    "id": "DX04C6TbwJR5"
   },
   "outputs": [],
   "source": [
    "NUM_EPISODES = 10\n",
    "BATCH_SIZE = 64\n",
    "REPLAY_MEM_SIZE = 1e6\n",
    "OPPONENT_UPDATE = 10\n",
    "EPSILON = 1\n",
    "EPSILON_DECAY = 0.995\n",
    "EPSILON_MIN = 0.05"
   ]
  },
  {
   "cell_type": "code",
   "execution_count": 21,
   "metadata": {
    "colab": {},
    "colab_type": "code",
    "id": "sumB3IsFwJR6"
   },
   "outputs": [],
   "source": [
    "from collections import deque"
   ]
  },
  {
   "cell_type": "code",
   "execution_count": 22,
   "metadata": {
    "colab": {},
    "colab_type": "code",
    "id": "MeB26mZvwJR7"
   },
   "outputs": [],
   "source": [
    "replay_mem = deque(maxlen=int(REPLAY_MEM_SIZE))"
   ]
  },
  {
   "cell_type": "markdown",
   "metadata": {},
   "source": [
    "### Metrics and Tensorboard"
   ]
  },
  {
   "cell_type": "markdown",
   "metadata": {},
   "source": [
    "Metrics"
   ]
  },
  {
   "cell_type": "code",
   "execution_count": 23,
   "metadata": {},
   "outputs": [],
   "source": [
    "actor_loss = tf.keras.metrics.Mean('actor_loss', dtype=tf.float32)\n",
    "critic_loss = tf.keras.metrics.Mean('critic_loss', dtype=tf.float32)"
   ]
  },
  {
   "cell_type": "markdown",
   "metadata": {},
   "source": [
    "Tensorboard"
   ]
  },
  {
   "cell_type": "code",
   "execution_count": 24,
   "metadata": {},
   "outputs": [],
   "source": [
    "current_time = datetime.datetime.now().strftime(\"%Y%m%d-%H%M%S\")\n",
    "train_log_dir = 'logs/gradient_tape/' + current_time + '/train'\n",
    "test_log_dir = 'logs/gradient_tape/' + current_time + '/test'\n",
    "train_summary_writer = tf.summary.create_file_writer(train_log_dir)\n",
    "test_summary_writer = tf.summary.create_file_writer(test_log_dir)"
   ]
  },
  {
   "cell_type": "markdown",
   "metadata": {
    "colab_type": "text",
    "id": "zXOIVFjmwJR7"
   },
   "source": [
    "### Functions"
   ]
  },
  {
   "cell_type": "code",
   "execution_count": 25,
   "metadata": {},
   "outputs": [],
   "source": [
    "def random_weighted_action(state, pass_prob, board_weights):\n",
    "    illegal_mask = state[2]\n",
    "\n",
    "    masked_prob = np.where(illegal_mask == 0, board_weights, 0)\n",
    "\n",
    "    # Decide with 1 / BOARD_SIZE ** 2 chance to pass (pass if we have to)\n",
    "    if np.random.uniform() < pass_prob or np.sum(masked_prob) <= 0:\n",
    "        action = None\n",
    "    else:\n",
    "        # Uniform random chance for all places\n",
    "        masked_prob /= np.sum(masked_prob)\n",
    "\n",
    "        action_1d = np.random.choice(np.arange(BOARD_SIZE**2), p=masked_prob.flatten())\n",
    "        action = (action_1d // BOARD_SIZE, action_1d % BOARD_SIZE)\n",
    "    return action"
   ]
  },
  {
   "cell_type": "code",
   "execution_count": 26,
   "metadata": {},
   "outputs": [],
   "source": [
    "def get_action(policy, state, epsilon):\n",
    "    \"\"\"\n",
    "    Gets an action based on exploration/exploitation\n",
    "    \"\"\"\n",
    "    epsilon_choice = np.random.uniform()\n",
    "    if epsilon_choice < EPSILON:\n",
    "        # Random move\n",
    "        logging.debug(\"Exploring a random move\")\n",
    "        action = random_weighted_action(state, \n",
    "                        pass_prob=1/BOARD_SIZE**2, \n",
    "                        board_weights=np.ones((BOARD_SIZE, BOARD_SIZE)))\n",
    "    else:\n",
    "        # policy makes a move\n",
    "        logging.debug(\"Exploiting policy's move\")\n",
    "        act_prob_distr, pass_decision = policy(state\n",
    "                                               .reshape(1, BOARD_SIZE, BOARD_SIZE, 4)\n",
    "                                               .astype(np.float32))\n",
    "        \n",
    "        action = random_weighted_action(state, pass_prob=pass_decision, \n",
    "                                        board_weights=act_prob_distr)\n",
    "        \n",
    "    return action"
   ]
  },
  {
   "cell_type": "code",
   "execution_count": 27,
   "metadata": {
    "colab": {},
    "colab_type": "code",
    "id": "Cme6dstwwJR8"
   },
   "outputs": [],
   "source": [
    "def play(episode):\n",
    "    '''\n",
    "    :return: number of turns in this game, winner ('b'/'w'/None)\n",
    "    '''\n",
    "    done = False\n",
    "    num_of_turns = 0\n",
    "    state = go_env.reset()\n",
    "    \n",
    "    while not done:\n",
    "        \n",
    "        # Copy state for memory\n",
    "        orig_state = np.copy(state)\n",
    "        \n",
    "        action = get_action(actor, state, EPSILON)\n",
    "            \n",
    "        if action is None:\n",
    "            logging.debug(\"Black (actor) passed\")\n",
    "            \n",
    "        state, reward, done, info = go_env.step(action)\n",
    "        num_of_turns += 1\n",
    "        \n",
    "        # Add to memory\n",
    "        replay_mem.append((orig_state, action, state, reward, done))\n",
    "        \n",
    "        if done:\n",
    "            break\n",
    "        \n",
    "        # opponent makes a move\n",
    "        # swap the black and white layers\n",
    "        temp = np.copy(state[0])\n",
    "        state[0] = state[1]\n",
    "        state[1] = temp\n",
    "        # get action from opponent\n",
    "        action = get_action(opponent, state, 0)\n",
    "        \n",
    "        if action is None:\n",
    "            logging.debug(\"White (opponent) passed\")\n",
    "            \n",
    "        state, reward, done, info = go_env.step(action)\n",
    "        num_of_turns += 1\n",
    "        \n",
    "    # log results\n",
    "    with train_summary_writer.as_default():\n",
    "        tf.summary.scalar('number of moves', num_of_turns, step=episode)\n",
    "        tf.summary.scalar('winner', reward > 0, step=episode)"
   ]
  },
  {
   "cell_type": "code",
   "execution_count": 28,
   "metadata": {
    "colab": {},
    "colab_type": "code",
    "id": "t8QseVrawJR8"
   },
   "outputs": [],
   "source": [
    "def update_critic():\n",
    "    pass"
   ]
  },
  {
   "cell_type": "code",
   "execution_count": 29,
   "metadata": {
    "colab": {},
    "colab_type": "code",
    "id": "4FqPJCaOwJR9"
   },
   "outputs": [],
   "source": [
    "def update_actor():\n",
    "    pass"
   ]
  },
  {
   "cell_type": "code",
   "execution_count": 30,
   "metadata": {
    "colab": {},
    "colab_type": "code",
    "id": "K0E04emPwJR-"
   },
   "outputs": [],
   "source": [
    "def train(episode):\n",
    "    global EPSILON\n",
    "    \n",
    "    if episode % OPPONENT_UPDATE == 0:\n",
    "        # TODO sync opponent\n",
    "        pass\n",
    "    \n",
    "    play(episode)\n",
    "    update_critic()\n",
    "    \n",
    "    update_actor()\n",
    "    \n",
    "    # Update exploration/exploitation\n",
    "    if EPSILON > EPSILON_MIN:\n",
    "        EPSILON *= EPSILON_DECAY"
   ]
  },
  {
   "cell_type": "markdown",
   "metadata": {
    "colab_type": "text",
    "id": "qNBj_gKPwJR_"
   },
   "source": [
    "# Train"
   ]
  },
  {
   "cell_type": "code",
   "execution_count": 31,
   "metadata": {},
   "outputs": [],
   "source": [
    "logger = logging.getLogger()\n",
    "logger.setLevel(logging.INFO)"
   ]
  },
  {
   "cell_type": "code",
   "execution_count": 32,
   "metadata": {
    "scrolled": false
   },
   "outputs": [
    {
     "data": {
      "text/plain": [
       "Reusing TensorBoard on port 6006 (pid 59977), started 1 day, 8:37:17 ago. (Use '!kill 59977' to kill it.)"
      ]
     },
     "metadata": {},
     "output_type": "display_data"
    },
    {
     "data": {
      "text/html": [
       "\n",
       "        <iframe\n",
       "            width=\"100%\"\n",
       "            height=\"800\"\n",
       "            src=\"http://localhost:6006\"\n",
       "            frameborder=\"0\"\n",
       "            allowfullscreen\n",
       "        ></iframe>\n",
       "        "
      ],
      "text/plain": [
       "<IPython.lib.display.IFrame at 0x10a334a58>"
      ]
     },
     "metadata": {},
     "output_type": "display_data"
    }
   ],
   "source": [
    "%tensorboard --logdir logs/gradient_tape"
   ]
  },
  {
   "cell_type": "code",
   "execution_count": null,
   "metadata": {
    "colab": {},
    "colab_type": "code",
    "id": "LT1PUXyXwJR_",
    "scrolled": false
   },
   "outputs": [],
   "source": [
    "for episode in range(NUM_EPISODES):\n",
    "    train(episode)"
   ]
  },
  {
   "cell_type": "markdown",
   "metadata": {
    "colab_type": "text",
    "id": "NyMNxMAWwJR_"
   },
   "source": [
    "# Evaluate\n",
    "Play against the actor 💪"
   ]
  },
  {
   "cell_type": "raw",
   "metadata": {
    "colab": {},
    "colab_type": "code",
    "id": "97j_uYY9wJSA",
    "outputId": "4d6aa1e6-8b63-4a39-b600-e331284ad6ff"
   },
   "source": [
    "go_env = gym.make('gym_go:go-v0', size='S')\n",
    "\n",
    "state = go_env.reset()\n",
    "\n",
    "done = False\n",
    "while not done:\n",
    "    go_env.render()\n",
    "    \n",
    "    # Actor's move\n",
    "    action = get_action(actor, state)\n",
    "    \n",
    "    state, reward, done, info = go_env.step(action)\n",
    "    \n",
    "    go_env.render()\n",
    "    \n",
    "    # Player's move\n",
    "    player_moved = False\n",
    "    while not player_moved:\n",
    "        coords = input(\"Enter coordinates separated by space (`q` to quit)\\n\")\n",
    "        if coords == 'q':\n",
    "            done = True\n",
    "            break\n",
    "        coords = coords.split()\n",
    "        try:\n",
    "            row = int(coords[0])\n",
    "            col = int(coords[1])\n",
    "            print(row, col)\n",
    "            state, reward, done, info = go_env.step((row, col))\n",
    "            player_moved = True\n",
    "        except Exception as e:\n",
    "            print(e)"
   ]
  },
  {
   "cell_type": "code",
   "execution_count": null,
   "metadata": {},
   "outputs": [],
   "source": []
  }
 ],
 "metadata": {
  "colab": {
   "include_colab_link": true,
   "name": "go_ai.ipynb",
   "provenance": [],
   "version": "0.3.2"
  },
  "kernelspec": {
   "display_name": "Python 3",
   "language": "python",
   "name": "python3"
  },
  "language_info": {
   "codemirror_mode": {
    "name": "ipython",
    "version": 3
   },
   "file_extension": ".py",
   "mimetype": "text/x-python",
   "name": "python",
   "nbconvert_exporter": "python",
   "pygments_lexer": "ipython3",
   "version": "3.7.3"
  }
 },
 "nbformat": 4,
 "nbformat_minor": 1
}
