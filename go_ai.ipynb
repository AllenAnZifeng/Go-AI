{
 "cells": [
  {
   "cell_type": "code",
   "execution_count": 1,
   "metadata": {
    "colab": {
     "base_uri": "https://localhost:8080/",
     "height": 740
    },
    "colab_type": "code",
    "id": "5YQ7bYMnwJRa",
    "outputId": "65617db9-e466-4ec7-d8e9-d829a89dc2a1"
   },
   "outputs": [],
   "source": [
    "%%capture\n",
    "!pip3 install tensorflow==2.0.0-beta1\n",
    "\n",
    "# Load the TensorBoard notebook extension\n",
    "# Restart the jupyter notebook if you just installed TF 2.0 Beta\n",
    "%reload_ext tensorboard"
   ]
  },
  {
   "cell_type": "code",
   "execution_count": 2,
   "metadata": {
    "colab": {},
    "colab_type": "code",
    "id": "88zLHqvDwJRj"
   },
   "outputs": [],
   "source": [
    "import tensorflow as tf\n",
    "import matplotlib.pyplot as plt\n",
    "import numpy as np\n",
    "import gym\n",
    "import datetime\n",
    "from tqdm import tqdm\n",
    "import logging\n",
    "import random"
   ]
  },
  {
   "cell_type": "code",
   "execution_count": 3,
   "metadata": {
    "colab": {},
    "colab_type": "code",
    "id": "fc1lqGjPwJRm"
   },
   "outputs": [],
   "source": [
    "!rm -rf ./logs/"
   ]
  },
  {
   "cell_type": "markdown",
   "metadata": {
    "colab_type": "text",
    "id": "szyALIMpwJRo"
   },
   "source": [
    "# Go Environment\n",
    "Train on a small board with heuristic reward for fast training and efficient debugging"
   ]
  },
  {
   "cell_type": "code",
   "execution_count": 4,
   "metadata": {},
   "outputs": [],
   "source": [
    "%%capture\n",
    "!pip3 install -e gym-go"
   ]
  },
  {
   "cell_type": "code",
   "execution_count": 5,
   "metadata": {
    "colab": {},
    "colab_type": "code",
    "id": "E4w7gMrfwJRp"
   },
   "outputs": [],
   "source": [
    "go_env = gym.make('gym_go:go-v0', size='S', reward_method='heuristic')"
   ]
  },
  {
   "cell_type": "code",
   "execution_count": 6,
   "metadata": {
    "colab": {},
    "colab_type": "code",
    "id": "-Ju4HYnKwJRq"
   },
   "outputs": [],
   "source": [
    "BOARD_SIZE = 7"
   ]
  },
  {
   "cell_type": "markdown",
   "metadata": {
    "colab_type": "text",
    "id": "g7ZoRfzIwJRr"
   },
   "source": [
    "# Machine Learning Models\n",
    "Actor-Critic method"
   ]
  },
  {
   "cell_type": "code",
   "execution_count": 7,
   "metadata": {
    "colab": {},
    "colab_type": "code",
    "id": "W9wWb0HvwJRs"
   },
   "outputs": [],
   "source": [
    "from tensorflow.keras import layers"
   ]
  },
  {
   "cell_type": "code",
   "execution_count": 8,
   "metadata": {},
   "outputs": [],
   "source": [
    "def make_actor_critic(mode):\n",
    "    assert mode == 'actor' or mode == 'critic'\n",
    "    \n",
    "    inputs = layers.Input(shape=(BOARD_SIZE, BOARD_SIZE, 4), name=\"board\")\n",
    "    valid_inputs = layers.Input(shape=(BOARD_SIZE, BOARD_SIZE), name=\"valid_board_moves\")\n",
    "    \n",
    "    # Dense block\n",
    "    num_layers = 5\n",
    "    growth_rate = 4\n",
    "    x = inputs\n",
    "    for i in range(num_layers):\n",
    "        y = tf.keras.Sequential([\n",
    "            layers.Conv2D(filters=4, kernel_size=5, padding=\"same\", bias_initializer='ones'),\n",
    "            layers.BatchNormalization(),\n",
    "            layers.ReLU(),\n",
    "        ], name='dense_layer_{}'.format(i))(x)\n",
    "        x = layers.Concatenate()([x,y])\n",
    "    \n",
    "    board_distr = layers.Conv2D(filters=1, kernel_size=5, padding=\"same\", name=\"board_distr\")(x)\n",
    "    \n",
    "    if mode == 'actor':\n",
    "        board_distr = layers.Reshape((BOARD_SIZE**2,), name=\"board_distr_1d\")(board_distr)\n",
    "        board_distr = layers.Softmax(name=\"board_distr_softmax\")(board_distr)\n",
    "        \n",
    "    board_distr = layers.Reshape((BOARD_SIZE, BOARD_SIZE), name=\"board_distr_2d\")(board_distr)\n",
    "    board_distr = layers.Multiply(name=\"valid_board_distr\")([board_distr, valid_inputs])\n",
    "    \n",
    "    pass_value = layers.Conv2D(filters=1, kernel_size=BOARD_SIZE, padding=\"valid\",\n",
    "                              activation=\"sigmoid\" if mode == 'actor' else None, \n",
    "                               bias_initializer=tf.keras.initializers.Constant(-10), name=\"pass_value\")(x)\n",
    "    pass_value = layers.Reshape((1,), name=\"pass_value_reshape\")(pass_value)\n",
    "    \n",
    "    model = tf.keras.Model(inputs=[inputs, valid_inputs], outputs=[board_distr, pass_value], name=mode)\n",
    "    return model"
   ]
  },
  {
   "cell_type": "code",
   "execution_count": 9,
   "metadata": {
    "scrolled": false
   },
   "outputs": [],
   "source": [
    "actor = make_actor_critic('actor')"
   ]
  },
  {
   "cell_type": "code",
   "execution_count": 10,
   "metadata": {
    "scrolled": false
   },
   "outputs": [],
   "source": [
    "critic = make_actor_critic(mode='critic')"
   ]
  },
  {
   "cell_type": "raw",
   "metadata": {},
   "source": [
    "actor.load_weights('tmp/actor.h5')"
   ]
  },
  {
   "cell_type": "raw",
   "metadata": {},
   "source": [
    "critic.load_weights('tmp/critic.h5')"
   ]
  },
  {
   "cell_type": "code",
   "execution_count": 13,
   "metadata": {},
   "outputs": [],
   "source": [
    "opponent = tf.keras.models.clone_model(actor)\n",
    "target_critic = tf.keras.models.clone_model(critic)"
   ]
  },
  {
   "cell_type": "code",
   "execution_count": 14,
   "metadata": {
    "colab": {},
    "colab_type": "code",
    "id": "98jmZoKvwJRv"
   },
   "outputs": [],
   "source": [
    "state = go_env.reset()\n",
    "state, reward, done, info = go_env.step((3,5))\n",
    "state, reward, done, info = go_env.step((5,3))"
   ]
  },
  {
   "cell_type": "code",
   "execution_count": 15,
   "metadata": {
    "colab": {},
    "colab_type": "code",
    "id": "uc8i21oJwJRw"
   },
   "outputs": [],
   "source": [
    "def plot_state(state, channels_last=False):\n",
    "    plt.figure()\n",
    "    for i, (layer, name) in enumerate(zip([state[[0,1,3]].transpose(1,2,0).astype(np.float), state[2]] if not channels_last else \n",
    "                                          [state[:,:,[0,1,3]].astype(np.float), state[:,:,2]], \n",
    "                                          ['board', 'invalid'])):\n",
    "        plt.subplot(1,4,i+1)\n",
    "        plt.title(name)\n",
    "        plt.imshow(layer)\n",
    "    plt.tight_layout()"
   ]
  },
  {
   "cell_type": "markdown",
   "metadata": {
    "colab_type": "text",
    "id": "wKcZcVE3wJRx"
   },
   "source": [
    "Tensorflow expects images to be `channels last`. \n",
    "\n",
    "This can be adapted to with `tranpose`.\n",
    "\n",
    "\n",
    "Ensure the `transpose` function doesn't change anything visually"
   ]
  },
  {
   "cell_type": "code",
   "execution_count": 16,
   "metadata": {
    "colab": {},
    "colab_type": "code",
    "id": "3F1bb2VewJRx",
    "outputId": "63618177-2949-450b-d90b-a17d7ebe2d81"
   },
   "outputs": [
    {
     "data": {
      "image/png": "[encoded data removed]",
      "text/plain": [
       "<Figure size 432x288 with 2 Axes>"
      ]
     },
     "metadata": {
      "needs_background": "light"
     },
     "output_type": "display_data"
    },
    {
     "data": {
      "image/png": "[encoded data removed]",
      "text/plain": [
       "<Figure size 432x288 with 2 Axes>"
      ]
     },
     "metadata": {
      "needs_background": "light"
     },
     "output_type": "display_data"
    }
   ],
   "source": [
    "plot_state(state, channels_last=False)"
   ]
  },
  {
   "cell_type": "code",
   "execution_count": 17,
   "metadata": {
    "colab": {},
    "colab_type": "code",
    "id": "jJWxThQMwJRz"
   },
   "outputs": [],
   "source": [
    "state = state.transpose(1,2,0).reshape(1, BOARD_SIZE, BOARD_SIZE, 4)"
   ]
  },
  {
   "cell_type": "code",
   "execution_count": 18,
   "metadata": {
    "colab": {},
    "colab_type": "code",
    "id": "8VL_dpWgwJRz",
    "outputId": "608f32e9-4186-4f43-a780-ee774c81fe9a"
   },
   "outputs": [
    {
     "data": {
      "image/png": "[encoded data removed]",
      "text/plain": [
       "<Figure size 432x288 with 2 Axes>"
      ]
     },
     "metadata": {
      "needs_background": "light"
     },
     "output_type": "display_data"
    },
    {
     "data": {
      "image/png": "[encoded data removed]",
      "text/plain": [
       "<Figure size 432x288 with 2 Axes>"
      ]
     },
     "metadata": {
      "needs_background": "light"
     },
     "output_type": "display_data"
    }
   ],
   "source": [
    "plot_state(state[0], channels_last=True)"
   ]
  },
  {
   "cell_type": "markdown",
   "metadata": {
    "colab_type": "text",
    "id": "L9djBWO1wJR1"
   },
   "source": [
    "### Initialization of models should be random"
   ]
  },
  {
   "cell_type": "code",
   "execution_count": 19,
   "metadata": {
    "colab": {},
    "colab_type": "code",
    "id": "3MLnPF4AwJR1"
   },
   "outputs": [],
   "source": [
    "board_probs, pass_decision = actor([state.astype(np.float32), 1 - state[:,:,:,2].astype(np.float32)])"
   ]
  },
  {
   "cell_type": "code",
   "execution_count": 20,
   "metadata": {
    "colab": {},
    "colab_type": "code",
    "id": "BTqa6IEcwJR3"
   },
   "outputs": [],
   "source": [
    "board_vals, pass_vals = critic([state.astype(np.float32), 1 - state[:,:,:,2].astype(np.float32)])"
   ]
  },
  {
   "cell_type": "code",
   "execution_count": 21,
   "metadata": {
    "colab": {},
    "colab_type": "code",
    "id": "qH4rDyuowJR3",
    "outputId": "6376f7a8-99ff-4352-e6fc-0eccd05dfa25",
    "scrolled": false
   },
   "outputs": [
    {
     "data": {
      "image/png": "[encoded data removed]",
      "text/plain": [
       "<Figure size 432x288 with 2 Axes>"
      ]
     },
     "metadata": {
      "needs_background": "light"
     },
     "output_type": "display_data"
    },
    {
     "data": {
      "image/png": "[encoded data removed]",
      "text/plain": [
       "<Figure size 432x288 with 2 Axes>"
      ]
     },
     "metadata": {
      "needs_background": "light"
     },
     "output_type": "display_data"
    }
   ],
   "source": [
    "plt.subplot(1,2,1)\n",
    "plt.title('Actor - Passing Prob: {:.4f}'.format(pass_decision[0][0]))\n",
    "plt.imshow(board_probs[0])\n",
    "plt.subplot(1,2,2)\n",
    "plt.title('Critic - Min: {:.4f}, Max: {:.4f}\\nPass Val: {:.4f}'.\n",
    "          format(tf.math.reduce_min(board_vals[0]), \n",
    "                 tf.math.reduce_max(board_vals[0]), \n",
    "                 pass_vals[0][0]))\n",
    "plt.imshow(board_vals[0])\n",
    "plt.tight_layout()"
   ]
  },
  {
   "cell_type": "markdown",
   "metadata": {
    "colab_type": "text",
    "id": "ViUxxPnUwJR5"
   },
   "source": [
    "# Training Setup"
   ]
  },
  {
   "cell_type": "markdown",
   "metadata": {
    "colab_type": "text",
    "id": "TfY-_1_5wJR5"
   },
   "source": [
    "### Hyperparameters"
   ]
  },
  {
   "cell_type": "code",
   "execution_count": 22,
   "metadata": {
    "colab": {},
    "colab_type": "code",
    "id": "DX04C6TbwJR5"
   },
   "outputs": [],
   "source": [
    "NUM_EPISODES = 1000\n",
    "BATCH_SIZE = 128\n",
    "REPLAY_MEM_SIZE = 1024\n",
    "\n",
    "ACTOR_LEARNING_RATE = 1e-1\n",
    "OPPONENT_UPDATE = 100 \n",
    "\n",
    "EPSILON = 1\n",
    "EPSILON_DECAY = 0.995\n",
    "EPSILON_MIN = 0.1\n",
    "\n",
    "CRITIC_LEARNING_RATE = 1e-3\n",
    "GAMMA = 0.95\n",
    "TARGET_UPDATE = 1 # number of episodes to update the target critic model"
   ]
  },
  {
   "cell_type": "code",
   "execution_count": 23,
   "metadata": {
    "colab": {},
    "colab_type": "code",
    "id": "sumB3IsFwJR6"
   },
   "outputs": [],
   "source": [
    "from collections import deque"
   ]
  },
  {
   "cell_type": "code",
   "execution_count": 24,
   "metadata": {
    "colab": {},
    "colab_type": "code",
    "id": "MeB26mZvwJR7"
   },
   "outputs": [],
   "source": [
    "replay_mem = deque(maxlen=int(REPLAY_MEM_SIZE))"
   ]
  },
  {
   "cell_type": "markdown",
   "metadata": {},
   "source": [
    "### Metrics and Tensorboard"
   ]
  },
  {
   "cell_type": "markdown",
   "metadata": {},
   "source": [
    "Metrics"
   ]
  },
  {
   "cell_type": "code",
   "execution_count": 25,
   "metadata": {},
   "outputs": [],
   "source": [
    "actor_metrics = {}\n",
    "for metric_key in ['loss']:\n",
    "    actor_metrics[metric_key] = tf.keras.metrics.Mean('actor_{}'.format(metric_key), dtype=tf.float32)\n",
    "\n",
    "critic_metrics = {}\n",
    "for metric_key in ['loss']:\n",
    "    critic_metrics[metric_key] = tf.keras.metrics.Mean('critic_{}'.format(metric_key), dtype=tf.float32)"
   ]
  },
  {
   "cell_type": "markdown",
   "metadata": {},
   "source": [
    "Tensorboard"
   ]
  },
  {
   "cell_type": "code",
   "execution_count": 26,
   "metadata": {},
   "outputs": [],
   "source": [
    "summary_writers = {}\n",
    "current_time = datetime.datetime.now().strftime(\"%Y%m%d-%H%M%S\")\n",
    "for summary_key in ['main']:\n",
    "    log_dir = 'logs/actor_critic/{}/{}'.format(current_time, summary_key)\n",
    "    summary_writers[summary_key] = tf.summary.create_file_writer(log_dir)"
   ]
  },
  {
   "cell_type": "markdown",
   "metadata": {
    "colab_type": "text",
    "id": "zXOIVFjmwJR7"
   },
   "source": [
    "### Functions"
   ]
  },
  {
   "cell_type": "code",
   "execution_count": 27,
   "metadata": {},
   "outputs": [],
   "source": [
    "from sklearn import preprocessing\n",
    "def random_weighted_action(state, pass_prob, board_weights):\n",
    "    # Decide with 1 / BOARD_SIZE ** 2 chance to pass (pass if we have to)\n",
    "    if np.random.uniform() < pass_prob or np.isnan(board_weights).any() or np.sum(board_weights) <= 0:\n",
    "        action = None\n",
    "    else:\n",
    "        board_weights_sum = np.sum(board_weights)\n",
    "        board_weights = tf.reshape(board_weights, (1,BOARD_SIZE**2))\n",
    "        board_weights = preprocessing.normalize(board_weights, norm='l1')\n",
    "        board_weights = board_weights.reshape((BOARD_SIZE**2,))\n",
    "        action_1d = np.random.choice(np.arange(BOARD_SIZE**2), p=board_weights)\n",
    "        action = (action_1d // BOARD_SIZE, action_1d % BOARD_SIZE)\n",
    "    return action"
   ]
  },
  {
   "cell_type": "code",
   "execution_count": 28,
   "metadata": {},
   "outputs": [],
   "source": [
    "def get_action(policy, state, epsilon):\n",
    "    \"\"\"\n",
    "    Gets an action based on exploration/exploitation\n",
    "    \"\"\"\n",
    "    epsilon_choice = np.random.uniform()\n",
    "    if epsilon_choice < EPSILON:\n",
    "        # Random move\n",
    "        logging.debug(\"Exploring a random move\")\n",
    "        board_weights = 1 - state[2]\n",
    "        action = random_weighted_action(state, \n",
    "                        pass_prob=1/BOARD_SIZE**2, \n",
    "                        board_weights=board_weights)\n",
    "    else:\n",
    "        # policy makes a move\n",
    "        logging.debug(\"Exploiting policy's move\")\n",
    "        if state.shape[0] == 4:\n",
    "            state = state.transpose(1,2,0)\n",
    "        reshaped_state = state.reshape(1, BOARD_SIZE, BOARD_SIZE, 4).astype(np.float32)\n",
    "        act_prob_distr, pass_decision = policy([reshaped_state, 1-reshaped_state[:,:,:,2]])\n",
    "        \n",
    "        action = random_weighted_action(state, pass_prob=pass_decision, \n",
    "                                        board_weights=act_prob_distr)\n",
    "        \n",
    "    return action"
   ]
  },
  {
   "cell_type": "code",
   "execution_count": 29,
   "metadata": {},
   "outputs": [],
   "source": [
    "def get_value_for_action(board_values, passing_values, actions):\n",
    "    '''\n",
    "    Get value from board_values based on action, or take the passing_values if the action is None\n",
    "    '''\n",
    "    action_values = tf.gather_nd(board_values, [(i, a[0], a[1]) if a is not None \n",
    "                                                    else (i, 0, 0) \n",
    "                                                    for i, a in enumerate(actions)])\n",
    "    action_values = tf.where([a is not None for a in actions], action_values, passing_values)\n",
    "    return action_values"
   ]
  },
  {
   "cell_type": "code",
   "execution_count": 30,
   "metadata": {},
   "outputs": [],
   "source": [
    "def get_batch_obs(size=BATCH_SIZE):\n",
    "    '''\n",
    "    Get a batch of orig_states, actions, states, rewards, terminals as np array out of replay memory\n",
    "    '''\n",
    "    batch = random.sample(replay_mem, size)\n",
    "    batch = list(zip(*batch))\n",
    "    orig_states = np.array(list(batch[0]), dtype=np.float32).transpose(0,3,2,1)\n",
    "    actions = np.array(list(batch[1]))\n",
    "    states = np.array(list(batch[2]), dtype=np.float32).transpose(0,3,2,1)\n",
    "    rewards = np.array(list(batch[3]), dtype=np.float32)\n",
    "    terminals = np.array(list(batch[4]), dtype=np.uint8)\n",
    "    return orig_states, actions, states, rewards, terminals\n",
    "    "
   ]
  },
  {
   "cell_type": "code",
   "execution_count": 31,
   "metadata": {},
   "outputs": [],
   "source": [
    "def calculate_state_vals(states, policy, actval_func):\n",
    "    '''\n",
    "    Get the expected value of states\n",
    "    '''\n",
    "    board_prob_distrs, passing_probs = policy([states, 1-states[:,:,:,2]])\n",
    "    board_val_distrs, passing_vals = actval_func([states, 1-states[:,:,:,2]])\n",
    "    \n",
    "    passing_probs = tf.reshape(passing_probs, (-1,))\n",
    "    passing_vals = tf.reshape(passing_vals, (-1,))\n",
    "    \n",
    "    # state value is the expected critic value based on the actor's policy\n",
    "    state_vals = tf.reduce_sum(board_prob_distrs * board_val_distrs, axis=[1,2])\n",
    "    state_vals = passing_probs * passing_vals + (1 - passing_probs) * state_vals\n",
    "    return state_vals"
   ]
  },
  {
   "cell_type": "code",
   "execution_count": 32,
   "metadata": {
    "colab": {},
    "colab_type": "code",
    "id": "t8QseVrawJR8"
   },
   "outputs": [],
   "source": [
    "critic_optimizer = tf.keras.optimizers.Adam(CRITIC_LEARNING_RATE)\n",
    "def update_critic():\n",
    "    \"\"\"\n",
    "    Optimizes the critic in one step and updates the critic loss metric\n",
    "    \"\"\"\n",
    "    \n",
    "    mse = tf.keras.losses.MeanSquaredError()\n",
    "    \n",
    "    states, actions, next_states, rewards, terminals  = get_batch_obs()\n",
    "    \n",
    "    # get expected values for next state\n",
    "    next_state_vals = calculate_state_vals(next_states, actor, target_critic)\n",
    "    \n",
    "    with tf.GradientTape() as tape:\n",
    "        board_val_distrs, passing_vals = critic([states, 1-states[:,:,:,2]])\n",
    "        passing_vals = tf.reshape(passing_vals, (-1,))\n",
    "        action_vals = get_value_for_action(board_val_distrs, passing_vals, actions)\n",
    "        val_loss = mse(rewards + GAMMA * next_state_vals * (1-terminals), action_vals)\n",
    "    \n",
    "    critic_metrics['loss'](val_loss)\n",
    "    \n",
    "    # compute and apply gradients\n",
    "    gradients = tape.gradient(val_loss, critic.trainable_variables)\n",
    "    critic_optimizer.apply_gradients(zip(gradients, critic.trainable_variables))"
   ]
  },
  {
   "cell_type": "code",
   "execution_count": 33,
   "metadata": {
    "colab": {},
    "colab_type": "code",
    "id": "4FqPJCaOwJR9"
   },
   "outputs": [],
   "source": [
    "actor_optimizer = tf.keras.optimizers.Adam(ACTOR_LEARNING_RATE)\n",
    "def update_actor():\n",
    "    \"\"\"\n",
    "    Optimizes the actor in one step and updates the critic loss metric\n",
    "    \"\"\"\n",
    "    \n",
    "    mse = tf.keras.losses.MeanSquaredError()\n",
    "    \n",
    "    states, actions, next_states, rewards, terminals = get_batch_obs()\n",
    "    \n",
    "    # State values\n",
    "    state_vals = calculate_state_vals(states, actor, critic)\n",
    "    \n",
    "    # Next state values\n",
    "    next_state_vals = calculate_state_vals(next_states, actor, critic)\n",
    "    \n",
    "    # Advantage values\n",
    "    avntg_vals = (rewards + GAMMA * next_state_vals * (1-terminals)) - state_vals\n",
    "    \n",
    "    with tf.GradientTape() as tape:\n",
    "        board_prob_distrs, passing_probs = actor([states, 1-states[:,:,:,2]])\n",
    "        passing_probs = tf.reshape(passing_probs, (-1,))\n",
    "        action_probs = get_value_for_action(board_prob_distrs, passing_probs, actions)\n",
    "        avntg_loss = - tf.math.log(action_probs + 1e-6) * avntg_vals\n",
    "        avntg_loss = tf.math.reduce_mean(avntg_loss)\n",
    "    \n",
    "    # log the loss in tensorboard\n",
    "    actor_metrics['loss'](avntg_loss)\n",
    "        \n",
    "    # compute and apply gradients\n",
    "    gradients = tape.gradient(avntg_loss, actor.trainable_variables)\n",
    "    actor_optimizer.apply_gradients(zip(gradients, actor.trainable_variables))"
   ]
  },
  {
   "cell_type": "code",
   "execution_count": 34,
   "metadata": {
    "colab": {},
    "colab_type": "code",
    "id": "K0E04emPwJR-"
   },
   "outputs": [],
   "source": [
    "def train(episode):\n",
    "    \"\"\"\n",
    "    Plays out a game, and iteratively updates the models at each step\n",
    "    \"\"\"\n",
    "    global EPSILON\n",
    "    \n",
    "    # Basic setup\n",
    "    done = False\n",
    "    num_of_turns = 0\n",
    "    state = go_env.reset()\n",
    "    max_steps = BOARD_SIZE**3\n",
    "    rewards = []\n",
    "    \n",
    "    while not done and num_of_turns <= max_steps:\n",
    "        # Copy state for memory\n",
    "        orig_state = np.copy(state)\n",
    "        \n",
    "        action = get_action(actor, state, EPSILON)\n",
    "        if action is None:\n",
    "            logging.debug(\"Black (actor) passed\")\n",
    "            \n",
    "        state, reward, done, info = go_env.step(action)\n",
    "        num_of_turns += 1\n",
    "        rewards.append(reward)\n",
    "        \n",
    "        # Add to memory\n",
    "        replay_mem.append((orig_state, action, state, reward, done))\n",
    "        \n",
    "        # Update the critic and then actor if we have enough events\n",
    "        if len(replay_mem) >= BATCH_SIZE:\n",
    "#             update_critic()        \n",
    "            update_actor()\n",
    "    \n",
    "            # Update exploration/exploitation\n",
    "            if EPSILON > EPSILON_MIN:\n",
    "                EPSILON *= EPSILON_DECAY\n",
    "                logging.debug(\"Epsilon decayed to {}\".format(EPSILON))\n",
    "            \n",
    "        if done:\n",
    "            break\n",
    "            \n",
    "        # opponent makes a move\n",
    "        # swap the black and white layers\n",
    "        temp = np.copy(state[0])\n",
    "        state[0] = state[1]\n",
    "        state[1] = temp\n",
    "        # get action from opponent\n",
    "        action = get_action(opponent, state, epsilon=0)\n",
    "        if action is None:\n",
    "            logging.debug(\"White (opponent) passed\")\n",
    "\n",
    "        state, reward, done, info = go_env.step(action)\n",
    "        num_of_turns += 1\n",
    "        rewards.append(reward)\n",
    "    \n",
    "    # Game ended\n",
    "    return num_of_turns, rewards"
   ]
  },
  {
   "cell_type": "markdown",
   "metadata": {
    "colab_type": "text",
    "id": "qNBj_gKPwJR_"
   },
   "source": [
    "# Train"
   ]
  },
  {
   "cell_type": "code",
   "execution_count": 35,
   "metadata": {},
   "outputs": [],
   "source": [
    "logger = logging.getLogger()\n",
    "logger.setLevel(logging.INFO)"
   ]
  },
  {
   "cell_type": "code",
   "execution_count": null,
   "metadata": {
    "colab": {},
    "colab_type": "code",
    "id": "LT1PUXyXwJR_",
    "scrolled": false
   },
   "outputs": [
    {
     "name": "stderr",
     "output_type": "stream",
     "text": [
      "  0%|          | 0/1000 [00:00<?, ?it/s]WARNING: Logging before flag parsing goes to stderr.\n",
      "I0720 17:16:02.191024 4575163840 <ipython-input-36-fc3bfac52b9e>:10] Updated opponent\n",
      "WARNING: Logging before flag parsing goes to stderr.\n",
      "I0720 17:16:02.191024 4575163840 <ipython-input-36-fc3bfac52b9e>:10] Updated opponent\n"
     ]
    },
    {
     "data": {
      "image/png": "[encoded data removed]",
      "text/plain": [
       "<Figure size 576x108 with 3 Axes>"
      ]
     },
     "metadata": {
      "needs_background": "light"
     },
     "output_type": "display_data"
    },
    {
     "data": {
      "image/png": "[encoded data removed]",
      "text/plain": [
       "<Figure size 576x108 with 3 Axes>"
      ]
     },
     "metadata": {
      "needs_background": "light"
     },
     "output_type": "display_data"
    },
    {
     "name": "stderr",
     "output_type": "stream",
     "text": [
      "  0%|          | 1/1000 [00:09<2:36:43,  9.41s/it]"
     ]
    },
    {
     "data": {
      "image/png": "[encoded data removed]",
      "text/plain": [
       "<Figure size 576x108 with 3 Axes>"
      ]
     },
     "metadata": {
      "needs_background": "light"
     },
     "output_type": "display_data"
    },
    {
     "data": {
      "image/png": "[encoded data removed]",
      "text/plain": [
       "<Figure size 576x108 with 3 Axes>"
      ]
     },
     "metadata": {
      "needs_background": "light"
     },
     "output_type": "display_data"
    },
    {
     "name": "stderr",
     "output_type": "stream",
     "text": [
      "  0%|          | 2/1000 [00:16<2:25:09,  8.73s/it]"
     ]
    },
    {
     "data": {
      "image/png": "[encoded data removed]",
      "text/plain": [
       "<Figure size 576x108 with 3 Axes>"
      ]
     },
     "metadata": {
      "needs_background": "light"
     },
     "output_type": "display_data"
    },
    {
     "data": {
      "image/png": "[encoded data removed]",
      "text/plain": [
       "<Figure size 576x108 with 3 Axes>"
      ]
     },
     "metadata": {
      "needs_background": "light"
     },
     "output_type": "display_data"
    },
    {
     "name": "stderr",
     "output_type": "stream",
     "text": [
      "  0%|          | 3/1000 [00:23<2:16:54,  8.24s/it]"
     ]
    },
    {
     "data": {
      "image/png": "[encoded data removed]",
      "text/plain": [
       "<Figure size 576x108 with 3 Axes>"
      ]
     },
     "metadata": {
      "needs_background": "light"
     },
     "output_type": "display_data"
    },
    {
     "data": {
      "image/png": "[encoded data removed]",
      "text/plain": [
       "<Figure size 576x108 with 3 Axes>"
      ]
     },
     "metadata": {
      "needs_background": "light"
     },
     "output_type": "display_data"
    },
    {
     "name": "stderr",
     "output_type": "stream",
     "text": [
      "  0%|          | 4/1000 [00:29<2:07:15,  7.67s/it]"
     ]
    },
    {
     "data": {
      "image/png": "[encoded data removed]",
      "text/plain": [
       "<Figure size 576x108 with 3 Axes>"
      ]
     },
     "metadata": {
      "needs_background": "light"
     },
     "output_type": "display_data"
    },
    {
     "data": {
      "image/png": "[encoded data removed]",
      "text/plain": [
       "<Figure size 576x108 with 3 Axes>"
      ]
     },
     "metadata": {
      "needs_background": "light"
     },
     "output_type": "display_data"
    },
    {
     "name": "stderr",
     "output_type": "stream",
     "text": [
      "  0%|          | 5/1000 [00:37<2:04:48,  7.53s/it]"
     ]
    },
    {
     "data": {
      "image/png": "[encoded data removed]",
      "text/plain": [
       "<Figure size 576x108 with 3 Axes>"
      ]
     },
     "metadata": {
      "needs_background": "light"
     },
     "output_type": "display_data"
    },
    {
     "data": {
      "image/png": "[encoded data removed]",
      "text/plain": [
       "<Figure size 576x108 with 3 Axes>"
      ]
     },
     "metadata": {
      "needs_background": "light"
     },
     "output_type": "display_data"
    },
    {
     "name": "stderr",
     "output_type": "stream",
     "text": [
      "  1%|          | 6/1000 [00:45<2:09:49,  7.84s/it]"
     ]
    }
   ],
   "source": [
    "for episode in tqdm(range(NUM_EPISODES)):\n",
    "    # Reset all metrics\n",
    "    for metric in actor_metrics.values():\n",
    "        metric.reset_states()\n",
    "    for metric in critic_metrics.values():\n",
    "        metric.reset_states()\n",
    "    \n",
    "    if episode % OPPONENT_UPDATE == 0:\n",
    "        opponent = tf.keras.models.clone_model(actor)\n",
    "        logging.info(\"Updated opponent\")\n",
    "        \n",
    "    if episode % TARGET_UPDATE == 0:\n",
    "        target_critic = tf.keras.models.clone_model(critic)\n",
    "\n",
    "    num_turns, rewards = train(episode)\n",
    "    \n",
    "    # Plot samples of states and actor, critic heatmaps\n",
    "    num_samples = 1\n",
    "    states, _, _, _,_ = get_batch_obs(num_samples)\n",
    "    board_prob_distrs, pass_probs = actor([states, 1-states[:,:,:,2]])\n",
    "    board_val_distrs, pass_vals = critic([states, 1-states[:,:,:,2]])\n",
    "    plt.figure(figsize=(8,1.5))\n",
    "    for i in range(num_samples):\n",
    "        plt.subplot(num_samples,3,3*i+1+0)\n",
    "        plt.axis('off')\n",
    "        plt.title('Board')\n",
    "        plt.imshow(states[i][:,:,[0,1,3]].astype(np.float))\n",
    "        plt.subplot(num_samples,3,3*i+1+1)\n",
    "        plt.axis('off')\n",
    "        plt.title('Actor\\n{:.2f}L {:.2f}H {:.2f}P'\n",
    "                  .format(np.min(board_prob_distrs), \n",
    "                          np.max(board_prob_distrs),pass_probs[i][0]))\n",
    "        plt.imshow(board_prob_distrs[i])\n",
    "        plt.subplot(num_samples,3,3*i+1+2)\n",
    "        plt.axis('off')\n",
    "        plt.title('Critic\\n{:.2f}L {:.2f}H {:.2f}P'\n",
    "                  .format(np.min(board_val_distrs), \n",
    "                          np.max(board_val_distrs), pass_vals[i][0]))\n",
    "        plt.imshow(board_val_distrs[i])\n",
    "        \n",
    "    plt.tight_layout()\n",
    "    plt.show()\n",
    "    \n",
    "    # log results\n",
    "    with summary_writers['main'].as_default():\n",
    "        tf.summary.scalar('last rewards', rewards[-1], step=episode)\n",
    "        tf.summary.scalar('rewards sum', sum(rewards), step=episode)\n",
    "        tf.summary.scalar('number of moves', num_turns, step=episode)\n",
    "        tf.summary.scalar('critic loss', critic_metrics['loss'].result(), step=episode)\n",
    "        tf.summary.scalar('actor loss', actor_metrics['loss'].result(), step=episode)\n",
    "        tf.summary.scalar('epsilon', EPSILON, step=episode)\n",
    "        "
   ]
  },
  {
   "cell_type": "code",
   "execution_count": null,
   "metadata": {},
   "outputs": [],
   "source": [
    "actor.save_weights('tmp/actor.h5')\n",
    "critic.save_weights('tmp/critic.h5')"
   ]
  },
  {
   "cell_type": "markdown",
   "metadata": {
    "colab_type": "text",
    "id": "NyMNxMAWwJR_"
   },
   "source": [
    "# Evaluate"
   ]
  },
  {
   "cell_type": "markdown",
   "metadata": {},
   "source": [
    "Test against a pretrained AI"
   ]
  },
  {
   "cell_type": "code",
   "execution_count": null,
   "metadata": {},
   "outputs": [],
   "source": [
    "# TODO"
   ]
  },
  {
   "cell_type": "markdown",
   "metadata": {},
   "source": [
    "Play against our AI"
   ]
  },
  {
   "cell_type": "code",
   "execution_count": null,
   "metadata": {
    "colab": {},
    "colab_type": "code",
    "id": "97j_uYY9wJSA",
    "outputId": "4d6aa1e6-8b63-4a39-b600-e331284ad6ff",
    "scrolled": true
   },
   "outputs": [],
   "source": [
    "go_env = gym.make('gym_go:go-v0', size='S')\n",
    "\n",
    "state = go_env.reset()\n",
    "\n",
    "done = False\n",
    "while not done:\n",
    "    go_env.render()\n",
    "    \n",
    "    # Actor's move\n",
    "    action = get_action(actor, state, 0)\n",
    "    \n",
    "    state, reward, done, info = go_env.step(action)\n",
    "    \n",
    "    go_env.render()\n",
    "    \n",
    "    # Player's move\n",
    "    player_moved = False\n",
    "    while not player_moved:\n",
    "        coords = input(\"Enter coordinates separated by space (`q` to quit)\\n\")\n",
    "        if coords == 'q':\n",
    "            done = True\n",
    "            break\n",
    "        coords = coords.split()\n",
    "        try:\n",
    "            row = int(coords[0])\n",
    "            col = int(coords[1])\n",
    "            print(row, col)\n",
    "            state, reward, done, info = go_env.step((row, col))\n",
    "            player_moved = True\n",
    "        except Exception as e:\n",
    "            print(e)"
   ]
  },
  {
   "cell_type": "code",
   "execution_count": null,
   "metadata": {},
   "outputs": [],
   "source": []
  }
 ],
 "metadata": {
  "colab": {
   "include_colab_link": true,
   "name": "go_ai.ipynb",
   "provenance": [],
   "version": "0.3.2"
  },
  "kernelspec": {
   "display_name": "Python 3",
   "language": "python",
   "name": "python3"
  },
  "language_info": {
   "codemirror_mode": {
    "name": "ipython",
    "version": 3
   },
   "file_extension": ".py",
   "mimetype": "text/x-python",
   "name": "python",
   "nbconvert_exporter": "python",
   "pygments_lexer": "ipython3",
   "version": "3.7.3"
  },
  "widgets": {
   "application/vnd.jupyter.widget-state+json": {
    "state": {},
    "version_major": 2,
    "version_minor": 0
   }
  }
 },
 "nbformat": 4,
 "nbformat_minor": 1
}
