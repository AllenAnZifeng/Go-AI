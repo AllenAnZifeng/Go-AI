{
 "cells": [
  {
   "cell_type": "code",
   "execution_count": 1,
   "metadata": {
    "colab": {
     "base_uri": "https://localhost:8080/",
     "height": 740
    },
    "colab_type": "code",
    "id": "5YQ7bYMnwJRa",
    "outputId": "65617db9-e466-4ec7-d8e9-d829a89dc2a1"
   },
   "outputs": [],
   "source": [
    "%%capture\n",
    "!pip3 install tensorflow==2.0.0-beta1"
   ]
  },
  {
   "cell_type": "code",
   "execution_count": 2,
   "metadata": {
    "colab": {},
    "colab_type": "code",
    "id": "88zLHqvDwJRj"
   },
   "outputs": [],
   "source": [
    "import tensorflow as tf\n",
    "import numpy as np\n",
    "import gym\n",
    "import datetime\n",
    "from tqdm import tqdm_notebook\n",
    "import logging\n",
    "import random\n",
    "import itertools\n",
    "import utils\n",
    "import matplotlib.pyplot as plt"
   ]
  },
  {
   "cell_type": "markdown",
   "metadata": {
    "colab_type": "text",
    "id": "TfY-_1_5wJR5"
   },
   "source": [
    "# Hyperparameters"
   ]
  },
  {
   "cell_type": "code",
   "execution_count": 3,
   "metadata": {
    "colab": {},
    "colab_type": "code",
    "id": "-Ju4HYnKwJRq"
   },
   "outputs": [],
   "source": [
    "BOARD_SIZE = 7"
   ]
  },
  {
   "cell_type": "code",
   "execution_count": 4,
   "metadata": {},
   "outputs": [],
   "source": [
    "DATA_AUGMENTATION = 8"
   ]
  },
  {
   "cell_type": "code",
   "execution_count": 5,
   "metadata": {
    "colab": {},
    "colab_type": "code",
    "id": "DX04C6TbwJR5"
   },
   "outputs": [],
   "source": [
    "ITERATIONS = 60 * 8\n",
    "EPISODES_PER_ITERATION = 128\n",
    "MAX_STEPS = 2 * BOARD_SIZE**2\n",
    "BATCH_SIZE = 128\n",
    "\n",
    "ACTOR_LEARNING_RATE = 5e-4\n",
    "ACTOR_BETA_1 = 0.9\n",
    "CRITIC_LEARNING_RATE = 1e-3\n",
    "CRITIC_BETA_1 = 0.9\n",
    "\n",
    "EPSILON = 0.02"
   ]
  },
  {
   "cell_type": "code",
   "execution_count": 6,
   "metadata": {},
   "outputs": [],
   "source": [
    "OPPONENT_UPDATE = 4\n",
    "OPPONENT_EPSILON = 0.01\n",
    "SAVE_EVERY_ITERATION = True\n",
    "LOAD_SAVED_MODELS = True"
   ]
  },
  {
   "cell_type": "markdown",
   "metadata": {
    "colab_type": "text",
    "id": "szyALIMpwJRo"
   },
   "source": [
    "# Go Environment\n",
    "Train on a small board with heuristic reward for fast training and efficient debugging"
   ]
  },
  {
   "cell_type": "code",
   "execution_count": 7,
   "metadata": {},
   "outputs": [],
   "source": [
    "%%capture\n",
    "!pip3 install -e gym-go"
   ]
  },
  {
   "cell_type": "code",
   "execution_count": 8,
   "metadata": {
    "colab": {},
    "colab_type": "code",
    "id": "E4w7gMrfwJRp"
   },
   "outputs": [],
   "source": [
    "go_env = gym.make('gym_go:go-v0', size=BOARD_SIZE, reward_method='real')"
   ]
  },
  {
   "cell_type": "markdown",
   "metadata": {
    "colab_type": "text",
    "id": "g7ZoRfzIwJRr"
   },
   "source": [
    "# Machine Learning Models"
   ]
  },
  {
   "cell_type": "code",
   "execution_count": 9,
   "metadata": {},
   "outputs": [],
   "source": [
    "ACTOR_PATH = 'tmp/actor.h5'\n",
    "CRITIC_PATH = 'tmp/critic.h5'"
   ]
  },
  {
   "cell_type": "code",
   "execution_count": 10,
   "metadata": {
    "colab": {},
    "colab_type": "code",
    "id": "W9wWb0HvwJRs"
   },
   "outputs": [],
   "source": [
    "from tensorflow.keras import layers"
   ]
  },
  {
   "cell_type": "code",
   "execution_count": 11,
   "metadata": {},
   "outputs": [],
   "source": [
    "def make_actor_critic(mode):\n",
    "    inputs = layers.Input(shape=(BOARD_SIZE, BOARD_SIZE, 4), name=\"board\")\n",
    "    valid_inputs = layers.Input(shape=(BOARD_SIZE**2 + 1,), name=\"valid_moves\")\n",
    "    invalid_values = layers.Input(shape=(BOARD_SIZE**2 + 1,), name=\"invalid_values\")\n",
    "    \n",
    "    x = layers.Flatten()(inputs)\n",
    "    \n",
    "    x = layers.Dense(256)(x)\n",
    "    x = layers.BatchNormalization()(x)\n",
    "    x = layers.ReLU()(x)\n",
    "    \n",
    "    x = layers.Dense(512)(x)\n",
    "    x = layers.BatchNormalization()(x)\n",
    "    x = layers.ReLU()(x)\n",
    "    \n",
    "    x = layers.Dense(512)(x)\n",
    "    x = layers.BatchNormalization()(x)\n",
    "    x = layers.ReLU()(x)\n",
    "    \n",
    "    x = layers.Dense(256)(x)\n",
    "    x = layers.BatchNormalization()(x)\n",
    "    x = layers.ReLU()(x)\n",
    "    \n",
    "    if mode == 'actor':\n",
    "        move_probs = layers.Dense(128)(x)\n",
    "        move_probs = layers.BatchNormalization()(move_probs)\n",
    "        move_probs = layers.ReLU()(move_probs)\n",
    "        move_probs = layers.Dense(50)(move_probs)\n",
    "        move_probs = layers.BatchNormalization()(move_probs)\n",
    "        move_probs = layers.ReLU()(move_probs)\n",
    "        move_probs = layers.Add()([move_probs, invalid_values])\n",
    "        move_probs = layers.Softmax(name=\"move_probs\")(move_probs)\n",
    "        out = move_probs\n",
    "    else:\n",
    "        move_vals = layers.Dense(128)(x)\n",
    "        move_vals = layers.BatchNormalization()(move_vals)\n",
    "        move_vals = layers.ReLU()(move_vals)\n",
    "        move_vals = layers.Dense(50, activation=\"sigmoid\")(move_vals)\n",
    "        move_vals = layers.Multiply(name=\"move_vals\")([move_vals, valid_inputs])\n",
    "        out = move_vals\n",
    "\n",
    "    model = tf.keras.Model(inputs=[inputs, valid_inputs, invalid_values], \n",
    "                           outputs=out, name=mode)\n",
    "    return model"
   ]
  },
  {
   "cell_type": "code",
   "execution_count": 12,
   "metadata": {
    "scrolled": false
   },
   "outputs": [],
   "source": [
    "actor = make_actor_critic('actor')"
   ]
  },
  {
   "cell_type": "code",
   "execution_count": 13,
   "metadata": {
    "scrolled": true
   },
   "outputs": [
    {
     "name": "stdout",
     "output_type": "stream",
     "text": [
      "Model: \"actor\"\n",
      "__________________________________________________________________________________________________\n",
      "Layer (type)                    Output Shape         Param #     Connected to                     \n",
      "==================================================================================================\n",
      "board (InputLayer)              [(None, 7, 7, 4)]    0                                            \n",
      "__________________________________________________________________________________________________\n",
      "flatten (Flatten)               (None, 196)          0           board[0][0]                      \n",
      "__________________________________________________________________________________________________\n",
      "dense (Dense)                   (None, 256)          50432       flatten[0][0]                    \n",
      "__________________________________________________________________________________________________\n",
      "batch_normalization (BatchNorma (None, 256)          1024        dense[0][0]                      \n",
      "__________________________________________________________________________________________________\n",
      "re_lu (ReLU)                    (None, 256)          0           batch_normalization[0][0]        \n",
      "__________________________________________________________________________________________________\n",
      "dense_1 (Dense)                 (None, 512)          131584      re_lu[0][0]                      \n",
      "__________________________________________________________________________________________________\n",
      "batch_normalization_1 (BatchNor (None, 512)          2048        dense_1[0][0]                    \n",
      "__________________________________________________________________________________________________\n",
      "re_lu_1 (ReLU)                  (None, 512)          0           batch_normalization_1[0][0]      \n",
      "__________________________________________________________________________________________________\n",
      "dense_2 (Dense)                 (None, 512)          262656      re_lu_1[0][0]                    \n",
      "__________________________________________________________________________________________________\n",
      "batch_normalization_2 (BatchNor (None, 512)          2048        dense_2[0][0]                    \n",
      "__________________________________________________________________________________________________\n",
      "re_lu_2 (ReLU)                  (None, 512)          0           batch_normalization_2[0][0]      \n",
      "__________________________________________________________________________________________________\n",
      "dense_3 (Dense)                 (None, 256)          131328      re_lu_2[0][0]                    \n",
      "__________________________________________________________________________________________________\n",
      "batch_normalization_3 (BatchNor (None, 256)          1024        dense_3[0][0]                    \n",
      "__________________________________________________________________________________________________\n",
      "re_lu_3 (ReLU)                  (None, 256)          0           batch_normalization_3[0][0]      \n",
      "__________________________________________________________________________________________________\n",
      "dense_4 (Dense)                 (None, 128)          32896       re_lu_3[0][0]                    \n",
      "__________________________________________________________________________________________________\n",
      "batch_normalization_4 (BatchNor (None, 128)          512         dense_4[0][0]                    \n",
      "__________________________________________________________________________________________________\n",
      "re_lu_4 (ReLU)                  (None, 128)          0           batch_normalization_4[0][0]      \n",
      "__________________________________________________________________________________________________\n",
      "dense_5 (Dense)                 (None, 50)           6450        re_lu_4[0][0]                    \n",
      "__________________________________________________________________________________________________\n",
      "batch_normalization_5 (BatchNor (None, 50)           200         dense_5[0][0]                    \n",
      "__________________________________________________________________________________________________\n",
      "re_lu_5 (ReLU)                  (None, 50)           0           batch_normalization_5[0][0]      \n",
      "__________________________________________________________________________________________________\n",
      "invalid_values (InputLayer)     [(None, 50)]         0                                            \n",
      "__________________________________________________________________________________________________\n",
      "add (Add)                       (None, 50)           0           re_lu_5[0][0]                    \n",
      "                                                                 invalid_values[0][0]             \n",
      "__________________________________________________________________________________________________\n",
      "valid_moves (InputLayer)        [(None, 50)]         0                                            \n",
      "__________________________________________________________________________________________________\n",
      "move_probs (Softmax)            (None, 50)           0           add[0][0]                        \n",
      "==================================================================================================\n",
      "Total params: 622,202\n",
      "Trainable params: 618,774\n",
      "Non-trainable params: 3,428\n",
      "__________________________________________________________________________________________________\n"
     ]
    }
   ],
   "source": [
    "actor.summary()"
   ]
  },
  {
   "cell_type": "code",
   "execution_count": 14,
   "metadata": {},
   "outputs": [],
   "source": [
    "critic = make_actor_critic('critic')"
   ]
  },
  {
   "cell_type": "code",
   "execution_count": 15,
   "metadata": {
    "scrolled": true
   },
   "outputs": [
    {
     "name": "stdout",
     "output_type": "stream",
     "text": [
      "Model: \"critic\"\n",
      "__________________________________________________________________________________________________\n",
      "Layer (type)                    Output Shape         Param #     Connected to                     \n",
      "==================================================================================================\n",
      "board (InputLayer)              [(None, 7, 7, 4)]    0                                            \n",
      "__________________________________________________________________________________________________\n",
      "flatten_1 (Flatten)             (None, 196)          0           board[0][0]                      \n",
      "__________________________________________________________________________________________________\n",
      "dense_6 (Dense)                 (None, 256)          50432       flatten_1[0][0]                  \n",
      "__________________________________________________________________________________________________\n",
      "batch_normalization_6 (BatchNor (None, 256)          1024        dense_6[0][0]                    \n",
      "__________________________________________________________________________________________________\n",
      "re_lu_6 (ReLU)                  (None, 256)          0           batch_normalization_6[0][0]      \n",
      "__________________________________________________________________________________________________\n",
      "dense_7 (Dense)                 (None, 512)          131584      re_lu_6[0][0]                    \n",
      "__________________________________________________________________________________________________\n",
      "batch_normalization_7 (BatchNor (None, 512)          2048        dense_7[0][0]                    \n",
      "__________________________________________________________________________________________________\n",
      "re_lu_7 (ReLU)                  (None, 512)          0           batch_normalization_7[0][0]      \n",
      "__________________________________________________________________________________________________\n",
      "dense_8 (Dense)                 (None, 512)          262656      re_lu_7[0][0]                    \n",
      "__________________________________________________________________________________________________\n",
      "batch_normalization_8 (BatchNor (None, 512)          2048        dense_8[0][0]                    \n",
      "__________________________________________________________________________________________________\n",
      "re_lu_8 (ReLU)                  (None, 512)          0           batch_normalization_8[0][0]      \n",
      "__________________________________________________________________________________________________\n",
      "dense_9 (Dense)                 (None, 256)          131328      re_lu_8[0][0]                    \n",
      "__________________________________________________________________________________________________\n",
      "batch_normalization_9 (BatchNor (None, 256)          1024        dense_9[0][0]                    \n",
      "__________________________________________________________________________________________________\n",
      "re_lu_9 (ReLU)                  (None, 256)          0           batch_normalization_9[0][0]      \n",
      "__________________________________________________________________________________________________\n",
      "dense_10 (Dense)                (None, 128)          32896       re_lu_9[0][0]                    \n",
      "__________________________________________________________________________________________________\n",
      "batch_normalization_10 (BatchNo (None, 128)          512         dense_10[0][0]                   \n",
      "__________________________________________________________________________________________________\n",
      "re_lu_10 (ReLU)                 (None, 128)          0           batch_normalization_10[0][0]     \n",
      "__________________________________________________________________________________________________\n",
      "dense_11 (Dense)                (None, 50)           6450        re_lu_10[0][0]                   \n",
      "__________________________________________________________________________________________________\n",
      "valid_moves (InputLayer)        [(None, 50)]         0                                            \n",
      "__________________________________________________________________________________________________\n",
      "invalid_values (InputLayer)     [(None, 50)]         0                                            \n",
      "__________________________________________________________________________________________________\n",
      "move_vals (Multiply)            (None, 50)           0           dense_11[0][0]                   \n",
      "                                                                 valid_moves[0][0]                \n",
      "==================================================================================================\n",
      "Total params: 622,002\n",
      "Trainable params: 618,674\n",
      "Non-trainable params: 3,328\n",
      "__________________________________________________________________________________________________\n"
     ]
    }
   ],
   "source": [
    "critic.summary()"
   ]
  },
  {
   "cell_type": "code",
   "execution_count": 16,
   "metadata": {},
   "outputs": [],
   "source": [
    "opponent = tf.keras.models.clone_model(actor)"
   ]
  },
  {
   "cell_type": "code",
   "execution_count": 17,
   "metadata": {},
   "outputs": [],
   "source": [
    "if LOAD_SAVED_MODELS:\n",
    "    actor.load_weights(ACTOR_PATH)\n",
    "    critic.load_weights(CRITIC_PATH)\n",
    "    opponent.load_weights(ACTOR_PATH)"
   ]
  },
  {
   "cell_type": "markdown",
   "metadata": {
    "colab_type": "text",
    "id": "L9djBWO1wJR1"
   },
   "source": [
    "### Initialization of models \n",
    "should be random if the models are fresh"
   ]
  },
  {
   "cell_type": "code",
   "execution_count": 18,
   "metadata": {},
   "outputs": [],
   "source": [
    "def forward_pass(states, network):\n",
    "    \"\"\"\n",
    "    Since the neural nets take in more than one parameter, \n",
    "    this functions serves as a wrapper to forward pass the data through the networks\n",
    "    \"\"\"\n",
    "    invalid_moves = utils.get_invalid_moves(states)\n",
    "    invalid_values = utils.get_invalid_values(states)\n",
    "    valid_moves = 1 - invalid_moves\n",
    "    return network([states.astype(np.float32), \n",
    "                    valid_moves.astype(np.float32), \n",
    "                    invalid_values.astype(np.float32)])"
   ]
  },
  {
   "cell_type": "code",
   "execution_count": 19,
   "metadata": {},
   "outputs": [],
   "source": [
    "def add_to_replay_mem(replay_mem, state, action_1d, next_state, reward, done):\n",
    "    \"\"\"\n",
    "    Adds original event, plus augmented versions of those events\n",
    "    \"\"\"\n",
    "    \n",
    "    for s, a, ns in list(zip(utils.all_orientations(state, BOARD_SIZE), \n",
    "                             utils.all_orientations(action_1d, BOARD_SIZE), \n",
    "                             utils.all_orientations(next_state, BOARD_SIZE))):\n",
    "        replay_mem.append((s, a, ns, reward, done))"
   ]
  },
  {
   "cell_type": "code",
   "execution_count": 20,
   "metadata": {},
   "outputs": [],
   "source": [
    "def get_batch_obs(replay_mem, index=None, size=BATCH_SIZE):\n",
    "    '''\n",
    "    Get a batch of orig_states, actions, states, rewards, terminals as np array out of replay memory\n",
    "    '''\n",
    "    \n",
    "    # States were (BATCH_SIZE, 4, BOARD_SIZE, BOARD_SIZE)\n",
    "    # Convert them to (BATCH_SIZE, BOARD_SIZE, BOARD_SIZE, 4)\n",
    "    if index is None:\n",
    "        batch = random.sample(replay_mem, size)\n",
    "    else:\n",
    "        batch = replay_mem[index*BATCH_SIZE: (index+1)*BATCH_SIZE]\n",
    "    batch = list(zip(*batch))\n",
    "    states = np.array(list(batch[0]), dtype=np.float32).transpose(0,2,3,1)\n",
    "    actions = np.array(list(batch[1]), dtype=np.int)\n",
    "    next_states = np.array(list(batch[2]), dtype=np.float32).transpose(0,2,3,1)\n",
    "    rewards = np.array(list(batch[3]), dtype=np.float32).reshape((-1,))\n",
    "    terminals = np.array(list(batch[4]), dtype=np.uint8)\n",
    "    \n",
    "    return states, actions, next_states, rewards, terminals "
   ]
  },
  {
   "cell_type": "code",
   "execution_count": 21,
   "metadata": {
    "colab": {},
    "colab_type": "code",
    "id": "qH4rDyuowJR3",
    "outputId": "6376f7a8-99ff-4352-e6fc-0eccd05dfa25",
    "scrolled": false
   },
   "outputs": [],
   "source": [
    "def state_responses(states, taken_actions, next_states, rewards, terminals):\n",
    "    \"\"\"\n",
    "    Returns a figure of plots on the states and the models responses on those states\n",
    "    \"\"\"\n",
    "    move_probs = forward_pass(states, actor)\n",
    "    move_vals = forward_pass(states, critic)\n",
    "    state_vals = tf.reduce_sum(move_probs * move_vals, axis=1)\n",
    "    \n",
    "    valid_moves = utils.get_valid_moves(states)\n",
    "    \n",
    "    num_states = states.shape[0]\n",
    "    num_cols =4\n",
    "    \n",
    "    fig = plt.figure(figsize=(num_cols * 2.5, num_states * 2))\n",
    "    for i in range(num_states):\n",
    "        plt.subplot(num_states,num_cols,1 + num_cols*i)\n",
    "        plt.axis('off')\n",
    "        plt.title('Board')\n",
    "        plt.imshow(states[i][:,:,[0,1,3]].astype(np.float))\n",
    "        \n",
    "        plt.subplot(num_states,num_cols, 2 + num_cols*i)\n",
    "        utils.plot_move_distr('Critic', 100 * move_vals[i], valid_moves[i], \n",
    "                              scalar=100 * state_vals[i].numpy())\n",
    "\n",
    "        plt.subplot(num_states,num_cols, 3 + num_cols*i)\n",
    "        utils.plot_move_distr('Actor', 100 * move_probs[i], valid_moves[i], \n",
    "                              scalar=None)\n",
    "        \n",
    "        plt.subplot(num_states,num_cols, 4 + num_cols*i)\n",
    "        plt.axis('off')\n",
    "        plt.title('Taken Action: {}\\n{:.0f}R {}T'\n",
    "                  .format(utils.action_1d_to_2d(taken_actions[i], BOARD_SIZE), \n",
    "                                                         rewards[i], terminals[i]))\n",
    "        plt.imshow(next_states[i][:,:,[0,1,3]].astype(np.float))\n",
    "\n",
    "    plt.tight_layout()\n",
    "    return fig"
   ]
  },
  {
   "cell_type": "code",
   "execution_count": 22,
   "metadata": {},
   "outputs": [],
   "source": [
    "def sample_heatmaps(replay_mem, num_samples=2):\n",
    "    states, actions, next_states, rewards, terminals = get_batch_obs(replay_mem, size=num_samples)\n",
    "    \n",
    "    # Add latest terminal state\n",
    "    for (state, action, next_state, reward, terminal) in reversed(replay_mem):\n",
    "        if terminal:\n",
    "            states = np.concatenate([states, state.transpose(1,2,0)\n",
    "                             .reshape((-1,BOARD_SIZE, BOARD_SIZE, 4))], axis=0)\n",
    "            actions = np.append(actions, action)\n",
    "            next_states = np.concatenate([next_states, next_state.transpose(1,2,0)\n",
    "                             .reshape((-1,BOARD_SIZE, BOARD_SIZE, 4))], axis=0)\n",
    "            rewards = np.append(rewards, reward)\n",
    "            terminals = np.append(terminals, terminal)\n",
    "            break\n",
    "    # Add latest start state\n",
    "    for (state, action, next_state, reward, terminal) in reversed(replay_mem):\n",
    "        if np.sum(state[:2]) == 0:\n",
    "            states = np.concatenate([states, state.transpose(1,2,0)\n",
    "                             .reshape((-1,BOARD_SIZE, BOARD_SIZE, 4))], axis=0)\n",
    "            actions = np.append(actions, action)\n",
    "            next_states = np.concatenate([next_states, next_state.transpose(1,2,0)\n",
    "                             .reshape((-1,BOARD_SIZE, BOARD_SIZE, 4))], axis=0)\n",
    "            rewards = np.append(rewards, reward)\n",
    "            terminals = np.append(terminals, terminal)\n",
    "            break\n",
    "\n",
    "    fig = state_responses(states, actions, next_states, rewards, terminals)\n",
    "    return fig"
   ]
  },
  {
   "cell_type": "code",
   "execution_count": 23,
   "metadata": {
    "colab": {},
    "colab_type": "code",
    "id": "98jmZoKvwJRv"
   },
   "outputs": [],
   "source": [
    "mem = []\n",
    "state = go_env.reset()\n",
    "first_action = (2,5)\n",
    "second_action = (5,2)\n",
    "first_state, reward, done, info = go_env.step(first_action)\n",
    "second_state, reward, done, info = go_env.step(second_action)\n",
    "add_to_replay_mem(mem, state, utils.action_2d_to_1d(first_action, BOARD_SIZE), second_state, reward, done)"
   ]
  },
  {
   "cell_type": "code",
   "execution_count": 24,
   "metadata": {
    "scrolled": true
   },
   "outputs": [
    {
     "data": {
      "image/png": "[encoded data removed]",
      "text/plain": [
       "<Figure size 720x1296 with 36 Axes>"
      ]
     },
     "metadata": {
      "needs_background": "light"
     },
     "output_type": "display_data"
    }
   ],
   "source": [
    "plt.show(sample_heatmaps(mem, num_samples=8))"
   ]
  },
  {
   "cell_type": "markdown",
   "metadata": {
    "colab_type": "text",
    "id": "ViUxxPnUwJR5"
   },
   "source": [
    "# Training Setup"
   ]
  },
  {
   "cell_type": "code",
   "execution_count": 25,
   "metadata": {},
   "outputs": [],
   "source": [
    "logger = logging.getLogger()\n",
    "logger.setLevel(logging.INFO)"
   ]
  },
  {
   "cell_type": "markdown",
   "metadata": {},
   "source": [
    "### Metrics and Tensorboard"
   ]
  },
  {
   "cell_type": "code",
   "execution_count": 26,
   "metadata": {
    "colab": {},
    "colab_type": "code",
    "id": "fc1lqGjPwJRm"
   },
   "outputs": [],
   "source": [
    "!rm -rf ./logs/"
   ]
  },
  {
   "cell_type": "markdown",
   "metadata": {},
   "source": [
    "Metrics"
   ]
  },
  {
   "cell_type": "code",
   "execution_count": 27,
   "metadata": {},
   "outputs": [],
   "source": [
    "metrics = {}\n",
    "for metric_key in ['val_loss', 'move_loss', 'win_rate', 'num_steps']:\n",
    "    metrics[metric_key] = tf.keras.metrics.Mean('{}'.format(metric_key), dtype=tf.float32)"
   ]
  },
  {
   "cell_type": "code",
   "execution_count": 28,
   "metadata": {},
   "outputs": [],
   "source": [
    "metrics['pred_win_acc'] = tf.keras.metrics.Accuracy()"
   ]
  },
  {
   "cell_type": "markdown",
   "metadata": {},
   "source": [
    "Tensorboard"
   ]
  },
  {
   "cell_type": "code",
   "execution_count": 29,
   "metadata": {},
   "outputs": [],
   "source": [
    "summary_writers = {}\n",
    "current_time = datetime.datetime.now().strftime(\"%Y%m%d-%H%M%S\")\n",
    "for summary_key in ['train', 'test']:\n",
    "    log_dir = 'logs/actor_critic/{}/{}'.format(current_time, summary_key)\n",
    "    summary_writers[summary_key] = tf.summary.create_file_writer(log_dir)"
   ]
  },
  {
   "cell_type": "code",
   "execution_count": 30,
   "metadata": {},
   "outputs": [],
   "source": [
    "def reset_metrics():\n",
    "    for key, metric in metrics.items():\n",
    "        metric.reset_states()"
   ]
  },
  {
   "cell_type": "code",
   "execution_count": 31,
   "metadata": {},
   "outputs": [],
   "source": [
    "def log_to_tensorboard(episode, replay_mem):\n",
    "    \"\"\"\n",
    "    Logs metrics to tensorboard. \n",
    "    Also resets keras metrics after use\n",
    "    \"\"\"\n",
    "    with summary_writers['train'].as_default():\n",
    "        tf.summary.scalar('epsilon', EPSILON, step=episode)\n",
    "        \n",
    "        # Keras metrics\n",
    "        for key, metric in metrics.items():\n",
    "            tf.summary.scalar(key, metric.result(), step=episode)\n",
    "            \n",
    "        reset_metrics()\n",
    "        \n",
    "        # Plot samples of states and response heatmaps\n",
    "        logging.debug(\"Sampling heatmaps...\")\n",
    "        fig = sample_heatmaps(replay_mem)\n",
    "        tf.summary.image(\"model heat maps\", utils.plot_to_image(fig), step=episode)"
   ]
  },
  {
   "cell_type": "markdown",
   "metadata": {
    "colab_type": "text",
    "id": "zXOIVFjmwJR7"
   },
   "source": [
    "### Helper Functions"
   ]
  },
  {
   "cell_type": "code",
   "execution_count": 32,
   "metadata": {},
   "outputs": [],
   "source": [
    "def get_action(policy, state, epsilon):\n",
    "    \"\"\"\n",
    "    Gets an action (1D) based on exploration/exploitation\n",
    "    \"\"\"\n",
    "    if state.shape[0] == 4:\n",
    "        # State shape will be (BOARD_SIZE, BOARD_SIZE, 4)\n",
    "        state = state.transpose(1,2,0)\n",
    "            \n",
    "    epsilon_choice = np.random.uniform()\n",
    "    if epsilon_choice < epsilon:\n",
    "        # Random move\n",
    "        logging.debug(\"Exploring a random move\")\n",
    "        action = utils.random_action(state)\n",
    "        \n",
    "    else:\n",
    "        # policy makes a move\n",
    "        logging.debug(\"Exploiting policy's move\")\n",
    "        reshaped_state = state.reshape(1, BOARD_SIZE, BOARD_SIZE, 4).astype(np.float32)\n",
    "        \n",
    "        move_probs = forward_pass(reshaped_state, policy)\n",
    "        action = utils.random_weighted_action(move_probs)\n",
    "        \n",
    "    return action"
   ]
  },
  {
   "cell_type": "code",
   "execution_count": 33,
   "metadata": {},
   "outputs": [],
   "source": [
    "def get_values_for_actions(move_val_distrs, actions):\n",
    "    '''\n",
    "    Actions should be a one hot array [batch size, ] array\n",
    "    Get value from board_values based on action, or take the passing_values if the action is None\n",
    "    '''\n",
    "    one_hot_actions = tf.one_hot(actions, depth=BOARD_SIZE**2+1)\n",
    "    assert move_val_distrs.shape == one_hot_actions.shape\n",
    "    one_hot_move_values = move_val_distrs * one_hot_actions\n",
    "    move_values = tf.reduce_sum(one_hot_move_values, axis=1)\n",
    "    return move_values"
   ]
  },
  {
   "cell_type": "code",
   "execution_count": 34,
   "metadata": {},
   "outputs": [],
   "source": [
    "mean_squared_error = tf.keras.losses.MeanSquaredError(reduction=tf.losses.Reduction.SUM)"
   ]
  },
  {
   "cell_type": "code",
   "execution_count": 35,
   "metadata": {},
   "outputs": [],
   "source": [
    "binary_cross_entropy = tf.keras.losses.BinaryCrossentropy()"
   ]
  },
  {
   "cell_type": "code",
   "execution_count": 36,
   "metadata": {},
   "outputs": [],
   "source": [
    "actor_opt = tf.keras.optimizers.Adam(ACTOR_LEARNING_RATE, ACTOR_BETA_1)\n",
    "def update_actor(replay_mem):\n",
    "    \"\"\"\n",
    "    Optimizes the actor over the whole replay memory\n",
    "    \"\"\" \n",
    "    batch_indices = np.arange(max(len(replay_mem) // BATCH_SIZE, 1))\n",
    "    np.random.shuffle(batch_indices)\n",
    "    \n",
    "    for batch_idx in batch_indices:\n",
    "        states, actions, next_states, winners, terminals = get_batch_obs(replay_mem, \n",
    "                                                                         index=batch_idx)\n",
    "        batch_size = states.shape[0]\n",
    "        \n",
    "        # Actor\n",
    "        state_val_distrs = forward_pass(states, critic)\n",
    "        valid_moves = utils.get_valid_moves(states)\n",
    "        with tf.GradientTape() as tape:    \n",
    "            move_prob_distrs = forward_pass(states, actor)\n",
    "            assert move_prob_distrs.shape == state_val_distrs.shape\n",
    "            win_loss = mean_squared_error(1, tf.reduce_sum(state_val_distrs \n",
    "                                                           * move_prob_distrs, axis=1))\n",
    "            explore_loss = mean_squared_error(valid_moves, move_prob_distrs) / batch_size\n",
    "            move_loss = win_loss + 2 * explore_loss\n",
    "        \n",
    "        metrics['move_loss'].update_state(move_loss)\n",
    "        \n",
    "        # compute and apply gradients\n",
    "        gradients = tape.gradient(move_loss, actor.trainable_variables)\n",
    "        actor_opt.apply_gradients(zip(gradients, actor.trainable_variables))"
   ]
  },
  {
   "cell_type": "code",
   "execution_count": 37,
   "metadata": {},
   "outputs": [],
   "source": [
    "critic_opt = tf.keras.optimizers.Adam(CRITIC_LEARNING_RATE, CRITIC_BETA_1)\n",
    "def update_critic(replay_mem):\n",
    "    \"\"\"\n",
    "    Optimizes the critic over the whole replay memory\n",
    "    \"\"\"    \n",
    "    batch_indices = np.arange(max(len(replay_mem) // BATCH_SIZE, 1))\n",
    "    np.random.shuffle(batch_indices)\n",
    "    \n",
    "    for batch_idx in batch_indices:\n",
    "        states, actions, next_states, winners, terminals = get_batch_obs(replay_mem, index=batch_idx)\n",
    "        batch_size = states.shape[0]\n",
    "        \n",
    "        # Critic\n",
    "        with tf.GradientTape() as tape:\n",
    "            move_val_distrs = forward_pass(states, critic)\n",
    "            move_vals = get_values_for_actions(move_val_distrs, actions)\n",
    "            assert winners.shape == move_vals.shape\n",
    "            val_loss = mean_squared_error(winners, move_vals)\n",
    "        \n",
    "        metrics['val_loss'].update_state(val_loss)\n",
    "        metrics['pred_win_acc'].update_state(winners, move_vals > 0.5)\n",
    "        \n",
    "        # compute and apply gradients\n",
    "        gradients = tape.gradient(val_loss, critic.trainable_variables)\n",
    "        critic_opt.apply_gradients(zip(gradients, critic.trainable_variables))"
   ]
  },
  {
   "cell_type": "code",
   "execution_count": 38,
   "metadata": {
    "colab": {},
    "colab_type": "code",
    "id": "K0E04emPwJR-"
   },
   "outputs": [],
   "source": [
    "def play_a_game(replay_mem, episode, black_epsilon, white_epsilon):\n",
    "    \"\"\"\n",
    "    Plays out a game, and adds the events to the given replay memory\n",
    "    Returns the number of moves by the end of the game and the list \n",
    "    of rewards after every turn by the black player\n",
    "    \"\"\"\n",
    "    \n",
    "    # Basic setup\n",
    "    done = False\n",
    "    num_steps = 0\n",
    "    state = go_env.reset()\n",
    "    \n",
    "    # Make it a numpy array so it can be passed to the replay memory by reference\n",
    "    # That way, all events of the same game will have the same reward\n",
    "    win = np.zeros(1)\n",
    "    \n",
    "    while True:\n",
    "        # Black's move\n",
    "        black_action = get_action(actor, state, epsilon=black_epsilon)            \n",
    "        next_state, reward, done, info = go_env.step(utils.action_1d_to_2d(black_action, \n",
    "                                                                             BOARD_SIZE))\n",
    "        num_steps += 1      \n",
    "            \n",
    "        if num_steps >= MAX_STEPS:\n",
    "            # Max number of steps. End game\n",
    "            reward = 1 if info['area']['b'] > info['area']['w'] else -1\n",
    "            done = True\n",
    "        if done:\n",
    "            # Set the winner if we're done\n",
    "            win[0] = reward\n",
    "            if win[0] < 0:\n",
    "                win[0] = 0\n",
    "\n",
    "            # Add to memory \n",
    "            # (black ended the game by making the last pass OR we hit the max number of steps)\n",
    "            add_to_replay_mem(replay_mem, state, black_action, next_state, win, done)\n",
    "            break\n",
    "            \n",
    "        # White's move\n",
    "        # Swapped white and black channels\n",
    "        white_action = get_action(opponent, next_state[[1,0,2,3]], epsilon=white_epsilon)\n",
    "        next_state, reward, done, info = go_env.step(utils.action_1d_to_2d(white_action, \n",
    "                                                                             BOARD_SIZE))\n",
    "        num_steps += 1\n",
    "        \n",
    "        if num_steps >= MAX_STEPS:\n",
    "            # Max number of steps. End game\n",
    "            reward = 1 if info['area']['b'] > info['area']['w'] else -1\n",
    "            done = True\n",
    "        # Add to memory\n",
    "        add_to_replay_mem(replay_mem, state, black_action, next_state, win, done)\n",
    "        if done:\n",
    "            # Set the winner if we're done\n",
    "            win[0] = reward\n",
    "            if win[0] < 0:\n",
    "                win[0] = 0\n",
    "            break\n",
    "            \n",
    "        state = next_state\n",
    "    \n",
    "    # Game ended\n",
    "    metrics['win_rate'].update_state(win.item())\n",
    "    metrics['num_steps'].update_state(num_steps)"
   ]
  },
  {
   "cell_type": "markdown",
   "metadata": {
    "colab_type": "text",
    "id": "qNBj_gKPwJR_"
   },
   "source": [
    "# Train"
   ]
  },
  {
   "cell_type": "code",
   "execution_count": null,
   "metadata": {
    "colab": {},
    "colab_type": "code",
    "id": "LT1PUXyXwJR_",
    "scrolled": false
   },
   "outputs": [
    {
     "data": {
      "application/vnd.jupyter.widget-view+json": {
       "model_id": "dad361aceb064258baad327d56387889",
       "version_major": 2,
       "version_minor": 0
      },
      "text/plain": [
       "HBox(children=(IntProgress(value=0, description='Iteration', max=480, style=ProgressStyle(description_width='i…"
      ]
     },
     "metadata": {},
     "output_type": "display_data"
    },
    {
     "name": "stderr",
     "output_type": "stream",
     "text": [
      "WARNING: Logging before flag parsing goes to stderr.\n",
      "I0811 18:29:38.750553 4641662400 <ipython-input-39-89a22c3349cf>:14] Updated opponent\n"
     ]
    },
    {
     "data": {
      "application/vnd.jupyter.widget-view+json": {
       "model_id": "46169bd274a146cda67618fb0f3f94b2",
       "version_major": 2,
       "version_minor": 0
      },
      "text/plain": [
       "HBox(children=(IntProgress(value=0, description='Episode', max=128, style=ProgressStyle(description_width='ini…"
      ]
     },
     "metadata": {},
     "output_type": "display_data"
    },
    {
     "data": {
      "application/vnd.jupyter.widget-view+json": {
       "model_id": "b73376110dbe484596cdaac531d3a57f",
       "version_major": 2,
       "version_minor": 0
      },
      "text/plain": [
       "HBox(children=(IntProgress(value=0, description='Episode', max=128, style=ProgressStyle(description_width='ini…"
      ]
     },
     "metadata": {},
     "output_type": "display_data"
    },
    {
     "data": {
      "application/vnd.jupyter.widget-view+json": {
       "model_id": "6432b978c32c4c4ea0975974a76cf04f",
       "version_major": 2,
       "version_minor": 0
      },
      "text/plain": [
       "HBox(children=(IntProgress(value=0, description='Episode', max=128, style=ProgressStyle(description_width='ini…"
      ]
     },
     "metadata": {},
     "output_type": "display_data"
    },
    {
     "data": {
      "application/vnd.jupyter.widget-view+json": {
       "model_id": "976bd9ce00bb40f1a7de58f20cdb7500",
       "version_major": 2,
       "version_minor": 0
      },
      "text/plain": [
       "HBox(children=(IntProgress(value=0, description='Episode', max=128, style=ProgressStyle(description_width='ini…"
      ]
     },
     "metadata": {},
     "output_type": "display_data"
    },
    {
     "name": "stderr",
     "output_type": "stream",
     "text": [
      "I0811 18:37:26.649266 4641662400 <ipython-input-39-89a22c3349cf>:14] Updated opponent\n"
     ]
    },
    {
     "data": {
      "application/vnd.jupyter.widget-view+json": {
       "model_id": "44136ccf34c843628ed910089a17b95f",
       "version_major": 2,
       "version_minor": 0
      },
      "text/plain": [
       "HBox(children=(IntProgress(value=0, description='Episode', max=128, style=ProgressStyle(description_width='ini…"
      ]
     },
     "metadata": {},
     "output_type": "display_data"
    },
    {
     "data": {
      "application/vnd.jupyter.widget-view+json": {
       "model_id": "5fea3883a3174ae9b00c2748605ad210",
       "version_major": 2,
       "version_minor": 0
      },
      "text/plain": [
       "HBox(children=(IntProgress(value=0, description='Episode', max=128, style=ProgressStyle(description_width='ini…"
      ]
     },
     "metadata": {},
     "output_type": "display_data"
    },
    {
     "data": {
      "application/vnd.jupyter.widget-view+json": {
       "model_id": "54d6895912de4228a8ca88fc5c830e00",
       "version_major": 2,
       "version_minor": 0
      },
      "text/plain": [
       "HBox(children=(IntProgress(value=0, description='Episode', max=128, style=ProgressStyle(description_width='ini…"
      ]
     },
     "metadata": {},
     "output_type": "display_data"
    },
    {
     "data": {
      "application/vnd.jupyter.widget-view+json": {
       "model_id": "bc2f4d31cf3c49d6a97b9871f6a7a1e8",
       "version_major": 2,
       "version_minor": 0
      },
      "text/plain": [
       "HBox(children=(IntProgress(value=0, description='Episode', max=128, style=ProgressStyle(description_width='ini…"
      ]
     },
     "metadata": {},
     "output_type": "display_data"
    },
    {
     "name": "stderr",
     "output_type": "stream",
     "text": [
      "I0811 18:44:50.923518 4641662400 <ipython-input-39-89a22c3349cf>:14] Updated opponent\n"
     ]
    },
    {
     "data": {
      "application/vnd.jupyter.widget-view+json": {
       "model_id": "e7d014946c6d49d482b79ecd8739e7f3",
       "version_major": 2,
       "version_minor": 0
      },
      "text/plain": [
       "HBox(children=(IntProgress(value=0, description='Episode', max=128, style=ProgressStyle(description_width='ini…"
      ]
     },
     "metadata": {},
     "output_type": "display_data"
    },
    {
     "data": {
      "application/vnd.jupyter.widget-view+json": {
       "model_id": "8df5cfba37604c2380f20c3814e85c1f",
       "version_major": 2,
       "version_minor": 0
      },
      "text/plain": [
       "HBox(children=(IntProgress(value=0, description='Episode', max=128, style=ProgressStyle(description_width='ini…"
      ]
     },
     "metadata": {},
     "output_type": "display_data"
    },
    {
     "data": {
      "application/vnd.jupyter.widget-view+json": {
       "model_id": "1805baaae3304fc2bd4d23e1b128d035",
       "version_major": 2,
       "version_minor": 0
      },
      "text/plain": [
       "HBox(children=(IntProgress(value=0, description='Episode', max=128, style=ProgressStyle(description_width='ini…"
      ]
     },
     "metadata": {},
     "output_type": "display_data"
    },
    {
     "data": {
      "application/vnd.jupyter.widget-view+json": {
       "model_id": "a8565a6a5aaf4d26954df63053b6ad81",
       "version_major": 2,
       "version_minor": 0
      },
      "text/plain": [
       "HBox(children=(IntProgress(value=0, description='Episode', max=128, style=ProgressStyle(description_width='ini…"
      ]
     },
     "metadata": {},
     "output_type": "display_data"
    },
    {
     "name": "stderr",
     "output_type": "stream",
     "text": [
      "I0811 18:52:05.924563 4641662400 <ipython-input-39-89a22c3349cf>:14] Updated opponent\n"
     ]
    },
    {
     "data": {
      "application/vnd.jupyter.widget-view+json": {
       "model_id": "1f5809d742dd45429fef8ab04d9556f5",
       "version_major": 2,
       "version_minor": 0
      },
      "text/plain": [
       "HBox(children=(IntProgress(value=0, description='Episode', max=128, style=ProgressStyle(description_width='ini…"
      ]
     },
     "metadata": {},
     "output_type": "display_data"
    },
    {
     "data": {
      "application/vnd.jupyter.widget-view+json": {
       "model_id": "bc602bffa769488ba2103cb71b8d1a01",
       "version_major": 2,
       "version_minor": 0
      },
      "text/plain": [
       "HBox(children=(IntProgress(value=0, description='Episode', max=128, style=ProgressStyle(description_width='ini…"
      ]
     },
     "metadata": {},
     "output_type": "display_data"
    },
    {
     "data": {
      "application/vnd.jupyter.widget-view+json": {
       "model_id": "cbd174a8f3d8427b9110fc31b58b47ff",
       "version_major": 2,
       "version_minor": 0
      },
      "text/plain": [
       "HBox(children=(IntProgress(value=0, description='Episode', max=128, style=ProgressStyle(description_width='ini…"
      ]
     },
     "metadata": {},
     "output_type": "display_data"
    },
    {
     "data": {
      "application/vnd.jupyter.widget-view+json": {
       "model_id": "c347926cfa274964a1554b10a8bdfbd0",
       "version_major": 2,
       "version_minor": 0
      },
      "text/plain": [
       "HBox(children=(IntProgress(value=0, description='Episode', max=128, style=ProgressStyle(description_width='ini…"
      ]
     },
     "metadata": {},
     "output_type": "display_data"
    },
    {
     "name": "stderr",
     "output_type": "stream",
     "text": [
      "I0811 18:59:39.729884 4641662400 <ipython-input-39-89a22c3349cf>:14] Updated opponent\n"
     ]
    },
    {
     "data": {
      "application/vnd.jupyter.widget-view+json": {
       "model_id": "40549fe1e977493394e3f5d45233a169",
       "version_major": 2,
       "version_minor": 0
      },
      "text/plain": [
       "HBox(children=(IntProgress(value=0, description='Episode', max=128, style=ProgressStyle(description_width='ini…"
      ]
     },
     "metadata": {},
     "output_type": "display_data"
    },
    {
     "data": {
      "application/vnd.jupyter.widget-view+json": {
       "model_id": "2593434fc74941c1a37bfd6c8a5596e3",
       "version_major": 2,
       "version_minor": 0
      },
      "text/plain": [
       "HBox(children=(IntProgress(value=0, description='Episode', max=128, style=ProgressStyle(description_width='ini…"
      ]
     },
     "metadata": {},
     "output_type": "display_data"
    },
    {
     "data": {
      "application/vnd.jupyter.widget-view+json": {
       "model_id": "b1d3539c1fd341ff8d78160b6f6aaf52",
       "version_major": 2,
       "version_minor": 0
      },
      "text/plain": [
       "HBox(children=(IntProgress(value=0, description='Episode', max=128, style=ProgressStyle(description_width='ini…"
      ]
     },
     "metadata": {},
     "output_type": "display_data"
    },
    {
     "data": {
      "application/vnd.jupyter.widget-view+json": {
       "model_id": "74be7fec47b147649c80bf04d5d58a37",
       "version_major": 2,
       "version_minor": 0
      },
      "text/plain": [
       "HBox(children=(IntProgress(value=0, description='Episode', max=128, style=ProgressStyle(description_width='ini…"
      ]
     },
     "metadata": {},
     "output_type": "display_data"
    }
   ],
   "source": [
    "replay_mem = []\n",
    "for iteration in tqdm_notebook(range(ITERATIONS), desc='Iteration'):\n",
    "    # Update other models if appropriate\n",
    "    if SAVE_EVERY_ITERATION:\n",
    "        logging.debug(\"Saving weights...\")\n",
    "        actor.save_weights(ACTOR_PATH)\n",
    "        critic.save_weights(CRITIC_PATH)\n",
    "    \n",
    "    if OPPONENT_UPDATE is not None and iteration % OPPONENT_UPDATE == 0:\n",
    "        logging.debug(\"Saving weights...\")\n",
    "        actor.save_weights(ACTOR_PATH)\n",
    "        critic.save_weights(CRITIC_PATH)\n",
    "        opponent.load_weights(ACTOR_PATH)\n",
    "        logging.info(\"Updated opponent\")\n",
    "        \n",
    "    # Train\n",
    "    logging.debug(\"Playing a games\")\n",
    "    for episode in tqdm_notebook(range(EPISODES_PER_ITERATION), desc='Episode'):\n",
    "        play_a_game(replay_mem, episode, black_epsilon=EPSILON, \n",
    "                                     white_epsilon=OPPONENT_EPSILON)\n",
    "        \n",
    "    # Shuffle memory and update the model\n",
    "    logging.debug(\"Updating model...\")\n",
    "    random.shuffle(replay_mem)\n",
    "    update_critic(replay_mem)\n",
    "    update_actor(replay_mem)  \n",
    "    \n",
    "    # Log results and resets the metrics\n",
    "    logging.debug(\"Logging metrics to tensorboard...\")\n",
    "    log_to_tensorboard(iteration, replay_mem)\n",
    "    \n",
    "    # Reset memory\n",
    "    replay_mem.clear()"
   ]
  },
  {
   "cell_type": "markdown",
   "metadata": {
    "colab_type": "text",
    "id": "NyMNxMAWwJR_"
   },
   "source": [
    "# Evaluate"
   ]
  },
  {
   "cell_type": "markdown",
   "metadata": {},
   "source": [
    "Evaluate against a random opponent"
   ]
  },
  {
   "cell_type": "code",
   "execution_count": null,
   "metadata": {},
   "outputs": [],
   "source": [
    "reset_metrics()"
   ]
  },
  {
   "cell_type": "code",
   "execution_count": null,
   "metadata": {},
   "outputs": [],
   "source": [
    "for episode in tqdm_notebook(range(128), desc='Evaluating against random opponent'):\n",
    "        play_a_game(replay_mem, episode, black_epsilon=0, \n",
    "                                     white_epsilon=1)"
   ]
  },
  {
   "cell_type": "code",
   "execution_count": null,
   "metadata": {},
   "outputs": [],
   "source": [
    "metrics['win_rate'].result()"
   ]
  },
  {
   "cell_type": "markdown",
   "metadata": {},
   "source": [
    "Test against a pretrained AI"
   ]
  },
  {
   "cell_type": "code",
   "execution_count": null,
   "metadata": {},
   "outputs": [],
   "source": [
    "# TODO"
   ]
  },
  {
   "cell_type": "markdown",
   "metadata": {},
   "source": [
    "Play against our AI"
   ]
  },
  {
   "cell_type": "code",
   "execution_count": null,
   "metadata": {
    "colab": {},
    "colab_type": "code",
    "id": "97j_uYY9wJSA",
    "outputId": "4d6aa1e6-8b63-4a39-b600-e331284ad6ff",
    "scrolled": false
   },
   "outputs": [],
   "source": [
    "go_env = gym.make('gym_go:go-v0', size=7)\n",
    "\n",
    "state = go_env.reset()\n",
    "\n",
    "done = False\n",
    "while not done:\n",
    "    go_env.render()\n",
    "    \n",
    "    # Actor's move\n",
    "    action = get_action(actor, state, epsilon=0)\n",
    "    \n",
    "    state, reward, done, info = go_env.step(utils.action_1d_to_2d(action, BOARD_SIZE))\n",
    "    go_env.render()\n",
    "    \n",
    "    # Player's move\n",
    "    player_moved = False\n",
    "    while not player_moved:\n",
    "        coords = input(\"Enter coordinates separated by space (`q` to quit)\\n\")\n",
    "        if coords == 'q':\n",
    "            done = True\n",
    "            break\n",
    "        if coords == 'r':\n",
    "            go_env.reset()\n",
    "            break\n",
    "        if coords == 'p':\n",
    "            go_env.step(None)\n",
    "            break\n",
    "        coords = coords.split()\n",
    "        try:\n",
    "            row = int(coords[0])\n",
    "            col = int(coords[1])\n",
    "            print(row, col)\n",
    "            state, reward, done, info = go_env.step((row, col))\n",
    "            player_moved = True\n",
    "        except Exception as e:\n",
    "            print(e)"
   ]
  },
  {
   "cell_type": "code",
   "execution_count": null,
   "metadata": {},
   "outputs": [],
   "source": []
  }
 ],
 "metadata": {
  "colab": {
   "include_colab_link": true,
   "name": "go_ai.ipynb",
   "provenance": [],
   "version": "0.3.2"
  },
  "kernelspec": {
   "display_name": "Python 3",
   "language": "python",
   "name": "python3"
  },
  "language_info": {
   "codemirror_mode": {
    "name": "ipython",
    "version": 3
   },
   "file_extension": ".py",
   "mimetype": "text/x-python",
   "name": "python",
   "nbconvert_exporter": "python",
   "pygments_lexer": "ipython3",
   "version": "3.7.3"
  },
  "widgets": {
   "application/vnd.jupyter.widget-state+json": {
    "state": {},
    "version_major": 2,
    "version_minor": 0
   }
  }
 },
 "nbformat": 4,
 "nbformat_minor": 1
}
